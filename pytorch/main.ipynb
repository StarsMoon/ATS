{
 "cells": [
  {
   "cell_type": "code",
   "execution_count": 1,
   "id": "fa8f351d",
   "metadata": {
    "_cell_guid": "b1076dfc-b9ad-4769-8c92-a6c4dae69d19",
    "_uuid": "8f2839f25d086af736a60e9eeb907d3b93b6e0e5",
    "execution": {
     "iopub.execute_input": "2022-05-28T15:54:16.655761Z",
     "iopub.status.busy": "2022-05-28T15:54:16.655010Z",
     "iopub.status.idle": "2022-05-28T15:54:16.685857Z",
     "shell.execute_reply": "2022-05-28T15:54:16.685204Z"
    },
    "papermill": {
     "duration": 0.038902,
     "end_time": "2022-05-28T15:54:16.688787",
     "exception": false,
     "start_time": "2022-05-28T15:54:16.649885",
     "status": "completed"
    },
    "tags": []
   },
   "outputs": [
    {
     "name": "stdout",
     "output_type": "stream",
     "text": [
      "/kaggle/input/fewshott5/data_process.py\n",
      "/kaggle/input/fewshott5/layers.py\n",
      "/kaggle/input/fewshott5/t5.py\n",
      "/kaggle/input/fewshott5/model.py\n",
      "/kaggle/input/fewshott5/model_v2.py\n",
      "/kaggle/input/fewshott5/discriminator.py\n",
      "/kaggle/input/fewshott5/utils.py\n",
      "/kaggle/input/fewshott5/__init__.py\n",
      "/kaggle/input/fewshott5/.ipynb_checkpoints/discriminator-checkpoint.py\n",
      "/kaggle/input/fewshott5/.ipynb_checkpoints/t5-checkpoint.py\n",
      "/kaggle/input/fewshott5/.ipynb_checkpoints/data_process-checkpoint.py\n",
      "/kaggle/input/fewshott5/.ipynb_checkpoints/__init__-checkpoint.py\n",
      "/kaggle/input/fewshott5/.ipynb_checkpoints/layers-checkpoint.py\n",
      "/kaggle/input/fewshott5/.ipynb_checkpoints/model-checkpoint.py\n",
      "/kaggle/input/fewshott5/.ipynb_checkpoints/utils-checkpoint.py\n",
      "/kaggle/input/fewshott5/.ipynb_checkpoints/model_v2-checkpoint.py\n",
      "/kaggle/input/fewshott5/Data/csl_title/dataset_dict.json\n",
      "/kaggle/input/fewshott5/Data/csl_title/train/state.json\n",
      "/kaggle/input/fewshott5/Data/csl_title/train/dataset_info.json\n",
      "/kaggle/input/fewshott5/Data/csl_title/train/cache-f1e62f35a1a86843.arrow\n",
      "/kaggle/input/fewshott5/Data/csl_title/train/dataset.arrow\n",
      "/kaggle/input/fewshott5/Data/csl_title/dev/state.json\n",
      "/kaggle/input/fewshott5/Data/csl_title/dev/dataset_info.json\n",
      "/kaggle/input/fewshott5/Data/csl_title/dev/dataset.arrow\n"
     ]
    }
   ],
   "source": [
    "# This Python 3 environment comes with many helpful analytics libraries installed\n",
    "# It is defined by the kaggle/python Docker image: https://github.com/kaggle/docker-python\n",
    "# For example, here's several helpful packages to load\n",
    "\n",
    "import numpy as np # linear algebra\n",
    "import pandas as pd # data processing, CSV file I/O (e.g. pd.read_csv)\n",
    "\n",
    "# Input data files are available in the read-only \"../input/\" directory\n",
    "# For example, running this (by clicking run or pressing Shift+Enter) will list all files under the input directory\n",
    "\n",
    "import os\n",
    "for dirname, _, filenames in os.walk('/kaggle/input'):\n",
    "    for filename in filenames:\n",
    "        print(os.path.join(dirname, filename))\n",
    "\n",
    "# You can write up to 20GB to the current directory (/kaggle/working/) that gets preserved as output when you create a version using \"Save & Run All\" \n",
    "# You can also write temporary files to /kaggle/temp/, but they won't be saved outside of the current session"
   ]
  },
  {
   "cell_type": "code",
   "execution_count": 2,
   "id": "06498228",
   "metadata": {
    "execution": {
     "iopub.execute_input": "2022-05-28T15:54:16.697256Z",
     "iopub.status.busy": "2022-05-28T15:54:16.696977Z",
     "iopub.status.idle": "2022-05-28T15:54:16.700405Z",
     "shell.execute_reply": "2022-05-28T15:54:16.699651Z"
    },
    "papermill": {
     "duration": 0.008321,
     "end_time": "2022-05-28T15:54:16.701979",
     "exception": false,
     "start_time": "2022-05-28T15:54:16.693658",
     "status": "completed"
    },
    "tags": []
   },
   "outputs": [],
   "source": [
    "os.sys.path.append('/kaggle/input/')"
   ]
  },
  {
   "cell_type": "code",
   "execution_count": 3,
   "id": "04d6f091",
   "metadata": {
    "execution": {
     "iopub.execute_input": "2022-05-28T15:54:16.708107Z",
     "iopub.status.busy": "2022-05-28T15:54:16.707539Z",
     "iopub.status.idle": "2022-05-28T15:54:28.310331Z",
     "shell.execute_reply": "2022-05-28T15:54:28.309402Z"
    },
    "papermill": {
     "duration": 11.608181,
     "end_time": "2022-05-28T15:54:28.312600",
     "exception": false,
     "start_time": "2022-05-28T15:54:16.704419",
     "status": "completed"
    },
    "tags": []
   },
   "outputs": [
    {
     "name": "stdout",
     "output_type": "stream",
     "text": [
      "Collecting rouge\r\n",
      "  Downloading rouge-1.0.1-py3-none-any.whl (13 kB)\r\n",
      "Collecting sacrebleu\r\n",
      "  Downloading sacrebleu-2.1.0-py3-none-any.whl (92 kB)\r\n",
      "\u001b[2K     \u001b[90m━━━━━━━━━━━━━━━━━━━━━━━━━━━━━━━━━━━━━━━\u001b[0m \u001b[32m92.0/92.0 kB\u001b[0m \u001b[31m603.0 kB/s\u001b[0m eta \u001b[36m0:00:00\u001b[0m\r\n",
      "\u001b[?25hRequirement already satisfied: six in /opt/conda/lib/python3.7/site-packages (from rouge) (1.16.0)\r\n",
      "Requirement already satisfied: numpy>=1.17 in /opt/conda/lib/python3.7/site-packages (from sacrebleu) (1.21.6)\r\n",
      "Requirement already satisfied: portalocker in /opt/conda/lib/python3.7/site-packages (from sacrebleu) (2.4.0)\r\n",
      "Requirement already satisfied: tabulate>=0.8.9 in /opt/conda/lib/python3.7/site-packages (from sacrebleu) (0.8.9)\r\n",
      "Requirement already satisfied: colorama in /opt/conda/lib/python3.7/site-packages (from sacrebleu) (0.4.4)\r\n",
      "Requirement already satisfied: regex in /opt/conda/lib/python3.7/site-packages (from sacrebleu) (2021.11.10)\r\n",
      "Installing collected packages: sacrebleu, rouge\r\n",
      "Successfully installed rouge-1.0.1 sacrebleu-2.1.0\r\n",
      "\u001b[33mWARNING: Running pip as the 'root' user can result in broken permissions and conflicting behaviour with the system package manager. It is recommended to use a virtual environment instead: https://pip.pypa.io/warnings/venv\u001b[0m\u001b[33m\r\n",
      "\u001b[0m"
     ]
    }
   ],
   "source": [
    "!pip install rouge sacrebleu\n",
    "# !pip install -U transformers"
   ]
  },
  {
   "cell_type": "code",
   "execution_count": 4,
   "id": "ebacee68",
   "metadata": {
    "execution": {
     "iopub.execute_input": "2022-05-28T15:54:28.321003Z",
     "iopub.status.busy": "2022-05-28T15:54:28.320382Z",
     "iopub.status.idle": "2022-05-28T15:54:35.071182Z",
     "shell.execute_reply": "2022-05-28T15:54:35.070360Z"
    },
    "papermill": {
     "duration": 6.757298,
     "end_time": "2022-05-28T15:54:35.073535",
     "exception": false,
     "start_time": "2022-05-28T15:54:28.316237",
     "status": "completed"
    },
    "tags": []
   },
   "outputs": [],
   "source": [
    "import os\n",
    "import datasets\n",
    "import torch\n",
    "import tqdm\n",
    "import numpy as np\n",
    "from fewshott5.model_v2 import T5ForFewshotGeneration\n",
    "from fewshott5.utils import set_seed\n",
    "from fewshott5.data_process import MyDataset"
   ]
  },
  {
   "cell_type": "code",
   "execution_count": 5,
   "id": "d0ae359c",
   "metadata": {
    "execution": {
     "iopub.execute_input": "2022-05-28T15:54:35.081336Z",
     "iopub.status.busy": "2022-05-28T15:54:35.080824Z",
     "iopub.status.idle": "2022-05-28T15:54:35.095519Z",
     "shell.execute_reply": "2022-05-28T15:54:35.094860Z"
    },
    "papermill": {
     "duration": 0.020258,
     "end_time": "2022-05-28T15:54:35.097156",
     "exception": false,
     "start_time": "2022-05-28T15:54:35.076898",
     "status": "completed"
    },
    "tags": []
   },
   "outputs": [],
   "source": [
    "class CFG:\n",
    "    model_name_or_path = \"Langboat/mengzi-t5-base\"\n",
    "    output_dir = \"./outputs/\"\n",
    "    is_zh = True\n",
    "    num_saves_kept = 3\n",
    "    max_source_length = 512\n",
    "    max_target_length = 41\n",
    "    num_beams = 4\n",
    "    train_batch_size = 1\n",
    "    eval_batch_size = 12\n",
    "    num_eval_batch = 50\n",
    "    gradient_accumulation_steps = 2\n",
    "    pretrain_steps = 50\n",
    "    gold_steps = 5\n",
    "    learning_rate = 5e-5\n",
    "    weight_decay = 0.01\n",
    "    adam_epsilon = 1e-6\n",
    "    max_grad_norm = 2.0\n",
    "    num_train_epochs = 3\n",
    "    max_train_steps = 5000\n",
    "    warmup_ratio = 0.\n",
    "    warmup_steps = 0\n",
    "    lambda_idt = 0.1\n",
    "    lambda_cyc = 0.2\n",
    "    logging_steps = 25\n",
    "    save_steps = 100\n",
    "    seed = 2022\n",
    "    scheduler_type = \"cosine\"\n",
    "    use_amp = True\n",
    "    scale_loss = 2 ** 15\n",
    "    logdir = \"logs\"\n",
    "    num_workers = 4\n",
    "    ckp_path = None\n",
    "    init_step = 0\n",
    "\n",
    "CFG.logdir = os.path.join(CFG.output_dir, CFG.logdir)\n",
    "# if not os.path.exists(CFG.model_name_or_path):\n",
    "#     CFG.model_name_or_path = \"t5-base\"\n",
    "set_seed(CFG.seed)"
   ]
  },
  {
   "cell_type": "code",
   "execution_count": 6,
   "id": "b123cc55",
   "metadata": {
    "execution": {
     "iopub.execute_input": "2022-05-28T15:54:35.104196Z",
     "iopub.status.busy": "2022-05-28T15:54:35.103926Z",
     "iopub.status.idle": "2022-05-28T15:55:08.289510Z",
     "shell.execute_reply": "2022-05-28T15:55:08.288434Z"
    },
    "papermill": {
     "duration": 33.192485,
     "end_time": "2022-05-28T15:55:08.292672",
     "exception": false,
     "start_time": "2022-05-28T15:54:35.100187",
     "status": "completed"
    },
    "tags": []
   },
   "outputs": [
    {
     "data": {
      "application/vnd.jupyter.widget-view+json": {
       "model_id": "42809714948141d987489df14587d27e",
       "version_major": 2,
       "version_minor": 0
      },
      "text/plain": [
       "Downloading:   0%|          | 0.00/708k [00:00<?, ?B/s]"
      ]
     },
     "metadata": {},
     "output_type": "display_data"
    },
    {
     "data": {
      "application/vnd.jupyter.widget-view+json": {
       "model_id": "06d85e304ce64e92a944ba5bada43f28",
       "version_major": 2,
       "version_minor": 0
      },
      "text/plain": [
       "Downloading:   0%|          | 0.00/659 [00:00<?, ?B/s]"
      ]
     },
     "metadata": {},
     "output_type": "display_data"
    },
    {
     "data": {
      "application/vnd.jupyter.widget-view+json": {
       "model_id": "4a1b513b090e4845b7abfdcfd82d8151",
       "version_major": 2,
       "version_minor": 0
      },
      "text/plain": [
       "Downloading:   0%|          | 0.00/945M [00:00<?, ?B/s]"
      ]
     },
     "metadata": {},
     "output_type": "display_data"
    }
   ],
   "source": [
    "model = T5ForFewshotGeneration(CFG)"
   ]
  },
  {
   "cell_type": "code",
   "execution_count": 7,
   "id": "19d5215c",
   "metadata": {
    "execution": {
     "iopub.execute_input": "2022-05-28T15:55:08.306573Z",
     "iopub.status.busy": "2022-05-28T15:55:08.306156Z",
     "iopub.status.idle": "2022-05-28T15:55:08.404334Z",
     "shell.execute_reply": "2022-05-28T15:55:08.399328Z"
    },
    "papermill": {
     "duration": 0.108686,
     "end_time": "2022-05-28T15:55:08.407930",
     "exception": false,
     "start_time": "2022-05-28T15:55:08.299244",
     "status": "completed"
    },
    "tags": []
   },
   "outputs": [],
   "source": [
    "train_dataset = MyDataset(model.tkn, model.args.train_batch_size, \"../input/fewshott5/Data/csl_title\", ['abst', 'title'], split='train')\n",
    "dev_dataset = MyDataset(model.tkn, model.args.eval_batch_size, \"../input/fewshott5/Data/csl_title\", ['abst', 'title'], split='dev')"
   ]
  },
  {
   "cell_type": "code",
   "execution_count": 8,
   "id": "156e613b",
   "metadata": {
    "execution": {
     "iopub.execute_input": "2022-05-28T15:55:08.421467Z",
     "iopub.status.busy": "2022-05-28T15:55:08.421041Z",
     "iopub.status.idle": "2022-05-29T02:10:58.572771Z",
     "shell.execute_reply": "2022-05-29T02:10:58.571298Z"
    },
    "papermill": {
     "duration": 36950.161721,
     "end_time": "2022-05-29T02:10:58.575707",
     "exception": false,
     "start_time": "2022-05-28T15:55:08.413986",
     "status": "completed"
    },
    "tags": []
   },
   "outputs": [
    {
     "name": "stderr",
     "output_type": "stream",
     "text": [
      "[2022-05-28 15:55:08,432][model_v2.py][line:426][INFO] ********** Running training **********\n",
      "[2022-05-28 15:55:08,434][model_v2.py][line:426][INFO]   Num examples = 3000\n",
      "[2022-05-28 15:55:08,437][model_v2.py][line:426][INFO]   Num Epochs = 4\n",
      "[2022-05-28 15:55:08,440][model_v2.py][line:426][INFO]   Instantaneous train batch size = 1\n",
      "[2022-05-28 15:55:08,441][model_v2.py][line:426][INFO]   Instantaneous eval batch size = 12\n",
      "[2022-05-28 15:55:08,441][model_v2.py][line:426][INFO]   Total train batch size (w. accumulation) = 2\n",
      "[2022-05-28 15:55:08,442][model_v2.py][line:426][INFO]   Gradient Accumulation steps = 2\n",
      "[2022-05-28 15:55:08,445][model_v2.py][line:426][INFO]   Total optimization steps = 5000\n"
     ]
    },
    {
     "name": "stdout",
     "output_type": "stream",
     "text": [
      "********** Running training **********\n",
      "  Num examples = 3000\n",
      "  Num Epochs = 4\n",
      "  Instantaneous train batch size = 1\n",
      "  Instantaneous eval batch size = 12\n",
      "  Total train batch size (w. accumulation) = 2\n",
      "  Gradient Accumulation steps = 2\n",
      "  Total optimization steps = 5000\n"
     ]
    },
    {
     "name": "stderr",
     "output_type": "stream",
     "text": [
      "[2022-05-28 15:55:08,643][arrow_dataset.py][line:2785][WARNING] Loading cached shuffled indices for dataset at ../input/fewshott5/Data/csl_title/train/cache-f1e62f35a1a86843.arrow\n",
      "[2022-05-28 15:55:08,653][model_v2.py][line:426][INFO] ********** Pretraining **********\n"
     ]
    },
    {
     "name": "stdout",
     "output_type": "stream",
     "text": [
      "********** Pretraining **********\n"
     ]
    },
    {
     "name": "stderr",
     "output_type": "stream",
     "text": [
      "/opt/conda/lib/python3.7/site-packages/torch/optim/lr_scheduler.py:136: UserWarning: Detected call of `lr_scheduler.step()` before `optimizer.step()`. In PyTorch 1.1.0 and later, you should call them in the opposite order: `optimizer.step()` before `lr_scheduler.step()`.  Failure to do this will result in PyTorch skipping the first value of the learning rate schedule. See more details at https://pytorch.org/docs/stable/optim.html#how-to-adjust-learning-rate\n",
      "  \"https://pytorch.org/docs/stable/optim.html#how-to-adjust-learning-rate\", UserWarning)\n",
      "[2022-05-28 15:56:06,791][model_v2.py][line:426][INFO] ********** Pretraining finished**********\n"
     ]
    },
    {
     "name": "stdout",
     "output_type": "stream",
     "text": [
      "********** Pretraining finished**********\n"
     ]
    },
    {
     "name": "stderr",
     "output_type": "stream",
     "text": [
      "  0%|          | 25/5000 [01:24<4:39:22,  3.37s/it][2022-05-28 15:57:31,177][model_v2.py][line:426][INFO] global_steps 25 - lr: 0.0000499877  loss: 6.00392675\n"
     ]
    },
    {
     "name": "stdout",
     "output_type": "stream",
     "text": [
      "global_steps 25 - lr: 0.0000499877  loss: 6.00392675\n"
     ]
    },
    {
     "name": "stderr",
     "output_type": "stream",
     "text": [
      "  1%|          | 50/5000 [02:46<4:03:54,  2.96s/it][2022-05-28 15:58:53,293][model_v2.py][line:426][INFO] global_steps 50 - lr: 0.0000499722  loss: 5.26790142\n"
     ]
    },
    {
     "name": "stdout",
     "output_type": "stream",
     "text": [
      "global_steps 50 - lr: 0.0000499722  loss: 5.26790142\n"
     ]
    },
    {
     "name": "stderr",
     "output_type": "stream",
     "text": [
      "  2%|▏         | 75/5000 [03:40<2:53:59,  2.12s/it][2022-05-28 15:59:47,243][model_v2.py][line:426][INFO] global_steps 75 - lr: 0.0000499507  loss: 5.93505144\n"
     ]
    },
    {
     "name": "stdout",
     "output_type": "stream",
     "text": [
      "global_steps 75 - lr: 0.0000499507  loss: 5.93505144\n"
     ]
    },
    {
     "name": "stderr",
     "output_type": "stream",
     "text": [
      "  2%|▏         | 100/5000 [04:52<3:26:01,  2.52s/it][2022-05-28 16:00:59,375][model_v2.py][line:426][INFO] global_steps 100 - lr: 0.0000499229  loss: 5.73784256\n",
      "[2022-05-28 16:00:59,377][model_v2.py][line:426][INFO] ********** Running evaluating **********\n",
      "[2022-05-28 16:00:59,378][model_v2.py][line:426][INFO] ********** Step 100 **********\n"
     ]
    },
    {
     "name": "stdout",
     "output_type": "stream",
     "text": [
      "global_steps 100 - lr: 0.0000499229  loss: 5.73784256\n",
      "********** Running evaluating **********\n",
      "********** Step 100 **********\n"
     ]
    },
    {
     "name": "stderr",
     "output_type": "stream",
     "text": [
      "\n",
      "  0%|          | 0/50 [00:00<?, ?it/s]\u001b[A\n",
      "  2%|▏         | 1/50 [00:02<02:01,  2.47s/it]\u001b[A\n",
      "  4%|▍         | 2/50 [00:03<01:13,  1.54s/it]\u001b[A\n",
      "  6%|▌         | 3/50 [00:05<01:23,  1.77s/it]\u001b[A\n",
      "  8%|▊         | 4/50 [00:06<01:17,  1.68s/it]\u001b[A\n",
      " 10%|█         | 5/50 [00:08<01:15,  1.68s/it]\u001b[A\n",
      " 12%|█▏        | 6/50 [00:10<01:11,  1.62s/it]\u001b[A\n",
      " 14%|█▍        | 7/50 [00:12<01:16,  1.79s/it]\u001b[A\n",
      " 16%|█▌        | 8/50 [00:13<01:04,  1.55s/it]\u001b[A\n",
      " 18%|█▊        | 9/50 [00:14<00:53,  1.30s/it]\u001b[A\n",
      " 20%|██        | 10/50 [00:15<00:50,  1.25s/it]\u001b[A\n",
      " 22%|██▏       | 11/50 [00:16<00:45,  1.16s/it]\u001b[A\n",
      " 24%|██▍       | 12/50 [00:17<00:46,  1.23s/it]\u001b[A\n",
      " 26%|██▌       | 13/50 [00:18<00:42,  1.14s/it]\u001b[A\n",
      " 28%|██▊       | 14/50 [00:19<00:40,  1.12s/it]\u001b[A\n",
      " 30%|███       | 15/50 [00:21<00:43,  1.23s/it]\u001b[A\n",
      " 32%|███▏      | 16/50 [00:22<00:45,  1.35s/it]\u001b[A\n",
      " 34%|███▍      | 17/50 [00:23<00:38,  1.17s/it]\u001b[A\n",
      " 36%|███▌      | 18/50 [00:24<00:38,  1.20s/it]\u001b[A\n",
      " 38%|███▊      | 19/50 [00:25<00:32,  1.05s/it]\u001b[A\n",
      " 40%|████      | 20/50 [00:26<00:35,  1.17s/it]\u001b[A\n",
      " 42%|████▏     | 21/50 [00:28<00:35,  1.21s/it]\u001b[A\n",
      " 44%|████▍     | 22/50 [00:28<00:29,  1.06s/it]\u001b[A\n",
      " 46%|████▌     | 23/50 [00:29<00:26,  1.03it/s]\u001b[A\n",
      " 48%|████▊     | 24/50 [00:31<00:28,  1.11s/it]\u001b[A\n",
      " 50%|█████     | 25/50 [00:32<00:30,  1.21s/it]\u001b[A\n",
      " 52%|█████▏    | 26/50 [00:33<00:26,  1.10s/it]\u001b[A\n",
      " 54%|█████▍    | 27/50 [00:34<00:23,  1.00s/it]\u001b[A\n",
      " 56%|█████▌    | 28/50 [00:34<00:20,  1.05it/s]\u001b[A\n",
      " 58%|█████▊    | 29/50 [00:35<00:20,  1.05it/s]\u001b[A\n",
      " 60%|██████    | 30/50 [00:37<00:22,  1.13s/it]\u001b[A\n",
      " 62%|██████▏   | 31/50 [00:38<00:22,  1.19s/it]\u001b[A\n",
      " 64%|██████▍   | 32/50 [00:39<00:20,  1.16s/it]\u001b[A\n",
      " 66%|██████▌   | 33/50 [00:41<00:20,  1.19s/it]\u001b[A\n",
      " 68%|██████▊   | 34/50 [00:41<00:17,  1.07s/it]\u001b[A\n",
      " 70%|███████   | 35/50 [00:42<00:14,  1.03it/s]\u001b[A\n",
      " 72%|███████▏  | 36/50 [00:43<00:13,  1.06it/s]\u001b[A\n",
      " 74%|███████▍  | 37/50 [00:44<00:13,  1.01s/it]\u001b[A\n",
      " 76%|███████▌  | 38/50 [00:45<00:12,  1.02s/it]\u001b[A\n",
      " 78%|███████▊  | 39/50 [00:46<00:10,  1.04it/s]\u001b[A\n",
      " 80%|████████  | 40/50 [00:47<00:09,  1.04it/s]\u001b[A\n",
      " 82%|████████▏ | 41/50 [00:48<00:09,  1.09s/it]\u001b[A\n",
      " 84%|████████▍ | 42/50 [00:49<00:07,  1.06it/s]\u001b[A"
     ]
    },
    {
     "name": "stdout",
     "output_type": "stream",
     "text": [
      "['基于中心网络的多播策略', '基于二维空间定位的二维空间定位单元布局', '基于时序逻辑结构描述的软件体系结构描述']\n",
      "['网络编码在实时战术数据多播中的应用', '普适计算中定位单元布局研究', '基于时序逻辑的面向方面体系结构描述语言']\n"
     ]
    },
    {
     "name": "stderr",
     "output_type": "stream",
     "text": [
      " 84%|████████▍ | 42/50 [00:49<00:09,  1.19s/it]\n",
      "[2022-05-28 16:01:55,602][model_v2.py][line:426][INFO] ********** Saving best result in step 100 **********\n"
     ]
    },
    {
     "name": "stdout",
     "output_type": "stream",
     "text": [
      "{'rouge-1': 0.5313696148492816, 'rouge-2': 0.4102580996897058, 'rouge-l': 0.508485054766346, 'bleu': 33.95096247762756}\n",
      "********** Saving best result in step 100 **********\n"
     ]
    },
    {
     "name": "stderr",
     "output_type": "stream",
     "text": [
      "[2022-05-28 16:02:02,318][model_v2.py][line:426][INFO] ********** Evaluating Done **********\n"
     ]
    },
    {
     "name": "stdout",
     "output_type": "stream",
     "text": [
      "********** Evaluating Done **********\n"
     ]
    },
    {
     "name": "stderr",
     "output_type": "stream",
     "text": [
      "  2%|▎         | 125/5000 [07:22<9:51:47,  7.28s/it][2022-05-28 16:03:28,959][model_v2.py][line:426][INFO] global_steps 125 - lr: 0.0000498890  loss: 6.67626143\n"
     ]
    },
    {
     "name": "stdout",
     "output_type": "stream",
     "text": [
      "global_steps 125 - lr: 0.0000498890  loss: 6.67626143\n"
     ]
    },
    {
     "name": "stderr",
     "output_type": "stream",
     "text": [
      "  3%|▎         | 150/5000 [08:46<7:26:17,  5.52s/it][2022-05-28 16:04:53,547][model_v2.py][line:426][INFO] global_steps 150 - lr: 0.0000498490  loss: 4.30892944\n"
     ]
    },
    {
     "name": "stdout",
     "output_type": "stream",
     "text": [
      "global_steps 150 - lr: 0.0000498490  loss: 4.30892944\n"
     ]
    },
    {
     "name": "stderr",
     "output_type": "stream",
     "text": [
      "  4%|▎         | 175/5000 [10:01<2:35:13,  1.93s/it][2022-05-28 16:06:07,979][model_v2.py][line:426][INFO] global_steps 175 - lr: 0.0000498029  loss: 4.31332874\n"
     ]
    },
    {
     "name": "stdout",
     "output_type": "stream",
     "text": [
      "global_steps 175 - lr: 0.0000498029  loss: 4.31332874\n"
     ]
    },
    {
     "name": "stderr",
     "output_type": "stream",
     "text": [
      "  4%|▍         | 200/5000 [13:07<9:03:39,  6.80s/it] [2022-05-28 16:09:13,894][model_v2.py][line:426][INFO] global_steps 200 - lr: 0.0000497506  loss: 4.59799099\n",
      "[2022-05-28 16:09:13,896][model_v2.py][line:426][INFO] ********** Running evaluating **********\n",
      "[2022-05-28 16:09:13,898][model_v2.py][line:426][INFO] ********** Step 200 **********\n"
     ]
    },
    {
     "name": "stdout",
     "output_type": "stream",
     "text": [
      "global_steps 200 - lr: 0.0000497506  loss: 4.59799099\n",
      "********** Running evaluating **********\n",
      "********** Step 200 **********\n"
     ]
    },
    {
     "name": "stderr",
     "output_type": "stream",
     "text": [
      "\n",
      "  0%|          | 0/50 [00:00<?, ?it/s]\u001b[A\n",
      "  2%|▏         | 1/50 [00:01<01:17,  1.59s/it]\u001b[A\n",
      "  4%|▍         | 2/50 [00:03<01:13,  1.54s/it]\u001b[A\n",
      "  6%|▌         | 3/50 [00:04<01:13,  1.57s/it]\u001b[A\n",
      "  8%|▊         | 4/50 [00:06<01:14,  1.62s/it]\u001b[A\n",
      " 10%|█         | 5/50 [00:08<01:14,  1.65s/it]\u001b[A\n",
      " 12%|█▏        | 6/50 [00:09<01:01,  1.41s/it]\u001b[A\n",
      " 14%|█▍        | 7/50 [00:10<01:00,  1.40s/it]\u001b[A\n",
      " 16%|█▌        | 8/50 [00:11<00:49,  1.17s/it]\u001b[A\n",
      " 18%|█▊        | 9/50 [00:12<00:51,  1.26s/it]\u001b[A\n",
      " 20%|██        | 10/50 [00:13<00:51,  1.30s/it]\u001b[A\n",
      " 22%|██▏       | 11/50 [00:15<00:53,  1.36s/it]\u001b[A\n",
      " 24%|██▍       | 12/50 [00:17<00:55,  1.47s/it]\u001b[A\n",
      " 26%|██▌       | 13/50 [00:18<00:49,  1.35s/it]\u001b[A\n",
      " 28%|██▊       | 14/50 [00:19<00:50,  1.41s/it]\u001b[A\n",
      " 30%|███       | 15/50 [00:21<00:50,  1.44s/it]\u001b[A\n",
      " 32%|███▏      | 16/50 [00:22<00:41,  1.23s/it]\u001b[A\n",
      " 34%|███▍      | 17/50 [00:23<00:42,  1.29s/it]\u001b[A\n",
      " 36%|███▌      | 18/50 [00:24<00:42,  1.33s/it]\u001b[A\n",
      " 38%|███▊      | 19/50 [00:25<00:36,  1.18s/it]\u001b[A\n",
      " 40%|████      | 20/50 [00:26<00:34,  1.15s/it]\u001b[A\n",
      " 42%|████▏     | 21/50 [00:28<00:36,  1.25s/it]\u001b[A\n",
      " 44%|████▍     | 22/50 [00:29<00:31,  1.13s/it]\u001b[A\n",
      " 46%|████▌     | 23/50 [00:30<00:33,  1.24s/it]\u001b[A\n",
      " 48%|████▊     | 24/50 [00:32<00:33,  1.29s/it]\u001b[A\n",
      " 50%|█████     | 25/50 [00:32<00:28,  1.15s/it]\u001b[A\n",
      " 52%|█████▏    | 26/50 [00:34<00:31,  1.32s/it]\u001b[A\n",
      " 54%|█████▍    | 27/50 [00:35<00:26,  1.14s/it]\u001b[A\n",
      " 56%|█████▌    | 28/50 [00:36<00:23,  1.06s/it]\u001b[A\n",
      " 58%|█████▊    | 29/50 [00:37<00:23,  1.10s/it]\u001b[A\n",
      " 60%|██████    | 30/50 [00:38<00:21,  1.10s/it]\u001b[A\n",
      " 62%|██████▏   | 31/50 [00:39<00:20,  1.10s/it]\u001b[A\n",
      " 64%|██████▍   | 32/50 [00:41<00:22,  1.23s/it]\u001b[A\n",
      " 66%|██████▌   | 33/50 [00:42<00:22,  1.31s/it]\u001b[A\n",
      " 68%|██████▊   | 34/50 [00:43<00:19,  1.19s/it]\u001b[A\n",
      " 70%|███████   | 35/50 [00:45<00:19,  1.32s/it]\u001b[A\n",
      " 72%|███████▏  | 36/50 [00:45<00:16,  1.17s/it]\u001b[A\n",
      " 74%|███████▍  | 37/50 [00:46<00:14,  1.11s/it]\u001b[A\n",
      " 76%|███████▌  | 38/50 [00:47<00:12,  1.01s/it]\u001b[A\n",
      " 78%|███████▊  | 39/50 [00:49<00:14,  1.28s/it]\u001b[A\n",
      " 80%|████████  | 40/50 [00:50<00:11,  1.13s/it]\u001b[A\n",
      " 82%|████████▏ | 41/50 [00:51<00:10,  1.21s/it]\u001b[A\n",
      " 84%|████████▍ | 42/50 [00:52<00:08,  1.01s/it]\u001b[A"
     ]
    },
    {
     "name": "stdout",
     "output_type": "stream",
     "text": [
      "['基于中心网络的实时数据多播策略', '普适计算二维空间定位单元布局定理', '基于时序逻辑的软件体系结构描述语言']\n",
      "['网络编码在实时战术数据多播中的应用', '普适计算中定位单元布局研究', '基于时序逻辑的面向方面体系结构描述语言']\n"
     ]
    },
    {
     "name": "stderr",
     "output_type": "stream",
     "text": [
      " 84%|████████▍ | 42/50 [00:52<00:10,  1.25s/it]\n",
      "[2022-05-28 16:10:12,924][model_v2.py][line:426][INFO] ********** Saving best result in step 200 **********\n",
      "[2022-05-28 16:10:12,925][model_v2.py][line:426][INFO] ********** Evaluating Done **********\n"
     ]
    },
    {
     "name": "stdout",
     "output_type": "stream",
     "text": [
      "{'rouge-1': 0.5358579711645735, 'rouge-2': 0.40734335646356556, 'rouge-l': 0.5028295099308516, 'bleu': 32.627629225098914}\n",
      "********** Saving best result in step 200 **********\n",
      "********** Evaluating Done **********\n"
     ]
    },
    {
     "name": "stderr",
     "output_type": "stream",
     "text": [
      "  4%|▍         | 225/5000 [15:54<2:25:25,  1.83s/it][2022-05-28 16:12:01,599][model_v2.py][line:426][INFO] global_steps 225 - lr: 0.0000496922  loss: 4.32684708\n"
     ]
    },
    {
     "name": "stdout",
     "output_type": "stream",
     "text": [
      "global_steps 225 - lr: 0.0000496922  loss: 4.32684708\n"
     ]
    },
    {
     "name": "stderr",
     "output_type": "stream",
     "text": [
      "  5%|▌         | 250/5000 [18:06<6:47:16,  5.14s/it][2022-05-28 16:14:12,907][model_v2.py][line:426][INFO] global_steps 250 - lr: 0.0000496277  loss: 5.52658129\n"
     ]
    },
    {
     "name": "stdout",
     "output_type": "stream",
     "text": [
      "global_steps 250 - lr: 0.0000496277  loss: 5.52658129\n"
     ]
    },
    {
     "name": "stderr",
     "output_type": "stream",
     "text": [
      "  6%|▌         | 275/5000 [20:37<6:57:34,  5.30s/it][2022-05-28 16:16:44,495][model_v2.py][line:426][INFO] global_steps 275 - lr: 0.0000495572  loss: 3.80366039\n"
     ]
    },
    {
     "name": "stdout",
     "output_type": "stream",
     "text": [
      "global_steps 275 - lr: 0.0000495572  loss: 3.80366039\n"
     ]
    },
    {
     "name": "stderr",
     "output_type": "stream",
     "text": [
      "  6%|▌         | 300/5000 [22:33<4:18:51,  3.30s/it][2022-05-28 16:18:40,790][model_v2.py][line:426][INFO] global_steps 300 - lr: 0.0000494806  loss: 3.57456446\n",
      "[2022-05-28 16:18:40,791][model_v2.py][line:426][INFO] ********** Running evaluating **********\n",
      "[2022-05-28 16:18:40,791][model_v2.py][line:426][INFO] ********** Step 300 **********\n"
     ]
    },
    {
     "name": "stdout",
     "output_type": "stream",
     "text": [
      "global_steps 300 - lr: 0.0000494806  loss: 3.57456446\n",
      "********** Running evaluating **********\n",
      "********** Step 300 **********\n"
     ]
    },
    {
     "name": "stderr",
     "output_type": "stream",
     "text": [
      "\n",
      "  0%|          | 0/50 [00:00<?, ?it/s]\u001b[A\n",
      "  2%|▏         | 1/50 [00:01<01:14,  1.53s/it]\u001b[A\n",
      "  4%|▍         | 2/50 [00:02<01:09,  1.44s/it]\u001b[A\n",
      "  6%|▌         | 3/50 [00:04<01:03,  1.35s/it]\u001b[A\n",
      "  8%|▊         | 4/50 [00:06<01:16,  1.67s/it]\u001b[A\n",
      " 10%|█         | 5/50 [00:08<01:18,  1.74s/it]\u001b[A\n",
      " 12%|█▏        | 6/50 [00:09<01:09,  1.59s/it]\u001b[A\n",
      " 14%|█▍        | 7/50 [00:10<01:06,  1.55s/it]\u001b[A\n",
      " 16%|█▌        | 8/50 [00:12<01:11,  1.70s/it]\u001b[A\n",
      " 18%|█▊        | 9/50 [00:14<01:06,  1.62s/it]\u001b[A\n",
      " 20%|██        | 10/50 [00:15<01:02,  1.56s/it]\u001b[A\n",
      " 22%|██▏       | 11/50 [00:17<01:02,  1.60s/it]\u001b[A\n",
      " 24%|██▍       | 12/50 [00:19<00:59,  1.57s/it]\u001b[A\n",
      " 26%|██▌       | 13/50 [00:20<00:57,  1.55s/it]\u001b[A\n",
      " 28%|██▊       | 14/50 [00:22<00:56,  1.56s/it]\u001b[A\n",
      " 30%|███       | 15/50 [00:23<00:54,  1.55s/it]\u001b[A\n",
      " 32%|███▏      | 16/50 [00:24<00:50,  1.48s/it]\u001b[A\n",
      " 34%|███▍      | 17/50 [00:26<00:47,  1.44s/it]\u001b[A\n",
      " 36%|███▌      | 18/50 [00:27<00:47,  1.49s/it]\u001b[A\n",
      " 38%|███▊      | 19/50 [00:29<00:45,  1.48s/it]\u001b[A\n",
      " 40%|████      | 20/50 [00:30<00:44,  1.47s/it]\u001b[A\n",
      " 42%|████▏     | 21/50 [00:32<00:42,  1.47s/it]\u001b[A\n",
      " 44%|████▍     | 22/50 [00:33<00:41,  1.47s/it]\u001b[A\n",
      " 46%|████▌     | 23/50 [00:35<00:39,  1.48s/it]\u001b[A\n",
      " 48%|████▊     | 24/50 [00:36<00:36,  1.39s/it]\u001b[A\n",
      " 50%|█████     | 25/50 [00:37<00:35,  1.43s/it]\u001b[A\n",
      " 52%|█████▏    | 26/50 [00:39<00:36,  1.53s/it]\u001b[A\n",
      " 54%|█████▍    | 27/50 [00:41<00:35,  1.53s/it]\u001b[A\n",
      " 56%|█████▌    | 28/50 [00:42<00:29,  1.32s/it]\u001b[A\n",
      " 58%|█████▊    | 29/50 [00:43<00:28,  1.35s/it]\u001b[A\n",
      " 60%|██████    | 30/50 [00:44<00:26,  1.32s/it]\u001b[A\n",
      " 62%|██████▏   | 31/50 [00:46<00:26,  1.42s/it]\u001b[A\n",
      " 64%|██████▍   | 32/50 [00:47<00:26,  1.45s/it]\u001b[A\n",
      " 66%|██████▌   | 33/50 [00:49<00:24,  1.46s/it]\u001b[A\n",
      " 68%|██████▊   | 34/50 [00:50<00:23,  1.45s/it]\u001b[A\n",
      " 70%|███████   | 35/50 [00:52<00:21,  1.44s/it]\u001b[A\n",
      " 72%|███████▏  | 36/50 [00:53<00:18,  1.33s/it]\u001b[A\n",
      " 74%|███████▍  | 37/50 [00:54<00:18,  1.40s/it]\u001b[A\n",
      " 76%|███████▌  | 38/50 [00:56<00:16,  1.41s/it]\u001b[A\n",
      " 78%|███████▊  | 39/50 [00:57<00:13,  1.24s/it]\u001b[A\n",
      " 80%|████████  | 40/50 [00:58<00:11,  1.12s/it]\u001b[A\n",
      " 82%|████████▏ | 41/50 [00:59<00:11,  1.23s/it]\u001b[A\n",
      " 84%|████████▍ | 42/50 [01:00<00:09,  1.20s/it]\u001b[A"
     ]
    },
    {
     "name": "stdout",
     "output_type": "stream",
     "text": [
      "['一种基于中心网络的网络编码技术及其相应的贪心算法', '基于二维空间定位的二维空间定位单元布局', '基于时序逻辑语言的软件体系结构']\n",
      "['网络编码在实时战术数据多播中的应用', '普适计算中定位单元布局研究', '基于时序逻辑的面向方面体系结构描述语言']\n"
     ]
    },
    {
     "name": "stderr",
     "output_type": "stream",
     "text": [
      " 84%|████████▍ | 42/50 [01:01<00:11,  1.46s/it]\n",
      "[2022-05-28 16:19:48,556][model_v2.py][line:426][INFO] ********** Saving best result in step 300 **********\n",
      "[2022-05-28 16:19:48,557][model_v2.py][line:426][INFO] ********** Evaluating Done **********\n"
     ]
    },
    {
     "name": "stdout",
     "output_type": "stream",
     "text": [
      "{'rouge-1': 0.5077265214500652, 'rouge-2': 0.3848190724243128, 'rouge-l': 0.4773085317141765, 'bleu': 25.29997121877074}\n",
      "********** Saving best result in step 300 **********\n",
      "********** Evaluating Done **********\n"
     ]
    },
    {
     "name": "stderr",
     "output_type": "stream",
     "text": [
      "  6%|▋         | 325/5000 [24:54<4:25:48,  3.41s/it][2022-05-28 16:21:01,263][model_v2.py][line:426][INFO] global_steps 325 - lr: 0.0000493979  loss: 3.77382565\n"
     ]
    },
    {
     "name": "stdout",
     "output_type": "stream",
     "text": [
      "global_steps 325 - lr: 0.0000493979  loss: 3.77382565\n"
     ]
    },
    {
     "name": "stderr",
     "output_type": "stream",
     "text": [
      "  7%|▋         | 350/5000 [27:56<10:05:06,  7.81s/it][2022-05-28 16:24:03,637][model_v2.py][line:426][INFO] global_steps 350 - lr: 0.0000493092  loss: 3.54652166\n"
     ]
    },
    {
     "name": "stdout",
     "output_type": "stream",
     "text": [
      "global_steps 350 - lr: 0.0000493092  loss: 3.54652166\n"
     ]
    },
    {
     "name": "stderr",
     "output_type": "stream",
     "text": [
      "  8%|▊         | 375/5000 [29:51<8:39:04,  6.73s/it][2022-05-28 16:25:58,404][model_v2.py][line:426][INFO] global_steps 375 - lr: 0.0000492146  loss: 4.40244007\n"
     ]
    },
    {
     "name": "stdout",
     "output_type": "stream",
     "text": [
      "global_steps 375 - lr: 0.0000492146  loss: 4.40244007\n"
     ]
    },
    {
     "name": "stderr",
     "output_type": "stream",
     "text": [
      "  8%|▊         | 400/5000 [33:23<6:29:33,  5.08s/it][2022-05-28 16:29:29,968][model_v2.py][line:426][INFO] global_steps 400 - lr: 0.0000491139  loss: 3.59490871\n",
      "[2022-05-28 16:29:29,969][model_v2.py][line:426][INFO] ********** Running evaluating **********\n",
      "[2022-05-28 16:29:29,971][model_v2.py][line:426][INFO] ********** Step 400 **********\n"
     ]
    },
    {
     "name": "stdout",
     "output_type": "stream",
     "text": [
      "global_steps 400 - lr: 0.0000491139  loss: 3.59490871\n",
      "********** Running evaluating **********\n",
      "********** Step 400 **********\n"
     ]
    },
    {
     "name": "stderr",
     "output_type": "stream",
     "text": [
      "\n",
      "  0%|          | 0/50 [00:00<?, ?it/s]\u001b[A\n",
      "  2%|▏         | 1/50 [00:01<01:18,  1.61s/it]\u001b[A\n",
      "  4%|▍         | 2/50 [00:03<01:15,  1.58s/it]\u001b[A\n",
      "  6%|▌         | 3/50 [00:05<01:31,  1.94s/it]\u001b[A\n",
      "  8%|▊         | 4/50 [00:07<01:23,  1.81s/it]\u001b[A\n",
      " 10%|█         | 5/50 [00:08<01:20,  1.80s/it]\u001b[A\n",
      " 12%|█▏        | 6/50 [00:10<01:15,  1.72s/it]\u001b[A\n",
      " 14%|█▍        | 7/50 [00:12<01:13,  1.71s/it]\u001b[A\n",
      " 16%|█▌        | 8/50 [00:13<01:08,  1.64s/it]\u001b[A\n",
      " 18%|█▊        | 9/50 [00:15<01:04,  1.58s/it]\u001b[A\n",
      " 20%|██        | 10/50 [00:16<01:04,  1.62s/it]\u001b[A\n",
      " 22%|██▏       | 11/50 [00:18<01:02,  1.61s/it]\u001b[A\n",
      " 24%|██▍       | 12/50 [00:20<01:01,  1.61s/it]\u001b[A\n",
      " 26%|██▌       | 13/50 [00:21<00:58,  1.59s/it]\u001b[A\n",
      " 28%|██▊       | 14/50 [00:23<00:58,  1.62s/it]\u001b[A\n",
      " 30%|███       | 15/50 [00:24<00:56,  1.62s/it]\u001b[A\n",
      " 32%|███▏      | 16/50 [00:26<00:53,  1.56s/it]\u001b[A\n",
      " 34%|███▍      | 17/50 [00:27<00:52,  1.58s/it]\u001b[A\n",
      " 36%|███▌      | 18/50 [00:29<00:50,  1.57s/it]\u001b[A\n",
      " 38%|███▊      | 19/50 [00:31<00:50,  1.64s/it]\u001b[A\n",
      " 40%|████      | 20/50 [00:32<00:49,  1.65s/it]\u001b[A\n",
      " 42%|████▏     | 21/50 [00:34<00:46,  1.62s/it]\u001b[A\n",
      " 44%|████▍     | 22/50 [00:36<00:44,  1.59s/it]\u001b[A\n",
      " 46%|████▌     | 23/50 [00:37<00:42,  1.59s/it]\u001b[A\n",
      " 48%|████▊     | 24/50 [00:39<00:42,  1.62s/it]\u001b[A\n",
      " 50%|█████     | 25/50 [00:40<00:40,  1.62s/it]\u001b[A\n",
      " 52%|█████▏    | 26/50 [00:42<00:39,  1.63s/it]\u001b[A\n",
      " 54%|█████▍    | 27/50 [00:44<00:36,  1.60s/it]\u001b[A\n",
      " 56%|█████▌    | 28/50 [00:45<00:34,  1.58s/it]\u001b[A\n",
      " 58%|█████▊    | 29/50 [00:47<00:32,  1.55s/it]\u001b[A\n",
      " 60%|██████    | 30/50 [00:49<00:33,  1.69s/it]\u001b[A\n",
      " 62%|██████▏   | 31/50 [00:50<00:30,  1.62s/it]\u001b[A\n",
      " 64%|██████▍   | 32/50 [00:52<00:29,  1.61s/it]\u001b[A\n",
      " 66%|██████▌   | 33/50 [00:53<00:27,  1.60s/it]\u001b[A\n",
      " 68%|██████▊   | 34/50 [00:55<00:25,  1.57s/it]\u001b[A\n",
      " 70%|███████   | 35/50 [00:56<00:23,  1.55s/it]\u001b[A\n",
      " 72%|███████▏  | 36/50 [00:58<00:22,  1.58s/it]\u001b[A\n",
      " 74%|███████▍  | 37/50 [01:00<00:21,  1.66s/it]\u001b[A\n",
      " 76%|███████▌  | 38/50 [01:01<00:19,  1.62s/it]\u001b[A\n",
      " 78%|███████▊  | 39/50 [01:03<00:17,  1.60s/it]\u001b[A\n",
      " 80%|████████  | 40/50 [01:05<00:16,  1.66s/it]\u001b[A\n",
      " 82%|████████▏ | 41/50 [01:06<00:14,  1.62s/it]\u001b[A\n",
      " 84%|████████▍ | 42/50 [01:07<00:12,  1.50s/it]\u001b[A"
     ]
    },
    {
     "name": "stdout",
     "output_type": "stream",
     "text": [
      "['一种基于中心网络的实时数据多播应用', '普适计算二维空间定位中的应用研究', '一种面向方面体系结构描述的软件体系结构描述语言']\n",
      "['网络编码在实时战术数据多播中的应用', '普适计算中定位单元布局研究', '基于时序逻辑的面向方面体系结构描述语言']\n"
     ]
    },
    {
     "name": "stderr",
     "output_type": "stream",
     "text": [
      " 84%|████████▍ | 42/50 [01:08<00:13,  1.63s/it]\n",
      "[2022-05-28 16:30:45,649][model_v2.py][line:426][INFO] ********** Saving best result in step 400 **********\n",
      "[2022-05-28 16:30:45,652][model_v2.py][line:426][INFO] ********** Evaluating Done **********\n"
     ]
    },
    {
     "name": "stdout",
     "output_type": "stream",
     "text": [
      "{'rouge-1': 0.5154925931058087, 'rouge-2': 0.3880211787170544, 'rouge-l': 0.4805632953634395, 'bleu': 20.27452967063711}\n",
      "********** Saving best result in step 400 **********\n",
      "********** Evaluating Done **********\n"
     ]
    },
    {
     "name": "stderr",
     "output_type": "stream",
     "text": [
      "  8%|▊         | 425/5000 [36:59<6:07:06,  4.81s/it][2022-05-28 16:33:06,508][model_v2.py][line:426][INFO] global_steps 425 - lr: 0.0000490073  loss: 3.14254308\n"
     ]
    },
    {
     "name": "stdout",
     "output_type": "stream",
     "text": [
      "global_steps 425 - lr: 0.0000490073  loss: 3.14254308\n"
     ]
    },
    {
     "name": "stderr",
     "output_type": "stream",
     "text": [
      "  9%|▉         | 450/5000 [39:08<9:09:02,  7.24s/it][2022-05-28 16:35:15,609][model_v2.py][line:426][INFO] global_steps 450 - lr: 0.0000488948  loss: 3.51282144\n"
     ]
    },
    {
     "name": "stdout",
     "output_type": "stream",
     "text": [
      "global_steps 450 - lr: 0.0000488948  loss: 3.51282144\n"
     ]
    },
    {
     "name": "stderr",
     "output_type": "stream",
     "text": [
      " 10%|▉         | 475/5000 [41:40<5:39:47,  4.51s/it][2022-05-28 16:37:46,946][model_v2.py][line:426][INFO] global_steps 475 - lr: 0.0000487764  loss: 3.20872402\n"
     ]
    },
    {
     "name": "stdout",
     "output_type": "stream",
     "text": [
      "global_steps 475 - lr: 0.0000487764  loss: 3.20872402\n"
     ]
    },
    {
     "name": "stderr",
     "output_type": "stream",
     "text": [
      " 10%|█         | 500/5000 [43:32<4:06:21,  3.28s/it][2022-05-28 16:39:39,639][model_v2.py][line:426][INFO] global_steps 500 - lr: 0.0000486521  loss: 3.83789921\n",
      "[2022-05-28 16:39:39,640][model_v2.py][line:426][INFO] ********** Running evaluating **********\n",
      "[2022-05-28 16:39:39,641][model_v2.py][line:426][INFO] ********** Step 500 **********\n"
     ]
    },
    {
     "name": "stdout",
     "output_type": "stream",
     "text": [
      "global_steps 500 - lr: 0.0000486521  loss: 3.83789921\n",
      "********** Running evaluating **********\n",
      "********** Step 500 **********\n"
     ]
    },
    {
     "name": "stderr",
     "output_type": "stream",
     "text": [
      "\n",
      "  0%|          | 0/50 [00:00<?, ?it/s]\u001b[A\n",
      "  2%|▏         | 1/50 [00:01<01:24,  1.73s/it]\u001b[A\n",
      "  4%|▍         | 2/50 [00:02<00:57,  1.21s/it]\u001b[A\n",
      "  6%|▌         | 3/50 [00:03<00:49,  1.05s/it]\u001b[A\n",
      "  8%|▊         | 4/50 [00:04<00:57,  1.25s/it]\u001b[A\n",
      " 10%|█         | 5/50 [00:06<01:04,  1.43s/it]\u001b[A\n",
      " 12%|█▏        | 6/50 [00:07<00:54,  1.25s/it]\u001b[A\n",
      " 14%|█▍        | 7/50 [00:09<00:55,  1.29s/it]\u001b[A\n",
      " 16%|█▌        | 8/50 [00:09<00:47,  1.12s/it]\u001b[A\n",
      " 18%|█▊        | 9/50 [00:11<00:52,  1.28s/it]\u001b[A\n",
      " 20%|██        | 10/50 [00:12<00:54,  1.37s/it]\u001b[A\n",
      " 22%|██▏       | 11/50 [00:14<00:54,  1.39s/it]\u001b[A\n",
      " 24%|██▍       | 12/50 [00:15<00:51,  1.35s/it]\u001b[A\n",
      " 26%|██▌       | 13/50 [00:16<00:44,  1.21s/it]\u001b[A\n",
      " 28%|██▊       | 14/50 [00:18<00:48,  1.34s/it]\u001b[A\n",
      " 30%|███       | 15/50 [00:19<00:48,  1.40s/it]\u001b[A\n",
      " 32%|███▏      | 16/50 [00:20<00:40,  1.20s/it]\u001b[A\n",
      " 34%|███▍      | 17/50 [00:21<00:39,  1.21s/it]\u001b[A\n",
      " 36%|███▌      | 18/50 [00:23<00:42,  1.34s/it]\u001b[A\n",
      " 38%|███▊      | 19/50 [00:24<00:38,  1.23s/it]\u001b[A\n",
      " 40%|████      | 20/50 [00:25<00:38,  1.30s/it]\u001b[A\n",
      " 42%|████▏     | 21/50 [00:27<00:39,  1.35s/it]\u001b[A\n",
      " 44%|████▍     | 22/50 [00:28<00:38,  1.36s/it]\u001b[A\n",
      " 46%|████▌     | 23/50 [00:30<00:37,  1.39s/it]\u001b[A\n",
      " 48%|████▊     | 24/50 [00:31<00:32,  1.24s/it]\u001b[A\n",
      " 50%|█████     | 25/50 [00:32<00:32,  1.31s/it]\u001b[A\n",
      " 52%|█████▏    | 26/50 [00:34<00:34,  1.44s/it]\u001b[A\n",
      " 54%|█████▍    | 27/50 [00:35<00:29,  1.29s/it]\u001b[A\n",
      " 56%|█████▌    | 28/50 [00:36<00:25,  1.17s/it]\u001b[A\n",
      " 58%|█████▊    | 29/50 [00:36<00:23,  1.10s/it]\u001b[A\n",
      " 60%|██████    | 30/50 [00:38<00:25,  1.27s/it]\u001b[A\n",
      " 62%|██████▏   | 31/50 [00:40<00:24,  1.30s/it]\u001b[A\n",
      " 64%|██████▍   | 32/50 [00:41<00:24,  1.37s/it]\u001b[A\n",
      " 66%|██████▌   | 33/50 [00:43<00:23,  1.39s/it]\u001b[A\n",
      " 68%|██████▊   | 34/50 [00:43<00:19,  1.22s/it]\u001b[A\n",
      " 70%|███████   | 35/50 [00:45<00:20,  1.34s/it]\u001b[A\n",
      " 72%|███████▏  | 36/50 [00:46<00:16,  1.17s/it]\u001b[A\n",
      " 74%|███████▍  | 37/50 [00:47<00:16,  1.27s/it]\u001b[A\n",
      " 76%|███████▌  | 38/50 [00:48<00:14,  1.20s/it]\u001b[A\n",
      " 78%|███████▊  | 39/50 [00:50<00:14,  1.29s/it]\u001b[A\n",
      " 80%|████████  | 40/50 [00:51<00:11,  1.17s/it]\u001b[A\n",
      " 82%|████████▏ | 41/50 [00:52<00:11,  1.25s/it]\u001b[A\n",
      " 84%|████████▍ | 42/50 [00:53<00:09,  1.15s/it]\u001b[A"
     ]
    },
    {
     "name": "stdout",
     "output_type": "stream",
     "text": [
      "['基于中心网络编码的实时数据多播策略', '普适计算二维空间定位单元布局定理', '基于时序逻辑的软件体系结构描述语言']\n",
      "['网络编码在实时战术数据多播中的应用', '普适计算中定位单元布局研究', '基于时序逻辑的面向方面体系结构描述语言']\n"
     ]
    },
    {
     "name": "stderr",
     "output_type": "stream",
     "text": [
      " 84%|████████▍ | 42/50 [00:53<00:10,  1.28s/it]\n",
      "[2022-05-28 16:40:39,891][model_v2.py][line:426][INFO] ********** Saving best result in step 500 **********\n",
      "[2022-05-28 16:40:39,893][model_v2.py][line:426][INFO] ********** Evaluating Done **********\n"
     ]
    },
    {
     "name": "stdout",
     "output_type": "stream",
     "text": [
      "{'rouge-1': 0.5287722641596989, 'rouge-2': 0.40866277068216134, 'rouge-l': 0.5019747884717691, 'bleu': 33.39456919835065}\n",
      "********** Saving best result in step 500 **********\n",
      "********** Evaluating Done **********\n"
     ]
    },
    {
     "name": "stderr",
     "output_type": "stream",
     "text": [
      " 10%|█         | 525/5000 [47:10<7:52:42,  6.34s/it][2022-05-28 16:43:17,683][model_v2.py][line:426][INFO] global_steps 525 - lr: 0.0000485220  loss: 3.21757579\n"
     ]
    },
    {
     "name": "stdout",
     "output_type": "stream",
     "text": [
      "global_steps 525 - lr: 0.0000485220  loss: 3.21757579\n"
     ]
    },
    {
     "name": "stderr",
     "output_type": "stream",
     "text": [
      " 11%|█         | 550/5000 [49:20<6:19:47,  5.12s/it][2022-05-28 16:45:27,715][model_v2.py][line:426][INFO] global_steps 550 - lr: 0.0000483861  loss: 2.87748742\n"
     ]
    },
    {
     "name": "stdout",
     "output_type": "stream",
     "text": [
      "global_steps 550 - lr: 0.0000483861  loss: 2.87748742\n"
     ]
    },
    {
     "name": "stderr",
     "output_type": "stream",
     "text": [
      " 12%|█▏        | 575/5000 [51:54<10:26:58,  8.50s/it][2022-05-28 16:48:01,496][model_v2.py][line:426][INFO] global_steps 575 - lr: 0.0000482444  loss: 2.99104881\n"
     ]
    },
    {
     "name": "stdout",
     "output_type": "stream",
     "text": [
      "global_steps 575 - lr: 0.0000482444  loss: 2.99104881\n"
     ]
    },
    {
     "name": "stderr",
     "output_type": "stream",
     "text": [
      " 12%|█▏        | 600/5000 [54:57<11:40:35,  9.55s/it][2022-05-28 16:51:04,354][model_v2.py][line:426][INFO] global_steps 600 - lr: 0.0000480970  loss: 2.80430079\n",
      "[2022-05-28 16:51:04,355][model_v2.py][line:426][INFO] ********** Running evaluating **********\n",
      "[2022-05-28 16:51:04,356][model_v2.py][line:426][INFO] ********** Step 600 **********\n"
     ]
    },
    {
     "name": "stdout",
     "output_type": "stream",
     "text": [
      "global_steps 600 - lr: 0.0000480970  loss: 2.80430079\n",
      "********** Running evaluating **********\n",
      "********** Step 600 **********\n"
     ]
    },
    {
     "name": "stderr",
     "output_type": "stream",
     "text": [
      "\n",
      "  0%|          | 0/50 [00:00<?, ?it/s]\u001b[A\n",
      "  2%|▏         | 1/50 [00:01<01:26,  1.76s/it]\u001b[A\n",
      "  4%|▍         | 2/50 [00:03<01:22,  1.71s/it]\u001b[A\n",
      "  6%|▌         | 3/50 [00:05<01:23,  1.77s/it]\u001b[A\n",
      "  8%|▊         | 4/50 [00:07<01:22,  1.79s/it]\u001b[A\n",
      " 10%|█         | 5/50 [00:09<01:24,  1.89s/it]\u001b[A\n",
      " 12%|█▏        | 6/50 [00:10<01:20,  1.83s/it]\u001b[A\n",
      " 14%|█▍        | 7/50 [00:12<01:16,  1.78s/it]\u001b[A\n",
      " 16%|█▌        | 8/50 [00:14<01:12,  1.72s/it]\u001b[A\n",
      " 18%|█▊        | 9/50 [00:15<01:09,  1.69s/it]\u001b[A\n",
      " 20%|██        | 10/50 [00:17<01:07,  1.68s/it]\u001b[A\n",
      " 22%|██▏       | 11/50 [00:18<01:04,  1.64s/it]\u001b[A\n",
      " 24%|██▍       | 12/50 [00:20<01:04,  1.69s/it]\u001b[A\n",
      " 26%|██▌       | 13/50 [00:22<01:00,  1.65s/it]\u001b[A\n",
      " 28%|██▊       | 14/50 [00:24<01:00,  1.68s/it]\u001b[A\n",
      " 30%|███       | 15/50 [00:26<01:01,  1.76s/it]\u001b[A\n",
      " 32%|███▏      | 16/50 [00:27<00:57,  1.69s/it]\u001b[A\n",
      " 34%|███▍      | 17/50 [00:29<00:53,  1.63s/it]\u001b[A\n",
      " 36%|███▌      | 18/50 [00:30<00:52,  1.63s/it]\u001b[A\n",
      " 38%|███▊      | 19/50 [00:32<00:51,  1.65s/it]\u001b[A\n",
      " 40%|████      | 20/50 [00:33<00:49,  1.64s/it]\u001b[A\n",
      " 42%|████▏     | 21/50 [00:35<00:48,  1.66s/it]\u001b[A\n",
      " 44%|████▍     | 22/50 [00:37<00:46,  1.65s/it]\u001b[A\n",
      " 46%|████▌     | 23/50 [00:38<00:44,  1.66s/it]\u001b[A\n",
      " 48%|████▊     | 24/50 [00:40<00:42,  1.64s/it]\u001b[A\n",
      " 50%|█████     | 25/50 [00:42<00:43,  1.74s/it]\u001b[A\n",
      " 52%|█████▏    | 26/50 [00:44<00:42,  1.76s/it]\u001b[A\n",
      " 54%|█████▍    | 27/50 [00:45<00:39,  1.72s/it]\u001b[A\n",
      " 56%|█████▌    | 28/50 [00:47<00:37,  1.69s/it]\u001b[A\n",
      " 58%|█████▊    | 29/50 [00:49<00:34,  1.64s/it]\u001b[A\n",
      " 60%|██████    | 30/50 [00:51<00:34,  1.71s/it]\u001b[A\n",
      " 62%|██████▏   | 31/50 [00:52<00:31,  1.65s/it]\u001b[A\n",
      " 64%|██████▍   | 32/50 [00:54<00:30,  1.69s/it]\u001b[A\n",
      " 66%|██████▌   | 33/50 [00:56<00:28,  1.69s/it]\u001b[A\n",
      " 68%|██████▊   | 34/50 [00:58<00:28,  1.80s/it]\u001b[A\n",
      " 70%|███████   | 35/50 [00:59<00:25,  1.73s/it]\u001b[A\n",
      " 72%|███████▏  | 36/50 [01:01<00:23,  1.71s/it]\u001b[A\n",
      " 74%|███████▍  | 37/50 [01:02<00:22,  1.70s/it]\u001b[A\n",
      " 76%|███████▌  | 38/50 [01:04<00:20,  1.74s/it]\u001b[A\n",
      " 78%|███████▊  | 39/50 [01:06<00:18,  1.72s/it]\u001b[A\n",
      " 80%|████████  | 40/50 [01:07<00:16,  1.66s/it]\u001b[A\n",
      " 82%|████████▏ | 41/50 [01:09<00:14,  1.63s/it]\u001b[A\n",
      " 84%|████████▍ | 42/50 [01:10<00:12,  1.51s/it]\u001b[A"
     ]
    },
    {
     "name": "stdout",
     "output_type": "stream",
     "text": [
      "['一种基于中心的战术应用场景与业务,并将网络编码技术应用于此类场景的实时数据多播业务中。在分析基于中心网络编码多播策略的理论增益上界,仿真', '普适计算二维空间定位信息是定位服务要解决的关键技术。在普适计算二维空间定位单元区域的误差分析,提出了定位单元布局(LUD)定理', '基于时序逻辑逻辑的软件体系结构描述语言描述']\n",
      "['网络编码在实时战术数据多播中的应用', '普适计算中定位单元布局研究', '基于时序逻辑的面向方面体系结构描述语言']\n"
     ]
    },
    {
     "name": "stderr",
     "output_type": "stream",
     "text": [
      " 84%|████████▍ | 42/50 [01:11<00:13,  1.70s/it]\n",
      "[2022-05-28 16:52:22,688][model_v2.py][line:426][INFO] ********** Saving best result in step 600 **********\n",
      "[2022-05-28 16:52:22,689][model_v2.py][line:426][INFO] ********** Evaluating Done **********\n"
     ]
    },
    {
     "name": "stdout",
     "output_type": "stream",
     "text": [
      "{'rouge-1': 0.44442883064250027, 'rouge-2': 0.31921255637568463, 'rouge-l': 0.39873954867418887, 'bleu': 14.01050918613792}\n",
      "********** Saving best result in step 600 **********\n",
      "********** Evaluating Done **********\n"
     ]
    },
    {
     "name": "stderr",
     "output_type": "stream",
     "text": [
      " 12%|█▎        | 625/5000 [59:15<7:28:50,  6.16s/it][2022-05-28 16:55:21,859][model_v2.py][line:426][INFO] global_steps 625 - lr: 0.0000479439  loss: 4.08539581\n"
     ]
    },
    {
     "name": "stdout",
     "output_type": "stream",
     "text": [
      "global_steps 625 - lr: 0.0000479439  loss: 4.08539581\n"
     ]
    },
    {
     "name": "stderr",
     "output_type": "stream",
     "text": [
      " 13%|█▎        | 650/5000 [1:02:48<9:20:56,  7.74s/it][2022-05-28 16:58:55,027][model_v2.py][line:426][INFO] global_steps 650 - lr: 0.0000477851  loss: 2.76691389\n"
     ]
    },
    {
     "name": "stdout",
     "output_type": "stream",
     "text": [
      "global_steps 650 - lr: 0.0000477851  loss: 2.76691389\n"
     ]
    },
    {
     "name": "stderr",
     "output_type": "stream",
     "text": [
      " 14%|█▎        | 675/5000 [1:05:00<5:43:35,  4.77s/it][2022-05-28 17:01:07,137][model_v2.py][line:426][INFO] global_steps 675 - lr: 0.0000476207  loss: 2.85550642\n"
     ]
    },
    {
     "name": "stdout",
     "output_type": "stream",
     "text": [
      "global_steps 675 - lr: 0.0000476207  loss: 2.85550642\n"
     ]
    },
    {
     "name": "stderr",
     "output_type": "stream",
     "text": [
      " 14%|█▍        | 700/5000 [1:07:25<6:37:00,  5.54s/it][2022-05-28 17:03:32,377][model_v2.py][line:426][INFO] global_steps 700 - lr: 0.0000474507  loss: 2.43132067\n",
      "[2022-05-28 17:03:32,378][model_v2.py][line:426][INFO] ********** Running evaluating **********\n",
      "[2022-05-28 17:03:32,381][model_v2.py][line:426][INFO] ********** Step 700 **********\n"
     ]
    },
    {
     "name": "stdout",
     "output_type": "stream",
     "text": [
      "global_steps 700 - lr: 0.0000474507  loss: 2.43132067\n",
      "********** Running evaluating **********\n",
      "********** Step 700 **********\n"
     ]
    },
    {
     "name": "stderr",
     "output_type": "stream",
     "text": [
      "\n",
      "  0%|          | 0/50 [00:00<?, ?it/s]\u001b[A\n",
      "  2%|▏         | 1/50 [00:01<01:16,  1.57s/it]\u001b[A\n",
      "  4%|▍         | 2/50 [00:03<01:15,  1.57s/it]\u001b[A\n",
      "  6%|▌         | 3/50 [00:04<01:18,  1.67s/it]\u001b[A\n",
      "  8%|▊         | 4/50 [00:06<01:19,  1.72s/it]\u001b[A\n",
      " 10%|█         | 5/50 [00:08<01:17,  1.73s/it]\u001b[A\n",
      " 12%|█▏        | 6/50 [00:10<01:25,  1.94s/it]\u001b[A\n",
      " 14%|█▍        | 7/50 [00:12<01:18,  1.82s/it]\u001b[A\n",
      " 16%|█▌        | 8/50 [00:13<01:12,  1.73s/it]\u001b[A\n",
      " 18%|█▊        | 9/50 [00:15<01:07,  1.66s/it]\u001b[A\n",
      " 20%|██        | 10/50 [00:16<01:04,  1.62s/it]\u001b[A\n",
      " 22%|██▏       | 11/50 [00:18<01:01,  1.58s/it]\u001b[A\n",
      " 24%|██▍       | 12/50 [00:20<01:02,  1.64s/it]\u001b[A\n",
      " 26%|██▌       | 13/50 [00:21<01:00,  1.63s/it]\u001b[A\n",
      " 28%|██▊       | 14/50 [00:23<00:59,  1.65s/it]\u001b[A\n",
      " 30%|███       | 15/50 [00:25<00:57,  1.64s/it]\u001b[A\n",
      " 32%|███▏      | 16/50 [00:26<00:54,  1.59s/it]\u001b[A\n",
      " 34%|███▍      | 17/50 [00:28<00:51,  1.56s/it]\u001b[A\n",
      " 36%|███▌      | 18/50 [00:29<00:49,  1.55s/it]\u001b[A\n",
      " 38%|███▊      | 19/50 [00:31<00:50,  1.63s/it]\u001b[A\n",
      " 40%|████      | 20/50 [00:33<00:48,  1.62s/it]\u001b[A\n",
      " 42%|████▏     | 21/50 [00:34<00:46,  1.59s/it]\u001b[A\n",
      " 44%|████▍     | 22/50 [00:36<00:44,  1.59s/it]\u001b[A\n",
      " 46%|████▌     | 23/50 [00:37<00:43,  1.59s/it]\u001b[A\n",
      " 48%|████▊     | 24/50 [00:39<00:41,  1.59s/it]\u001b[A\n",
      " 50%|█████     | 25/50 [00:40<00:39,  1.59s/it]\u001b[A\n",
      " 52%|█████▏    | 26/50 [00:43<00:44,  1.84s/it]\u001b[A\n",
      " 54%|█████▍    | 27/50 [00:44<00:40,  1.75s/it]\u001b[A\n",
      " 56%|█████▌    | 28/50 [00:46<00:37,  1.68s/it]\u001b[A\n",
      " 58%|█████▊    | 29/50 [00:47<00:34,  1.63s/it]\u001b[A\n",
      " 60%|██████    | 30/50 [00:49<00:33,  1.69s/it]\u001b[A\n",
      " 62%|██████▏   | 31/50 [00:51<00:30,  1.62s/it]\u001b[A\n",
      " 64%|██████▍   | 32/50 [00:52<00:28,  1.60s/it]\u001b[A\n",
      " 66%|██████▌   | 33/50 [00:54<00:27,  1.64s/it]\u001b[A\n",
      " 68%|██████▊   | 34/50 [00:56<00:26,  1.64s/it]\u001b[A\n",
      " 70%|███████   | 35/50 [00:57<00:24,  1.60s/it]\u001b[A\n",
      " 72%|███████▏  | 36/50 [00:59<00:22,  1.60s/it]\u001b[A\n",
      " 74%|███████▍  | 37/50 [01:00<00:20,  1.60s/it]\u001b[A\n",
      " 76%|███████▌  | 38/50 [01:02<00:19,  1.59s/it]\u001b[A\n",
      " 78%|███████▊  | 39/50 [01:04<00:17,  1.62s/it]\u001b[A\n",
      " 80%|████████  | 40/50 [01:05<00:15,  1.58s/it]\u001b[A\n",
      " 82%|████████▏ | 41/50 [01:07<00:13,  1.56s/it]\u001b[A\n",
      " 84%|████████▍ | 42/50 [01:08<00:11,  1.44s/it]\u001b[A"
     ]
    },
    {
     "name": "stdout",
     "output_type": "stream",
     "text": [
      "['一种基于中心网络与Many-all业务模式特性的基础上,提出了基于中心网络与Many-to-all业务模式特性的基础上,提出了仅在中心节点进行编码操作', '普适计算二维空间定位中的应用', '基于时序逻辑逻辑的软件体系结构描述']\n",
      "['网络编码在实时战术数据多播中的应用', '普适计算中定位单元布局研究', '基于时序逻辑的面向方面体系结构描述语言']\n"
     ]
    },
    {
     "name": "stderr",
     "output_type": "stream",
     "text": [
      " 84%|████████▍ | 42/50 [01:08<00:13,  1.64s/it]\n",
      "[2022-05-28 17:04:47,952][model_v2.py][line:426][INFO] ********** Saving best result in step 700 **********\n",
      "[2022-05-28 17:04:47,954][model_v2.py][line:426][INFO] ********** Evaluating Done **********\n"
     ]
    },
    {
     "name": "stdout",
     "output_type": "stream",
     "text": [
      "{'rouge-1': 0.4723055940441998, 'rouge-2': 0.34801224217119725, 'rouge-l': 0.43096235336221, 'bleu': 17.086663303558616}\n",
      "********** Saving best result in step 700 **********\n",
      "********** Evaluating Done **********\n"
     ]
    },
    {
     "name": "stderr",
     "output_type": "stream",
     "text": [
      " 14%|█▍        | 725/5000 [1:11:09<10:18:42,  8.68s/it][2022-05-28 17:07:16,476][model_v2.py][line:426][INFO] global_steps 725 - lr: 0.0000472752  loss: 3.02456474\n"
     ]
    },
    {
     "name": "stdout",
     "output_type": "stream",
     "text": [
      "global_steps 725 - lr: 0.0000472752  loss: 3.02456474\n"
     ]
    },
    {
     "name": "stderr",
     "output_type": "stream",
     "text": [
      " 15%|█▌        | 750/5000 [1:14:21<8:55:22,  7.56s/it] [2022-05-28 17:10:28,134][model_v2.py][line:426][INFO] global_steps 750 - lr: 0.0000470941  loss: 3.10210204\n"
     ]
    },
    {
     "name": "stdout",
     "output_type": "stream",
     "text": [
      "global_steps 750 - lr: 0.0000470941  loss: 3.10210204\n"
     ]
    },
    {
     "name": "stderr",
     "output_type": "stream",
     "text": [
      " 16%|█▌        | 775/5000 [1:17:32<10:37:55,  9.06s/it][2022-05-28 17:13:39,360][model_v2.py][line:426][INFO] global_steps 775 - lr: 0.0000469077  loss: 2.59464288\n"
     ]
    },
    {
     "name": "stdout",
     "output_type": "stream",
     "text": [
      "global_steps 775 - lr: 0.0000469077  loss: 2.59464288\n"
     ]
    },
    {
     "name": "stderr",
     "output_type": "stream",
     "text": [
      " 16%|█▌        | 800/5000 [1:20:25<6:13:29,  5.34s/it][2022-05-28 17:16:31,825][model_v2.py][line:426][INFO] global_steps 800 - lr: 0.0000467158  loss: 2.91893816\n",
      "[2022-05-28 17:16:31,825][model_v2.py][line:426][INFO] ********** Running evaluating **********\n",
      "[2022-05-28 17:16:31,828][model_v2.py][line:426][INFO] ********** Step 800 **********\n"
     ]
    },
    {
     "name": "stdout",
     "output_type": "stream",
     "text": [
      "global_steps 800 - lr: 0.0000467158  loss: 2.91893816\n",
      "********** Running evaluating **********\n",
      "********** Step 800 **********\n"
     ]
    },
    {
     "name": "stderr",
     "output_type": "stream",
     "text": [
      "\n",
      "  0%|          | 0/50 [00:00<?, ?it/s]\u001b[A\n",
      "  2%|▏         | 1/50 [00:01<01:23,  1.71s/it]\u001b[A\n",
      "  4%|▍         | 2/50 [00:03<01:25,  1.78s/it]\u001b[A\n",
      "  6%|▌         | 3/50 [00:05<01:26,  1.85s/it]\u001b[A\n",
      "  8%|▊         | 4/50 [00:07<01:22,  1.79s/it]\u001b[A\n",
      " 10%|█         | 5/50 [00:09<01:21,  1.82s/it]\u001b[A\n",
      " 12%|█▏        | 6/50 [00:10<01:17,  1.77s/it]\u001b[A\n",
      " 14%|█▍        | 7/50 [00:12<01:17,  1.81s/it]\u001b[A\n",
      " 16%|█▌        | 8/50 [00:14<01:12,  1.73s/it]\u001b[A\n",
      " 18%|█▊        | 9/50 [00:15<01:08,  1.68s/it]\u001b[A\n",
      " 20%|██        | 10/50 [00:17<01:06,  1.67s/it]\u001b[A\n",
      " 22%|██▏       | 11/50 [00:19<01:04,  1.66s/it]\u001b[A\n",
      " 24%|██▍       | 12/50 [00:20<01:03,  1.66s/it]\u001b[A\n",
      " 26%|██▌       | 13/50 [00:23<01:09,  1.87s/it]\u001b[A\n",
      " 28%|██▊       | 14/50 [00:24<01:06,  1.84s/it]\u001b[A\n",
      " 30%|███       | 15/50 [00:26<01:02,  1.80s/it]\u001b[A\n",
      " 32%|███▏      | 16/50 [00:28<00:58,  1.73s/it]\u001b[A\n",
      " 34%|███▍      | 17/50 [00:29<00:55,  1.68s/it]\u001b[A\n",
      " 36%|███▌      | 18/50 [00:31<00:53,  1.66s/it]\u001b[A\n",
      " 38%|███▊      | 19/50 [00:33<00:52,  1.69s/it]\u001b[A\n",
      " 40%|████      | 20/50 [00:34<00:50,  1.69s/it]\u001b[A\n",
      " 42%|████▏     | 21/50 [00:36<00:49,  1.69s/it]\u001b[A\n",
      " 44%|████▍     | 22/50 [00:38<00:47,  1.68s/it]\u001b[A\n",
      " 46%|████▌     | 23/50 [00:39<00:45,  1.69s/it]\u001b[A\n",
      " 48%|████▊     | 24/50 [00:41<00:43,  1.67s/it]\u001b[A\n",
      " 50%|█████     | 25/50 [00:43<00:41,  1.66s/it]\u001b[A\n",
      " 52%|█████▏    | 26/50 [00:44<00:41,  1.73s/it]\u001b[A\n",
      " 54%|█████▍    | 27/50 [00:46<00:39,  1.71s/it]\u001b[A\n",
      " 56%|█████▌    | 28/50 [00:48<00:37,  1.70s/it]\u001b[A\n",
      " 58%|█████▊    | 29/50 [00:49<00:34,  1.66s/it]\u001b[A\n",
      " 60%|██████    | 30/50 [00:51<00:34,  1.74s/it]\u001b[A\n",
      " 62%|██████▏   | 31/50 [00:53<00:31,  1.68s/it]\u001b[A\n",
      " 64%|██████▍   | 32/50 [00:55<00:32,  1.83s/it]\u001b[A\n",
      " 66%|██████▌   | 33/50 [00:57<00:30,  1.82s/it]\u001b[A\n",
      " 68%|██████▊   | 34/50 [00:58<00:28,  1.78s/it]\u001b[A\n",
      " 70%|███████   | 35/50 [01:00<00:25,  1.72s/it]\u001b[A\n",
      " 72%|███████▏  | 36/50 [01:02<00:23,  1.71s/it]\u001b[A\n",
      " 74%|███████▍  | 37/50 [01:03<00:22,  1.70s/it]\u001b[A\n",
      " 76%|███████▌  | 38/50 [01:05<00:20,  1.67s/it]\u001b[A\n",
      " 78%|███████▊  | 39/50 [01:07<00:18,  1.73s/it]\u001b[A\n",
      " 80%|████████  | 40/50 [01:08<00:16,  1.69s/it]\u001b[A\n",
      " 82%|████████▏ | 41/50 [01:10<00:14,  1.66s/it]\u001b[A\n",
      " 84%|████████▍ | 42/50 [01:11<00:12,  1.55s/it]\u001b[A"
     ]
    },
    {
     "name": "stdout",
     "output_type": "stream",
     "text": [
      "['一种基于中心的战术应用场景与业务模式特性的基础上,提出了仅在中心节点进行编码操作的实时数据多播业务模式特性的基础上,提出了仅在中心节点进行编码操作', '普适计算二维空间定位信息是定位服务要解决的关键技术。在普适计算二维空间定位单元的误差分析,提出了定位单元中定位参考点覆盖效能的物理', '运用传统体系结构描述的软件体系结构(SA)方案始终存在着一些横切行为和特征,它们混杂和特征,它们混列在不同的SA设计单元中,使得SA难以']\n",
      "['网络编码在实时战术数据多播中的应用', '普适计算中定位单元布局研究', '基于时序逻辑的面向方面体系结构描述语言']\n"
     ]
    },
    {
     "name": "stderr",
     "output_type": "stream",
     "text": [
      " 84%|████████▍ | 42/50 [01:12<00:13,  1.73s/it]\n",
      "[2022-05-28 17:17:50,853][model_v2.py][line:426][INFO] ********** Saving best result in step 800 **********\n",
      "[2022-05-28 17:17:50,854][model_v2.py][line:426][INFO] ********** Evaluating Done **********\n"
     ]
    },
    {
     "name": "stdout",
     "output_type": "stream",
     "text": [
      "{'rouge-1': 0.4043554871934278, 'rouge-2': 0.2748221563546483, 'rouge-l': 0.35468321272955283, 'bleu': 12.423931448296896}\n",
      "********** Saving best result in step 800 **********\n",
      "********** Evaluating Done **********\n"
     ]
    },
    {
     "name": "stderr",
     "output_type": "stream",
     "text": [
      " 16%|█▋        | 825/5000 [1:24:13<9:20:03,  8.05s/it][2022-05-28 17:20:20,363][model_v2.py][line:426][INFO] global_steps 825 - lr: 0.0000465186  loss: 2.41386485\n"
     ]
    },
    {
     "name": "stdout",
     "output_type": "stream",
     "text": [
      "global_steps 825 - lr: 0.0000465186  loss: 2.41386485\n"
     ]
    },
    {
     "name": "stderr",
     "output_type": "stream",
     "text": [
      " 17%|█▋        | 850/5000 [1:27:08<7:37:38,  6.62s/it][2022-05-28 17:23:14,986][model_v2.py][line:426][INFO] global_steps 850 - lr: 0.0000463160  loss: 2.58725548\n"
     ]
    },
    {
     "name": "stdout",
     "output_type": "stream",
     "text": [
      "global_steps 850 - lr: 0.0000463160  loss: 2.58725548\n"
     ]
    },
    {
     "name": "stderr",
     "output_type": "stream",
     "text": [
      " 18%|█▊        | 875/5000 [1:29:53<8:19:23,  7.26s/it][2022-05-28 17:26:00,590][model_v2.py][line:426][INFO] global_steps 875 - lr: 0.0000461082  loss: 2.82451725\n"
     ]
    },
    {
     "name": "stdout",
     "output_type": "stream",
     "text": [
      "global_steps 875 - lr: 0.0000461082  loss: 2.82451725\n"
     ]
    },
    {
     "name": "stderr",
     "output_type": "stream",
     "text": [
      " 18%|█▊        | 900/5000 [1:32:45<9:09:33,  8.04s/it][2022-05-28 17:28:52,090][model_v2.py][line:426][INFO] global_steps 900 - lr: 0.0000458952  loss: 2.57136393\n",
      "[2022-05-28 17:28:52,091][model_v2.py][line:426][INFO] ********** Running evaluating **********\n",
      "[2022-05-28 17:28:52,092][model_v2.py][line:426][INFO] ********** Step 900 **********\n"
     ]
    },
    {
     "name": "stdout",
     "output_type": "stream",
     "text": [
      "global_steps 900 - lr: 0.0000458952  loss: 2.57136393\n",
      "********** Running evaluating **********\n",
      "********** Step 900 **********\n"
     ]
    },
    {
     "name": "stderr",
     "output_type": "stream",
     "text": [
      "\n",
      "  0%|          | 0/50 [00:00<?, ?it/s]\u001b[A\n",
      "  2%|▏         | 1/50 [00:01<01:23,  1.70s/it]\u001b[A\n",
      "  4%|▍         | 2/50 [00:03<01:20,  1.68s/it]\u001b[A\n",
      "  6%|▌         | 3/50 [00:05<01:29,  1.90s/it]\u001b[A\n",
      "  8%|▊         | 4/50 [00:07<01:22,  1.79s/it]\u001b[A\n",
      " 10%|█         | 5/50 [00:09<01:23,  1.86s/it]\u001b[A\n",
      " 12%|█▏        | 6/50 [00:10<01:19,  1.80s/it]\u001b[A\n",
      " 14%|█▍        | 7/50 [00:12<01:16,  1.77s/it]\u001b[A\n",
      " 16%|█▌        | 8/50 [00:14<01:11,  1.71s/it]\u001b[A\n",
      " 18%|█▊        | 9/50 [00:15<01:10,  1.72s/it]\u001b[A\n",
      " 20%|██        | 10/50 [00:17<01:11,  1.78s/it]\u001b[A\n",
      " 22%|██▏       | 11/50 [00:19<01:09,  1.78s/it]\u001b[A\n",
      " 24%|██▍       | 12/50 [00:21<01:06,  1.74s/it]\u001b[A\n",
      " 26%|██▌       | 13/50 [00:22<01:03,  1.71s/it]\u001b[A\n",
      " 28%|██▊       | 14/50 [00:24<01:02,  1.74s/it]\u001b[A\n",
      " 30%|███       | 15/50 [00:26<01:00,  1.73s/it]\u001b[A\n",
      " 32%|███▏      | 16/50 [00:27<00:57,  1.69s/it]\u001b[A\n",
      " 34%|███▍      | 17/50 [00:29<00:55,  1.69s/it]\u001b[A\n",
      " 36%|███▌      | 18/50 [00:31<00:53,  1.68s/it]\u001b[A\n",
      " 38%|███▊      | 19/50 [00:32<00:51,  1.66s/it]\u001b[A\n",
      " 40%|████      | 20/50 [00:34<00:49,  1.66s/it]\u001b[A\n",
      " 42%|████▏     | 21/50 [00:36<00:48,  1.68s/it]\u001b[A\n",
      " 44%|████▍     | 22/50 [00:38<00:47,  1.70s/it]\u001b[A\n",
      " 46%|████▌     | 23/50 [00:39<00:46,  1.72s/it]\u001b[A\n",
      " 48%|████▊     | 24/50 [00:41<00:45,  1.74s/it]\u001b[A\n",
      " 50%|█████     | 25/50 [00:43<00:43,  1.74s/it]\u001b[A\n",
      " 52%|█████▏    | 26/50 [00:45<00:42,  1.75s/it]\u001b[A\n",
      " 54%|█████▍    | 27/50 [00:46<00:40,  1.74s/it]\u001b[A\n",
      " 56%|█████▌    | 28/50 [00:48<00:40,  1.82s/it]\u001b[A\n",
      " 58%|█████▊    | 29/50 [00:50<00:37,  1.79s/it]\u001b[A\n",
      " 60%|██████    | 30/50 [00:52<00:37,  1.88s/it]\u001b[A\n",
      " 62%|██████▏   | 31/50 [00:54<00:34,  1.81s/it]\u001b[A\n",
      " 64%|██████▍   | 32/50 [00:55<00:31,  1.77s/it]\u001b[A\n",
      " 66%|██████▌   | 33/50 [00:57<00:29,  1.75s/it]\u001b[A\n",
      " 68%|██████▊   | 34/50 [00:59<00:28,  1.75s/it]\u001b[A\n",
      " 70%|███████   | 35/50 [01:01<00:25,  1.71s/it]\u001b[A\n",
      " 72%|███████▏  | 36/50 [01:02<00:24,  1.77s/it]\u001b[A\n",
      " 74%|███████▍  | 37/50 [01:04<00:22,  1.76s/it]\u001b[A\n",
      " 76%|███████▌  | 38/50 [01:06<00:20,  1.73s/it]\u001b[A\n",
      " 78%|███████▊  | 39/50 [01:08<00:18,  1.71s/it]\u001b[A\n",
      " 80%|████████  | 40/50 [01:09<00:16,  1.69s/it]\u001b[A\n",
      " 82%|████████▏ | 41/50 [01:11<00:14,  1.66s/it]\u001b[A\n",
      " 84%|████████▍ | 42/50 [01:12<00:12,  1.53s/it]\u001b[A"
     ]
    },
    {
     "name": "stdout",
     "output_type": "stream",
     "text": [
      "['抽象了一种基于中心的战术应用场景与业务模式特性的基础上,提出了仅在中心节点进行编码操作的实时数据多播业务模式特性的基础上,提出了仅在中心节点进行', '普适计算二维空间定位信息是定位服务要解决的关键技术。在普适计算二维空间定位单元区域的误差分析,提出了定位单元布局(LUD)定理', '应用传统体系结构描述语言描述的软件体系结构(SA)方案始终存在着一些横切行为和特征,它们混杂和特征,它们混列在不同的SA设计单元中,使得']\n",
      "['网络编码在实时战术数据多播中的应用', '普适计算中定位单元布局研究', '基于时序逻辑的面向方面体系结构描述语言']\n"
     ]
    },
    {
     "name": "stderr",
     "output_type": "stream",
     "text": [
      " 84%|████████▍ | 42/50 [01:13<00:13,  1.74s/it]\n",
      "[2022-05-28 17:30:11,931][model_v2.py][line:426][INFO] ********** Saving best result in step 900 **********\n",
      "[2022-05-28 17:30:11,933][model_v2.py][line:426][INFO] ********** Evaluating Done **********\n"
     ]
    },
    {
     "name": "stdout",
     "output_type": "stream",
     "text": [
      "{'rouge-1': 0.40154660921784824, 'rouge-2': 0.276343802037616, 'rouge-l': 0.35178535159976704, 'bleu': 12.566289809497867}\n",
      "********** Saving best result in step 900 **********\n",
      "********** Evaluating Done **********\n"
     ]
    },
    {
     "name": "stderr",
     "output_type": "stream",
     "text": [
      " 18%|█▊        | 925/5000 [1:37:08<7:18:14,  6.45s/it][2022-05-28 17:33:15,387][model_v2.py][line:426][INFO] global_steps 925 - lr: 0.0000456770  loss: 2.80095720\n"
     ]
    },
    {
     "name": "stdout",
     "output_type": "stream",
     "text": [
      "global_steps 925 - lr: 0.0000456770  loss: 2.80095720\n"
     ]
    },
    {
     "name": "stderr",
     "output_type": "stream",
     "text": [
      " 19%|█▉        | 950/5000 [1:39:11<7:12:20,  6.41s/it][2022-05-28 17:35:18,757][model_v2.py][line:426][INFO] global_steps 950 - lr: 0.0000454537  loss: 2.16329265\n"
     ]
    },
    {
     "name": "stdout",
     "output_type": "stream",
     "text": [
      "global_steps 950 - lr: 0.0000454537  loss: 2.16329265\n"
     ]
    },
    {
     "name": "stderr",
     "output_type": "stream",
     "text": [
      " 20%|█▉        | 975/5000 [1:42:21<8:45:49,  7.84s/it][2022-05-28 17:38:28,748][model_v2.py][line:426][INFO] global_steps 975 - lr: 0.0000452254  loss: 2.48292899\n"
     ]
    },
    {
     "name": "stdout",
     "output_type": "stream",
     "text": [
      "global_steps 975 - lr: 0.0000452254  loss: 2.48292899\n"
     ]
    },
    {
     "name": "stderr",
     "output_type": "stream",
     "text": [
      " 20%|██        | 1000/5000 [1:45:33<6:59:39,  6.29s/it][2022-05-28 17:41:39,939][model_v2.py][line:426][INFO] global_steps 1000 - lr: 0.0000449921  loss: 2.62752843\n",
      "[2022-05-28 17:41:39,941][model_v2.py][line:426][INFO] ********** Running evaluating **********\n",
      "[2022-05-28 17:41:39,941][model_v2.py][line:426][INFO] ********** Step 1000 **********\n"
     ]
    },
    {
     "name": "stdout",
     "output_type": "stream",
     "text": [
      "global_steps 1000 - lr: 0.0000449921  loss: 2.62752843\n",
      "********** Running evaluating **********\n",
      "********** Step 1000 **********\n"
     ]
    },
    {
     "name": "stderr",
     "output_type": "stream",
     "text": [
      "\n",
      "  0%|          | 0/50 [00:00<?, ?it/s]\u001b[A\n",
      "  2%|▏         | 1/50 [00:01<01:27,  1.79s/it]\u001b[A\n",
      "  4%|▍         | 2/50 [00:03<01:20,  1.68s/it]\u001b[A\n",
      "  6%|▌         | 3/50 [00:05<01:25,  1.81s/it]\u001b[A\n",
      "  8%|▊         | 4/50 [00:07<01:23,  1.81s/it]\u001b[A\n",
      " 10%|█         | 5/50 [00:09<01:22,  1.84s/it]\u001b[A\n",
      " 12%|█▏        | 6/50 [00:10<01:18,  1.77s/it]\u001b[A\n",
      " 14%|█▍        | 7/50 [00:12<01:20,  1.87s/it]\u001b[A\n",
      " 16%|█▌        | 8/50 [00:14<01:14,  1.78s/it]\u001b[A\n",
      " 18%|█▊        | 9/50 [00:16<01:13,  1.79s/it]\u001b[A\n",
      " 20%|██        | 10/50 [00:17<01:09,  1.74s/it]\u001b[A\n",
      " 22%|██▏       | 11/50 [00:19<01:05,  1.69s/it]\u001b[A\n",
      " 24%|██▍       | 12/50 [00:21<01:03,  1.68s/it]\u001b[A\n",
      " 26%|██▌       | 13/50 [00:22<01:01,  1.66s/it]\u001b[A\n",
      " 28%|██▊       | 14/50 [00:24<01:01,  1.70s/it]\u001b[A\n",
      " 30%|███       | 15/50 [00:26<00:59,  1.71s/it]\u001b[A\n",
      " 32%|███▏      | 16/50 [00:27<00:58,  1.72s/it]\u001b[A\n",
      " 34%|███▍      | 17/50 [00:29<00:54,  1.66s/it]\u001b[A\n",
      " 36%|███▌      | 18/50 [00:31<00:52,  1.65s/it]\u001b[A\n",
      " 38%|███▊      | 19/50 [00:32<00:50,  1.63s/it]\u001b[A\n",
      " 40%|████      | 20/50 [00:34<00:48,  1.63s/it]\u001b[A\n",
      " 42%|████▏     | 21/50 [00:36<00:48,  1.66s/it]\u001b[A\n",
      " 44%|████▍     | 22/50 [00:37<00:46,  1.68s/it]\u001b[A\n",
      " 46%|████▌     | 23/50 [00:39<00:46,  1.73s/it]\u001b[A\n",
      " 48%|████▊     | 24/50 [00:41<00:44,  1.73s/it]\u001b[A\n",
      " 50%|█████     | 25/50 [00:42<00:42,  1.71s/it]\u001b[A\n",
      " 52%|█████▏    | 26/50 [00:45<00:43,  1.82s/it]\u001b[A\n",
      " 54%|█████▍    | 27/50 [00:46<00:40,  1.78s/it]\u001b[A\n",
      " 56%|█████▌    | 28/50 [00:48<00:38,  1.75s/it]\u001b[A\n",
      " 58%|█████▊    | 29/50 [00:50<00:36,  1.73s/it]\u001b[A\n",
      " 60%|██████    | 30/50 [00:51<00:35,  1.78s/it]\u001b[A\n",
      " 62%|██████▏   | 31/50 [00:53<00:32,  1.70s/it]\u001b[A\n",
      " 64%|██████▍   | 32/50 [00:55<00:30,  1.69s/it]\u001b[A\n",
      " 66%|██████▌   | 33/50 [00:56<00:28,  1.69s/it]\u001b[A\n",
      " 68%|██████▊   | 34/50 [00:58<00:27,  1.70s/it]\u001b[A\n",
      " 70%|███████   | 35/50 [01:00<00:26,  1.74s/it]\u001b[A\n",
      " 72%|███████▏  | 36/50 [01:02<00:23,  1.71s/it]\u001b[A\n",
      " 74%|███████▍  | 37/50 [01:03<00:22,  1.71s/it]\u001b[A\n",
      " 76%|███████▌  | 38/50 [01:05<00:20,  1.70s/it]\u001b[A\n",
      " 78%|███████▊  | 39/50 [01:07<00:18,  1.68s/it]\u001b[A\n",
      " 80%|████████  | 40/50 [01:08<00:16,  1.64s/it]\u001b[A\n",
      " 82%|████████▏ | 41/50 [01:10<00:14,  1.63s/it]\u001b[A\n",
      " 84%|████████▍ | 42/50 [01:11<00:12,  1.56s/it]\u001b[A"
     ]
    },
    {
     "name": "stdout",
     "output_type": "stream",
     "text": [
      "['抽象了一种基于中心网络与业务,并将网络编码技术应用于此类场景的实时数据多播业务中。在分析基于中心网络与Many-to-to-to-to', '普适计算二维空间定位中的未知移动节点的位置信息是定位服务要解决的关键技术。在普适计算二维空间定位过程中,通过对三角形定位单元区域的误差分析,', '运用传统体系结构描述语言描述的软件体系结构(SA)方案始终存在着一些横切行为和特征,它们混杂在不同的SA设计单元中,使得SA难以理解、难以理解']\n",
      "['网络编码在实时战术数据多播中的应用', '普适计算中定位单元布局研究', '基于时序逻辑的面向方面体系结构描述语言']\n"
     ]
    },
    {
     "name": "stderr",
     "output_type": "stream",
     "text": [
      " 84%|████████▍ | 42/50 [01:12<00:13,  1.72s/it]\n",
      "[2022-05-28 17:43:03,754][model_v2.py][line:426][INFO] ********** Saving best result in step 1000 **********\n",
      "[2022-05-28 17:43:03,757][model_v2.py][line:426][INFO] ********** Evaluating Done **********\n"
     ]
    },
    {
     "name": "stdout",
     "output_type": "stream",
     "text": [
      "{'rouge-1': 0.39922866288932324, 'rouge-2': 0.27296331949036096, 'rouge-l': 0.3483918447741458, 'bleu': 12.516267617225616}\n",
      "********** Saving best result in step 1000 **********\n",
      "********** Evaluating Done **********\n"
     ]
    },
    {
     "name": "stderr",
     "output_type": "stream",
     "text": [
      " 20%|██        | 1025/5000 [1:50:00<7:15:02,  6.57s/it][2022-05-28 17:46:07,659][model_v2.py][line:426][INFO] global_steps 1025 - lr: 0.0000447539  loss: 2.32426405\n"
     ]
    },
    {
     "name": "stdout",
     "output_type": "stream",
     "text": [
      "global_steps 1025 - lr: 0.0000447539  loss: 2.32426405\n"
     ]
    },
    {
     "name": "stderr",
     "output_type": "stream",
     "text": [
      " 21%|██        | 1050/5000 [1:53:10<8:23:33,  7.65s/it][2022-05-28 17:49:17,430][model_v2.py][line:426][INFO] global_steps 1050 - lr: 0.0000445108  loss: 2.61608100\n"
     ]
    },
    {
     "name": "stdout",
     "output_type": "stream",
     "text": [
      "global_steps 1050 - lr: 0.0000445108  loss: 2.61608100\n"
     ]
    },
    {
     "name": "stderr",
     "output_type": "stream",
     "text": [
      " 22%|██▏       | 1075/5000 [1:55:04<4:03:11,  3.72s/it][2022-05-28 17:51:11,240][model_v2.py][line:426][INFO] global_steps 1075 - lr: 0.0000442628  loss: 1.98897552\n"
     ]
    },
    {
     "name": "stdout",
     "output_type": "stream",
     "text": [
      "global_steps 1075 - lr: 0.0000442628  loss: 1.98897552\n"
     ]
    },
    {
     "name": "stderr",
     "output_type": "stream",
     "text": [
      " 22%|██▏       | 1100/5000 [1:57:59<8:56:16,  8.25s/it][2022-05-28 17:54:06,086][model_v2.py][line:426][INFO] global_steps 1100 - lr: 0.0000440101  loss: 2.30890965\n",
      "[2022-05-28 17:54:06,087][model_v2.py][line:426][INFO] ********** Running evaluating **********\n",
      "[2022-05-28 17:54:06,090][model_v2.py][line:426][INFO] ********** Step 1100 **********\n"
     ]
    },
    {
     "name": "stdout",
     "output_type": "stream",
     "text": [
      "global_steps 1100 - lr: 0.0000440101  loss: 2.30890965\n",
      "********** Running evaluating **********\n",
      "********** Step 1100 **********\n"
     ]
    },
    {
     "name": "stderr",
     "output_type": "stream",
     "text": [
      "\n",
      "  0%|          | 0/50 [00:00<?, ?it/s]\u001b[A\n",
      "  2%|▏         | 1/50 [00:01<01:32,  1.90s/it]\u001b[A\n",
      "  4%|▍         | 2/50 [00:03<01:24,  1.77s/it]\u001b[A\n",
      "  6%|▌         | 3/50 [00:05<01:24,  1.80s/it]\u001b[A\n",
      "  8%|▊         | 4/50 [00:07<01:19,  1.72s/it]\u001b[A\n",
      " 10%|█         | 5/50 [00:08<01:19,  1.77s/it]\u001b[A\n",
      " 12%|█▏        | 6/50 [00:10<01:14,  1.70s/it]\u001b[A\n",
      " 14%|█▍        | 7/50 [00:12<01:17,  1.80s/it]\u001b[A\n",
      " 16%|█▌        | 8/50 [00:13<01:11,  1.70s/it]\u001b[A\n",
      " 18%|█▊        | 9/50 [00:15<01:07,  1.64s/it]\u001b[A\n",
      " 20%|██        | 10/50 [00:16<01:04,  1.61s/it]\u001b[A\n",
      " 22%|██▏       | 11/50 [00:18<01:02,  1.60s/it]\u001b[A\n",
      " 24%|██▍       | 12/50 [00:20<01:00,  1.59s/it]\u001b[A\n",
      " 26%|██▌       | 13/50 [00:21<00:58,  1.58s/it]\u001b[A\n",
      " 28%|██▊       | 14/50 [00:23<01:04,  1.79s/it]\u001b[A\n",
      " 30%|███       | 15/50 [00:25<01:01,  1.76s/it]\u001b[A\n",
      " 32%|███▏      | 16/50 [00:27<00:57,  1.68s/it]\u001b[A\n",
      " 34%|███▍      | 17/50 [00:28<00:52,  1.59s/it]\u001b[A\n",
      " 36%|███▌      | 18/50 [00:30<00:50,  1.58s/it]\u001b[A\n",
      " 38%|███▊      | 19/50 [00:31<00:48,  1.57s/it]\u001b[A\n",
      " 40%|████      | 20/50 [00:33<00:46,  1.57s/it]\u001b[A\n",
      " 42%|████▏     | 21/50 [00:34<00:46,  1.60s/it]\u001b[A\n",
      " 44%|████▍     | 22/50 [00:36<00:44,  1.60s/it]\u001b[A\n",
      " 46%|████▌     | 23/50 [00:38<00:43,  1.60s/it]\u001b[A\n",
      " 48%|████▊     | 24/50 [00:39<00:40,  1.57s/it]\u001b[A\n",
      " 50%|█████     | 25/50 [00:41<00:39,  1.58s/it]\u001b[A\n",
      " 52%|█████▏    | 26/50 [00:42<00:38,  1.62s/it]\u001b[A\n",
      " 54%|█████▍    | 27/50 [00:44<00:37,  1.64s/it]\u001b[A\n",
      " 56%|█████▌    | 28/50 [00:46<00:36,  1.64s/it]\u001b[A\n",
      " 58%|█████▊    | 29/50 [00:47<00:33,  1.59s/it]\u001b[A\n",
      " 60%|██████    | 30/50 [00:49<00:32,  1.65s/it]\u001b[A\n",
      " 62%|██████▏   | 31/50 [00:50<00:30,  1.60s/it]\u001b[A\n",
      " 64%|██████▍   | 32/50 [00:52<00:28,  1.60s/it]\u001b[A\n",
      " 66%|██████▌   | 33/50 [00:54<00:26,  1.58s/it]\u001b[A\n",
      " 68%|██████▊   | 34/50 [00:56<00:29,  1.84s/it]\u001b[A\n",
      " 70%|███████   | 35/50 [00:57<00:25,  1.73s/it]\u001b[A\n",
      " 72%|███████▏  | 36/50 [00:59<00:23,  1.69s/it]\u001b[A\n",
      " 74%|███████▍  | 37/50 [01:01<00:21,  1.65s/it]\u001b[A\n",
      " 76%|███████▌  | 38/50 [01:02<00:19,  1.60s/it]\u001b[A\n",
      " 78%|███████▊  | 39/50 [01:04<00:17,  1.59s/it]\u001b[A\n",
      " 80%|████████  | 40/50 [01:05<00:15,  1.55s/it]\u001b[A\n",
      " 82%|████████▏ | 41/50 [01:07<00:14,  1.61s/it]\u001b[A\n",
      " 84%|████████▍ | 42/50 [01:08<00:11,  1.48s/it]\u001b[A"
     ]
    },
    {
     "name": "stdout",
     "output_type": "stream",
     "text": [
      "['抽象了一种基于中心的战术应用场景与业务,并将网络编码技术应用于此类场景的实时数据多播业务中。在分析基于中心网络与Many-to-to-to', '普适计算二维空间定位过程中的未知移动节点的位置信息是定位服务要解决的关键技术。在普适计算二维空间定位过程中,通过对三角形定位单元区域的误差分析', '运用传统体系结构描述的软件体系结构']\n",
      "['网络编码在实时战术数据多播中的应用', '普适计算中定位单元布局研究', '基于时序逻辑的面向方面体系结构描述语言']\n"
     ]
    },
    {
     "name": "stderr",
     "output_type": "stream",
     "text": [
      " 84%|████████▍ | 42/50 [01:09<00:13,  1.65s/it]\n",
      "[2022-05-28 17:55:21,680][model_v2.py][line:426][INFO] ********** Saving best result in step 1100 **********\n",
      "[2022-05-28 17:55:21,682][model_v2.py][line:426][INFO] ********** Evaluating Done **********\n"
     ]
    },
    {
     "name": "stdout",
     "output_type": "stream",
     "text": [
      "{'rouge-1': 0.4435510290845641, 'rouge-2': 0.3206275200505069, 'rouge-l': 0.39725014006428133, 'bleu': 16.875827723053174}\n",
      "********** Saving best result in step 1100 **********\n",
      "********** Evaluating Done **********\n"
     ]
    },
    {
     "name": "stderr",
     "output_type": "stream",
     "text": [
      " 22%|██▎       | 1125/5000 [2:02:24<7:39:46,  7.12s/it][2022-05-28 17:58:30,837][model_v2.py][line:426][INFO] global_steps 1125 - lr: 0.0000437528  loss: 2.55777931\n"
     ]
    },
    {
     "name": "stdout",
     "output_type": "stream",
     "text": [
      "global_steps 1125 - lr: 0.0000437528  loss: 2.55777931\n"
     ]
    },
    {
     "name": "stderr",
     "output_type": "stream",
     "text": [
      " 23%|██▎       | 1150/5000 [2:05:12<7:55:04,  7.40s/it][2022-05-28 18:01:19,178][model_v2.py][line:426][INFO] global_steps 1150 - lr: 0.0000434908  loss: 1.95968008\n"
     ]
    },
    {
     "name": "stdout",
     "output_type": "stream",
     "text": [
      "global_steps 1150 - lr: 0.0000434908  loss: 1.95968008\n"
     ]
    },
    {
     "name": "stderr",
     "output_type": "stream",
     "text": [
      " 24%|██▎       | 1175/5000 [2:08:23<6:30:00,  6.12s/it][2022-05-28 18:04:30,021][model_v2.py][line:426][INFO] global_steps 1175 - lr: 0.0000432242  loss: 2.48762846\n"
     ]
    },
    {
     "name": "stdout",
     "output_type": "stream",
     "text": [
      "global_steps 1175 - lr: 0.0000432242  loss: 2.48762846\n"
     ]
    },
    {
     "name": "stderr",
     "output_type": "stream",
     "text": [
      " 24%|██▍       | 1200/5000 [2:10:40<5:14:42,  4.97s/it][2022-05-28 18:06:47,190][model_v2.py][line:426][INFO] global_steps 1200 - lr: 0.0000429532  loss: 2.12422776\n",
      "[2022-05-28 18:06:47,190][model_v2.py][line:426][INFO] ********** Running evaluating **********\n",
      "[2022-05-28 18:06:47,191][model_v2.py][line:426][INFO] ********** Step 1200 **********\n"
     ]
    },
    {
     "name": "stdout",
     "output_type": "stream",
     "text": [
      "global_steps 1200 - lr: 0.0000429532  loss: 2.12422776\n",
      "********** Running evaluating **********\n",
      "********** Step 1200 **********\n"
     ]
    },
    {
     "name": "stderr",
     "output_type": "stream",
     "text": [
      "\n",
      "  0%|          | 0/50 [00:00<?, ?it/s]\u001b[A\n",
      "  2%|▏         | 1/50 [00:01<01:17,  1.58s/it]\u001b[A\n",
      "  4%|▍         | 2/50 [00:02<00:57,  1.21s/it]\u001b[A\n",
      "  6%|▌         | 3/50 [00:03<00:51,  1.10s/it]\u001b[A\n",
      "  8%|▊         | 4/50 [00:05<00:59,  1.30s/it]\u001b[A\n",
      " 10%|█         | 5/50 [00:06<00:53,  1.18s/it]\u001b[A\n",
      " 12%|█▏        | 6/50 [00:06<00:46,  1.07s/it]\u001b[A\n",
      " 14%|█▍        | 7/50 [00:07<00:43,  1.02s/it]\u001b[A\n",
      " 16%|█▌        | 8/50 [00:08<00:39,  1.06it/s]\u001b[A\n",
      " 18%|█▊        | 9/50 [00:10<00:46,  1.14s/it]\u001b[A\n",
      " 20%|██        | 10/50 [00:11<00:44,  1.11s/it]\u001b[A\n",
      " 22%|██▏       | 11/50 [00:12<00:42,  1.09s/it]\u001b[A\n",
      " 24%|██▍       | 12/50 [00:13<00:39,  1.05s/it]\u001b[A\n",
      " 26%|██▌       | 13/50 [00:14<00:44,  1.20s/it]\u001b[A\n",
      " 28%|██▊       | 14/50 [00:15<00:41,  1.16s/it]\u001b[A\n",
      " 30%|███       | 15/50 [00:17<00:45,  1.30s/it]\u001b[A\n",
      " 32%|███▏      | 16/50 [00:18<00:40,  1.18s/it]\u001b[A\n",
      " 34%|███▍      | 17/50 [00:19<00:40,  1.21s/it]\u001b[A\n",
      " 36%|███▌      | 18/50 [00:21<00:41,  1.29s/it]\u001b[A\n",
      " 38%|███▊      | 19/50 [00:22<00:39,  1.27s/it]\u001b[A\n",
      " 40%|████      | 20/50 [00:23<00:34,  1.16s/it]\u001b[A\n",
      " 42%|████▏     | 21/50 [00:24<00:30,  1.06s/it]\u001b[A\n",
      " 44%|████▍     | 22/50 [00:24<00:27,  1.02it/s]\u001b[A\n",
      " 46%|████▌     | 23/50 [00:25<00:25,  1.07it/s]\u001b[A\n",
      " 48%|████▊     | 24/50 [00:26<00:23,  1.12it/s]\u001b[A\n",
      " 50%|█████     | 25/50 [00:27<00:21,  1.17it/s]\u001b[A\n",
      " 52%|█████▏    | 26/50 [00:28<00:21,  1.13it/s]\u001b[A\n",
      " 54%|█████▍    | 27/50 [00:29<00:20,  1.15it/s]\u001b[A\n",
      " 56%|█████▌    | 28/50 [00:30<00:19,  1.13it/s]\u001b[A\n",
      " 58%|█████▊    | 29/50 [00:30<00:18,  1.15it/s]\u001b[A\n",
      " 60%|██████    | 30/50 [00:32<00:23,  1.15s/it]\u001b[A\n",
      " 62%|██████▏   | 31/50 [00:33<00:22,  1.20s/it]\u001b[A\n",
      " 64%|██████▍   | 32/50 [00:35<00:23,  1.28s/it]\u001b[A\n",
      " 66%|██████▌   | 33/50 [00:36<00:20,  1.19s/it]\u001b[A\n",
      " 68%|██████▊   | 34/50 [00:37<00:17,  1.07s/it]\u001b[A\n",
      " 70%|███████   | 35/50 [00:38<00:15,  1.02s/it]\u001b[A\n",
      " 72%|███████▏  | 36/50 [00:38<00:13,  1.06it/s]\u001b[A\n",
      " 74%|███████▍  | 37/50 [00:39<00:12,  1.03it/s]\u001b[A\n",
      " 76%|███████▌  | 38/50 [00:41<00:12,  1.08s/it]\u001b[A\n",
      " 78%|███████▊  | 39/50 [00:42<00:11,  1.03s/it]\u001b[A\n",
      " 80%|████████  | 40/50 [00:43<00:09,  1.00it/s]\u001b[A\n",
      " 82%|████████▏ | 41/50 [00:44<00:08,  1.01it/s]\u001b[A\n",
      " 84%|████████▍ | 42/50 [00:44<00:06,  1.18it/s]\u001b[A"
     ]
    },
    {
     "name": "stdout",
     "output_type": "stream",
     "text": [
      "['一种基于中心的战术应用场景与业务', '普适计算二维空间定位过程中的位置信息', '一种基于时序逻辑的软件体系结构']\n",
      "['网络编码在实时战术数据多播中的应用', '普适计算中定位单元布局研究', '基于时序逻辑的面向方面体系结构描述语言']\n"
     ]
    },
    {
     "name": "stderr",
     "output_type": "stream",
     "text": [
      " 84%|████████▍ | 42/50 [00:44<00:08,  1.07s/it]\n",
      "[2022-05-28 18:07:38,623][model_v2.py][line:426][INFO] ********** Saving best result in step 1200 **********\n",
      "[2022-05-28 18:07:38,625][model_v2.py][line:426][INFO] ********** Evaluating Done **********\n"
     ]
    },
    {
     "name": "stdout",
     "output_type": "stream",
     "text": [
      "{'rouge-1': 0.44450774674094323, 'rouge-2': 0.32592603217367233, 'rouge-l': 0.40921189135101677, 'bleu': 28.28293683268346}\n",
      "********** Saving best result in step 1200 **********\n",
      "********** Evaluating Done **********\n"
     ]
    },
    {
     "name": "stderr",
     "output_type": "stream",
     "text": [
      " 24%|██▍       | 1225/5000 [2:14:01<6:34:49,  6.28s/it][2022-05-28 18:10:08,305][model_v2.py][line:426][INFO] global_steps 1225 - lr: 0.0000426777  loss: 2.06131434\n"
     ]
    },
    {
     "name": "stdout",
     "output_type": "stream",
     "text": [
      "global_steps 1225 - lr: 0.0000426777  loss: 2.06131434\n"
     ]
    },
    {
     "name": "stderr",
     "output_type": "stream",
     "text": [
      " 25%|██▌       | 1250/5000 [2:16:58<7:26:33,  7.14s/it][2022-05-28 18:13:05,700][model_v2.py][line:426][INFO] global_steps 1250 - lr: 0.0000423978  loss: 2.24182510\n"
     ]
    },
    {
     "name": "stdout",
     "output_type": "stream",
     "text": [
      "global_steps 1250 - lr: 0.0000423978  loss: 2.24182510\n"
     ]
    },
    {
     "name": "stderr",
     "output_type": "stream",
     "text": [
      " 26%|██▌       | 1275/5000 [2:20:08<8:33:57,  8.28s/it][2022-05-28 18:16:15,222][model_v2.py][line:426][INFO] global_steps 1275 - lr: 0.0000421137  loss: 1.59694457\n"
     ]
    },
    {
     "name": "stdout",
     "output_type": "stream",
     "text": [
      "global_steps 1275 - lr: 0.0000421137  loss: 1.59694457\n"
     ]
    },
    {
     "name": "stderr",
     "output_type": "stream",
     "text": [
      " 26%|██▌       | 1300/5000 [2:23:28<7:05:52,  6.91s/it][2022-05-28 18:19:34,922][model_v2.py][line:426][INFO] global_steps 1300 - lr: 0.0000418253  loss: 2.20795965\n",
      "[2022-05-28 18:19:34,923][model_v2.py][line:426][INFO] ********** Running evaluating **********\n",
      "[2022-05-28 18:19:34,924][model_v2.py][line:426][INFO] ********** Step 1300 **********\n"
     ]
    },
    {
     "name": "stdout",
     "output_type": "stream",
     "text": [
      "global_steps 1300 - lr: 0.0000418253  loss: 2.20795965\n",
      "********** Running evaluating **********\n",
      "********** Step 1300 **********\n"
     ]
    },
    {
     "name": "stderr",
     "output_type": "stream",
     "text": [
      "\n",
      "  0%|          | 0/50 [00:00<?, ?it/s]\u001b[A\n",
      "  2%|▏         | 1/50 [00:01<01:33,  1.91s/it]\u001b[A\n",
      "  4%|▍         | 2/50 [00:03<01:22,  1.72s/it]\u001b[A\n",
      "  6%|▌         | 3/50 [00:05<01:19,  1.70s/it]\u001b[A\n",
      "  8%|▊         | 4/50 [00:07<01:33,  2.03s/it]\u001b[A\n",
      " 10%|█         | 5/50 [00:09<01:28,  1.97s/it]\u001b[A\n",
      " 12%|█▏        | 6/50 [00:11<01:21,  1.84s/it]\u001b[A\n",
      " 14%|█▍        | 7/50 [00:12<01:16,  1.77s/it]\u001b[A\n",
      " 16%|█▌        | 8/50 [00:14<01:12,  1.73s/it]\u001b[A\n",
      " 18%|█▊        | 9/50 [00:15<01:08,  1.67s/it]\u001b[A\n",
      " 20%|██        | 10/50 [00:17<01:05,  1.64s/it]\u001b[A\n",
      " 22%|██▏       | 11/50 [00:19<01:04,  1.66s/it]\u001b[A\n",
      " 24%|██▍       | 12/50 [00:20<01:02,  1.65s/it]\u001b[A\n",
      " 26%|██▌       | 13/50 [00:22<01:00,  1.65s/it]\u001b[A\n",
      " 28%|██▊       | 14/50 [00:24<01:00,  1.68s/it]\u001b[A\n",
      " 30%|███       | 15/50 [00:26<00:59,  1.69s/it]\u001b[A\n",
      " 32%|███▏      | 16/50 [00:27<00:56,  1.66s/it]\u001b[A\n",
      " 34%|███▍      | 17/50 [00:29<00:55,  1.68s/it]\u001b[A\n",
      " 36%|███▌      | 18/50 [00:30<00:52,  1.65s/it]\u001b[A\n",
      " 38%|███▊      | 19/50 [00:32<00:50,  1.64s/it]\u001b[A\n",
      " 40%|████      | 20/50 [00:34<00:49,  1.64s/it]\u001b[A\n",
      " 42%|████▏     | 21/50 [00:35<00:47,  1.62s/it]\u001b[A\n",
      " 44%|████▍     | 22/50 [00:37<00:45,  1.62s/it]\u001b[A\n",
      " 46%|████▌     | 23/50 [00:39<00:44,  1.63s/it]\u001b[A\n",
      " 48%|████▊     | 24/50 [00:41<00:46,  1.79s/it]\u001b[A\n",
      " 50%|█████     | 25/50 [00:42<00:43,  1.74s/it]\u001b[A\n",
      " 52%|█████▏    | 26/50 [00:44<00:41,  1.74s/it]\u001b[A\n",
      " 54%|█████▍    | 27/50 [00:46<00:39,  1.72s/it]\u001b[A\n",
      " 56%|█████▌    | 28/50 [00:47<00:37,  1.70s/it]\u001b[A\n",
      " 58%|█████▊    | 29/50 [00:49<00:35,  1.67s/it]\u001b[A\n",
      " 60%|██████    | 30/50 [00:51<00:35,  1.79s/it]\u001b[A\n",
      " 62%|██████▏   | 31/50 [00:53<00:32,  1.71s/it]\u001b[A\n",
      " 64%|██████▍   | 32/50 [00:54<00:30,  1.68s/it]\u001b[A\n",
      " 66%|██████▌   | 33/50 [00:56<00:28,  1.66s/it]\u001b[A\n",
      " 68%|██████▊   | 34/50 [00:57<00:26,  1.66s/it]\u001b[A\n",
      " 70%|███████   | 35/50 [00:59<00:24,  1.62s/it]\u001b[A\n",
      " 72%|███████▏  | 36/50 [01:01<00:22,  1.62s/it]\u001b[A\n",
      " 74%|███████▍  | 37/50 [01:02<00:21,  1.67s/it]\u001b[A\n",
      " 76%|███████▌  | 38/50 [01:04<00:19,  1.66s/it]\u001b[A\n",
      " 78%|███████▊  | 39/50 [01:06<00:18,  1.65s/it]\u001b[A\n",
      " 80%|████████  | 40/50 [01:07<00:16,  1.61s/it]\u001b[A\n",
      " 82%|████████▏ | 41/50 [01:09<00:14,  1.61s/it]\u001b[A\n",
      " 84%|████████▍ | 42/50 [01:10<00:11,  1.48s/it]\u001b[A"
     ]
    },
    {
     "name": "stdout",
     "output_type": "stream",
     "text": [
      "['抽象了一种基于中心的战术应用场景与业务,并将网络编码技术应用于此类场景的实时数据多播业务中。在分析基于中心网络与Many-to-to-to', '普适计算二维空间定位过程中,通过对三角形定位单元区域的误差分析,提出了定位单元布局(LUD)定理。在此基础上,对多个定位单元布局进行了研究,定义', '运用传统体系结构描述的软件体系结构']\n",
      "['网络编码在实时战术数据多播中的应用', '普适计算中定位单元布局研究', '基于时序逻辑的面向方面体系结构描述语言']\n"
     ]
    },
    {
     "name": "stderr",
     "output_type": "stream",
     "text": [
      " 84%|████████▍ | 42/50 [01:11<00:13,  1.69s/it]\n",
      "[2022-05-28 18:20:57,409][model_v2.py][line:426][INFO] ********** Saving best result in step 1300 **********\n",
      "[2022-05-28 18:20:57,411][model_v2.py][line:426][INFO] ********** Evaluating Done **********\n"
     ]
    },
    {
     "name": "stdout",
     "output_type": "stream",
     "text": [
      "{'rouge-1': 0.4080680564679395, 'rouge-2': 0.2832316609047461, 'rouge-l': 0.3571085315804988, 'bleu': 14.056132735618672}\n",
      "********** Saving best result in step 1300 **********\n",
      "********** Evaluating Done **********\n"
     ]
    },
    {
     "name": "stderr",
     "output_type": "stream",
     "text": [
      " 26%|██▋       | 1325/5000 [2:27:33<7:46:08,  7.61s/it][2022-05-28 18:23:40,123][model_v2.py][line:426][INFO] global_steps 1325 - lr: 0.0000415328  loss: 1.61902893\n"
     ]
    },
    {
     "name": "stdout",
     "output_type": "stream",
     "text": [
      "global_steps 1325 - lr: 0.0000415328  loss: 1.61902893\n"
     ]
    },
    {
     "name": "stderr",
     "output_type": "stream",
     "text": [
      " 27%|██▋       | 1350/5000 [2:30:27<6:37:22,  6.53s/it][2022-05-28 18:26:34,159][model_v2.py][line:426][INFO] global_steps 1350 - lr: 0.0000412362  loss: 1.64815581\n"
     ]
    },
    {
     "name": "stdout",
     "output_type": "stream",
     "text": [
      "global_steps 1350 - lr: 0.0000412362  loss: 1.64815581\n"
     ]
    },
    {
     "name": "stderr",
     "output_type": "stream",
     "text": [
      " 28%|██▊       | 1375/5000 [2:33:30<7:35:25,  7.54s/it][2022-05-28 18:29:37,167][model_v2.py][line:426][INFO] global_steps 1375 - lr: 0.0000409356  loss: 2.02907610\n"
     ]
    },
    {
     "name": "stdout",
     "output_type": "stream",
     "text": [
      "global_steps 1375 - lr: 0.0000409356  loss: 2.02907610\n"
     ]
    },
    {
     "name": "stderr",
     "output_type": "stream",
     "text": [
      " 28%|██▊       | 1400/5000 [2:36:48<8:21:57,  8.37s/it][2022-05-28 18:32:55,548][model_v2.py][line:426][INFO] global_steps 1400 - lr: 0.0000406311  loss: 1.89082599\n",
      "[2022-05-28 18:32:55,549][model_v2.py][line:426][INFO] ********** Running evaluating **********\n",
      "[2022-05-28 18:32:55,551][model_v2.py][line:426][INFO] ********** Step 1400 **********\n"
     ]
    },
    {
     "name": "stdout",
     "output_type": "stream",
     "text": [
      "global_steps 1400 - lr: 0.0000406311  loss: 1.89082599\n",
      "********** Running evaluating **********\n",
      "********** Step 1400 **********\n"
     ]
    },
    {
     "name": "stderr",
     "output_type": "stream",
     "text": [
      "\n",
      "  0%|          | 0/50 [00:00<?, ?it/s]\u001b[A\n",
      "  2%|▏         | 1/50 [00:02<02:05,  2.56s/it]\u001b[A\n",
      "  4%|▍         | 2/50 [00:04<01:36,  2.01s/it]\u001b[A\n",
      "  6%|▌         | 3/50 [00:05<01:28,  1.88s/it]\u001b[A\n",
      "  8%|▊         | 4/50 [00:07<01:26,  1.87s/it]\u001b[A\n",
      " 10%|█         | 5/50 [00:09<01:27,  1.96s/it]\u001b[A\n",
      " 12%|█▏        | 6/50 [00:11<01:21,  1.86s/it]\u001b[A\n",
      " 14%|█▍        | 7/50 [00:13<01:16,  1.78s/it]\u001b[A\n",
      " 16%|█▌        | 8/50 [00:14<01:12,  1.73s/it]\u001b[A\n",
      " 18%|█▊        | 9/50 [00:16<01:09,  1.69s/it]\u001b[A\n",
      " 20%|██        | 10/50 [00:18<01:07,  1.68s/it]\u001b[A\n",
      " 22%|██▏       | 11/50 [00:19<01:05,  1.67s/it]\u001b[A\n",
      " 24%|██▍       | 12/50 [00:21<01:05,  1.73s/it]\u001b[A\n",
      " 26%|██▌       | 13/50 [00:23<01:03,  1.71s/it]\u001b[A\n",
      " 28%|██▊       | 14/50 [00:25<01:02,  1.74s/it]\u001b[A\n",
      " 30%|███       | 15/50 [00:26<01:01,  1.74s/it]\u001b[A\n",
      " 32%|███▏      | 16/50 [00:28<00:57,  1.69s/it]\u001b[A\n",
      " 34%|███▍      | 17/50 [00:29<00:54,  1.64s/it]\u001b[A\n",
      " 36%|███▌      | 18/50 [00:31<00:54,  1.70s/it]\u001b[A\n",
      " 38%|███▊      | 19/50 [00:33<00:52,  1.69s/it]\u001b[A\n",
      " 40%|████      | 20/50 [00:35<00:54,  1.80s/it]\u001b[A\n",
      " 42%|████▏     | 21/50 [00:37<00:52,  1.81s/it]\u001b[A\n",
      " 44%|████▍     | 22/50 [00:38<00:49,  1.76s/it]\u001b[A\n",
      " 46%|████▌     | 23/50 [00:40<00:47,  1.74s/it]\u001b[A\n",
      " 48%|████▊     | 24/50 [00:42<00:45,  1.75s/it]\u001b[A\n",
      " 50%|█████     | 25/50 [00:44<00:43,  1.75s/it]\u001b[A\n",
      " 52%|█████▏    | 26/50 [00:45<00:42,  1.76s/it]\u001b[A\n",
      " 54%|█████▍    | 27/50 [00:47<00:39,  1.73s/it]\u001b[A\n",
      " 56%|█████▌    | 28/50 [00:49<00:37,  1.72s/it]\u001b[A\n",
      " 58%|█████▊    | 29/50 [00:50<00:35,  1.70s/it]\u001b[A\n",
      " 60%|██████    | 30/50 [00:52<00:35,  1.76s/it]\u001b[A\n",
      " 62%|██████▏   | 31/50 [00:54<00:33,  1.76s/it]\u001b[A\n",
      " 64%|██████▍   | 32/50 [00:56<00:31,  1.75s/it]\u001b[A\n",
      " 66%|██████▌   | 33/50 [00:57<00:29,  1.72s/it]\u001b[A\n",
      " 68%|██████▊   | 34/50 [00:59<00:27,  1.73s/it]\u001b[A\n",
      " 70%|███████   | 35/50 [01:01<00:25,  1.70s/it]\u001b[A\n",
      " 72%|███████▏  | 36/50 [01:03<00:23,  1.69s/it]\u001b[A\n",
      " 74%|███████▍  | 37/50 [01:04<00:22,  1.76s/it]\u001b[A\n",
      " 76%|███████▌  | 38/50 [01:06<00:21,  1.75s/it]\u001b[A\n",
      " 78%|███████▊  | 39/50 [01:08<00:19,  1.80s/it]\u001b[A\n",
      " 80%|████████  | 40/50 [01:10<00:17,  1.75s/it]\u001b[A\n",
      " 82%|████████▏ | 41/50 [01:11<00:15,  1.71s/it]\u001b[A\n",
      " 84%|████████▍ | 42/50 [01:13<00:12,  1.58s/it]\u001b[A"
     ]
    },
    {
     "name": "stdout",
     "output_type": "stream",
     "text": [
      "['抽象了一种基于中心的战术应用场景与业务,并将网络编码技术应用于此类场景的实时数据多播业务中。在分析基于中心网络与Many-to-to-to', '普适计算二维空间定位过程中,通过对三角形定位单元区域的误差分析,提出了定位单元布局(LUD)定理。在此基础上,对多个定位单元布局进行了研究,定义', '运用传统体系结构描述的软件体系结构(SA)方案始终存在着一些横切行为和特征,它们混杂和散列在不同的SA设计单元中,使得SA难以理解、难以']\n",
      "['网络编码在实时战术数据多播中的应用', '普适计算中定位单元布局研究', '基于时序逻辑的面向方面体系结构描述语言']\n"
     ]
    },
    {
     "name": "stderr",
     "output_type": "stream",
     "text": [
      " 84%|████████▍ | 42/50 [01:13<00:14,  1.76s/it]\n",
      "[2022-05-28 18:34:20,734][model_v2.py][line:426][INFO] ********** Saving best result in step 1400 **********\n",
      "[2022-05-28 18:34:20,736][model_v2.py][line:426][INFO] ********** Evaluating Done **********\n"
     ]
    },
    {
     "name": "stdout",
     "output_type": "stream",
     "text": [
      "{'rouge-1': 0.3878941782227441, 'rouge-2': 0.2621602204337219, 'rouge-l': 0.3324667221101705, 'bleu': 12.822550616405499}\n",
      "********** Saving best result in step 1400 **********\n",
      "********** Evaluating Done **********\n"
     ]
    },
    {
     "name": "stderr",
     "output_type": "stream",
     "text": [
      " 28%|██▊       | 1425/5000 [2:41:31<7:38:48,  7.70s/it][2022-05-28 18:37:38,061][model_v2.py][line:426][INFO] global_steps 1425 - lr: 0.0000403227  loss: 2.20170021\n"
     ]
    },
    {
     "name": "stdout",
     "output_type": "stream",
     "text": [
      "global_steps 1425 - lr: 0.0000403227  loss: 2.20170021\n"
     ]
    },
    {
     "name": "stderr",
     "output_type": "stream",
     "text": [
      " 29%|██▉       | 1450/5000 [2:44:12<6:18:37,  6.40s/it][2022-05-28 18:40:18,960][model_v2.py][line:426][INFO] global_steps 1450 - lr: 0.0000400105  loss: 1.56346130\n"
     ]
    },
    {
     "name": "stdout",
     "output_type": "stream",
     "text": [
      "global_steps 1450 - lr: 0.0000400105  loss: 1.56346130\n"
     ]
    },
    {
     "name": "stderr",
     "output_type": "stream",
     "text": [
      " 30%|██▉       | 1475/5000 [2:47:06<7:52:25,  8.04s/it][2022-05-28 18:43:13,267][model_v2.py][line:426][INFO] global_steps 1475 - lr: 0.0000396946  loss: 1.86067605\n"
     ]
    },
    {
     "name": "stdout",
     "output_type": "stream",
     "text": [
      "global_steps 1475 - lr: 0.0000396946  loss: 1.86067605\n"
     ]
    },
    {
     "name": "stderr",
     "output_type": "stream",
     "text": [
      " 30%|███       | 1500/5000 [2:50:05<6:35:49,  6.79s/it][2022-05-28 18:46:12,220][model_v2.py][line:426][INFO] global_steps 1500 - lr: 0.0000393751  loss: 1.67514801\n",
      "[2022-05-28 18:46:12,220][model_v2.py][line:426][INFO] ********** Running evaluating **********\n",
      "[2022-05-28 18:46:12,221][model_v2.py][line:426][INFO] ********** Step 1500 **********\n"
     ]
    },
    {
     "name": "stdout",
     "output_type": "stream",
     "text": [
      "global_steps 1500 - lr: 0.0000393751  loss: 1.67514801\n",
      "********** Running evaluating **********\n",
      "********** Step 1500 **********\n"
     ]
    },
    {
     "name": "stderr",
     "output_type": "stream",
     "text": [
      "\n",
      "  0%|          | 0/50 [00:00<?, ?it/s]\u001b[A\n",
      "  2%|▏         | 1/50 [00:01<01:24,  1.72s/it]\u001b[A\n",
      "  4%|▍         | 2/50 [00:03<01:23,  1.74s/it]\u001b[A\n",
      "  6%|▌         | 3/50 [00:05<01:23,  1.78s/it]\u001b[A\n",
      "  8%|▊         | 4/50 [00:06<01:19,  1.72s/it]\u001b[A\n",
      " 10%|█         | 5/50 [00:09<01:24,  1.88s/it]\u001b[A\n",
      " 12%|█▏        | 6/50 [00:11<01:26,  1.97s/it]\u001b[A\n",
      " 14%|█▍        | 7/50 [00:12<01:19,  1.85s/it]\u001b[A\n",
      " 16%|█▌        | 8/50 [00:14<01:13,  1.76s/it]\u001b[A\n",
      " 18%|█▊        | 9/50 [00:16<01:10,  1.72s/it]\u001b[A\n",
      " 20%|██        | 10/50 [00:17<01:07,  1.68s/it]\u001b[A\n",
      " 22%|██▏       | 11/50 [00:19<01:04,  1.65s/it]\u001b[A\n",
      " 24%|██▍       | 12/50 [00:21<01:05,  1.72s/it]\u001b[A\n",
      " 26%|██▌       | 13/50 [00:22<01:02,  1.69s/it]\u001b[A\n",
      " 28%|██▊       | 14/50 [00:24<01:01,  1.70s/it]\u001b[A\n",
      " 30%|███       | 15/50 [00:26<00:59,  1.71s/it]\u001b[A\n",
      " 32%|███▏      | 16/50 [00:27<00:56,  1.66s/it]\u001b[A\n",
      " 34%|███▍      | 17/50 [00:29<00:53,  1.61s/it]\u001b[A\n",
      " 36%|███▌      | 18/50 [00:31<00:55,  1.72s/it]\u001b[A\n",
      " 38%|███▊      | 19/50 [00:33<00:54,  1.76s/it]\u001b[A\n",
      " 40%|████      | 20/50 [00:34<00:51,  1.73s/it]\u001b[A\n",
      " 42%|████▏     | 21/50 [00:36<00:49,  1.72s/it]\u001b[A\n",
      " 44%|████▍     | 22/50 [00:37<00:47,  1.68s/it]\u001b[A\n",
      " 46%|████▌     | 23/50 [00:39<00:45,  1.67s/it]\u001b[A\n",
      " 48%|████▊     | 24/50 [00:41<00:43,  1.66s/it]\u001b[A\n",
      " 50%|█████     | 25/50 [00:43<00:42,  1.70s/it]\u001b[A\n",
      " 52%|█████▏    | 26/50 [00:44<00:41,  1.72s/it]\u001b[A\n",
      " 54%|█████▍    | 27/50 [00:46<00:38,  1.69s/it]\u001b[A\n",
      " 56%|█████▌    | 28/50 [00:48<00:37,  1.69s/it]\u001b[A\n",
      " 58%|█████▊    | 29/50 [00:49<00:34,  1.66s/it]\u001b[A\n",
      " 60%|██████    | 30/50 [00:51<00:34,  1.72s/it]\u001b[A\n",
      " 62%|██████▏   | 31/50 [00:53<00:33,  1.74s/it]\u001b[A\n",
      " 64%|██████▍   | 32/50 [00:55<00:30,  1.71s/it]\u001b[A\n",
      " 66%|██████▌   | 33/50 [00:56<00:28,  1.67s/it]\u001b[A\n",
      " 68%|██████▊   | 34/50 [00:58<00:26,  1.67s/it]\u001b[A\n",
      " 70%|███████   | 35/50 [00:59<00:25,  1.67s/it]\u001b[A\n",
      " 72%|███████▏  | 36/50 [01:01<00:23,  1.66s/it]\u001b[A\n",
      " 74%|███████▍  | 37/50 [01:03<00:21,  1.67s/it]\u001b[A\n",
      " 76%|███████▌  | 38/50 [01:05<00:22,  1.84s/it]\u001b[A\n",
      " 78%|███████▊  | 39/50 [01:07<00:19,  1.79s/it]\u001b[A\n",
      " 80%|████████  | 40/50 [01:08<00:17,  1.72s/it]\u001b[A\n",
      " 82%|████████▏ | 41/50 [01:10<00:15,  1.68s/it]\u001b[A\n",
      " 84%|████████▍ | 42/50 [01:11<00:12,  1.53s/it]\u001b[A"
     ]
    },
    {
     "name": "stdout",
     "output_type": "stream",
     "text": [
      "['抽象了一种基于中心的战术应用场景与业务,并将网络编码技术应用于此类场景的实时数据多播业务中。在分析基于中心网络与Many-to-all业务模式', '普适计算环境中未知移动节点的位置信息是定位服务要解决的关键技术。在普适计算二维空间定位过程中,通过对三角形定位单元区域的误差分析,提出了定位单元布局', '运用传统体系结构描述语言描述的软件体系结构']\n",
      "['网络编码在实时战术数据多播中的应用', '普适计算中定位单元布局研究', '基于时序逻辑的面向方面体系结构描述语言']\n"
     ]
    },
    {
     "name": "stderr",
     "output_type": "stream",
     "text": [
      " 84%|████████▍ | 42/50 [01:12<00:13,  1.72s/it]\n",
      "[2022-05-28 18:47:31,645][model_v2.py][line:426][INFO] ********** Saving best result in step 1500 **********\n",
      "[2022-05-28 18:47:31,646][model_v2.py][line:426][INFO] ********** Evaluating Done **********\n"
     ]
    },
    {
     "name": "stdout",
     "output_type": "stream",
     "text": [
      "{'rouge-1': 0.40361053114257817, 'rouge-2': 0.2791751986993238, 'rouge-l': 0.3511724416448462, 'bleu': 13.675930120272387}\n",
      "********** Saving best result in step 1500 **********\n",
      "********** Evaluating Done **********\n"
     ]
    },
    {
     "name": "stderr",
     "output_type": "stream",
     "text": [
      " 30%|███       | 1525/5000 [2:54:02<5:14:14,  5.43s/it][2022-05-28 18:50:09,485][model_v2.py][line:426][INFO] global_steps 1525 - lr: 0.0000390521  loss: 1.38203442\n"
     ]
    },
    {
     "name": "stdout",
     "output_type": "stream",
     "text": [
      "global_steps 1525 - lr: 0.0000390521  loss: 1.38203442\n"
     ]
    },
    {
     "name": "stderr",
     "output_type": "stream",
     "text": [
      " 31%|███       | 1550/5000 [2:56:41<5:58:07,  6.23s/it][2022-05-28 18:52:48,365][model_v2.py][line:426][INFO] global_steps 1550 - lr: 0.0000387256  loss: 2.06758451\n"
     ]
    },
    {
     "name": "stdout",
     "output_type": "stream",
     "text": [
      "global_steps 1550 - lr: 0.0000387256  loss: 2.06758451\n"
     ]
    },
    {
     "name": "stderr",
     "output_type": "stream",
     "text": [
      " 32%|███▏      | 1575/5000 [2:59:04<5:47:03,  6.08s/it][2022-05-28 18:55:11,389][model_v2.py][line:426][INFO] global_steps 1575 - lr: 0.0000383957  loss: 1.61801994\n"
     ]
    },
    {
     "name": "stdout",
     "output_type": "stream",
     "text": [
      "global_steps 1575 - lr: 0.0000383957  loss: 1.61801994\n"
     ]
    },
    {
     "name": "stderr",
     "output_type": "stream",
     "text": [
      " 32%|███▏      | 1600/5000 [3:01:37<6:42:21,  7.10s/it][2022-05-28 18:57:44,643][model_v2.py][line:426][INFO] global_steps 1600 - lr: 0.0000380625  loss: 1.88616776\n",
      "[2022-05-28 18:57:44,644][model_v2.py][line:426][INFO] ********** Running evaluating **********\n",
      "[2022-05-28 18:57:44,645][model_v2.py][line:426][INFO] ********** Step 1600 **********\n"
     ]
    },
    {
     "name": "stdout",
     "output_type": "stream",
     "text": [
      "global_steps 1600 - lr: 0.0000380625  loss: 1.88616776\n",
      "********** Running evaluating **********\n",
      "********** Step 1600 **********\n"
     ]
    },
    {
     "name": "stderr",
     "output_type": "stream",
     "text": [
      "\n",
      "  0%|          | 0/50 [00:00<?, ?it/s]\u001b[A\n",
      "  2%|▏         | 1/50 [00:01<01:18,  1.59s/it]\u001b[A\n",
      "  4%|▍         | 2/50 [00:03<01:15,  1.58s/it]\u001b[A\n",
      "  6%|▌         | 3/50 [00:04<01:17,  1.64s/it]\u001b[A\n",
      "  8%|▊         | 4/50 [00:06<01:15,  1.63s/it]\u001b[A\n",
      " 10%|█         | 5/50 [00:08<01:15,  1.68s/it]\u001b[A\n",
      " 12%|█▏        | 6/50 [00:09<01:13,  1.68s/it]\u001b[A\n",
      " 14%|█▍        | 7/50 [00:11<01:09,  1.62s/it]\u001b[A\n",
      " 16%|█▌        | 8/50 [00:12<01:05,  1.57s/it]\u001b[A\n",
      " 18%|█▊        | 9/50 [00:14<01:02,  1.53s/it]\u001b[A\n",
      " 20%|██        | 10/50 [00:15<01:00,  1.52s/it]\u001b[A\n",
      " 22%|██▏       | 11/50 [00:17<00:58,  1.50s/it]\u001b[A\n",
      " 24%|██▍       | 12/50 [00:18<00:57,  1.52s/it]\u001b[A\n",
      " 26%|██▌       | 13/50 [00:20<00:58,  1.59s/it]\u001b[A\n",
      " 28%|██▊       | 14/50 [00:22<00:58,  1.62s/it]\u001b[A\n",
      " 30%|███       | 15/50 [00:23<00:57,  1.64s/it]\u001b[A\n",
      " 32%|███▏      | 16/50 [00:25<00:56,  1.65s/it]\u001b[A\n",
      " 34%|███▍      | 17/50 [00:27<00:53,  1.62s/it]\u001b[A\n",
      " 36%|███▌      | 18/50 [00:28<00:51,  1.60s/it]\u001b[A\n",
      " 38%|███▊      | 19/50 [00:30<00:48,  1.55s/it]\u001b[A\n",
      " 40%|████      | 20/50 [00:31<00:48,  1.62s/it]\u001b[A\n",
      " 42%|████▏     | 21/50 [00:33<00:46,  1.59s/it]\u001b[A\n",
      " 44%|████▍     | 22/50 [00:34<00:43,  1.56s/it]\u001b[A\n",
      " 46%|████▌     | 23/50 [00:36<00:42,  1.56s/it]\u001b[A\n",
      " 48%|████▊     | 24/50 [00:38<00:40,  1.57s/it]\u001b[A\n",
      " 50%|█████     | 25/50 [00:39<00:38,  1.56s/it]\u001b[A\n",
      " 52%|█████▏    | 26/50 [00:41<00:37,  1.58s/it]\u001b[A\n",
      " 54%|█████▍    | 27/50 [00:43<00:37,  1.63s/it]\u001b[A\n",
      " 56%|█████▌    | 28/50 [00:44<00:35,  1.60s/it]\u001b[A\n",
      " 58%|█████▊    | 29/50 [00:46<00:32,  1.57s/it]\u001b[A\n",
      " 60%|██████    | 30/50 [00:47<00:32,  1.63s/it]\u001b[A\n",
      " 62%|██████▏   | 31/50 [00:49<00:29,  1.56s/it]\u001b[A\n",
      " 64%|██████▍   | 32/50 [00:50<00:28,  1.56s/it]\u001b[A\n",
      " 66%|██████▌   | 33/50 [00:52<00:26,  1.57s/it]\u001b[A\n",
      " 68%|██████▊   | 34/50 [00:54<00:26,  1.63s/it]\u001b[A\n",
      " 70%|███████   | 35/50 [00:55<00:23,  1.59s/it]\u001b[A\n",
      " 72%|███████▏  | 36/50 [00:57<00:22,  1.58s/it]\u001b[A\n",
      " 74%|███████▍  | 37/50 [00:59<00:22,  1.70s/it]\u001b[A\n",
      " 76%|███████▌  | 38/50 [01:00<00:19,  1.65s/it]\u001b[A\n",
      " 78%|███████▊  | 39/50 [01:02<00:17,  1.61s/it]\u001b[A\n",
      " 80%|████████  | 40/50 [01:03<00:15,  1.57s/it]\u001b[A\n",
      " 82%|████████▏ | 41/50 [01:05<00:14,  1.64s/it]\u001b[A\n",
      " 84%|████████▍ | 42/50 [01:06<00:12,  1.50s/it]\u001b[A"
     ]
    },
    {
     "name": "stdout",
     "output_type": "stream",
     "text": [
      "['抽象了一种基于中心的战术应用场景与业务,并将网络编码技术应用于此类场景的实时数据多播业务中。在分析基于中心网络与Many-to-all业务模式', '普适计算二维空间定位过程中,通过对三角形定位单元区域的误差分析,提出了定位单元布局的物理量——覆盖基定理', '基于时序逻辑/E进行语义解释,最后结合案例介绍了如何用AC2-ADL对SA进行描述。']\n",
      "['网络编码在实时战术数据多播中的应用', '普适计算中定位单元布局研究', '基于时序逻辑的面向方面体系结构描述语言']\n"
     ]
    },
    {
     "name": "stderr",
     "output_type": "stream",
     "text": [
      " 84%|████████▍ | 42/50 [01:07<00:12,  1.60s/it]\n",
      "[2022-05-28 18:58:59,327][model_v2.py][line:426][INFO] ********** Saving best result in step 1600 **********\n",
      "[2022-05-28 18:58:59,328][model_v2.py][line:426][INFO] ********** Evaluating Done **********\n"
     ]
    },
    {
     "name": "stdout",
     "output_type": "stream",
     "text": [
      "{'rouge-1': 0.45630407814840385, 'rouge-2': 0.33263270320894994, 'rouge-l': 0.4169944000580504, 'bleu': 17.873278258377443}\n",
      "********** Saving best result in step 1600 **********\n",
      "********** Evaluating Done **********\n"
     ]
    },
    {
     "name": "stderr",
     "output_type": "stream",
     "text": [
      " 32%|███▎      | 1625/5000 [3:05:46<6:45:02,  7.20s/it][2022-05-28 19:01:53,589][model_v2.py][line:426][INFO] global_steps 1625 - lr: 0.0000377260  loss: 2.10691333\n"
     ]
    },
    {
     "name": "stdout",
     "output_type": "stream",
     "text": [
      "global_steps 1625 - lr: 0.0000377260  loss: 2.10691333\n"
     ]
    },
    {
     "name": "stderr",
     "output_type": "stream",
     "text": [
      " 33%|███▎      | 1650/5000 [3:08:17<5:29:56,  5.91s/it][2022-05-28 19:04:24,414][model_v2.py][line:426][INFO] global_steps 1650 - lr: 0.0000373865  loss: 1.37546611\n"
     ]
    },
    {
     "name": "stdout",
     "output_type": "stream",
     "text": [
      "global_steps 1650 - lr: 0.0000373865  loss: 1.37546611\n"
     ]
    },
    {
     "name": "stderr",
     "output_type": "stream",
     "text": [
      " 34%|███▎      | 1675/5000 [3:10:59<5:38:38,  6.11s/it][2022-05-28 19:07:06,193][model_v2.py][line:426][INFO] global_steps 1675 - lr: 0.0000370438  loss: 1.93760681\n"
     ]
    },
    {
     "name": "stdout",
     "output_type": "stream",
     "text": [
      "global_steps 1675 - lr: 0.0000370438  loss: 1.93760681\n"
     ]
    },
    {
     "name": "stderr",
     "output_type": "stream",
     "text": [
      " 34%|███▍      | 1700/5000 [3:13:30<5:39:35,  6.17s/it][2022-05-28 19:09:36,973][model_v2.py][line:426][INFO] global_steps 1700 - lr: 0.0000366982  loss: 1.44851267\n",
      "[2022-05-28 19:09:36,974][model_v2.py][line:426][INFO] ********** Running evaluating **********\n",
      "[2022-05-28 19:09:36,975][model_v2.py][line:426][INFO] ********** Step 1700 **********\n"
     ]
    },
    {
     "name": "stdout",
     "output_type": "stream",
     "text": [
      "global_steps 1700 - lr: 0.0000366982  loss: 1.44851267\n",
      "********** Running evaluating **********\n",
      "********** Step 1700 **********\n"
     ]
    },
    {
     "name": "stderr",
     "output_type": "stream",
     "text": [
      "\n",
      "  0%|          | 0/50 [00:00<?, ?it/s]\u001b[A\n",
      "  2%|▏         | 1/50 [00:01<01:16,  1.57s/it]\u001b[A\n",
      "  4%|▍         | 2/50 [00:03<01:15,  1.58s/it]\u001b[A\n",
      "  6%|▌         | 3/50 [00:04<01:15,  1.61s/it]\u001b[A\n",
      "  8%|▊         | 4/50 [00:07<01:26,  1.88s/it]\u001b[A\n",
      " 10%|█         | 5/50 [00:08<01:22,  1.83s/it]\u001b[A\n",
      " 12%|█▏        | 6/50 [00:10<01:15,  1.71s/it]\u001b[A\n",
      " 14%|█▍        | 7/50 [00:12<01:13,  1.71s/it]\u001b[A\n",
      " 16%|█▌        | 8/50 [00:13<01:12,  1.72s/it]\u001b[A\n",
      " 18%|█▊        | 9/50 [00:15<01:06,  1.63s/it]\u001b[A\n",
      " 20%|██        | 10/50 [00:16<01:03,  1.60s/it]\u001b[A\n",
      " 22%|██▏       | 11/50 [00:18<01:01,  1.58s/it]\u001b[A\n",
      " 24%|██▍       | 12/50 [00:19<01:00,  1.59s/it]\u001b[A\n",
      " 26%|██▌       | 13/50 [00:21<00:57,  1.55s/it]\u001b[A\n",
      " 28%|██▊       | 14/50 [00:22<00:56,  1.56s/it]\u001b[A\n",
      " 30%|███       | 15/50 [00:24<00:57,  1.65s/it]\u001b[A\n",
      " 32%|███▏      | 16/50 [00:26<00:54,  1.59s/it]\u001b[A\n",
      " 34%|███▍      | 17/50 [00:27<00:51,  1.55s/it]\u001b[A\n",
      " 36%|███▌      | 18/50 [00:29<00:49,  1.54s/it]\u001b[A\n",
      " 38%|███▊      | 19/50 [00:30<00:46,  1.51s/it]\u001b[A\n",
      " 40%|████      | 20/50 [00:32<00:45,  1.51s/it]\u001b[A\n",
      " 42%|████▏     | 21/50 [00:33<00:44,  1.52s/it]\u001b[A\n",
      " 44%|████▍     | 22/50 [00:35<00:44,  1.58s/it]\u001b[A\n",
      " 46%|████▌     | 23/50 [00:36<00:41,  1.56s/it]\u001b[A\n",
      " 48%|████▊     | 24/50 [00:38<00:43,  1.67s/it]\u001b[A\n",
      " 50%|█████     | 25/50 [00:40<00:41,  1.68s/it]\u001b[A\n",
      " 52%|█████▏    | 26/50 [00:42<00:40,  1.67s/it]\u001b[A\n",
      " 54%|█████▍    | 27/50 [00:43<00:37,  1.63s/it]\u001b[A\n",
      " 56%|█████▌    | 28/50 [00:44<00:32,  1.47s/it]\u001b[A\n",
      " 58%|█████▊    | 29/50 [00:46<00:31,  1.51s/it]\u001b[A\n",
      " 60%|██████    | 30/50 [00:48<00:31,  1.59s/it]\u001b[A\n",
      " 62%|██████▏   | 31/50 [00:49<00:29,  1.53s/it]\u001b[A\n",
      " 64%|██████▍   | 32/50 [00:51<00:27,  1.53s/it]\u001b[A\n",
      " 66%|██████▌   | 33/50 [00:52<00:25,  1.52s/it]\u001b[A\n",
      " 68%|██████▊   | 34/50 [00:54<00:24,  1.53s/it]\u001b[A\n",
      " 70%|███████   | 35/50 [00:55<00:22,  1.51s/it]\u001b[A\n",
      " 72%|███████▏  | 36/50 [00:57<00:22,  1.59s/it]\u001b[A\n",
      " 74%|███████▍  | 37/50 [00:58<00:20,  1.58s/it]\u001b[A\n",
      " 76%|███████▌  | 38/50 [01:00<00:18,  1.55s/it]\u001b[A\n",
      " 78%|███████▊  | 39/50 [01:01<00:16,  1.53s/it]\u001b[A\n",
      " 80%|████████  | 40/50 [01:03<00:15,  1.50s/it]\u001b[A\n",
      " 82%|████████▏ | 41/50 [01:04<00:13,  1.50s/it]\u001b[A\n",
      " 84%|████████▍ | 42/50 [01:05<00:11,  1.38s/it]\u001b[A"
     ]
    },
    {
     "name": "stdout",
     "output_type": "stream",
     "text": [
      "['一种基于中心的战术应用场景与业务', '普适计算二维空间定位过程中,通过对三角形定位单元区域的误差分析,提出了定位单元布局(LUD)定理。在此基础上,对多个定位单元布局进行了研究,定义', '基于时序逻辑语言XYZ/E:一种面向方面体系结构描述的软件体系结构']\n",
      "['网络编码在实时战术数据多播中的应用', '普适计算中定位单元布局研究', '基于时序逻辑的面向方面体系结构描述语言']\n"
     ]
    },
    {
     "name": "stderr",
     "output_type": "stream",
     "text": [
      " 84%|████████▍ | 42/50 [01:06<00:12,  1.58s/it]\n",
      "[2022-05-28 19:10:49,778][model_v2.py][line:426][INFO] ********** Saving best result in step 1700 **********\n",
      "[2022-05-28 19:10:49,779][model_v2.py][line:426][INFO] ********** Evaluating Done **********\n"
     ]
    },
    {
     "name": "stdout",
     "output_type": "stream",
     "text": [
      "{'rouge-1': 0.46269990357388285, 'rouge-2': 0.3416014807775522, 'rouge-l': 0.4230857844683005, 'bleu': 19.622306339098397}\n",
      "********** Saving best result in step 1700 **********\n",
      "********** Evaluating Done **********\n"
     ]
    },
    {
     "name": "stderr",
     "output_type": "stream",
     "text": [
      " 34%|███▍      | 1725/5000 [3:17:15<5:05:45,  5.60s/it][2022-05-28 19:13:22,147][model_v2.py][line:426][INFO] global_steps 1725 - lr: 0.0000363498  loss: 1.61593556\n"
     ]
    },
    {
     "name": "stdout",
     "output_type": "stream",
     "text": [
      "global_steps 1725 - lr: 0.0000363498  loss: 1.61593556\n"
     ]
    },
    {
     "name": "stderr",
     "output_type": "stream",
     "text": [
      " 35%|███▌      | 1750/5000 [3:20:05<6:17:58,  6.98s/it][2022-05-28 19:16:12,053][model_v2.py][line:426][INFO] global_steps 1750 - lr: 0.0000359985  loss: 1.93271661\n"
     ]
    },
    {
     "name": "stdout",
     "output_type": "stream",
     "text": [
      "global_steps 1750 - lr: 0.0000359985  loss: 1.93271661\n"
     ]
    },
    {
     "name": "stderr",
     "output_type": "stream",
     "text": [
      " 36%|███▌      | 1775/5000 [3:22:58<7:25:16,  8.28s/it][2022-05-28 19:19:05,072][model_v2.py][line:426][INFO] global_steps 1775 - lr: 0.0000356445  loss: 1.27412319\n"
     ]
    },
    {
     "name": "stdout",
     "output_type": "stream",
     "text": [
      "global_steps 1775 - lr: 0.0000356445  loss: 1.27412319\n"
     ]
    },
    {
     "name": "stderr",
     "output_type": "stream",
     "text": [
      " 36%|███▌      | 1800/5000 [3:25:59<6:01:27,  6.78s/it][2022-05-28 19:22:06,709][model_v2.py][line:426][INFO] global_steps 1800 - lr: 0.0000352879  loss: 1.77072310\n",
      "[2022-05-28 19:22:06,710][model_v2.py][line:426][INFO] ********** Running evaluating **********\n",
      "[2022-05-28 19:22:06,713][model_v2.py][line:426][INFO] ********** Step 1800 **********\n"
     ]
    },
    {
     "name": "stdout",
     "output_type": "stream",
     "text": [
      "global_steps 1800 - lr: 0.0000352879  loss: 1.77072310\n",
      "********** Running evaluating **********\n",
      "********** Step 1800 **********\n"
     ]
    },
    {
     "name": "stderr",
     "output_type": "stream",
     "text": [
      "\n",
      "  0%|          | 0/50 [00:00<?, ?it/s]\u001b[A\n",
      "  2%|▏         | 1/50 [00:01<01:21,  1.66s/it]\u001b[A\n",
      "  4%|▍         | 2/50 [00:03<01:18,  1.64s/it]\u001b[A\n",
      "  6%|▌         | 3/50 [00:05<01:28,  1.89s/it]\u001b[A\n",
      "  8%|▊         | 4/50 [00:07<01:31,  1.99s/it]\u001b[A\n",
      " 10%|█         | 5/50 [00:09<01:27,  1.94s/it]\u001b[A\n",
      " 12%|█▏        | 6/50 [00:11<01:27,  1.99s/it]\u001b[A\n",
      " 14%|█▍        | 7/50 [00:13<01:18,  1.84s/it]\u001b[A\n",
      " 16%|█▌        | 8/50 [00:14<01:12,  1.74s/it]\u001b[A\n",
      " 18%|█▊        | 9/50 [00:16<01:08,  1.67s/it]\u001b[A\n",
      " 20%|██        | 10/50 [00:17<01:06,  1.67s/it]\u001b[A\n",
      " 22%|██▏       | 11/50 [00:19<01:04,  1.65s/it]\u001b[A\n",
      " 24%|██▍       | 12/50 [00:20<01:01,  1.63s/it]\u001b[A\n",
      " 26%|██▌       | 13/50 [00:22<01:01,  1.66s/it]\u001b[A\n",
      " 28%|██▊       | 14/50 [00:24<01:00,  1.68s/it]\u001b[A\n",
      " 30%|███       | 15/50 [00:26<00:58,  1.68s/it]\u001b[A\n",
      " 32%|███▏      | 16/50 [00:27<00:55,  1.63s/it]\u001b[A\n",
      " 34%|███▍      | 17/50 [00:29<00:52,  1.58s/it]\u001b[A\n",
      " 36%|███▌      | 18/50 [00:30<00:50,  1.56s/it]\u001b[A\n",
      " 38%|███▊      | 19/50 [00:32<00:48,  1.55s/it]\u001b[A\n",
      " 40%|████      | 20/50 [00:33<00:48,  1.62s/it]\u001b[A\n",
      " 42%|████▏     | 21/50 [00:35<00:47,  1.63s/it]\u001b[A\n",
      " 44%|████▍     | 22/50 [00:37<00:45,  1.62s/it]\u001b[A\n",
      " 46%|████▌     | 23/50 [00:38<00:44,  1.65s/it]\u001b[A\n",
      " 48%|████▊     | 24/50 [00:40<00:45,  1.75s/it]\u001b[A\n",
      " 50%|█████     | 25/50 [00:42<00:42,  1.70s/it]\u001b[A\n",
      " 52%|█████▏    | 26/50 [00:44<00:42,  1.78s/it]\u001b[A\n",
      " 54%|█████▍    | 27/50 [00:46<00:39,  1.72s/it]\u001b[A\n",
      " 56%|█████▌    | 28/50 [00:47<00:37,  1.69s/it]\u001b[A\n",
      " 58%|█████▊    | 29/50 [00:49<00:34,  1.65s/it]\u001b[A\n",
      " 60%|██████    | 30/50 [00:51<00:34,  1.71s/it]\u001b[A\n",
      " 62%|██████▏   | 31/50 [00:52<00:31,  1.64s/it]\u001b[A\n",
      " 64%|██████▍   | 32/50 [00:54<00:29,  1.65s/it]\u001b[A\n",
      " 66%|██████▌   | 33/50 [00:55<00:28,  1.67s/it]\u001b[A\n",
      " 68%|██████▊   | 34/50 [00:57<00:26,  1.66s/it]\u001b[A\n",
      " 70%|███████   | 35/50 [00:59<00:24,  1.64s/it]\u001b[A\n",
      " 72%|███████▏  | 36/50 [01:00<00:22,  1.64s/it]\u001b[A\n",
      " 74%|███████▍  | 37/50 [01:02<00:21,  1.65s/it]\u001b[A\n",
      " 76%|███████▌  | 38/50 [01:03<00:19,  1.62s/it]\u001b[A\n",
      " 78%|███████▊  | 39/50 [01:05<00:18,  1.64s/it]\u001b[A\n",
      " 80%|████████  | 40/50 [01:07<00:16,  1.66s/it]\u001b[A\n",
      " 82%|████████▏ | 41/50 [01:08<00:14,  1.61s/it]\u001b[A\n",
      " 84%|████████▍ | 42/50 [01:10<00:12,  1.52s/it]\u001b[A"
     ]
    },
    {
     "name": "stdout",
     "output_type": "stream",
     "text": [
      "['基于中心网络与Many-all业务模式特性的基础上,提出了仅在中心节点进行编码操作的实时数据多播业务模式特性的基础上,提出了仅在中心节点进行编码', '普适计算二维空间定位过程中,通过对三角形定位单元区域的误差分析,提出了定位单元布局(LUD)定理。在此基础上,对多个定位单元布局进行了研究,定义', '基于时序逻辑语言(SA)方案始终存在着一些横切行为和特征,它们混杂和散列在不同的SA设计单元中,使得SA难以理解、难以重用。针对']\n",
      "['网络编码在实时战术数据多播中的应用', '普适计算中定位单元布局研究', '基于时序逻辑的面向方面体系结构描述语言']\n"
     ]
    },
    {
     "name": "stderr",
     "output_type": "stream",
     "text": [
      " 84%|████████▍ | 42/50 [01:10<00:13,  1.69s/it]\n",
      "[2022-05-28 19:23:23,959][model_v2.py][line:426][INFO] ********** Saving best result in step 1800 **********\n",
      "[2022-05-28 19:23:23,961][model_v2.py][line:426][INFO] ********** Evaluating Done **********\n"
     ]
    },
    {
     "name": "stdout",
     "output_type": "stream",
     "text": [
      "{'rouge-1': 0.42883401134157106, 'rouge-2': 0.30638842876149347, 'rouge-l': 0.3882665263722121, 'bleu': 14.350088670729603}\n",
      "********** Saving best result in step 1800 **********\n",
      "********** Evaluating Done **********\n"
     ]
    },
    {
     "name": "stderr",
     "output_type": "stream",
     "text": [
      " 36%|███▋      | 1825/5000 [3:29:41<5:37:55,  6.39s/it][2022-05-28 19:25:48,232][model_v2.py][line:426][INFO] global_steps 1825 - lr: 0.0000349287  loss: 1.31518364\n"
     ]
    },
    {
     "name": "stdout",
     "output_type": "stream",
     "text": [
      "global_steps 1825 - lr: 0.0000349287  loss: 1.31518364\n"
     ]
    },
    {
     "name": "stderr",
     "output_type": "stream",
     "text": [
      " 37%|███▋      | 1850/5000 [3:32:38<6:28:19,  7.40s/it][2022-05-28 19:28:45,503][model_v2.py][line:426][INFO] global_steps 1850 - lr: 0.0000345671  loss: 1.55505359\n"
     ]
    },
    {
     "name": "stdout",
     "output_type": "stream",
     "text": [
      "global_steps 1850 - lr: 0.0000345671  loss: 1.55505359\n"
     ]
    },
    {
     "name": "stderr",
     "output_type": "stream",
     "text": [
      " 38%|███▊      | 1875/5000 [3:35:21<5:35:20,  6.44s/it][2022-05-28 19:31:27,996][model_v2.py][line:426][INFO] global_steps 1875 - lr: 0.0000342031  loss: 1.44789696\n"
     ]
    },
    {
     "name": "stdout",
     "output_type": "stream",
     "text": [
      "global_steps 1875 - lr: 0.0000342031  loss: 1.44789696\n"
     ]
    },
    {
     "name": "stderr",
     "output_type": "stream",
     "text": [
      " 38%|███▊      | 1900/5000 [3:38:13<5:44:36,  6.67s/it][2022-05-28 19:34:19,911][model_v2.py][line:426][INFO] global_steps 1900 - lr: 0.0000338369  loss: 1.24700665\n",
      "[2022-05-28 19:34:19,912][model_v2.py][line:426][INFO] ********** Running evaluating **********\n",
      "[2022-05-28 19:34:19,913][model_v2.py][line:426][INFO] ********** Step 1900 **********\n"
     ]
    },
    {
     "name": "stdout",
     "output_type": "stream",
     "text": [
      "global_steps 1900 - lr: 0.0000338369  loss: 1.24700665\n",
      "********** Running evaluating **********\n",
      "********** Step 1900 **********\n"
     ]
    },
    {
     "name": "stderr",
     "output_type": "stream",
     "text": [
      "\n",
      "  0%|          | 0/50 [00:00<?, ?it/s]\u001b[A\n",
      "  2%|▏         | 1/50 [00:01<01:23,  1.71s/it]\u001b[A\n",
      "  4%|▍         | 2/50 [00:03<01:15,  1.58s/it]\u001b[A\n",
      "  6%|▌         | 3/50 [00:04<01:14,  1.58s/it]\u001b[A\n",
      "  8%|▊         | 4/50 [00:06<01:17,  1.68s/it]\u001b[A\n",
      " 10%|█         | 5/50 [00:08<01:18,  1.74s/it]\u001b[A\n",
      " 12%|█▏        | 6/50 [00:10<01:17,  1.75s/it]\u001b[A\n",
      " 14%|█▍        | 7/50 [00:11<01:12,  1.69s/it]\u001b[A\n",
      " 16%|█▌        | 8/50 [00:13<01:08,  1.63s/it]\u001b[A\n",
      " 18%|█▊        | 9/50 [00:14<01:05,  1.60s/it]\u001b[A\n",
      " 20%|██        | 10/50 [00:16<01:02,  1.57s/it]\u001b[A\n",
      " 22%|██▏       | 11/50 [00:17<01:00,  1.55s/it]\u001b[A\n",
      " 24%|██▍       | 12/50 [00:19<00:58,  1.55s/it]\u001b[A\n",
      " 26%|██▌       | 13/50 [00:21<00:58,  1.59s/it]\u001b[A\n",
      " 28%|██▊       | 14/50 [00:22<00:57,  1.61s/it]\u001b[A\n",
      " 30%|███       | 15/50 [00:24<00:56,  1.62s/it]\u001b[A\n",
      " 32%|███▏      | 16/50 [00:25<00:53,  1.59s/it]\u001b[A\n",
      " 34%|███▍      | 17/50 [00:27<00:51,  1.57s/it]\u001b[A\n",
      " 36%|███▌      | 18/50 [00:29<00:51,  1.61s/it]\u001b[A\n",
      " 38%|███▊      | 19/50 [00:30<00:48,  1.58s/it]\u001b[A\n",
      " 40%|████      | 20/50 [00:32<00:49,  1.63s/it]\u001b[A\n",
      " 42%|████▏     | 21/50 [00:33<00:47,  1.62s/it]\u001b[A\n",
      " 44%|████▍     | 22/50 [00:35<00:44,  1.59s/it]\u001b[A\n",
      " 46%|████▌     | 23/50 [00:37<00:43,  1.61s/it]\u001b[A\n",
      " 48%|████▊     | 24/50 [00:38<00:41,  1.60s/it]\u001b[A\n",
      " 50%|█████     | 25/50 [00:40<00:40,  1.60s/it]\u001b[A\n",
      " 52%|█████▏    | 26/50 [00:42<00:38,  1.62s/it]\u001b[A\n",
      " 54%|█████▍    | 27/50 [00:43<00:38,  1.65s/it]\u001b[A\n",
      " 56%|█████▌    | 28/50 [00:45<00:36,  1.64s/it]\u001b[A\n",
      " 58%|█████▊    | 29/50 [00:46<00:33,  1.60s/it]\u001b[A\n",
      " 60%|██████    | 30/50 [00:48<00:33,  1.66s/it]\u001b[A\n",
      " 62%|██████▏   | 31/50 [00:50<00:30,  1.59s/it]\u001b[A\n",
      " 64%|██████▍   | 32/50 [00:51<00:28,  1.58s/it]\u001b[A\n",
      " 66%|██████▌   | 33/50 [00:53<00:26,  1.56s/it]\u001b[A\n",
      " 68%|██████▊   | 34/50 [00:54<00:26,  1.64s/it]\u001b[A\n",
      " 70%|███████   | 35/50 [00:56<00:23,  1.60s/it]\u001b[A\n",
      " 72%|███████▏  | 36/50 [00:58<00:22,  1.59s/it]\u001b[A\n",
      " 74%|███████▍  | 37/50 [00:59<00:20,  1.59s/it]\u001b[A\n",
      " 76%|███████▌  | 38/50 [01:01<00:20,  1.67s/it]\u001b[A\n",
      " 78%|███████▊  | 39/50 [01:03<00:18,  1.65s/it]\u001b[A\n",
      " 80%|████████  | 40/50 [01:04<00:16,  1.60s/it]\u001b[A\n",
      " 82%|████████▏ | 41/50 [01:06<00:14,  1.60s/it]\u001b[A\n",
      " 84%|████████▍ | 42/50 [01:07<00:11,  1.49s/it]\u001b[A"
     ]
    },
    {
     "name": "stdout",
     "output_type": "stream",
     "text": [
      "['一种基于中心网络与Many-all业务模式特性的基础上,提出了仅在中心节点进行编码操作的实时数据多播业务模式特性的基础上,提出了仅在中心节点进行', '普适计算二维空间定位中基于三角定位单元区域的误差分析和定位单元布局', '一种基于时序逻辑结构的软件体系结构描述方法']\n",
      "['网络编码在实时战术数据多播中的应用', '普适计算中定位单元布局研究', '基于时序逻辑的面向方面体系结构描述语言']\n"
     ]
    },
    {
     "name": "stderr",
     "output_type": "stream",
     "text": [
      " 84%|████████▍ | 42/50 [01:07<00:12,  1.62s/it]\n",
      "[2022-05-28 19:35:39,326][model_v2.py][line:426][INFO] ********** Saving best result in step 1900 **********\n",
      "[2022-05-28 19:35:39,327][model_v2.py][line:426][INFO] ********** Evaluating Done **********\n"
     ]
    },
    {
     "name": "stdout",
     "output_type": "stream",
     "text": [
      "{'rouge-1': 0.45330739132218695, 'rouge-2': 0.32880016527827033, 'rouge-l': 0.41260233186662343, 'bleu': 16.73800632070385}\n",
      "********** Saving best result in step 1900 **********\n",
      "********** Evaluating Done **********\n"
     ]
    },
    {
     "name": "stderr",
     "output_type": "stream",
     "text": [
      " 38%|███▊      | 1925/5000 [3:42:32<6:06:02,  7.14s/it][2022-05-28 19:38:39,155][model_v2.py][line:426][INFO] global_steps 1925 - lr: 0.0000334684  loss: 1.54697704\n"
     ]
    },
    {
     "name": "stdout",
     "output_type": "stream",
     "text": [
      "global_steps 1925 - lr: 0.0000334684  loss: 1.54697704\n"
     ]
    },
    {
     "name": "stderr",
     "output_type": "stream",
     "text": [
      " 39%|███▉      | 1950/5000 [3:45:24<5:40:53,  6.71s/it][2022-05-28 19:41:31,696][model_v2.py][line:426][INFO] global_steps 1950 - lr: 0.0000330979  loss: 1.44882178\n"
     ]
    },
    {
     "name": "stdout",
     "output_type": "stream",
     "text": [
      "global_steps 1950 - lr: 0.0000330979  loss: 1.44882178\n"
     ]
    },
    {
     "name": "stderr",
     "output_type": "stream",
     "text": [
      " 40%|███▉      | 1975/5000 [3:47:59<5:10:56,  6.17s/it][2022-05-28 19:44:05,947][model_v2.py][line:426][INFO] global_steps 1975 - lr: 0.0000327254  loss: 1.44154215\n"
     ]
    },
    {
     "name": "stdout",
     "output_type": "stream",
     "text": [
      "global_steps 1975 - lr: 0.0000327254  loss: 1.44154215\n"
     ]
    },
    {
     "name": "stderr",
     "output_type": "stream",
     "text": [
      " 40%|████      | 2000/5000 [3:51:03<5:24:55,  6.50s/it][2022-05-28 19:47:10,045][model_v2.py][line:426][INFO] global_steps 2000 - lr: 0.0000323510  loss: 1.45325172\n",
      "[2022-05-28 19:47:10,046][model_v2.py][line:426][INFO] ********** Running evaluating **********\n",
      "[2022-05-28 19:47:10,047][model_v2.py][line:426][INFO] ********** Step 2000 **********\n"
     ]
    },
    {
     "name": "stdout",
     "output_type": "stream",
     "text": [
      "global_steps 2000 - lr: 0.0000323510  loss: 1.45325172\n",
      "********** Running evaluating **********\n",
      "********** Step 2000 **********\n"
     ]
    },
    {
     "name": "stderr",
     "output_type": "stream",
     "text": [
      "\n",
      "  0%|          | 0/50 [00:00<?, ?it/s]\u001b[A\n",
      "  2%|▏         | 1/50 [00:02<02:00,  2.47s/it]\u001b[A\n",
      "  4%|▍         | 2/50 [00:04<01:36,  2.01s/it]\u001b[A\n",
      "  6%|▌         | 3/50 [00:05<01:29,  1.90s/it]\u001b[A\n",
      "  8%|▊         | 4/50 [00:07<01:21,  1.78s/it]\u001b[A\n",
      " 10%|█         | 5/50 [00:09<01:21,  1.80s/it]\u001b[A\n",
      " 12%|█▏        | 6/50 [00:11<01:17,  1.76s/it]\u001b[A\n",
      " 14%|█▍        | 7/50 [00:12<01:12,  1.68s/it]\u001b[A\n",
      " 16%|█▌        | 8/50 [00:14<01:10,  1.68s/it]\u001b[A\n",
      " 18%|█▊        | 9/50 [00:15<01:06,  1.62s/it]\u001b[A\n",
      " 20%|██        | 10/50 [00:17<01:04,  1.60s/it]\u001b[A\n",
      " 22%|██▏       | 11/50 [00:18<01:01,  1.58s/it]\u001b[A\n",
      " 24%|██▍       | 12/50 [00:20<01:04,  1.69s/it]\u001b[A\n",
      " 26%|██▌       | 13/50 [00:22<01:02,  1.69s/it]\u001b[A\n",
      " 28%|██▊       | 14/50 [00:24<01:01,  1.71s/it]\u001b[A\n",
      " 30%|███       | 15/50 [00:25<01:00,  1.73s/it]\u001b[A\n",
      " 32%|███▏      | 16/50 [00:27<00:56,  1.65s/it]\u001b[A\n",
      " 34%|███▍      | 17/50 [00:28<00:52,  1.59s/it]\u001b[A\n",
      " 36%|███▌      | 18/50 [00:30<00:50,  1.57s/it]\u001b[A\n",
      " 38%|███▊      | 19/50 [00:31<00:48,  1.56s/it]\u001b[A\n",
      " 40%|████      | 20/50 [00:33<00:46,  1.55s/it]\u001b[A\n",
      " 42%|████▏     | 21/50 [00:35<00:45,  1.56s/it]\u001b[A\n",
      " 44%|████▍     | 22/50 [00:36<00:45,  1.62s/it]\u001b[A\n",
      " 46%|████▌     | 23/50 [00:38<00:44,  1.64s/it]\u001b[A\n",
      " 48%|████▊     | 24/50 [00:40<00:41,  1.61s/it]\u001b[A\n",
      " 50%|█████     | 25/50 [00:41<00:40,  1.61s/it]\u001b[A\n",
      " 52%|█████▏    | 26/50 [00:43<00:39,  1.63s/it]\u001b[A\n",
      " 54%|█████▍    | 27/50 [00:44<00:37,  1.63s/it]\u001b[A\n",
      " 56%|█████▌    | 28/50 [00:46<00:36,  1.64s/it]\u001b[A\n",
      " 58%|█████▊    | 29/50 [00:48<00:33,  1.61s/it]\u001b[A\n",
      " 60%|██████    | 30/50 [00:50<00:33,  1.69s/it]\u001b[A\n",
      " 62%|██████▏   | 31/50 [00:51<00:30,  1.62s/it]\u001b[A\n",
      " 64%|██████▍   | 32/50 [00:53<00:29,  1.66s/it]\u001b[A\n",
      " 66%|██████▌   | 33/50 [00:54<00:28,  1.67s/it]\u001b[A\n",
      " 68%|██████▊   | 34/50 [00:56<00:26,  1.66s/it]\u001b[A\n",
      " 70%|███████   | 35/50 [00:58<00:24,  1.66s/it]\u001b[A\n",
      " 72%|███████▏  | 36/50 [00:59<00:22,  1.63s/it]\u001b[A\n",
      " 74%|███████▍  | 37/50 [01:01<00:21,  1.63s/it]\u001b[A\n",
      " 76%|███████▌  | 38/50 [01:03<00:19,  1.60s/it]\u001b[A\n",
      " 78%|███████▊  | 39/50 [01:04<00:17,  1.61s/it]\u001b[A\n",
      " 80%|████████  | 40/50 [01:06<00:15,  1.57s/it]\u001b[A\n",
      " 82%|████████▏ | 41/50 [01:07<00:13,  1.55s/it]\u001b[A\n",
      " 84%|████████▍ | 42/50 [01:09<00:12,  1.55s/it]\u001b[A"
     ]
    },
    {
     "name": "stdout",
     "output_type": "stream",
     "text": [
      "['基于中心网络与业务,并将网络编码技术应用于此类场景的实时数据多播业务中。在分析基于中心网络与Many-to-all业务模式特性的基础上,提出了', '普适计算二维空间定位过程中,通过对三角形定位单元区域的误差分析,提出了定位单元布局(LUD)定理。在此基础上,对多个定位单元布局进行了研究,定义', '基于时序逻辑语言XYZ/E的语义解释']\n",
      "['网络编码在实时战术数据多播中的应用', '普适计算中定位单元布局研究', '基于时序逻辑的面向方面体系结构描述语言']\n"
     ]
    },
    {
     "name": "stderr",
     "output_type": "stream",
     "text": [
      " 84%|████████▍ | 42/50 [01:09<00:13,  1.66s/it]\n",
      "[2022-05-28 19:48:27,461][model_v2.py][line:426][INFO] ********** Saving best result in step 2000 **********\n",
      "[2022-05-28 19:48:27,462][model_v2.py][line:426][INFO] ********** Evaluating Done **********\n"
     ]
    },
    {
     "name": "stdout",
     "output_type": "stream",
     "text": [
      "{'rouge-1': 0.44148950537818654, 'rouge-2': 0.31833545714820666, 'rouge-l': 0.4021870147251121, 'bleu': 15.209425922589784}\n",
      "********** Saving best result in step 2000 **********\n",
      "********** Evaluating Done **********\n"
     ]
    },
    {
     "name": "stderr",
     "output_type": "stream",
     "text": [
      " 40%|████      | 2025/5000 [3:54:56<5:37:37,  6.81s/it][2022-05-28 19:51:03,354][model_v2.py][line:426][INFO] global_steps 2025 - lr: 0.0000319748  loss: 1.38581192\n"
     ]
    },
    {
     "name": "stdout",
     "output_type": "stream",
     "text": [
      "global_steps 2025 - lr: 0.0000319748  loss: 1.38581192\n"
     ]
    },
    {
     "name": "stderr",
     "output_type": "stream",
     "text": [
      " 41%|████      | 2050/5000 [3:57:48<5:11:53,  6.34s/it][2022-05-28 19:53:55,108][model_v2.py][line:426][INFO] global_steps 2050 - lr: 0.0000315968  loss: 1.27591538\n"
     ]
    },
    {
     "name": "stdout",
     "output_type": "stream",
     "text": [
      "global_steps 2050 - lr: 0.0000315968  loss: 1.27591538\n"
     ]
    },
    {
     "name": "stderr",
     "output_type": "stream",
     "text": [
      " 42%|████▏     | 2075/5000 [4:00:41<5:19:40,  6.56s/it][2022-05-28 19:56:47,842][model_v2.py][line:426][INFO] global_steps 2075 - lr: 0.0000312172  loss: 1.12095308\n"
     ]
    },
    {
     "name": "stdout",
     "output_type": "stream",
     "text": [
      "global_steps 2075 - lr: 0.0000312172  loss: 1.12095308\n"
     ]
    },
    {
     "name": "stderr",
     "output_type": "stream",
     "text": [
      " 42%|████▏     | 2100/5000 [4:03:33<5:36:50,  6.97s/it][2022-05-28 19:59:40,129][model_v2.py][line:426][INFO] global_steps 2100 - lr: 0.0000308361  loss: 1.23081183\n",
      "[2022-05-28 19:59:40,130][model_v2.py][line:426][INFO] ********** Running evaluating **********\n",
      "[2022-05-28 19:59:40,131][model_v2.py][line:426][INFO] ********** Step 2100 **********\n"
     ]
    },
    {
     "name": "stdout",
     "output_type": "stream",
     "text": [
      "global_steps 2100 - lr: 0.0000308361  loss: 1.23081183\n",
      "********** Running evaluating **********\n",
      "********** Step 2100 **********\n"
     ]
    },
    {
     "name": "stderr",
     "output_type": "stream",
     "text": [
      "\n",
      "  0%|          | 0/50 [00:00<?, ?it/s]\u001b[A\n",
      "  2%|▏         | 1/50 [00:01<01:26,  1.77s/it]\u001b[A\n",
      "  4%|▍         | 2/50 [00:03<01:19,  1.66s/it]\u001b[A\n",
      "  6%|▌         | 3/50 [00:05<01:29,  1.90s/it]\u001b[A\n",
      "  8%|▊         | 4/50 [00:07<01:21,  1.77s/it]\u001b[A\n",
      " 10%|█         | 5/50 [00:09<01:21,  1.82s/it]\u001b[A\n",
      " 12%|█▏        | 6/50 [00:10<01:19,  1.80s/it]\u001b[A\n",
      " 14%|█▍        | 7/50 [00:12<01:17,  1.81s/it]\u001b[A\n",
      " 16%|█▌        | 8/50 [00:14<01:11,  1.71s/it]\u001b[A\n",
      " 18%|█▊        | 9/50 [00:15<01:07,  1.65s/it]\u001b[A\n",
      " 20%|██        | 10/50 [00:17<01:05,  1.63s/it]\u001b[A\n",
      " 22%|██▏       | 11/50 [00:18<01:02,  1.60s/it]\u001b[A\n",
      " 24%|██▍       | 12/50 [00:20<01:01,  1.61s/it]\u001b[A\n",
      " 26%|██▌       | 13/50 [00:21<00:59,  1.59s/it]\u001b[A\n",
      " 28%|██▊       | 14/50 [00:23<01:01,  1.70s/it]\u001b[A\n",
      " 30%|███       | 15/50 [00:25<00:59,  1.69s/it]\u001b[A\n",
      " 32%|███▏      | 16/50 [00:27<00:56,  1.65s/it]\u001b[A\n",
      " 34%|███▍      | 17/50 [00:28<00:52,  1.59s/it]\u001b[A\n",
      " 36%|███▌      | 18/50 [00:30<00:50,  1.59s/it]\u001b[A\n",
      " 38%|███▊      | 19/50 [00:32<00:51,  1.67s/it]\u001b[A\n",
      " 40%|████      | 20/50 [00:33<00:49,  1.66s/it]\u001b[A\n",
      " 42%|████▏     | 21/50 [00:35<00:48,  1.69s/it]\u001b[A\n",
      " 44%|████▍     | 22/50 [00:37<00:47,  1.68s/it]\u001b[A\n",
      " 46%|████▌     | 23/50 [00:38<00:44,  1.66s/it]\u001b[A\n",
      " 48%|████▊     | 24/50 [00:40<00:42,  1.64s/it]\u001b[A\n",
      " 50%|█████     | 25/50 [00:41<00:41,  1.64s/it]\u001b[A\n",
      " 52%|█████▏    | 26/50 [00:43<00:40,  1.67s/it]\u001b[A\n",
      " 54%|█████▍    | 27/50 [00:45<00:39,  1.72s/it]\u001b[A\n",
      " 56%|█████▌    | 28/50 [00:47<00:36,  1.68s/it]\u001b[A\n",
      " 58%|█████▊    | 29/50 [00:48<00:34,  1.63s/it]\u001b[A\n",
      " 60%|██████    | 30/50 [00:50<00:33,  1.70s/it]\u001b[A\n",
      " 62%|██████▏   | 31/50 [00:51<00:31,  1.64s/it]\u001b[A\n",
      " 64%|██████▍   | 32/50 [00:53<00:29,  1.63s/it]\u001b[A\n",
      " 66%|██████▌   | 33/50 [00:55<00:27,  1.61s/it]\u001b[A\n",
      " 68%|██████▊   | 34/50 [00:56<00:26,  1.67s/it]\u001b[A\n",
      " 70%|███████   | 35/50 [00:58<00:24,  1.63s/it]\u001b[A\n",
      " 72%|███████▏  | 36/50 [01:00<00:22,  1.61s/it]\u001b[A\n",
      " 74%|███████▍  | 37/50 [01:01<00:21,  1.63s/it]\u001b[A\n",
      " 76%|███████▌  | 38/50 [01:03<00:19,  1.61s/it]\u001b[A\n",
      " 78%|███████▊  | 39/50 [01:05<00:19,  1.74s/it]\u001b[A\n",
      " 80%|████████  | 40/50 [01:06<00:16,  1.65s/it]\u001b[A\n",
      " 82%|████████▏ | 41/50 [01:08<00:15,  1.71s/it]\u001b[A\n",
      " 84%|████████▍ | 42/50 [01:09<00:12,  1.56s/it]\u001b[A"
     ]
    },
    {
     "name": "stdout",
     "output_type": "stream",
     "text": [
      "['一种基于中心网络的战术应用场景与业务,并将网络编码技术应用于此类场景的实时数据多播业务中。在分析基于中心网络与Many-to-all业务模式特', '普适计算二维空间定位过程中,通过对三角形定位单元区域的误差分析,提出了定位单元布局(LUD)定理。在此基础上,对多个定位单元布局进行了研究,定义', '基于时序逻辑语言描述的软件体系结构']\n",
      "['网络编码在实时战术数据多播中的应用', '普适计算中定位单元布局研究', '基于时序逻辑的面向方面体系结构描述语言']\n"
     ]
    },
    {
     "name": "stderr",
     "output_type": "stream",
     "text": [
      " 84%|████████▍ | 42/50 [01:10<00:13,  1.68s/it]\n",
      "[2022-05-28 20:00:57,357][model_v2.py][line:426][INFO] ********** Saving best result in step 2100 **********\n",
      "[2022-05-28 20:00:57,358][model_v2.py][line:426][INFO] ********** Evaluating Done **********\n"
     ]
    },
    {
     "name": "stdout",
     "output_type": "stream",
     "text": [
      "{'rouge-1': 0.4433657325670965, 'rouge-2': 0.3201622615867273, 'rouge-l': 0.40096548947090666, 'bleu': 15.53763672590114}\n",
      "********** Saving best result in step 2100 **********\n",
      "********** Evaluating Done **********\n"
     ]
    },
    {
     "name": "stderr",
     "output_type": "stream",
     "text": [
      " 42%|████▎     | 2125/5000 [4:07:54<6:22:20,  7.98s/it][2022-05-28 20:04:01,030][model_v2.py][line:426][INFO] global_steps 2125 - lr: 0.0000304536  loss: 1.54194522\n"
     ]
    },
    {
     "name": "stdout",
     "output_type": "stream",
     "text": [
      "global_steps 2125 - lr: 0.0000304536  loss: 1.54194522\n"
     ]
    },
    {
     "name": "stderr",
     "output_type": "stream",
     "text": [
      " 43%|████▎     | 2150/5000 [4:10:50<5:13:55,  6.61s/it][2022-05-28 20:06:56,840][model_v2.py][line:426][INFO] global_steps 2150 - lr: 0.0000300697  loss: 1.18928182\n"
     ]
    },
    {
     "name": "stdout",
     "output_type": "stream",
     "text": [
      "global_steps 2150 - lr: 0.0000300697  loss: 1.18928182\n"
     ]
    },
    {
     "name": "stderr",
     "output_type": "stream",
     "text": [
      " 44%|████▎     | 2175/5000 [4:13:34<4:50:46,  6.18s/it][2022-05-28 20:09:41,727][model_v2.py][line:426][INFO] global_steps 2175 - lr: 0.0000296845  loss: 1.37274861\n"
     ]
    },
    {
     "name": "stdout",
     "output_type": "stream",
     "text": [
      "global_steps 2175 - lr: 0.0000296845  loss: 1.37274861\n"
     ]
    },
    {
     "name": "stderr",
     "output_type": "stream",
     "text": [
      " 44%|████▍     | 2200/5000 [4:16:20<4:39:39,  5.99s/it][2022-05-28 20:12:26,965][model_v2.py][line:426][INFO] global_steps 2200 - lr: 0.0000292982  loss: 0.99440479\n",
      "[2022-05-28 20:12:26,977][model_v2.py][line:426][INFO] ********** Running evaluating **********\n",
      "[2022-05-28 20:12:26,983][model_v2.py][line:426][INFO] ********** Step 2200 **********\n"
     ]
    },
    {
     "name": "stdout",
     "output_type": "stream",
     "text": [
      "global_steps 2200 - lr: 0.0000292982  loss: 0.99440479\n",
      "********** Running evaluating **********\n",
      "********** Step 2200 **********\n"
     ]
    },
    {
     "name": "stderr",
     "output_type": "stream",
     "text": [
      "\n",
      "  0%|          | 0/50 [00:00<?, ?it/s]\u001b[A\n",
      "  2%|▏         | 1/50 [00:01<01:19,  1.63s/it]\u001b[A\n",
      "  4%|▍         | 2/50 [00:03<01:17,  1.62s/it]\u001b[A\n",
      "  6%|▌         | 3/50 [00:05<01:31,  1.94s/it]\u001b[A\n",
      "  8%|▊         | 4/50 [00:07<01:22,  1.80s/it]\u001b[A\n",
      " 10%|█         | 5/50 [00:09<01:23,  1.85s/it]\u001b[A\n",
      " 12%|█▏        | 6/50 [00:10<01:18,  1.78s/it]\u001b[A\n",
      " 14%|█▍        | 7/50 [00:12<01:15,  1.75s/it]\u001b[A\n",
      " 16%|█▌        | 8/50 [00:13<01:10,  1.69s/it]\u001b[A\n",
      " 18%|█▊        | 9/50 [00:15<01:08,  1.68s/it]\u001b[A\n",
      " 20%|██        | 10/50 [00:17<01:06,  1.67s/it]\u001b[A\n",
      " 22%|██▏       | 11/50 [00:18<01:03,  1.63s/it]\u001b[A\n",
      " 24%|██▍       | 12/50 [00:20<01:01,  1.62s/it]\u001b[A\n",
      " 26%|██▌       | 13/50 [00:22<00:59,  1.61s/it]\u001b[A\n",
      " 28%|██▊       | 14/50 [00:24<01:03,  1.76s/it]\u001b[A\n",
      " 30%|███       | 15/50 [00:25<01:00,  1.74s/it]\u001b[A\n",
      " 32%|███▏      | 16/50 [00:27<00:58,  1.72s/it]\u001b[A\n",
      " 34%|███▍      | 17/50 [00:28<00:54,  1.65s/it]\u001b[A\n",
      " 36%|███▌      | 18/50 [00:30<00:51,  1.62s/it]\u001b[A\n",
      " 38%|███▊      | 19/50 [00:32<00:49,  1.60s/it]\u001b[A\n",
      " 40%|████      | 20/50 [00:33<00:48,  1.62s/it]\u001b[A\n",
      " 42%|████▏     | 21/50 [00:35<00:48,  1.66s/it]\u001b[A\n",
      " 44%|████▍     | 22/50 [00:37<00:46,  1.65s/it]\u001b[A\n",
      " 46%|████▌     | 23/50 [00:38<00:45,  1.69s/it]\u001b[A\n",
      " 48%|████▊     | 24/50 [00:40<00:43,  1.68s/it]\u001b[A\n",
      " 50%|█████     | 25/50 [00:42<00:41,  1.67s/it]\u001b[A\n",
      " 52%|█████▏    | 26/50 [00:43<00:40,  1.69s/it]\u001b[A\n",
      " 54%|█████▍    | 27/50 [00:45<00:38,  1.65s/it]\u001b[A\n",
      " 56%|█████▌    | 28/50 [00:47<00:35,  1.63s/it]\u001b[A\n",
      " 58%|█████▊    | 29/50 [00:48<00:35,  1.67s/it]\u001b[A\n",
      " 60%|██████    | 30/50 [00:50<00:34,  1.72s/it]\u001b[A\n",
      " 62%|██████▏   | 31/50 [00:52<00:31,  1.65s/it]\u001b[A\n",
      " 64%|██████▍   | 32/50 [00:53<00:29,  1.64s/it]\u001b[A\n",
      " 66%|██████▌   | 33/50 [00:55<00:27,  1.62s/it]\u001b[A\n",
      " 68%|██████▊   | 34/50 [00:57<00:27,  1.71s/it]\u001b[A\n",
      " 70%|███████   | 35/50 [00:58<00:24,  1.65s/it]\u001b[A\n",
      " 72%|███████▏  | 36/50 [01:00<00:23,  1.67s/it]\u001b[A\n",
      " 74%|███████▍  | 37/50 [01:02<00:21,  1.66s/it]\u001b[A\n",
      " 76%|███████▌  | 38/50 [01:03<00:19,  1.64s/it]\u001b[A\n",
      " 78%|███████▊  | 39/50 [01:05<00:18,  1.65s/it]\u001b[A\n",
      " 80%|████████  | 40/50 [01:06<00:16,  1.60s/it]\u001b[A\n",
      " 82%|████████▏ | 41/50 [01:08<00:14,  1.59s/it]\u001b[A\n",
      " 84%|████████▍ | 42/50 [01:09<00:11,  1.47s/it]\u001b[A"
     ]
    },
    {
     "name": "stdout",
     "output_type": "stream",
     "text": [
      "['一种基于中心网络的战术应用场景与业务,并将网络编码技术应用于此类场景的实时数据多播业务中。在分析基于中心网络与Many-to-all业务模式特', '普适计算二维空间定位过程中,通过对三角形定位单元区域的误差分析,提出了定位单元布局(LUD)定理。在普适计算二维空间定位过程中,通过对', '运用传统体系结构描述语言描述的软件体系结构']\n",
      "['网络编码在实时战术数据多播中的应用', '普适计算中定位单元布局研究', '基于时序逻辑的面向方面体系结构描述语言']\n"
     ]
    },
    {
     "name": "stderr",
     "output_type": "stream",
     "text": [
      " 84%|████████▍ | 42/50 [01:10<00:13,  1.68s/it]\n",
      "[2022-05-28 20:13:44,273][model_v2.py][line:426][INFO] ********** Saving best result in step 2200 **********\n",
      "[2022-05-28 20:13:44,276][model_v2.py][line:426][INFO] ********** Evaluating Done **********\n"
     ]
    },
    {
     "name": "stdout",
     "output_type": "stream",
     "text": [
      "{'rouge-1': 0.43646562531984656, 'rouge-2': 0.3149146831000328, 'rouge-l': 0.3912289795979022, 'bleu': 14.962437183873417}\n",
      "********** Saving best result in step 2200 **********\n",
      "********** Evaluating Done **********\n"
     ]
    },
    {
     "name": "stderr",
     "output_type": "stream",
     "text": [
      " 44%|████▍     | 2225/5000 [4:20:11<5:39:56,  7.35s/it][2022-05-28 20:16:18,639][model_v2.py][line:426][INFO] global_steps 2225 - lr: 0.0000289109  loss: 1.58299124\n"
     ]
    },
    {
     "name": "stdout",
     "output_type": "stream",
     "text": [
      "global_steps 2225 - lr: 0.0000289109  loss: 1.58299124\n"
     ]
    },
    {
     "name": "stderr",
     "output_type": "stream",
     "text": [
      " 45%|████▌     | 2250/5000 [4:23:01<5:50:08,  7.64s/it][2022-05-28 20:19:08,313][model_v2.py][line:426][INFO] global_steps 2250 - lr: 0.0000285225  loss: 1.20288706\n"
     ]
    },
    {
     "name": "stdout",
     "output_type": "stream",
     "text": [
      "global_steps 2250 - lr: 0.0000285225  loss: 1.20288706\n"
     ]
    },
    {
     "name": "stderr",
     "output_type": "stream",
     "text": [
      " 46%|████▌     | 2275/5000 [4:26:10<5:02:10,  6.65s/it][2022-05-28 20:22:17,639][model_v2.py][line:426][INFO] global_steps 2275 - lr: 0.0000281333  loss: 1.12785172\n"
     ]
    },
    {
     "name": "stdout",
     "output_type": "stream",
     "text": [
      "global_steps 2275 - lr: 0.0000281333  loss: 1.12785172\n"
     ]
    },
    {
     "name": "stderr",
     "output_type": "stream",
     "text": [
      " 46%|████▌     | 2300/5000 [4:29:09<5:21:26,  7.14s/it][2022-05-28 20:25:16,219][model_v2.py][line:426][INFO] global_steps 2300 - lr: 0.0000277434  loss: 1.53759289\n",
      "[2022-05-28 20:25:16,220][model_v2.py][line:426][INFO] ********** Running evaluating **********\n",
      "[2022-05-28 20:25:16,223][model_v2.py][line:426][INFO] ********** Step 2300 **********\n"
     ]
    },
    {
     "name": "stdout",
     "output_type": "stream",
     "text": [
      "global_steps 2300 - lr: 0.0000277434  loss: 1.53759289\n",
      "********** Running evaluating **********\n",
      "********** Step 2300 **********\n"
     ]
    },
    {
     "name": "stderr",
     "output_type": "stream",
     "text": [
      "\n",
      "  0%|          | 0/50 [00:00<?, ?it/s]\u001b[A\n",
      "  2%|▏         | 1/50 [00:01<01:22,  1.69s/it]\u001b[A\n",
      "  4%|▍         | 2/50 [00:03<01:19,  1.65s/it]\u001b[A\n",
      "  6%|▌         | 3/50 [00:05<01:25,  1.81s/it]\u001b[A\n",
      "  8%|▊         | 4/50 [00:07<01:22,  1.79s/it]\u001b[A\n",
      " 10%|█         | 5/50 [00:08<01:22,  1.84s/it]\u001b[A\n",
      " 12%|█▏        | 6/50 [00:10<01:20,  1.82s/it]\u001b[A\n",
      " 14%|█▍        | 7/50 [00:12<01:20,  1.87s/it]\u001b[A\n",
      " 16%|█▌        | 8/50 [00:14<01:15,  1.79s/it]\u001b[A\n",
      " 18%|█▊        | 9/50 [00:15<01:09,  1.69s/it]\u001b[A\n",
      " 20%|██        | 10/50 [00:17<01:09,  1.73s/it]\u001b[A\n",
      " 22%|██▏       | 11/50 [00:19<01:05,  1.67s/it]\u001b[A\n",
      " 24%|██▍       | 12/50 [00:20<01:02,  1.66s/it]\u001b[A\n",
      " 26%|██▌       | 13/50 [00:22<01:00,  1.63s/it]\u001b[A\n",
      " 28%|██▊       | 14/50 [00:24<00:59,  1.65s/it]\u001b[A\n",
      " 30%|███       | 15/50 [00:25<00:58,  1.67s/it]\u001b[A\n",
      " 32%|███▏      | 16/50 [00:27<00:56,  1.65s/it]\u001b[A\n",
      " 34%|███▍      | 17/50 [00:28<00:53,  1.61s/it]\u001b[A\n",
      " 36%|███▌      | 18/50 [00:30<00:50,  1.59s/it]\u001b[A\n",
      " 38%|███▊      | 19/50 [00:32<00:48,  1.57s/it]\u001b[A\n",
      " 40%|████      | 20/50 [00:33<00:47,  1.57s/it]\u001b[A\n",
      " 42%|████▏     | 21/50 [00:35<00:45,  1.58s/it]\u001b[A\n",
      " 44%|████▍     | 22/50 [00:36<00:44,  1.59s/it]\u001b[A\n",
      " 46%|████▌     | 23/50 [00:38<00:45,  1.67s/it]\u001b[A\n",
      " 48%|████▊     | 24/50 [00:40<00:42,  1.63s/it]\u001b[A\n",
      " 50%|█████     | 25/50 [00:41<00:40,  1.62s/it]\u001b[A\n",
      " 52%|█████▏    | 26/50 [00:43<00:40,  1.68s/it]\u001b[A\n",
      " 54%|█████▍    | 27/50 [00:45<00:38,  1.65s/it]\u001b[A\n",
      " 56%|█████▌    | 28/50 [00:47<00:38,  1.75s/it]\u001b[A\n",
      " 58%|█████▊    | 29/50 [00:48<00:35,  1.69s/it]\u001b[A\n",
      " 60%|██████    | 30/50 [00:50<00:35,  1.77s/it]\u001b[A\n",
      " 62%|██████▏   | 31/50 [00:52<00:32,  1.70s/it]\u001b[A\n",
      " 64%|██████▍   | 32/50 [00:53<00:30,  1.68s/it]\u001b[A\n",
      " 66%|██████▌   | 33/50 [00:55<00:28,  1.65s/it]\u001b[A\n",
      " 68%|██████▊   | 34/50 [00:57<00:26,  1.65s/it]\u001b[A\n",
      " 70%|███████   | 35/50 [00:58<00:24,  1.61s/it]\u001b[A\n",
      " 72%|███████▏  | 36/50 [01:00<00:22,  1.60s/it]\u001b[A\n",
      " 74%|███████▍  | 37/50 [01:01<00:21,  1.65s/it]\u001b[A\n",
      " 76%|███████▌  | 38/50 [01:03<00:19,  1.64s/it]\u001b[A\n",
      " 78%|███████▊  | 39/50 [01:05<00:17,  1.63s/it]\u001b[A\n",
      " 80%|████████  | 40/50 [01:06<00:15,  1.58s/it]\u001b[A\n",
      " 82%|████████▏ | 41/50 [01:08<00:14,  1.58s/it]\u001b[A\n",
      " 84%|████████▍ | 42/50 [01:09<00:11,  1.46s/it]\u001b[A"
     ]
    },
    {
     "name": "stdout",
     "output_type": "stream",
     "text": [
      "['一种基于中心网络的实时数据多播业务中。在分析基于中心网络与Many-to-all业务模式特性的基础上,提出了仅在中心节点进行编码操作的传输', '普适计算二维空间定位过程中,通过对三角形定位单元区域的误差分析,提出了定位单元布局(LUD)定理。在此基础上,对多个定位单元布局进行了研究,定义', '运用传统体系结构描述语言描述的软件体系结构']\n",
      "['网络编码在实时战术数据多播中的应用', '普适计算中定位单元布局研究', '基于时序逻辑的面向方面体系结构描述语言']\n"
     ]
    },
    {
     "name": "stderr",
     "output_type": "stream",
     "text": [
      " 84%|████████▍ | 42/50 [01:09<00:13,  1.67s/it]\n",
      "[2022-05-28 20:26:32,792][model_v2.py][line:426][INFO] ********** Saving best result in step 2300 **********\n",
      "[2022-05-28 20:26:32,794][model_v2.py][line:426][INFO] ********** Evaluating Done **********\n"
     ]
    },
    {
     "name": "stdout",
     "output_type": "stream",
     "text": [
      "{'rouge-1': 0.440405338207086, 'rouge-2': 0.31701570337106816, 'rouge-l': 0.39531740109382846, 'bleu': 15.32932876402467}\n",
      "********** Saving best result in step 2300 **********\n",
      "********** Evaluating Done **********\n"
     ]
    },
    {
     "name": "stderr",
     "output_type": "stream",
     "text": [
      " 46%|████▋     | 2325/5000 [4:33:16<6:24:18,  8.62s/it][2022-05-28 20:29:23,701][model_v2.py][line:426][INFO] global_steps 2325 - lr: 0.0000273527  loss: 1.13555932\n"
     ]
    },
    {
     "name": "stdout",
     "output_type": "stream",
     "text": [
      "global_steps 2325 - lr: 0.0000273527  loss: 1.13555932\n"
     ]
    },
    {
     "name": "stderr",
     "output_type": "stream",
     "text": [
      " 47%|████▋     | 2350/5000 [4:36:10<5:27:03,  7.41s/it][2022-05-28 20:32:16,929][model_v2.py][line:426][INFO] global_steps 2350 - lr: 0.0000269615  loss: 1.21263885\n"
     ]
    },
    {
     "name": "stdout",
     "output_type": "stream",
     "text": [
      "global_steps 2350 - lr: 0.0000269615  loss: 1.21263885\n"
     ]
    },
    {
     "name": "stderr",
     "output_type": "stream",
     "text": [
      " 48%|████▊     | 2375/5000 [4:39:08<4:31:39,  6.21s/it][2022-05-28 20:35:15,355][model_v2.py][line:426][INFO] global_steps 2375 - lr: 0.0000265698  loss: 1.16929483\n"
     ]
    },
    {
     "name": "stdout",
     "output_type": "stream",
     "text": [
      "global_steps 2375 - lr: 0.0000265698  loss: 1.16929483\n"
     ]
    },
    {
     "name": "stderr",
     "output_type": "stream",
     "text": [
      " 48%|████▊     | 2400/5000 [4:42:02<5:00:31,  6.94s/it][2022-05-28 20:38:09,697][model_v2.py][line:426][INFO] global_steps 2400 - lr: 0.0000261777  loss: 1.32849741\n",
      "[2022-05-28 20:38:09,698][model_v2.py][line:426][INFO] ********** Running evaluating **********\n",
      "[2022-05-28 20:38:09,700][model_v2.py][line:426][INFO] ********** Step 2400 **********\n"
     ]
    },
    {
     "name": "stdout",
     "output_type": "stream",
     "text": [
      "global_steps 2400 - lr: 0.0000261777  loss: 1.32849741\n",
      "********** Running evaluating **********\n",
      "********** Step 2400 **********\n"
     ]
    },
    {
     "name": "stderr",
     "output_type": "stream",
     "text": [
      "\n",
      "  0%|          | 0/50 [00:00<?, ?it/s]\u001b[A\n",
      "  2%|▏         | 1/50 [00:02<01:41,  2.07s/it]\u001b[A\n",
      "  4%|▍         | 2/50 [00:03<01:34,  1.97s/it]\u001b[A\n",
      "  6%|▌         | 3/50 [00:05<01:33,  1.99s/it]\u001b[A\n",
      "  8%|▊         | 4/50 [00:07<01:24,  1.84s/it]\u001b[A\n",
      " 10%|█         | 5/50 [00:09<01:23,  1.86s/it]\u001b[A\n",
      " 12%|█▏        | 6/50 [00:11<01:20,  1.82s/it]\u001b[A\n",
      " 14%|█▍        | 7/50 [00:13<01:19,  1.86s/it]\u001b[A\n",
      " 16%|█▌        | 8/50 [00:14<01:13,  1.75s/it]\u001b[A\n",
      " 18%|█▊        | 9/50 [00:16<01:09,  1.70s/it]\u001b[A\n",
      " 20%|██        | 10/50 [00:17<01:06,  1.66s/it]\u001b[A\n",
      " 22%|██▏       | 11/50 [00:19<01:03,  1.63s/it]\u001b[A\n",
      " 24%|██▍       | 12/50 [00:21<01:02,  1.64s/it]\u001b[A\n",
      " 26%|██▌       | 13/50 [00:22<01:00,  1.64s/it]\u001b[A\n",
      " 28%|██▊       | 14/50 [00:24<01:02,  1.73s/it]\u001b[A\n",
      " 30%|███       | 15/50 [00:26<01:00,  1.73s/it]\u001b[A\n",
      " 32%|███▏      | 16/50 [00:27<00:56,  1.67s/it]\u001b[A\n",
      " 34%|███▍      | 17/50 [00:29<00:53,  1.61s/it]\u001b[A\n",
      " 36%|███▌      | 18/50 [00:31<00:53,  1.67s/it]\u001b[A\n",
      " 38%|███▊      | 19/50 [00:32<00:52,  1.69s/it]\u001b[A\n",
      " 40%|████      | 20/50 [00:34<00:52,  1.73s/it]\u001b[A\n",
      " 42%|████▏     | 21/50 [00:36<00:49,  1.71s/it]\u001b[A\n",
      " 44%|████▍     | 22/50 [00:38<00:47,  1.68s/it]\u001b[A\n",
      " 46%|████▌     | 23/50 [00:39<00:45,  1.67s/it]\u001b[A\n",
      " 48%|████▊     | 24/50 [00:41<00:42,  1.65s/it]\u001b[A\n",
      " 50%|█████     | 25/50 [00:42<00:41,  1.65s/it]\u001b[A\n",
      " 52%|█████▏    | 26/50 [00:44<00:41,  1.71s/it]\u001b[A\n",
      " 54%|█████▍    | 27/50 [00:46<00:41,  1.78s/it]\u001b[A\n",
      " 56%|█████▌    | 28/50 [00:48<00:38,  1.75s/it]\u001b[A\n",
      " 58%|█████▊    | 29/50 [00:49<00:35,  1.69s/it]\u001b[A\n",
      " 60%|██████    | 30/50 [00:51<00:34,  1.75s/it]\u001b[A\n",
      " 62%|██████▏   | 31/50 [00:53<00:32,  1.69s/it]\u001b[A\n",
      " 64%|██████▍   | 32/50 [00:55<00:30,  1.68s/it]\u001b[A\n",
      " 66%|██████▌   | 33/50 [00:56<00:29,  1.72s/it]\u001b[A\n",
      " 68%|██████▊   | 34/50 [00:58<00:27,  1.70s/it]\u001b[A\n",
      " 70%|███████   | 35/50 [01:00<00:24,  1.66s/it]\u001b[A\n",
      " 72%|███████▏  | 36/50 [01:01<00:23,  1.65s/it]\u001b[A\n",
      " 74%|███████▍  | 37/50 [01:03<00:21,  1.66s/it]\u001b[A\n",
      " 76%|███████▌  | 38/50 [01:05<00:20,  1.74s/it]\u001b[A\n",
      " 78%|███████▊  | 39/50 [01:07<00:18,  1.72s/it]\u001b[A\n",
      " 80%|████████  | 40/50 [01:08<00:17,  1.71s/it]\u001b[A\n",
      " 82%|████████▏ | 41/50 [01:10<00:15,  1.67s/it]\u001b[A\n",
      " 84%|████████▍ | 42/50 [01:11<00:12,  1.54s/it]\u001b[A"
     ]
    },
    {
     "name": "stdout",
     "output_type": "stream",
     "text": [
      "['抽象了一种基于中心的战术应用场景与业务,并将网络编码技术应用于此类场景的实时数据多播业务中。在分析基于中心网络与Many-to-all业务模式', '普适计算二维空间定位过程中,通过对三角形定位单元区域的误差分析,提出了定位单元布局(LUD)定理。在此基础上,对多个定位单元布局进行了研究,定义', '运用传统体系结构描述语言描述软件体系结构描述语言描述的软件体系结构']\n",
      "['网络编码在实时战术数据多播中的应用', '普适计算中定位单元布局研究', '基于时序逻辑的面向方面体系结构描述语言']\n"
     ]
    },
    {
     "name": "stderr",
     "output_type": "stream",
     "text": [
      " 84%|████████▍ | 42/50 [01:12<00:13,  1.72s/it]\n",
      "[2022-05-28 20:39:28,870][model_v2.py][line:426][INFO] ********** Saving best result in step 2400 **********\n",
      "[2022-05-28 20:39:28,871][model_v2.py][line:426][INFO] ********** Evaluating Done **********\n"
     ]
    },
    {
     "name": "stdout",
     "output_type": "stream",
     "text": [
      "{'rouge-1': 0.4186091830799378, 'rouge-2': 0.2942782041317416, 'rouge-l': 0.3711557127143566, 'bleu': 13.767398718835535}\n",
      "********** Saving best result in step 2400 **********\n",
      "********** Evaluating Done **********\n"
     ]
    },
    {
     "name": "stderr",
     "output_type": "stream",
     "text": [
      " 48%|████▊     | 2425/5000 [4:46:20<4:59:04,  6.97s/it][2022-05-28 20:42:27,775][model_v2.py][line:426][INFO] global_steps 2425 - lr: 0.0000257853  loss: 1.44046307\n"
     ]
    },
    {
     "name": "stdout",
     "output_type": "stream",
     "text": [
      "global_steps 2425 - lr: 0.0000257853  loss: 1.44046307\n"
     ]
    },
    {
     "name": "stderr",
     "output_type": "stream",
     "text": [
      " 49%|████▉     | 2450/5000 [4:48:59<4:53:42,  6.91s/it][2022-05-28 20:45:06,039][model_v2.py][line:426][INFO] global_steps 2450 - lr: 0.0000253927  loss: 0.99586201\n"
     ]
    },
    {
     "name": "stdout",
     "output_type": "stream",
     "text": [
      "global_steps 2450 - lr: 0.0000253927  loss: 0.99586201\n"
     ]
    },
    {
     "name": "stderr",
     "output_type": "stream",
     "text": [
      " 50%|████▉     | 2475/5000 [4:51:43<5:13:08,  7.44s/it][2022-05-28 20:47:50,501][model_v2.py][line:426][INFO] global_steps 2475 - lr: 0.0000250000  loss: 1.28637826\n"
     ]
    },
    {
     "name": "stdout",
     "output_type": "stream",
     "text": [
      "global_steps 2475 - lr: 0.0000250000  loss: 1.28637826\n"
     ]
    },
    {
     "name": "stderr",
     "output_type": "stream",
     "text": [
      " 50%|█████     | 2500/5000 [4:54:48<5:16:05,  7.59s/it][2022-05-28 20:50:55,519][model_v2.py][line:426][INFO] global_steps 2500 - lr: 0.0000246073  loss: 1.11928391\n",
      "[2022-05-28 20:50:55,520][model_v2.py][line:426][INFO] ********** Running evaluating **********\n",
      "[2022-05-28 20:50:55,523][model_v2.py][line:426][INFO] ********** Step 2500 **********\n"
     ]
    },
    {
     "name": "stdout",
     "output_type": "stream",
     "text": [
      "global_steps 2500 - lr: 0.0000246073  loss: 1.11928391\n",
      "********** Running evaluating **********\n",
      "********** Step 2500 **********\n"
     ]
    },
    {
     "name": "stderr",
     "output_type": "stream",
     "text": [
      "\n",
      "  0%|          | 0/50 [00:00<?, ?it/s]\u001b[A\n",
      "  2%|▏         | 1/50 [00:01<01:19,  1.63s/it]\u001b[A\n",
      "  4%|▍         | 2/50 [00:03<01:19,  1.65s/it]\u001b[A\n",
      "  6%|▌         | 3/50 [00:05<01:28,  1.89s/it]\u001b[A\n",
      "  8%|▊         | 4/50 [00:07<01:24,  1.83s/it]\u001b[A\n",
      " 10%|█         | 5/50 [00:09<01:22,  1.83s/it]\u001b[A\n",
      " 12%|█▏        | 6/50 [00:10<01:17,  1.77s/it]\u001b[A\n",
      " 14%|█▍        | 7/50 [00:12<01:15,  1.76s/it]\u001b[A\n",
      " 16%|█▌        | 8/50 [00:13<01:11,  1.69s/it]\u001b[A\n",
      " 18%|█▊        | 9/50 [00:15<01:07,  1.64s/it]\u001b[A\n",
      " 20%|██        | 10/50 [00:17<01:08,  1.71s/it]\u001b[A\n",
      " 22%|██▏       | 11/50 [00:18<01:05,  1.67s/it]\u001b[A\n",
      " 24%|██▍       | 12/50 [00:20<01:03,  1.67s/it]\u001b[A\n",
      " 26%|██▌       | 13/50 [00:22<01:01,  1.65s/it]\u001b[A\n",
      " 28%|██▊       | 14/50 [00:24<01:03,  1.77s/it]\u001b[A\n",
      " 30%|███       | 15/50 [00:26<01:03,  1.82s/it]\u001b[A\n",
      " 32%|███▏      | 16/50 [00:27<00:58,  1.73s/it]\u001b[A\n",
      " 34%|███▍      | 17/50 [00:29<00:56,  1.70s/it]\u001b[A\n",
      " 36%|███▌      | 18/50 [00:30<00:53,  1.66s/it]\u001b[A\n",
      " 38%|███▊      | 19/50 [00:32<00:50,  1.63s/it]\u001b[A\n",
      " 40%|████      | 20/50 [00:34<00:48,  1.63s/it]\u001b[A\n",
      " 42%|████▏     | 21/50 [00:35<00:47,  1.64s/it]\u001b[A\n",
      " 44%|████▍     | 22/50 [00:37<00:45,  1.63s/it]\u001b[A\n",
      " 46%|████▌     | 23/50 [00:39<00:45,  1.68s/it]\u001b[A\n",
      " 48%|████▊     | 24/50 [00:40<00:43,  1.66s/it]\u001b[A\n",
      " 50%|█████     | 25/50 [00:42<00:41,  1.65s/it]\u001b[A\n",
      " 52%|█████▏    | 26/50 [00:44<00:40,  1.67s/it]\u001b[A\n",
      " 54%|█████▍    | 27/50 [00:45<00:38,  1.66s/it]\u001b[A\n",
      " 56%|█████▌    | 28/50 [00:47<00:36,  1.64s/it]\u001b[A\n",
      " 58%|█████▊    | 29/50 [00:48<00:34,  1.63s/it]\u001b[A\n",
      " 60%|██████    | 30/50 [00:50<00:34,  1.74s/it]\u001b[A\n",
      " 62%|██████▏   | 31/50 [00:52<00:31,  1.68s/it]\u001b[A\n",
      " 64%|██████▍   | 32/50 [00:54<00:29,  1.66s/it]\u001b[A\n",
      " 66%|██████▌   | 33/50 [00:55<00:28,  1.65s/it]\u001b[A\n",
      " 68%|██████▊   | 34/50 [00:57<00:28,  1.79s/it]\u001b[A\n",
      " 70%|███████   | 35/50 [00:59<00:25,  1.72s/it]\u001b[A\n",
      " 72%|███████▏  | 36/50 [01:01<00:24,  1.74s/it]\u001b[A\n",
      " 74%|███████▍  | 37/50 [01:02<00:22,  1.72s/it]\u001b[A\n",
      " 76%|███████▌  | 38/50 [01:04<00:20,  1.69s/it]\u001b[A\n",
      " 78%|███████▊  | 39/50 [01:06<00:18,  1.69s/it]\u001b[A\n",
      " 80%|████████  | 40/50 [01:07<00:16,  1.65s/it]\u001b[A\n",
      " 82%|████████▏ | 41/50 [01:09<00:14,  1.63s/it]\u001b[A\n",
      " 84%|████████▍ | 42/50 [01:10<00:11,  1.50s/it]\u001b[A"
     ]
    },
    {
     "name": "stdout",
     "output_type": "stream",
     "text": [
      "['抽象了一种基于中心的战术应用场景与业务,并将网络编码技术应用于此类场景的实时数据多播业务中。在分析基于中心网络与Many-to-all业务模式', '普适计算二维空间定位过程中,通过对三角形定位单元区域的误差分析,提出了定位单元布局(LUD)定理。在此基础上,对多个定位单元布局进行了研究,定义', '运用传统体系结构描述语言描述的软件体系结构']\n",
      "['网络编码在实时战术数据多播中的应用', '普适计算中定位单元布局研究', '基于时序逻辑的面向方面体系结构描述语言']\n"
     ]
    },
    {
     "name": "stderr",
     "output_type": "stream",
     "text": [
      " 84%|████████▍ | 42/50 [01:11<00:13,  1.70s/it]\n",
      "[2022-05-28 20:52:13,358][model_v2.py][line:426][INFO] ********** Saving best result in step 2500 **********\n",
      "[2022-05-28 20:52:13,359][model_v2.py][line:426][INFO] ********** Evaluating Done **********\n"
     ]
    },
    {
     "name": "stdout",
     "output_type": "stream",
     "text": [
      "{'rouge-1': 0.417279736638932, 'rouge-2': 0.293396339109521, 'rouge-l': 0.36875218779400676, 'bleu': 13.84251877844987}\n",
      "********** Saving best result in step 2500 **********\n",
      "********** Evaluating Done **********\n"
     ]
    },
    {
     "name": "stderr",
     "output_type": "stream",
     "text": [
      " 50%|█████     | 2525/5000 [4:58:57<4:41:19,  6.82s/it][2022-05-28 20:55:03,854][model_v2.py][line:426][INFO] global_steps 2525 - lr: 0.0000242147  loss: 1.13712299\n"
     ]
    },
    {
     "name": "stdout",
     "output_type": "stream",
     "text": [
      "global_steps 2525 - lr: 0.0000242147  loss: 1.13712299\n"
     ]
    },
    {
     "name": "stderr",
     "output_type": "stream",
     "text": [
      " 51%|█████     | 2550/5000 [5:01:52<4:40:03,  6.86s/it][2022-05-28 20:57:58,834][model_v2.py][line:426][INFO] global_steps 2550 - lr: 0.0000238223  loss: 1.45487058\n"
     ]
    },
    {
     "name": "stdout",
     "output_type": "stream",
     "text": [
      "global_steps 2550 - lr: 0.0000238223  loss: 1.45487058\n"
     ]
    },
    {
     "name": "stderr",
     "output_type": "stream",
     "text": [
      " 52%|█████▏    | 2575/5000 [5:04:54<5:01:03,  7.45s/it][2022-05-28 21:01:01,565][model_v2.py][line:426][INFO] global_steps 2575 - lr: 0.0000234302  loss: 0.91188723\n"
     ]
    },
    {
     "name": "stdout",
     "output_type": "stream",
     "text": [
      "global_steps 2575 - lr: 0.0000234302  loss: 0.91188723\n"
     ]
    },
    {
     "name": "stderr",
     "output_type": "stream",
     "text": [
      " 52%|█████▏    | 2600/5000 [5:07:40<4:08:15,  6.21s/it][2022-05-28 21:03:47,169][model_v2.py][line:426][INFO] global_steps 2600 - lr: 0.0000230385  loss: 1.29389000\n",
      "[2022-05-28 21:03:47,171][model_v2.py][line:426][INFO] ********** Running evaluating **********\n",
      "[2022-05-28 21:03:47,173][model_v2.py][line:426][INFO] ********** Step 2600 **********\n"
     ]
    },
    {
     "name": "stdout",
     "output_type": "stream",
     "text": [
      "global_steps 2600 - lr: 0.0000230385  loss: 1.29389000\n",
      "********** Running evaluating **********\n",
      "********** Step 2600 **********\n"
     ]
    },
    {
     "name": "stderr",
     "output_type": "stream",
     "text": [
      "\n",
      "  0%|          | 0/50 [00:00<?, ?it/s]\u001b[A\n",
      "  2%|▏         | 1/50 [00:02<01:38,  2.01s/it]\u001b[A\n",
      "  4%|▍         | 2/50 [00:03<01:24,  1.76s/it]\u001b[A\n",
      "  6%|▌         | 3/50 [00:05<01:21,  1.73s/it]\u001b[A\n",
      "  8%|▊         | 4/50 [00:07<01:21,  1.77s/it]\u001b[A\n",
      " 10%|█         | 5/50 [00:09<01:27,  1.95s/it]\u001b[A\n",
      " 12%|█▏        | 6/50 [00:11<01:25,  1.93s/it]\u001b[A\n",
      " 14%|█▍        | 7/50 [00:12<01:18,  1.83s/it]\u001b[A\n",
      " 16%|█▌        | 8/50 [00:14<01:13,  1.75s/it]\u001b[A\n",
      " 18%|█▊        | 9/50 [00:15<01:08,  1.67s/it]\u001b[A\n",
      " 20%|██        | 10/50 [00:17<01:05,  1.63s/it]\u001b[A\n",
      " 22%|██▏       | 11/50 [00:19<01:02,  1.61s/it]\u001b[A\n",
      " 24%|██▍       | 12/50 [00:20<01:01,  1.61s/it]\u001b[A\n",
      " 26%|██▌       | 13/50 [00:22<01:01,  1.66s/it]\u001b[A\n",
      " 28%|██▊       | 14/50 [00:24<01:00,  1.68s/it]\u001b[A\n",
      " 30%|███       | 15/50 [00:25<00:58,  1.67s/it]\u001b[A\n",
      " 32%|███▏      | 16/50 [00:27<00:55,  1.62s/it]\u001b[A\n",
      " 34%|███▍      | 17/50 [00:28<00:52,  1.58s/it]\u001b[A\n",
      " 36%|███▌      | 18/50 [00:30<00:50,  1.57s/it]\u001b[A\n",
      " 38%|███▊      | 19/50 [00:31<00:48,  1.56s/it]\u001b[A\n",
      " 40%|████      | 20/50 [00:33<00:49,  1.65s/it]\u001b[A\n",
      " 42%|████▏     | 21/50 [00:35<00:47,  1.64s/it]\u001b[A\n",
      " 44%|████▍     | 22/50 [00:37<00:45,  1.64s/it]\u001b[A\n",
      " 46%|████▌     | 23/50 [00:38<00:44,  1.64s/it]\u001b[A\n",
      " 48%|████▊     | 24/50 [00:40<00:42,  1.64s/it]\u001b[A\n",
      " 50%|█████     | 25/50 [00:42<00:42,  1.69s/it]\u001b[A\n",
      " 52%|█████▏    | 26/50 [00:44<00:42,  1.78s/it]\u001b[A\n",
      " 54%|█████▍    | 27/50 [00:45<00:39,  1.72s/it]\u001b[A\n",
      " 56%|█████▌    | 28/50 [00:47<00:36,  1.67s/it]\u001b[A\n",
      " 58%|█████▊    | 29/50 [00:48<00:34,  1.64s/it]\u001b[A\n",
      " 60%|██████    | 30/50 [00:50<00:34,  1.71s/it]\u001b[A\n",
      " 62%|██████▏   | 31/50 [00:52<00:31,  1.65s/it]\u001b[A\n",
      " 64%|██████▍   | 32/50 [00:53<00:29,  1.64s/it]\u001b[A\n",
      " 66%|██████▌   | 33/50 [00:55<00:29,  1.73s/it]\u001b[A\n",
      " 68%|██████▊   | 34/50 [00:57<00:27,  1.70s/it]\u001b[A\n",
      " 70%|███████   | 35/50 [00:58<00:24,  1.65s/it]\u001b[A\n",
      " 72%|███████▏  | 36/50 [01:00<00:22,  1.63s/it]\u001b[A\n",
      " 74%|███████▍  | 37/50 [01:02<00:21,  1.63s/it]\u001b[A\n",
      " 76%|███████▌  | 38/50 [01:03<00:19,  1.63s/it]\u001b[A\n",
      " 78%|███████▊  | 39/50 [01:05<00:18,  1.66s/it]\u001b[A\n",
      " 80%|████████  | 40/50 [01:07<00:16,  1.65s/it]\u001b[A\n",
      " 82%|████████▏ | 41/50 [01:08<00:14,  1.64s/it]\u001b[A\n",
      " 84%|████████▍ | 42/50 [01:09<00:12,  1.51s/it]\u001b[A"
     ]
    },
    {
     "name": "stdout",
     "output_type": "stream",
     "text": [
      "['抽象了一种基于中心的战术应用场景与业务,并将网络编码技术应用于此类场景的实时数据多播业务中。在分析基于中心网络与Many-to-all业务模式', '普适计算二维空间定位过程中,通过对三角形定位单元区域的误差分析,提出了定位单元布局(LUD)定理。在此基础上,对多个定位单元布局进行了研究,定义', '运用传统体系结构描述语言描述的软件体系结构']\n",
      "['网络编码在实时战术数据多播中的应用', '普适计算中定位单元布局研究', '基于时序逻辑的面向方面体系结构描述语言']\n"
     ]
    },
    {
     "name": "stderr",
     "output_type": "stream",
     "text": [
      " 84%|████████▍ | 42/50 [01:10<00:13,  1.68s/it]\n",
      "[2022-05-28 21:05:08,965][model_v2.py][line:426][INFO] ********** Saving best result in step 2600 **********\n",
      "[2022-05-28 21:05:08,966][model_v2.py][line:426][INFO] ********** Evaluating Done **********\n"
     ]
    },
    {
     "name": "stdout",
     "output_type": "stream",
     "text": [
      "{'rouge-1': 0.43864996518194, 'rouge-2': 0.31458574341680323, 'rouge-l': 0.39274367479695105, 'bleu': 15.107628504836288}\n",
      "********** Saving best result in step 2600 **********\n",
      "********** Evaluating Done **********\n"
     ]
    },
    {
     "name": "stderr",
     "output_type": "stream",
     "text": [
      " 52%|█████▎    | 2625/5000 [5:11:56<5:08:15,  7.79s/it][2022-05-28 21:08:02,848][model_v2.py][line:426][INFO] global_steps 2625 - lr: 0.0000226473  loss: 1.21498168\n"
     ]
    },
    {
     "name": "stdout",
     "output_type": "stream",
     "text": [
      "global_steps 2625 - lr: 0.0000226473  loss: 1.21498168\n"
     ]
    },
    {
     "name": "stderr",
     "output_type": "stream",
     "text": [
      " 53%|█████▎    | 2650/5000 [5:14:43<4:04:20,  6.24s/it][2022-05-28 21:10:49,963][model_v2.py][line:426][INFO] global_steps 2650 - lr: 0.0000222566  loss: 1.08037543\n"
     ]
    },
    {
     "name": "stdout",
     "output_type": "stream",
     "text": [
      "global_steps 2650 - lr: 0.0000222566  loss: 1.08037543\n"
     ]
    },
    {
     "name": "stderr",
     "output_type": "stream",
     "text": [
      " 54%|█████▎    | 2675/5000 [5:17:40<4:22:28,  6.77s/it][2022-05-28 21:13:47,450][model_v2.py][line:426][INFO] global_steps 2675 - lr: 0.0000218667  loss: 1.27851236\n"
     ]
    },
    {
     "name": "stdout",
     "output_type": "stream",
     "text": [
      "global_steps 2675 - lr: 0.0000218667  loss: 1.27851236\n"
     ]
    },
    {
     "name": "stderr",
     "output_type": "stream",
     "text": [
      " 54%|█████▍    | 2700/5000 [5:20:35<4:46:54,  7.48s/it][2022-05-28 21:16:42,594][model_v2.py][line:426][INFO] global_steps 2700 - lr: 0.0000214775  loss: 1.23711085\n",
      "[2022-05-28 21:16:42,595][model_v2.py][line:426][INFO] ********** Running evaluating **********\n",
      "[2022-05-28 21:16:42,597][model_v2.py][line:426][INFO] ********** Step 2700 **********\n"
     ]
    },
    {
     "name": "stdout",
     "output_type": "stream",
     "text": [
      "global_steps 2700 - lr: 0.0000214775  loss: 1.23711085\n",
      "********** Running evaluating **********\n",
      "********** Step 2700 **********\n"
     ]
    },
    {
     "name": "stderr",
     "output_type": "stream",
     "text": [
      "\n",
      "  0%|          | 0/50 [00:00<?, ?it/s]\u001b[A\n",
      "  2%|▏         | 1/50 [00:01<01:20,  1.65s/it]\u001b[A\n",
      "  4%|▍         | 2/50 [00:03<01:18,  1.64s/it]\u001b[A\n",
      "  6%|▌         | 3/50 [00:05<01:22,  1.75s/it]\u001b[A\n",
      "  8%|▊         | 4/50 [00:06<01:18,  1.71s/it]\u001b[A\n",
      " 10%|█         | 5/50 [00:08<01:19,  1.76s/it]\u001b[A\n",
      " 12%|█▏        | 6/50 [00:10<01:17,  1.77s/it]\u001b[A\n",
      " 14%|█▍        | 7/50 [00:12<01:21,  1.90s/it]\u001b[A\n",
      " 16%|█▌        | 8/50 [00:14<01:15,  1.79s/it]\u001b[A\n",
      " 18%|█▊        | 9/50 [00:15<01:09,  1.70s/it]\u001b[A\n",
      " 20%|██        | 10/50 [00:17<01:06,  1.66s/it]\u001b[A\n",
      " 22%|██▏       | 11/50 [00:19<01:06,  1.70s/it]\u001b[A\n",
      " 24%|██▍       | 12/50 [00:20<01:04,  1.68s/it]\u001b[A\n",
      " 26%|██▌       | 13/50 [00:22<01:02,  1.69s/it]\u001b[A\n",
      " 28%|██▊       | 14/50 [00:24<01:01,  1.70s/it]\u001b[A\n",
      " 30%|███       | 15/50 [00:25<00:59,  1.70s/it]\u001b[A\n",
      " 32%|███▏      | 16/50 [00:27<00:56,  1.65s/it]\u001b[A\n",
      " 34%|███▍      | 17/50 [00:28<00:52,  1.60s/it]\u001b[A\n",
      " 36%|███▌      | 18/50 [00:30<00:51,  1.60s/it]\u001b[A\n",
      " 38%|███▊      | 19/50 [00:32<00:51,  1.65s/it]\u001b[A\n",
      " 40%|████      | 20/50 [00:33<00:49,  1.66s/it]\u001b[A\n",
      " 42%|████▏     | 21/50 [00:35<00:47,  1.65s/it]\u001b[A\n",
      " 44%|████▍     | 22/50 [00:37<00:45,  1.63s/it]\u001b[A\n",
      " 46%|████▌     | 23/50 [00:38<00:44,  1.64s/it]\u001b[A\n",
      " 48%|████▊     | 24/50 [00:40<00:42,  1.62s/it]\u001b[A\n",
      " 50%|█████     | 25/50 [00:41<00:40,  1.63s/it]\u001b[A\n",
      " 52%|█████▏    | 26/50 [00:43<00:41,  1.73s/it]\u001b[A\n",
      " 54%|█████▍    | 27/50 [00:45<00:41,  1.81s/it]\u001b[A\n",
      " 56%|█████▌    | 28/50 [00:47<00:38,  1.74s/it]\u001b[A\n",
      " 58%|█████▊    | 29/50 [00:49<00:35,  1.68s/it]\u001b[A\n",
      " 60%|██████    | 30/50 [00:51<00:35,  1.77s/it]\u001b[A\n",
      " 62%|██████▏   | 31/50 [00:52<00:32,  1.70s/it]\u001b[A\n",
      " 64%|██████▍   | 32/50 [00:54<00:31,  1.75s/it]\u001b[A\n",
      " 66%|██████▌   | 33/50 [00:55<00:28,  1.69s/it]\u001b[A\n",
      " 68%|██████▊   | 34/50 [00:57<00:26,  1.67s/it]\u001b[A\n",
      " 70%|███████   | 35/50 [00:59<00:24,  1.64s/it]\u001b[A\n",
      " 72%|███████▏  | 36/50 [01:00<00:22,  1.62s/it]\u001b[A\n",
      " 74%|███████▍  | 37/50 [01:02<00:21,  1.62s/it]\u001b[A\n",
      " 76%|███████▌  | 38/50 [01:03<00:19,  1.62s/it]\u001b[A\n",
      " 78%|███████▊  | 39/50 [01:05<00:18,  1.66s/it]\u001b[A\n",
      " 80%|████████  | 40/50 [01:07<00:16,  1.61s/it]\u001b[A\n",
      " 82%|████████▏ | 41/50 [01:08<00:14,  1.61s/it]\u001b[A\n",
      " 84%|████████▍ | 42/50 [01:10<00:11,  1.49s/it]\u001b[A"
     ]
    },
    {
     "name": "stdout",
     "output_type": "stream",
     "text": [
      "['抽象了一种基于中心的战术应用场景与业务,并将网络编码技术应用于此类场景的实时数据多播业务中。在分析基于中心网络与Many-to-all业务模式', '普适计算二维空间定位过程中,通过对三角形定位单元区域的误差分析,提出了定位单元布局(LUD)定理。在此基础上,对多个定位单元布局进行了研究,定义', '运用传统体系结构描述语言描述的软件体系结构']\n",
      "['网络编码在实时战术数据多播中的应用', '普适计算中定位单元布局研究', '基于时序逻辑的面向方面体系结构描述语言']\n"
     ]
    },
    {
     "name": "stderr",
     "output_type": "stream",
     "text": [
      " 84%|████████▍ | 42/50 [01:10<00:13,  1.68s/it]\n",
      "[2022-05-28 21:17:59,917][model_v2.py][line:426][INFO] ********** Saving best result in step 2700 **********\n",
      "[2022-05-28 21:17:59,918][model_v2.py][line:426][INFO] ********** Evaluating Done **********\n"
     ]
    },
    {
     "name": "stdout",
     "output_type": "stream",
     "text": [
      "{'rouge-1': 0.43553665025276156, 'rouge-2': 0.3110052968905911, 'rouge-l': 0.3911891590981958, 'bleu': 15.265340156646458}\n",
      "********** Saving best result in step 2700 **********\n",
      "********** Evaluating Done **********\n"
     ]
    },
    {
     "name": "stderr",
     "output_type": "stream",
     "text": [
      " 55%|█████▍    | 2725/5000 [5:24:26<3:39:14,  5.78s/it][2022-05-28 21:20:32,842][model_v2.py][line:426][INFO] global_steps 2725 - lr: 0.0000210891  loss: 1.10602474\n"
     ]
    },
    {
     "name": "stdout",
     "output_type": "stream",
     "text": [
      "global_steps 2725 - lr: 0.0000210891  loss: 1.10602474\n"
     ]
    },
    {
     "name": "stderr",
     "output_type": "stream",
     "text": [
      " 55%|█████▌    | 2750/5000 [5:27:12<4:12:43,  6.74s/it][2022-05-28 21:23:19,463][model_v2.py][line:426][INFO] global_steps 2750 - lr: 0.0000207018  loss: 1.06142449\n"
     ]
    },
    {
     "name": "stdout",
     "output_type": "stream",
     "text": [
      "global_steps 2750 - lr: 0.0000207018  loss: 1.06142449\n"
     ]
    },
    {
     "name": "stderr",
     "output_type": "stream",
     "text": [
      " 56%|█████▌    | 2775/5000 [5:29:59<3:41:21,  5.97s/it][2022-05-28 21:26:06,643][model_v2.py][line:426][INFO] global_steps 2775 - lr: 0.0000203155  loss: 0.85670191\n"
     ]
    },
    {
     "name": "stdout",
     "output_type": "stream",
     "text": [
      "global_steps 2775 - lr: 0.0000203155  loss: 0.85670191\n"
     ]
    },
    {
     "name": "stderr",
     "output_type": "stream",
     "text": [
      " 56%|█████▌    | 2800/5000 [5:33:05<4:14:30,  6.94s/it][2022-05-28 21:29:11,905][model_v2.py][line:426][INFO] global_steps 2800 - lr: 0.0000199303  loss: 1.14757228\n",
      "[2022-05-28 21:29:11,906][model_v2.py][line:426][INFO] ********** Running evaluating **********\n",
      "[2022-05-28 21:29:11,906][model_v2.py][line:426][INFO] ********** Step 2800 **********\n"
     ]
    },
    {
     "name": "stdout",
     "output_type": "stream",
     "text": [
      "global_steps 2800 - lr: 0.0000199303  loss: 1.14757228\n",
      "********** Running evaluating **********\n",
      "********** Step 2800 **********\n"
     ]
    },
    {
     "name": "stderr",
     "output_type": "stream",
     "text": [
      "\n",
      "  0%|          | 0/50 [00:00<?, ?it/s]\u001b[A\n",
      "  2%|▏         | 1/50 [00:01<01:30,  1.86s/it]\u001b[A\n",
      "  4%|▍         | 2/50 [00:03<01:23,  1.75s/it]\u001b[A\n",
      "  6%|▌         | 3/50 [00:05<01:23,  1.78s/it]\u001b[A\n",
      "  8%|▊         | 4/50 [00:06<01:19,  1.72s/it]\u001b[A\n",
      " 10%|█         | 5/50 [00:09<01:22,  1.84s/it]\u001b[A\n",
      " 12%|█▏        | 6/50 [00:10<01:17,  1.77s/it]\u001b[A\n",
      " 14%|█▍        | 7/50 [00:12<01:13,  1.70s/it]\u001b[A\n",
      " 16%|█▌        | 8/50 [00:13<01:09,  1.66s/it]\u001b[A\n",
      " 18%|█▊        | 9/50 [00:15<01:06,  1.63s/it]\u001b[A\n",
      " 20%|██        | 10/50 [00:16<01:04,  1.62s/it]\u001b[A\n",
      " 22%|██▏       | 11/50 [00:18<01:02,  1.61s/it]\u001b[A\n",
      " 24%|██▍       | 12/50 [00:20<01:09,  1.82s/it]\u001b[A\n",
      " 26%|██▌       | 13/50 [00:22<01:05,  1.76s/it]\u001b[A\n",
      " 28%|██▊       | 14/50 [00:24<01:03,  1.76s/it]\u001b[A\n",
      " 30%|███       | 15/50 [00:25<01:00,  1.74s/it]\u001b[A\n",
      " 32%|███▏      | 16/50 [00:27<00:57,  1.69s/it]\u001b[A\n",
      " 34%|███▍      | 17/50 [00:28<00:53,  1.63s/it]\u001b[A\n",
      " 36%|███▌      | 18/50 [00:30<00:54,  1.69s/it]\u001b[A\n",
      " 38%|███▊      | 19/50 [00:32<00:51,  1.66s/it]\u001b[A\n",
      " 40%|████      | 20/50 [00:34<00:49,  1.66s/it]\u001b[A\n",
      " 42%|████▏     | 21/50 [00:35<00:47,  1.64s/it]\u001b[A\n",
      " 44%|████▍     | 22/50 [00:37<00:45,  1.64s/it]\u001b[A\n",
      " 46%|████▌     | 23/50 [00:39<00:46,  1.72s/it]\u001b[A\n",
      " 48%|████▊     | 24/50 [00:40<00:43,  1.68s/it]\u001b[A\n",
      " 50%|█████     | 25/50 [00:42<00:44,  1.77s/it]\u001b[A\n",
      " 52%|█████▏    | 26/50 [00:44<00:42,  1.77s/it]\u001b[A\n",
      " 54%|█████▍    | 27/50 [00:46<00:39,  1.73s/it]\u001b[A\n",
      " 56%|█████▌    | 28/50 [00:47<00:37,  1.70s/it]\u001b[A\n",
      " 58%|█████▊    | 29/50 [00:49<00:35,  1.67s/it]\u001b[A\n",
      " 60%|██████    | 30/50 [00:51<00:34,  1.73s/it]\u001b[A\n",
      " 62%|██████▏   | 31/50 [00:53<00:34,  1.80s/it]\u001b[A\n",
      " 64%|██████▍   | 32/50 [00:54<00:31,  1.78s/it]\u001b[A\n",
      " 66%|██████▌   | 33/50 [00:56<00:29,  1.72s/it]\u001b[A\n",
      " 68%|██████▊   | 34/50 [00:58<00:27,  1.71s/it]\u001b[A\n",
      " 70%|███████   | 35/50 [00:59<00:25,  1.68s/it]\u001b[A\n",
      " 72%|███████▏  | 36/50 [01:01<00:23,  1.65s/it]\u001b[A\n",
      " 74%|███████▍  | 37/50 [01:03<00:22,  1.70s/it]\u001b[A\n",
      " 76%|███████▌  | 38/50 [01:04<00:20,  1.69s/it]\u001b[A\n",
      " 78%|███████▊  | 39/50 [01:06<00:18,  1.69s/it]\u001b[A\n",
      " 80%|████████  | 40/50 [01:08<00:16,  1.65s/it]\u001b[A\n",
      " 82%|████████▏ | 41/50 [01:09<00:15,  1.67s/it]\u001b[A\n",
      " 84%|████████▍ | 42/50 [01:11<00:12,  1.54s/it]\u001b[A"
     ]
    },
    {
     "name": "stdout",
     "output_type": "stream",
     "text": [
      "['抽象了一种基于中心的战术应用场景与业务,并将网络编码技术应用于此类场景的实时数据多播业务中。在分析基于中心网络与Many-to-all业务模式', '普适计算二维空间定位过程中,通过对三角形定位单元区域的误差分析,提出了定位单元布局(LUD)定理。在此基础上,对多个定位单元布局进行了研究,定义', '运用传统体系结构描述语言描述的软件体系结构(SA)方案始终存在着一些横切行为和特征,它们混杂和散列在不同的SA设计单元中,使得SA难以理解']\n",
      "['网络编码在实时战术数据多播中的应用', '普适计算中定位单元布局研究', '基于时序逻辑的面向方面体系结构描述语言']\n"
     ]
    },
    {
     "name": "stderr",
     "output_type": "stream",
     "text": [
      " 84%|████████▍ | 42/50 [01:11<00:13,  1.71s/it]\n",
      "[2022-05-28 21:30:30,790][model_v2.py][line:426][INFO] ********** Saving best result in step 2800 **********\n",
      "[2022-05-28 21:30:30,791][model_v2.py][line:426][INFO] ********** Evaluating Done **********\n"
     ]
    },
    {
     "name": "stdout",
     "output_type": "stream",
     "text": [
      "{'rouge-1': 0.40880075751603023, 'rouge-2': 0.28312572100445005, 'rouge-l': 0.3581083401239016, 'bleu': 13.53231233596126}\n",
      "********** Saving best result in step 2800 **********\n",
      "********** Evaluating Done **********\n"
     ]
    },
    {
     "name": "stderr",
     "output_type": "stream",
     "text": [
      " 56%|█████▋    | 2825/5000 [5:37:33<4:45:25,  7.87s/it][2022-05-28 21:33:40,317][model_v2.py][line:426][INFO] global_steps 2825 - lr: 0.0000195464  loss: 1.03773034\n"
     ]
    },
    {
     "name": "stdout",
     "output_type": "stream",
     "text": [
      "global_steps 2825 - lr: 0.0000195464  loss: 1.03773034\n"
     ]
    },
    {
     "name": "stderr",
     "output_type": "stream",
     "text": [
      " 57%|█████▋    | 2850/5000 [5:40:36<4:19:18,  7.24s/it][2022-05-28 21:36:43,717][model_v2.py][line:426][INFO] global_steps 2850 - lr: 0.0000191639  loss: 0.99461114\n"
     ]
    },
    {
     "name": "stdout",
     "output_type": "stream",
     "text": [
      "global_steps 2850 - lr: 0.0000191639  loss: 0.99461114\n"
     ]
    },
    {
     "name": "stderr",
     "output_type": "stream",
     "text": [
      " 57%|█████▊    | 2875/5000 [5:43:29<3:51:23,  6.53s/it][2022-05-28 21:39:36,369][model_v2.py][line:426][INFO] global_steps 2875 - lr: 0.0000187828  loss: 1.08428931\n"
     ]
    },
    {
     "name": "stdout",
     "output_type": "stream",
     "text": [
      "global_steps 2875 - lr: 0.0000187828  loss: 1.08428931\n"
     ]
    },
    {
     "name": "stderr",
     "output_type": "stream",
     "text": [
      " 58%|█████▊    | 2900/5000 [5:46:19<3:55:01,  6.72s/it][2022-05-28 21:42:25,831][model_v2.py][line:426][INFO] global_steps 2900 - lr: 0.0000184032  loss: 1.15360820\n",
      "[2022-05-28 21:42:25,832][model_v2.py][line:426][INFO] ********** Running evaluating **********\n",
      "[2022-05-28 21:42:25,835][model_v2.py][line:426][INFO] ********** Step 2900 **********\n"
     ]
    },
    {
     "name": "stdout",
     "output_type": "stream",
     "text": [
      "global_steps 2900 - lr: 0.0000184032  loss: 1.15360820\n",
      "********** Running evaluating **********\n",
      "********** Step 2900 **********\n"
     ]
    },
    {
     "name": "stderr",
     "output_type": "stream",
     "text": [
      "\n",
      "  0%|          | 0/50 [00:00<?, ?it/s]\u001b[A\n",
      "  2%|▏         | 1/50 [00:02<01:46,  2.17s/it]\u001b[A\n",
      "  4%|▍         | 2/50 [00:03<01:33,  1.95s/it]\u001b[A\n",
      "  6%|▌         | 3/50 [00:05<01:28,  1.89s/it]\u001b[A\n",
      "  8%|▊         | 4/50 [00:07<01:24,  1.83s/it]\u001b[A\n",
      " 10%|█         | 5/50 [00:09<01:22,  1.83s/it]\u001b[A\n",
      " 12%|█▏        | 6/50 [00:10<01:17,  1.77s/it]\u001b[A\n",
      " 14%|█▍        | 7/50 [00:12<01:13,  1.70s/it]\u001b[A\n",
      " 16%|█▌        | 8/50 [00:14<01:15,  1.79s/it]\u001b[A\n",
      " 18%|█▊        | 9/50 [00:16<01:11,  1.75s/it]\u001b[A\n",
      " 20%|██        | 10/50 [00:17<01:08,  1.70s/it]\u001b[A\n",
      " 22%|██▏       | 11/50 [00:19<01:04,  1.67s/it]\u001b[A\n",
      " 24%|██▍       | 12/50 [00:21<01:03,  1.66s/it]\u001b[A\n",
      " 26%|██▌       | 13/50 [00:22<01:01,  1.65s/it]\u001b[A\n",
      " 28%|██▊       | 14/50 [00:24<01:01,  1.72s/it]\u001b[A\n",
      " 30%|███       | 15/50 [00:26<01:00,  1.73s/it]\u001b[A\n",
      " 32%|███▏      | 16/50 [00:27<00:56,  1.67s/it]\u001b[A\n",
      " 34%|███▍      | 17/50 [00:29<00:53,  1.62s/it]\u001b[A\n",
      " 36%|███▌      | 18/50 [00:30<00:52,  1.63s/it]\u001b[A\n",
      " 38%|███▊      | 19/50 [00:32<00:49,  1.61s/it]\u001b[A\n",
      " 40%|████      | 20/50 [00:34<00:49,  1.66s/it]\u001b[A\n",
      " 42%|████▏     | 21/50 [00:36<00:49,  1.72s/it]\u001b[A\n",
      " 44%|████▍     | 22/50 [00:37<00:47,  1.69s/it]\u001b[A\n",
      " 46%|████▌     | 23/50 [00:39<00:45,  1.68s/it]\u001b[A\n",
      " 48%|████▊     | 24/50 [00:41<00:43,  1.66s/it]\u001b[A\n",
      " 50%|█████     | 25/50 [00:42<00:41,  1.65s/it]\u001b[A\n",
      " 52%|█████▏    | 26/50 [00:44<00:40,  1.68s/it]\u001b[A\n",
      " 54%|█████▍    | 27/50 [00:46<00:38,  1.66s/it]\u001b[A\n",
      " 56%|█████▌    | 28/50 [00:48<00:40,  1.83s/it]\u001b[A\n",
      " 58%|█████▊    | 29/50 [00:49<00:36,  1.75s/it]\u001b[A\n",
      " 60%|██████    | 30/50 [00:51<00:35,  1.78s/it]\u001b[A\n",
      " 62%|██████▏   | 31/50 [00:53<00:32,  1.69s/it]\u001b[A\n",
      " 64%|██████▍   | 32/50 [00:54<00:30,  1.69s/it]\u001b[A\n",
      " 66%|██████▌   | 33/50 [00:56<00:28,  1.66s/it]\u001b[A\n",
      " 68%|██████▊   | 34/50 [00:58<00:27,  1.72s/it]\u001b[A\n",
      " 70%|███████   | 35/50 [00:59<00:25,  1.68s/it]\u001b[A\n",
      " 72%|███████▏  | 36/50 [01:01<00:23,  1.67s/it]\u001b[A\n",
      " 74%|███████▍  | 37/50 [01:03<00:21,  1.67s/it]\u001b[A\n",
      " 76%|███████▌  | 38/50 [01:04<00:20,  1.71s/it]\u001b[A\n",
      " 78%|███████▊  | 39/50 [01:06<00:18,  1.70s/it]\u001b[A\n",
      " 80%|████████  | 40/50 [01:08<00:16,  1.65s/it]\u001b[A\n",
      " 82%|████████▏ | 41/50 [01:09<00:15,  1.69s/it]\u001b[A\n",
      " 84%|████████▍ | 42/50 [01:11<00:12,  1.55s/it]\u001b[A"
     ]
    },
    {
     "name": "stdout",
     "output_type": "stream",
     "text": [
      "['抽象了一种基于中心的战术应用场景与业务,并将网络编码技术应用于此类场景的实时数据多播业务中。在分析基于中心网络与Many-to-all业务模式', '普适计算二维空间定位过程中,通过对三角形定位单元区域的误差分析,提出了定位单元布局(LUD)定理。在此基础上,对多个定位单元布局进行了研究,定义', '运用传统体系结构描述语言描述的软件体系结构']\n",
      "['网络编码在实时战术数据多播中的应用', '普适计算中定位单元布局研究', '基于时序逻辑的面向方面体系结构描述语言']\n"
     ]
    },
    {
     "name": "stderr",
     "output_type": "stream",
     "text": [
      " 84%|████████▍ | 42/50 [01:11<00:13,  1.71s/it]\n",
      "[2022-05-28 21:43:48,473][model_v2.py][line:426][INFO] ********** Saving best result in step 2900 **********\n",
      "[2022-05-28 21:43:48,474][model_v2.py][line:426][INFO] ********** Evaluating Done **********\n"
     ]
    },
    {
     "name": "stdout",
     "output_type": "stream",
     "text": [
      "{'rouge-1': 0.41260051624998734, 'rouge-2': 0.2870566480451763, 'rouge-l': 0.36302574990196174, 'bleu': 13.557326558390702}\n",
      "********** Saving best result in step 2900 **********\n",
      "********** Evaluating Done **********\n"
     ]
    },
    {
     "name": "stderr",
     "output_type": "stream",
     "text": [
      " 58%|█████▊    | 2925/5000 [5:50:37<4:10:02,  7.23s/it][2022-05-28 21:46:44,791][model_v2.py][line:426][INFO] global_steps 2925 - lr: 0.0000180252  loss: 1.29705119\n"
     ]
    },
    {
     "name": "stdout",
     "output_type": "stream",
     "text": [
      "global_steps 2925 - lr: 0.0000180252  loss: 1.29705119\n"
     ]
    },
    {
     "name": "stderr",
     "output_type": "stream",
     "text": [
      " 59%|█████▉    | 2950/5000 [5:53:28<3:35:35,  6.31s/it][2022-05-28 21:49:35,400][model_v2.py][line:426][INFO] global_steps 2950 - lr: 0.0000176490  loss: 1.00362468\n"
     ]
    },
    {
     "name": "stdout",
     "output_type": "stream",
     "text": [
      "global_steps 2950 - lr: 0.0000176490  loss: 1.00362468\n"
     ]
    },
    {
     "name": "stderr",
     "output_type": "stream",
     "text": [
      " 60%|█████▉    | 2975/5000 [5:56:23<3:52:22,  6.89s/it][2022-05-28 21:52:30,720][model_v2.py][line:426][INFO] global_steps 2975 - lr: 0.0000172746  loss: 1.21249604\n"
     ]
    },
    {
     "name": "stdout",
     "output_type": "stream",
     "text": [
      "global_steps 2975 - lr: 0.0000172746  loss: 1.21249604\n"
     ]
    },
    {
     "name": "stderr",
     "output_type": "stream",
     "text": [
      " 60%|██████    | 3000/5000 [5:59:17<3:38:56,  6.57s/it][2022-05-28 21:55:24,280][model_v2.py][line:426][INFO] global_steps 3000 - lr: 0.0000169021  loss: 0.99522924\n",
      "[2022-05-28 21:55:24,281][model_v2.py][line:426][INFO] ********** Running evaluating **********\n",
      "[2022-05-28 21:55:24,282][model_v2.py][line:426][INFO] ********** Step 3000 **********\n"
     ]
    },
    {
     "name": "stdout",
     "output_type": "stream",
     "text": [
      "global_steps 3000 - lr: 0.0000169021  loss: 0.99522924\n",
      "********** Running evaluating **********\n",
      "********** Step 3000 **********\n"
     ]
    },
    {
     "name": "stderr",
     "output_type": "stream",
     "text": [
      "\n",
      "  0%|          | 0/50 [00:00<?, ?it/s]\u001b[A\n",
      "  2%|▏         | 1/50 [00:01<01:25,  1.75s/it]\u001b[A\n",
      "  4%|▍         | 2/50 [00:03<01:24,  1.75s/it]\u001b[A\n",
      "  6%|▌         | 3/50 [00:05<01:33,  1.99s/it]\u001b[A\n",
      "  8%|▊         | 4/50 [00:07<01:25,  1.85s/it]\u001b[A\n",
      " 10%|█         | 5/50 [00:09<01:30,  2.00s/it]\u001b[A\n",
      " 12%|█▏        | 6/50 [00:11<01:26,  1.98s/it]\u001b[A\n",
      " 14%|█▍        | 7/50 [00:13<01:21,  1.90s/it]\u001b[A\n",
      " 16%|█▌        | 8/50 [00:14<01:15,  1.80s/it]\u001b[A\n",
      " 18%|█▊        | 9/50 [00:16<01:11,  1.74s/it]\u001b[A\n",
      " 20%|██        | 10/50 [00:18<01:08,  1.71s/it]\u001b[A\n",
      " 22%|██▏       | 11/50 [00:19<01:07,  1.73s/it]\u001b[A\n",
      " 24%|██▍       | 12/50 [00:21<01:05,  1.72s/it]\u001b[A\n",
      " 26%|██▌       | 13/50 [00:23<01:02,  1.70s/it]\u001b[A\n",
      " 28%|██▊       | 14/50 [00:25<01:02,  1.72s/it]\u001b[A\n",
      " 30%|███       | 15/50 [00:26<01:00,  1.73s/it]\u001b[A\n",
      " 32%|███▏      | 16/50 [00:28<00:57,  1.69s/it]\u001b[A\n",
      " 34%|███▍      | 17/50 [00:29<00:53,  1.64s/it]\u001b[A\n",
      " 36%|███▌      | 18/50 [00:31<00:53,  1.68s/it]\u001b[A\n",
      " 38%|███▊      | 19/50 [00:33<00:51,  1.66s/it]\u001b[A\n",
      " 40%|████      | 20/50 [00:35<00:49,  1.66s/it]\u001b[A\n",
      " 42%|████▏     | 21/50 [00:37<00:52,  1.80s/it]\u001b[A\n",
      " 44%|████▍     | 22/50 [00:38<00:49,  1.76s/it]\u001b[A\n",
      " 46%|████▌     | 23/50 [00:40<00:46,  1.74s/it]\u001b[A\n",
      " 48%|████▊     | 24/50 [00:42<00:46,  1.78s/it]\u001b[A\n",
      " 50%|█████     | 25/50 [00:44<00:44,  1.80s/it]\u001b[A\n",
      " 52%|█████▏    | 26/50 [00:45<00:43,  1.79s/it]\u001b[A\n",
      " 54%|█████▍    | 27/50 [00:47<00:40,  1.77s/it]\u001b[A\n",
      " 56%|█████▌    | 28/50 [00:49<00:38,  1.75s/it]\u001b[A\n",
      " 58%|█████▊    | 29/50 [00:50<00:35,  1.70s/it]\u001b[A\n",
      " 60%|██████    | 30/50 [00:53<00:36,  1.82s/it]\u001b[A\n",
      " 62%|██████▏   | 31/50 [00:54<00:33,  1.75s/it]\u001b[A\n",
      " 64%|██████▍   | 32/50 [00:56<00:31,  1.73s/it]\u001b[A\n",
      " 66%|██████▌   | 33/50 [00:58<00:29,  1.71s/it]\u001b[A\n",
      " 68%|██████▊   | 34/50 [00:59<00:27,  1.71s/it]\u001b[A\n",
      " 70%|███████   | 35/50 [01:01<00:25,  1.67s/it]\u001b[A\n",
      " 72%|███████▏  | 36/50 [01:02<00:23,  1.67s/it]\u001b[A\n",
      " 74%|███████▍  | 37/50 [01:04<00:22,  1.73s/it]\u001b[A\n",
      " 76%|███████▌  | 38/50 [01:06<00:20,  1.72s/it]\u001b[A\n",
      " 78%|███████▊  | 39/50 [01:08<00:18,  1.72s/it]\u001b[A\n",
      " 80%|████████  | 40/50 [01:10<00:17,  1.77s/it]\u001b[A\n",
      " 82%|████████▏ | 41/50 [01:11<00:15,  1.73s/it]\u001b[A\n",
      " 84%|████████▍ | 42/50 [01:13<00:12,  1.59s/it]\u001b[A"
     ]
    },
    {
     "name": "stdout",
     "output_type": "stream",
     "text": [
      "['抽象了一种基于中心的战术应用场景与业务,并将网络编码技术应用于此类场景的实时数据多播业务中。在分析基于中心网络与Many-to-all业务模式', '普适计算二维空间定位过程中,通过对三角形定位单元区域的误差分析,提出了定位单元布局(LUD)定理。在此基础上,对多个定位单元布局进行了研究,定义', '运用传统体系结构描述语言描述的软件体系结构(SA)方案始终存在着一些横切行为和特征,它们混杂和散列在不同的SA设计单元中,使得SA难以理解']\n",
      "['网络编码在实时战术数据多播中的应用', '普适计算中定位单元布局研究', '基于时序逻辑的面向方面体系结构描述语言']\n"
     ]
    },
    {
     "name": "stderr",
     "output_type": "stream",
     "text": [
      " 84%|████████▍ | 42/50 [01:14<00:14,  1.76s/it]\n",
      "[2022-05-28 21:56:45,372][model_v2.py][line:426][INFO] ********** Saving best result in step 3000 **********\n",
      "[2022-05-28 21:56:45,388][model_v2.py][line:426][INFO] ********** Evaluating Done **********\n"
     ]
    },
    {
     "name": "stdout",
     "output_type": "stream",
     "text": [
      "{'rouge-1': 0.40448381413097256, 'rouge-2': 0.27822443418651915, 'rouge-l': 0.3511429321023793, 'bleu': 13.252495549784735}\n",
      "********** Saving best result in step 3000 **********\n",
      "********** Evaluating Done **********\n"
     ]
    },
    {
     "name": "stderr",
     "output_type": "stream",
     "text": [
      " 60%|██████    | 3025/5000 [6:03:33<4:25:20,  8.06s/it][2022-05-28 21:59:40,744][model_v2.py][line:426][INFO] global_steps 3025 - lr: 0.0000165316  loss: 0.78089786\n"
     ]
    },
    {
     "name": "stdout",
     "output_type": "stream",
     "text": [
      "global_steps 3025 - lr: 0.0000165316  loss: 0.78089786\n"
     ]
    },
    {
     "name": "stderr",
     "output_type": "stream",
     "text": [
      " 61%|██████    | 3050/5000 [6:06:39<4:28:48,  8.27s/it][2022-05-28 22:02:46,664][model_v2.py][line:426][INFO] global_steps 3050 - lr: 0.0000161631  loss: 1.30078793\n"
     ]
    },
    {
     "name": "stdout",
     "output_type": "stream",
     "text": [
      "global_steps 3050 - lr: 0.0000161631  loss: 1.30078793\n"
     ]
    },
    {
     "name": "stderr",
     "output_type": "stream",
     "text": [
      " 62%|██████▏   | 3075/5000 [6:09:35<3:51:34,  7.22s/it][2022-05-28 22:05:42,784][model_v2.py][line:426][INFO] global_steps 3075 - lr: 0.0000157969  loss: 0.97642350\n"
     ]
    },
    {
     "name": "stdout",
     "output_type": "stream",
     "text": [
      "global_steps 3075 - lr: 0.0000157969  loss: 0.97642350\n"
     ]
    },
    {
     "name": "stderr",
     "output_type": "stream",
     "text": [
      " 62%|██████▏   | 3100/5000 [6:12:20<3:17:44,  6.24s/it][2022-05-28 22:08:27,121][model_v2.py][line:426][INFO] global_steps 3100 - lr: 0.0000154329  loss: 1.34170687\n",
      "[2022-05-28 22:08:27,122][model_v2.py][line:426][INFO] ********** Running evaluating **********\n",
      "[2022-05-28 22:08:27,125][model_v2.py][line:426][INFO] ********** Step 3100 **********\n"
     ]
    },
    {
     "name": "stdout",
     "output_type": "stream",
     "text": [
      "global_steps 3100 - lr: 0.0000154329  loss: 1.34170687\n",
      "********** Running evaluating **********\n",
      "********** Step 3100 **********\n"
     ]
    },
    {
     "name": "stderr",
     "output_type": "stream",
     "text": [
      "\n",
      "  0%|          | 0/50 [00:00<?, ?it/s]\u001b[A\n",
      "  2%|▏         | 1/50 [00:01<01:28,  1.80s/it]\u001b[A\n",
      "  4%|▍         | 2/50 [00:03<01:25,  1.78s/it]\u001b[A\n",
      "  6%|▌         | 3/50 [00:05<01:30,  1.92s/it]\u001b[A\n",
      "  8%|▊         | 4/50 [00:07<01:28,  1.92s/it]\u001b[A\n",
      " 10%|█         | 5/50 [00:09<01:26,  1.93s/it]\u001b[A\n",
      " 12%|█▏        | 6/50 [00:11<01:22,  1.88s/it]\u001b[A\n",
      " 14%|█▍        | 7/50 [00:13<01:25,  1.99s/it]\u001b[A\n",
      " 16%|█▌        | 8/50 [00:15<01:21,  1.93s/it]\u001b[A\n",
      " 18%|█▊        | 9/50 [00:16<01:15,  1.85s/it]\u001b[A\n",
      " 20%|██        | 10/50 [00:18<01:14,  1.86s/it]\u001b[A\n",
      " 22%|██▏       | 11/50 [00:20<01:09,  1.79s/it]\u001b[A\n",
      " 24%|██▍       | 12/50 [00:22<01:06,  1.76s/it]\u001b[A\n",
      " 26%|██▌       | 13/50 [00:23<01:04,  1.73s/it]\u001b[A\n",
      " 28%|██▊       | 14/50 [00:25<01:02,  1.75s/it]\u001b[A\n",
      " 30%|███       | 15/50 [00:27<01:01,  1.75s/it]\u001b[A\n",
      " 32%|███▏      | 16/50 [00:29<00:58,  1.73s/it]\u001b[A\n",
      " 34%|███▍      | 17/50 [00:30<00:55,  1.70s/it]\u001b[A\n",
      " 36%|███▌      | 18/50 [00:32<00:53,  1.68s/it]\u001b[A\n",
      " 38%|███▊      | 19/50 [00:33<00:51,  1.67s/it]\u001b[A\n",
      " 40%|████      | 20/50 [00:35<00:50,  1.68s/it]\u001b[A\n",
      " 42%|████▏     | 21/50 [00:37<00:48,  1.69s/it]\u001b[A\n",
      " 44%|████▍     | 22/50 [00:39<00:47,  1.68s/it]\u001b[A\n",
      " 46%|████▌     | 23/50 [00:40<00:46,  1.74s/it]\u001b[A\n",
      " 48%|████▊     | 24/50 [00:42<00:44,  1.71s/it]\u001b[A\n",
      " 50%|█████     | 25/50 [00:44<00:42,  1.70s/it]\u001b[A\n",
      " 52%|█████▏    | 26/50 [00:46<00:44,  1.86s/it]\u001b[A\n",
      " 54%|█████▍    | 27/50 [00:48<00:43,  1.91s/it]\u001b[A\n",
      " 56%|█████▌    | 28/50 [00:50<00:40,  1.85s/it]\u001b[A\n",
      " 58%|█████▊    | 29/50 [00:52<00:38,  1.83s/it]\u001b[A\n",
      " 60%|██████    | 30/50 [00:53<00:37,  1.85s/it]\u001b[A\n",
      " 62%|██████▏   | 31/50 [00:55<00:33,  1.76s/it]\u001b[A\n",
      " 64%|██████▍   | 32/50 [00:57<00:31,  1.75s/it]\u001b[A\n",
      " 66%|██████▌   | 33/50 [00:58<00:29,  1.72s/it]\u001b[A\n",
      " 68%|██████▊   | 34/50 [01:00<00:27,  1.71s/it]\u001b[A\n",
      " 70%|███████   | 35/50 [01:02<00:26,  1.74s/it]\u001b[A\n",
      " 72%|███████▏  | 36/50 [01:04<00:24,  1.74s/it]\u001b[A\n",
      " 74%|███████▍  | 37/50 [01:05<00:22,  1.73s/it]\u001b[A\n",
      " 76%|███████▌  | 38/50 [01:07<00:20,  1.72s/it]\u001b[A\n",
      " 78%|███████▊  | 39/50 [01:09<00:18,  1.72s/it]\u001b[A\n",
      " 80%|████████  | 40/50 [01:10<00:16,  1.68s/it]\u001b[A\n",
      " 82%|████████▏ | 41/50 [01:12<00:14,  1.67s/it]\u001b[A\n",
      " 84%|████████▍ | 42/50 [01:13<00:12,  1.59s/it]\u001b[A"
     ]
    },
    {
     "name": "stdout",
     "output_type": "stream",
     "text": [
      "['抽象了一种基于中心的战术应用场景与业务,并将网络编码技术应用于此类场景的实时数据多播业务中。在分析基于中心网络与Many-to-all业务模式', '普适计算环境中未知移动节点的位置信息是定位服务要解决的关键技术。在普适计算二维空间定位过程中,通过对三角形定位单元区域的误差分析,提出了定位单元布局', '运用传统体系结构描述语言描述的软件体系结构(SA)方案始终存在着一些横切行为和特征,它们混杂和散列在不同的SA设计单元中,使得SA难以理解']\n",
      "['网络编码在实时战术数据多播中的应用', '普适计算中定位单元布局研究', '基于时序逻辑的面向方面体系结构描述语言']\n"
     ]
    },
    {
     "name": "stderr",
     "output_type": "stream",
     "text": [
      " 84%|████████▍ | 42/50 [01:14<00:14,  1.78s/it]\n",
      "[2022-05-28 22:09:48,535][model_v2.py][line:426][INFO] ********** Saving best result in step 3100 **********\n",
      "[2022-05-28 22:09:48,537][model_v2.py][line:426][INFO] ********** Evaluating Done **********\n"
     ]
    },
    {
     "name": "stdout",
     "output_type": "stream",
     "text": [
      "{'rouge-1': 0.38293361640237233, 'rouge-2': 0.25752461654174796, 'rouge-l': 0.32792531273413683, 'bleu': 12.537463539489394}\n",
      "********** Saving best result in step 3100 **********\n",
      "********** Evaluating Done **********\n"
     ]
    },
    {
     "name": "stderr",
     "output_type": "stream",
     "text": [
      " 62%|██████▎   | 3125/5000 [6:16:17<3:17:18,  6.31s/it][2022-05-28 22:12:24,148][model_v2.py][line:426][INFO] global_steps 3125 - lr: 0.0000150713  loss: 1.47703588\n"
     ]
    },
    {
     "name": "stdout",
     "output_type": "stream",
     "text": [
      "global_steps 3125 - lr: 0.0000150713  loss: 1.47703588\n"
     ]
    },
    {
     "name": "stderr",
     "output_type": "stream",
     "text": [
      " 63%|██████▎   | 3150/5000 [6:18:52<3:22:53,  6.58s/it][2022-05-28 22:14:58,998][model_v2.py][line:426][INFO] global_steps 3150 - lr: 0.0000147121  loss: 0.92474258\n"
     ]
    },
    {
     "name": "stdout",
     "output_type": "stream",
     "text": [
      "global_steps 3150 - lr: 0.0000147121  loss: 0.92474258\n"
     ]
    },
    {
     "name": "stderr",
     "output_type": "stream",
     "text": [
      " 64%|██████▎   | 3175/5000 [6:21:32<3:31:56,  6.97s/it][2022-05-28 22:17:38,883][model_v2.py][line:426][INFO] global_steps 3175 - lr: 0.0000143555  loss: 1.16388488\n"
     ]
    },
    {
     "name": "stdout",
     "output_type": "stream",
     "text": [
      "global_steps 3175 - lr: 0.0000143555  loss: 1.16388488\n"
     ]
    },
    {
     "name": "stderr",
     "output_type": "stream",
     "text": [
      " 64%|██████▍   | 3200/5000 [6:24:32<3:31:45,  7.06s/it][2022-05-28 22:20:38,835][model_v2.py][line:426][INFO] global_steps 3200 - lr: 0.0000140015  loss: 1.06326747\n",
      "[2022-05-28 22:20:38,837][model_v2.py][line:426][INFO] ********** Running evaluating **********\n",
      "[2022-05-28 22:20:38,838][model_v2.py][line:426][INFO] ********** Step 3200 **********\n"
     ]
    },
    {
     "name": "stdout",
     "output_type": "stream",
     "text": [
      "global_steps 3200 - lr: 0.0000140015  loss: 1.06326747\n",
      "********** Running evaluating **********\n",
      "********** Step 3200 **********\n"
     ]
    },
    {
     "name": "stderr",
     "output_type": "stream",
     "text": [
      "\n",
      "  0%|          | 0/50 [00:00<?, ?it/s]\u001b[A\n",
      "  2%|▏         | 1/50 [00:01<01:26,  1.76s/it]\u001b[A\n",
      "  4%|▍         | 2/50 [00:03<01:22,  1.73s/it]\u001b[A\n",
      "  6%|▌         | 3/50 [00:06<01:45,  2.24s/it]\u001b[A\n",
      "  8%|▊         | 4/50 [00:07<01:32,  2.01s/it]\u001b[A\n",
      " 10%|█         | 5/50 [00:09<01:30,  2.00s/it]\u001b[A\n",
      " 12%|█▏        | 6/50 [00:11<01:25,  1.93s/it]\u001b[A\n",
      " 14%|█▍        | 7/50 [00:13<01:20,  1.88s/it]\u001b[A\n",
      " 16%|█▌        | 8/50 [00:15<01:15,  1.79s/it]\u001b[A\n",
      " 18%|█▊        | 9/50 [00:16<01:11,  1.74s/it]\u001b[A\n",
      " 20%|██        | 10/50 [00:18<01:08,  1.71s/it]\u001b[A\n",
      " 22%|██▏       | 11/50 [00:20<01:05,  1.68s/it]\u001b[A\n",
      " 24%|██▍       | 12/50 [00:21<01:03,  1.68s/it]\u001b[A\n",
      " 26%|██▌       | 13/50 [00:23<01:01,  1.67s/it]\u001b[A\n",
      " 28%|██▊       | 14/50 [00:25<01:03,  1.76s/it]\u001b[A\n",
      " 30%|███       | 15/50 [00:27<01:03,  1.81s/it]\u001b[A\n",
      " 32%|███▏      | 16/50 [00:28<00:59,  1.76s/it]\u001b[A\n",
      " 34%|███▍      | 17/50 [00:30<00:55,  1.69s/it]\u001b[A\n",
      " 36%|███▌      | 18/50 [00:32<00:53,  1.67s/it]\u001b[A\n",
      " 38%|███▊      | 19/50 [00:33<00:52,  1.71s/it]\u001b[A\n",
      " 40%|████      | 20/50 [00:35<00:53,  1.77s/it]\u001b[A\n",
      " 42%|████▏     | 21/50 [00:37<00:52,  1.80s/it]\u001b[A\n",
      " 44%|████▍     | 22/50 [00:39<00:50,  1.80s/it]\u001b[A\n",
      " 46%|████▌     | 23/50 [00:41<00:48,  1.78s/it]\u001b[A\n",
      " 48%|████▊     | 24/50 [00:42<00:45,  1.75s/it]\u001b[A\n",
      " 50%|█████     | 25/50 [00:44<00:42,  1.72s/it]\u001b[A\n",
      " 52%|█████▏    | 26/50 [00:46<00:43,  1.79s/it]\u001b[A\n",
      " 54%|█████▍    | 27/50 [00:48<00:40,  1.76s/it]\u001b[A\n",
      " 56%|█████▌    | 28/50 [00:49<00:38,  1.75s/it]\u001b[A\n",
      " 58%|█████▊    | 29/50 [00:51<00:35,  1.71s/it]\u001b[A\n",
      " 60%|██████    | 30/50 [00:53<00:35,  1.77s/it]\u001b[A\n",
      " 62%|██████▏   | 31/50 [00:54<00:32,  1.71s/it]\u001b[A\n",
      " 64%|██████▍   | 32/50 [00:56<00:32,  1.79s/it]\u001b[A\n",
      " 66%|██████▌   | 33/50 [00:58<00:30,  1.80s/it]\u001b[A\n",
      " 68%|██████▊   | 34/50 [01:00<00:28,  1.77s/it]\u001b[A\n",
      " 70%|███████   | 35/50 [01:02<00:25,  1.73s/it]\u001b[A\n",
      " 72%|███████▏  | 36/50 [01:03<00:23,  1.71s/it]\u001b[A\n",
      " 74%|███████▍  | 37/50 [01:05<00:22,  1.71s/it]\u001b[A\n",
      " 76%|███████▌  | 38/50 [01:07<00:20,  1.70s/it]\u001b[A\n",
      " 78%|███████▊  | 39/50 [01:08<00:19,  1.76s/it]\u001b[A\n",
      " 80%|████████  | 40/50 [01:10<00:18,  1.83s/it]\u001b[A\n",
      " 82%|████████▏ | 41/50 [01:12<00:15,  1.77s/it]\u001b[A\n",
      " 84%|████████▍ | 42/50 [01:13<00:12,  1.60s/it]\u001b[A"
     ]
    },
    {
     "name": "stdout",
     "output_type": "stream",
     "text": [
      "['抽象了一种基于中心的战术应用场景与业务,并将网络编码技术应用于此类场景的实时数据多播业务中。在分析基于中心网络与Many-to-all业务模式', '普适计算环境中未知移动节点的位置信息是定位服务要解决的关键技术。在普适计算二维空间定位过程中,通过对三角形定位单元区域的误差分析,提出了定位单元布局', '运用传统体系结构描述语言描述的软件体系结构']\n",
      "['网络编码在实时战术数据多播中的应用', '普适计算中定位单元布局研究', '基于时序逻辑的面向方面体系结构描述语言']\n"
     ]
    },
    {
     "name": "stderr",
     "output_type": "stream",
     "text": [
      " 84%|████████▍ | 42/50 [01:14<00:14,  1.78s/it]\n",
      "[2022-05-28 22:22:00,150][model_v2.py][line:426][INFO] ********** Saving best result in step 3200 **********\n",
      "[2022-05-28 22:22:00,153][model_v2.py][line:426][INFO] ********** Evaluating Done **********\n"
     ]
    },
    {
     "name": "stdout",
     "output_type": "stream",
     "text": [
      "{'rouge-1': 0.3976569475253604, 'rouge-2': 0.27283725696074573, 'rouge-l': 0.34548843121498934, 'bleu': 13.192568248341631}\n",
      "********** Saving best result in step 3200 **********\n",
      "********** Evaluating Done **********\n"
     ]
    },
    {
     "name": "stderr",
     "output_type": "stream",
     "text": [
      " 64%|██████▍   | 3225/5000 [6:28:43<3:16:32,  6.64s/it][2022-05-28 22:24:50,579][model_v2.py][line:426][INFO] global_steps 3225 - lr: 0.0000136502  loss: 1.10861802\n"
     ]
    },
    {
     "name": "stdout",
     "output_type": "stream",
     "text": [
      "global_steps 3225 - lr: 0.0000136502  loss: 1.10861802\n"
     ]
    },
    {
     "name": "stderr",
     "output_type": "stream",
     "text": [
      " 65%|██████▌   | 3250/5000 [6:31:29<2:59:21,  6.15s/it][2022-05-28 22:27:35,932][model_v2.py][line:426][INFO] global_steps 3250 - lr: 0.0000133018  loss: 1.40373135\n"
     ]
    },
    {
     "name": "stdout",
     "output_type": "stream",
     "text": [
      "global_steps 3250 - lr: 0.0000133018  loss: 1.40373135\n"
     ]
    },
    {
     "name": "stderr",
     "output_type": "stream",
     "text": [
      " 66%|██████▌   | 3275/5000 [6:34:16<3:21:54,  7.02s/it][2022-05-28 22:30:23,363][model_v2.py][line:426][INFO] global_steps 3275 - lr: 0.0000129562  loss: 1.03586566\n"
     ]
    },
    {
     "name": "stdout",
     "output_type": "stream",
     "text": [
      "global_steps 3275 - lr: 0.0000129562  loss: 1.03586566\n"
     ]
    },
    {
     "name": "stderr",
     "output_type": "stream",
     "text": [
      " 66%|██████▌   | 3300/5000 [6:37:08<3:14:20,  6.86s/it][2022-05-28 22:33:15,045][model_v2.py][line:426][INFO] global_steps 3300 - lr: 0.0000126135  loss: 1.08564639\n",
      "[2022-05-28 22:33:15,049][model_v2.py][line:426][INFO] ********** Running evaluating **********\n",
      "[2022-05-28 22:33:15,053][model_v2.py][line:426][INFO] ********** Step 3300 **********\n"
     ]
    },
    {
     "name": "stdout",
     "output_type": "stream",
     "text": [
      "global_steps 3300 - lr: 0.0000126135  loss: 1.08564639\n",
      "********** Running evaluating **********\n",
      "********** Step 3300 **********\n"
     ]
    },
    {
     "name": "stderr",
     "output_type": "stream",
     "text": [
      "\n",
      "  0%|          | 0/50 [00:00<?, ?it/s]\u001b[A\n",
      "  2%|▏         | 1/50 [00:01<01:20,  1.64s/it]\u001b[A\n",
      "  4%|▍         | 2/50 [00:03<01:19,  1.66s/it]\u001b[A\n",
      "  6%|▌         | 3/50 [00:06<01:45,  2.24s/it]\u001b[A\n",
      "  8%|▊         | 4/50 [00:07<01:30,  1.97s/it]\u001b[A\n",
      " 10%|█         | 5/50 [00:09<01:28,  1.96s/it]\u001b[A\n",
      " 12%|█▏        | 6/50 [00:11<01:21,  1.86s/it]\u001b[A\n",
      " 14%|█▍        | 7/50 [00:12<01:15,  1.75s/it]\u001b[A\n",
      " 16%|█▌        | 8/50 [00:14<01:10,  1.69s/it]\u001b[A\n",
      " 18%|█▊        | 9/50 [00:16<01:10,  1.71s/it]\u001b[A\n",
      " 20%|██        | 10/50 [00:17<01:06,  1.67s/it]\u001b[A\n",
      " 22%|██▏       | 11/50 [00:19<01:03,  1.64s/it]\u001b[A\n",
      " 24%|██▍       | 12/50 [00:21<01:04,  1.68s/it]\u001b[A\n",
      " 26%|██▌       | 13/50 [00:22<01:00,  1.64s/it]\u001b[A\n",
      " 28%|██▊       | 14/50 [00:24<00:59,  1.66s/it]\u001b[A\n",
      " 30%|███       | 15/50 [00:26<00:58,  1.67s/it]\u001b[A\n",
      " 32%|███▏      | 16/50 [00:27<00:56,  1.66s/it]\u001b[A\n",
      " 34%|███▍      | 17/50 [00:29<00:52,  1.60s/it]\u001b[A\n",
      " 36%|███▌      | 18/50 [00:30<00:50,  1.59s/it]\u001b[A\n",
      " 38%|███▊      | 19/50 [00:32<00:48,  1.57s/it]\u001b[A\n",
      " 40%|████      | 20/50 [00:33<00:47,  1.58s/it]\u001b[A\n",
      " 42%|████▏     | 21/50 [00:35<00:46,  1.59s/it]\u001b[A\n",
      " 44%|████▍     | 22/50 [00:37<00:44,  1.59s/it]\u001b[A\n",
      " 46%|████▌     | 23/50 [00:39<00:47,  1.75s/it]\u001b[A\n",
      " 48%|████▊     | 24/50 [00:40<00:44,  1.70s/it]\u001b[A\n",
      " 50%|█████     | 25/50 [00:42<00:41,  1.68s/it]\u001b[A\n",
      " 52%|█████▏    | 26/50 [00:44<00:40,  1.68s/it]\u001b[A\n",
      " 54%|█████▍    | 27/50 [00:45<00:38,  1.66s/it]\u001b[A\n",
      " 56%|█████▌    | 28/50 [00:47<00:36,  1.64s/it]\u001b[A\n",
      " 58%|█████▊    | 29/50 [00:49<00:35,  1.67s/it]\u001b[A\n",
      " 60%|██████    | 30/50 [00:50<00:34,  1.71s/it]\u001b[A\n",
      " 62%|██████▏   | 31/50 [00:52<00:32,  1.69s/it]\u001b[A\n",
      " 64%|██████▍   | 32/50 [00:54<00:29,  1.65s/it]\u001b[A\n",
      " 66%|██████▌   | 33/50 [00:55<00:27,  1.62s/it]\u001b[A\n",
      " 68%|██████▊   | 34/50 [00:57<00:26,  1.63s/it]\u001b[A\n",
      " 70%|███████   | 35/50 [00:58<00:23,  1.60s/it]\u001b[A\n",
      " 72%|███████▏  | 36/50 [01:00<00:22,  1.63s/it]\u001b[A\n",
      " 74%|███████▍  | 37/50 [01:02<00:21,  1.64s/it]\u001b[A\n",
      " 76%|███████▌  | 38/50 [01:03<00:19,  1.62s/it]\u001b[A\n",
      " 78%|███████▊  | 39/50 [01:05<00:17,  1.60s/it]\u001b[A\n",
      " 80%|████████  | 40/50 [01:06<00:15,  1.56s/it]\u001b[A\n",
      " 82%|████████▏ | 41/50 [01:08<00:14,  1.57s/it]\u001b[A\n",
      " 84%|████████▍ | 42/50 [01:09<00:11,  1.47s/it]\u001b[A"
     ]
    },
    {
     "name": "stdout",
     "output_type": "stream",
     "text": [
      "['一种基于中心网络的战术应用场景与业务,并将网络编码技术应用于此类场景的实时数据多播业务中。在分析基于中心网络与Many-to-all业务模式特', '普适计算二维空间定位过程中,通过对三角形定位单元区域的误差分析,提出了定位单元布局(LUD)定理。在此基础上,对多个定位单元布局进行了研究,定义', '基于时序逻辑结构描述语言描述的软件体系结构']\n",
      "['网络编码在实时战术数据多播中的应用', '普适计算中定位单元布局研究', '基于时序逻辑的面向方面体系结构描述语言']\n"
     ]
    },
    {
     "name": "stderr",
     "output_type": "stream",
     "text": [
      " 84%|████████▍ | 42/50 [01:10<00:13,  1.67s/it]\n",
      "[2022-05-28 22:34:31,811][model_v2.py][line:426][INFO] ********** Saving best result in step 3300 **********\n",
      "[2022-05-28 22:34:31,813][model_v2.py][line:426][INFO] ********** Evaluating Done **********\n"
     ]
    },
    {
     "name": "stdout",
     "output_type": "stream",
     "text": [
      "{'rouge-1': 0.46511835884390224, 'rouge-2': 0.3414821500670461, 'rouge-l': 0.42297596931456305, 'bleu': 16.640384695770596}\n",
      "********** Saving best result in step 3300 **********\n",
      "********** Evaluating Done **********\n"
     ]
    },
    {
     "name": "stderr",
     "output_type": "stream",
     "text": [
      " 66%|██████▋   | 3325/5000 [6:41:16<3:07:22,  6.71s/it][2022-05-28 22:37:23,642][model_v2.py][line:426][INFO] global_steps 3325 - lr: 0.0000122740  loss: 1.05251026\n"
     ]
    },
    {
     "name": "stdout",
     "output_type": "stream",
     "text": [
      "global_steps 3325 - lr: 0.0000122740  loss: 1.05251026\n"
     ]
    },
    {
     "name": "stderr",
     "output_type": "stream",
     "text": [
      " 67%|██████▋   | 3350/5000 [6:44:11<3:29:09,  7.61s/it][2022-05-28 22:40:18,703][model_v2.py][line:426][INFO] global_steps 3350 - lr: 0.0000119375  loss: 1.13554835\n"
     ]
    },
    {
     "name": "stdout",
     "output_type": "stream",
     "text": [
      "global_steps 3350 - lr: 0.0000119375  loss: 1.13554835\n"
     ]
    },
    {
     "name": "stderr",
     "output_type": "stream",
     "text": [
      " 68%|██████▊   | 3375/5000 [6:47:01<3:02:58,  6.76s/it][2022-05-28 22:43:07,902][model_v2.py][line:426][INFO] global_steps 3375 - lr: 0.0000116043  loss: 0.95767558\n"
     ]
    },
    {
     "name": "stdout",
     "output_type": "stream",
     "text": [
      "global_steps 3375 - lr: 0.0000116043  loss: 0.95767558\n"
     ]
    },
    {
     "name": "stderr",
     "output_type": "stream",
     "text": [
      " 68%|██████▊   | 3400/5000 [6:49:59<2:58:54,  6.71s/it][2022-05-28 22:46:06,103][model_v2.py][line:426][INFO] global_steps 3400 - lr: 0.0000112744  loss: 0.97746408\n",
      "[2022-05-28 22:46:06,104][model_v2.py][line:426][INFO] ********** Running evaluating **********\n",
      "[2022-05-28 22:46:06,106][model_v2.py][line:426][INFO] ********** Step 3400 **********\n"
     ]
    },
    {
     "name": "stdout",
     "output_type": "stream",
     "text": [
      "global_steps 3400 - lr: 0.0000112744  loss: 0.97746408\n",
      "********** Running evaluating **********\n",
      "********** Step 3400 **********\n"
     ]
    },
    {
     "name": "stderr",
     "output_type": "stream",
     "text": [
      "\n",
      "  0%|          | 0/50 [00:00<?, ?it/s]\u001b[A\n",
      "  2%|▏         | 1/50 [00:01<01:31,  1.86s/it]\u001b[A\n",
      "  4%|▍         | 2/50 [00:03<01:24,  1.75s/it]\u001b[A\n",
      "  6%|▌         | 3/50 [00:05<01:26,  1.84s/it]\u001b[A\n",
      "  8%|▊         | 4/50 [00:07<01:19,  1.74s/it]\u001b[A\n",
      " 10%|█         | 5/50 [00:08<01:19,  1.78s/it]\u001b[A\n",
      " 12%|█▏        | 6/50 [00:10<01:15,  1.72s/it]\u001b[A\n",
      " 14%|█▍        | 7/50 [00:12<01:14,  1.74s/it]\u001b[A\n",
      " 16%|█▌        | 8/50 [00:13<01:10,  1.68s/it]\u001b[A\n",
      " 18%|█▊        | 9/50 [00:15<01:09,  1.69s/it]\u001b[A\n",
      " 20%|██        | 10/50 [00:17<01:06,  1.66s/it]\u001b[A\n",
      " 22%|██▏       | 11/50 [00:18<01:04,  1.65s/it]\u001b[A\n",
      " 24%|██▍       | 12/50 [00:20<01:02,  1.65s/it]\u001b[A\n",
      " 26%|██▌       | 13/50 [00:21<01:00,  1.62s/it]\u001b[A\n",
      " 28%|██▊       | 14/50 [00:23<01:00,  1.68s/it]\u001b[A\n",
      " 30%|███       | 15/50 [00:25<01:03,  1.82s/it]\u001b[A\n",
      " 32%|███▏      | 16/50 [00:27<00:58,  1.71s/it]\u001b[A\n",
      " 34%|███▍      | 17/50 [00:28<00:53,  1.62s/it]\u001b[A\n",
      " 36%|███▌      | 18/50 [00:30<00:51,  1.60s/it]\u001b[A\n",
      " 38%|███▊      | 19/50 [00:31<00:48,  1.58s/it]\u001b[A\n",
      " 40%|████      | 20/50 [00:33<00:47,  1.58s/it]\u001b[A\n",
      " 42%|████▏     | 21/50 [00:35<00:46,  1.60s/it]\u001b[A\n",
      " 44%|████▍     | 22/50 [00:37<00:48,  1.73s/it]\u001b[A\n",
      " 46%|████▌     | 23/50 [00:38<00:45,  1.69s/it]\u001b[A\n",
      " 48%|████▊     | 24/50 [00:40<00:42,  1.65s/it]\u001b[A\n",
      " 50%|█████     | 25/50 [00:41<00:41,  1.64s/it]\u001b[A\n",
      " 52%|█████▏    | 26/50 [00:43<00:40,  1.68s/it]\u001b[A\n",
      " 54%|█████▍    | 27/50 [00:45<00:38,  1.66s/it]\u001b[A\n",
      " 56%|█████▌    | 28/50 [00:46<00:36,  1.65s/it]\u001b[A\n",
      " 58%|█████▊    | 29/50 [00:48<00:35,  1.68s/it]\u001b[A\n",
      " 60%|██████    | 30/50 [00:50<00:34,  1.73s/it]\u001b[A\n",
      " 62%|██████▏   | 31/50 [00:51<00:31,  1.65s/it]\u001b[A\n",
      " 64%|██████▍   | 32/50 [00:53<00:29,  1.63s/it]\u001b[A\n",
      " 66%|██████▌   | 33/50 [00:55<00:27,  1.61s/it]\u001b[A\n",
      " 68%|██████▊   | 34/50 [00:56<00:25,  1.62s/it]\u001b[A\n",
      " 70%|███████   | 35/50 [00:58<00:26,  1.78s/it]\u001b[A\n",
      " 72%|███████▏  | 36/50 [01:00<00:24,  1.72s/it]\u001b[A\n",
      " 74%|███████▍  | 37/50 [01:02<00:22,  1.71s/it]\u001b[A\n",
      " 76%|███████▌  | 38/50 [01:03<00:19,  1.65s/it]\u001b[A\n",
      " 78%|███████▊  | 39/50 [01:05<00:17,  1.63s/it]\u001b[A\n",
      " 80%|████████  | 40/50 [01:06<00:15,  1.58s/it]\u001b[A\n",
      " 82%|████████▏ | 41/50 [01:08<00:14,  1.62s/it]\u001b[A\n",
      " 84%|████████▍ | 42/50 [01:09<00:12,  1.55s/it]\u001b[A"
     ]
    },
    {
     "name": "stdout",
     "output_type": "stream",
     "text": [
      "['一种基于中心网络的战术应用场景与业务,并将网络编码技术应用于此类场景的实时数据多播业务中。在分析基于中心网络与Many-to-all业务模式特', '普适计算二维空间定位过程中,通过对三角形定位单元区域的误差分析,提出了定位单元布局(LUD)定理。在此基础上,对多个定位单元布局进行了研究,定义', '基于时序逻辑结构描述语言描述的软件体系结构']\n",
      "['网络编码在实时战术数据多播中的应用', '普适计算中定位单元布局研究', '基于时序逻辑的面向方面体系结构描述语言']\n"
     ]
    },
    {
     "name": "stderr",
     "output_type": "stream",
     "text": [
      " 84%|████████▍ | 42/50 [01:10<00:13,  1.68s/it]\n",
      "[2022-05-28 22:47:23,013][model_v2.py][line:426][INFO] ********** Saving best result in step 3400 **********\n",
      "[2022-05-28 22:47:23,015][model_v2.py][line:426][INFO] ********** Evaluating Done **********\n"
     ]
    },
    {
     "name": "stdout",
     "output_type": "stream",
     "text": [
      "{'rouge-1': 0.46230270841253646, 'rouge-2': 0.3389960630848654, 'rouge-l': 0.4197852172350971, 'bleu': 16.439642930360357}\n",
      "********** Saving best result in step 3400 **********\n",
      "********** Evaluating Done **********\n"
     ]
    },
    {
     "name": "stderr",
     "output_type": "stream",
     "text": [
      " 68%|██████▊   | 3425/5000 [6:54:05<3:23:26,  7.75s/it][2022-05-28 22:50:12,073][model_v2.py][line:426][INFO] global_steps 3425 - lr: 0.0000109479  loss: 0.98954022\n"
     ]
    },
    {
     "name": "stdout",
     "output_type": "stream",
     "text": [
      "global_steps 3425 - lr: 0.0000109479  loss: 0.98954022\n"
     ]
    },
    {
     "name": "stderr",
     "output_type": "stream",
     "text": [
      " 69%|██████▉   | 3450/5000 [6:56:50<2:58:42,  6.92s/it][2022-05-28 22:52:57,248][model_v2.py][line:426][INFO] global_steps 3450 - lr: 0.0000106249  loss: 1.15700531\n"
     ]
    },
    {
     "name": "stdout",
     "output_type": "stream",
     "text": [
      "global_steps 3450 - lr: 0.0000106249  loss: 1.15700531\n"
     ]
    },
    {
     "name": "stderr",
     "output_type": "stream",
     "text": [
      " 70%|██████▉   | 3475/5000 [6:59:40<2:41:26,  6.35s/it][2022-05-28 22:55:47,510][model_v2.py][line:426][INFO] global_steps 3475 - lr: 0.0000103054  loss: 1.18938947\n"
     ]
    },
    {
     "name": "stdout",
     "output_type": "stream",
     "text": [
      "global_steps 3475 - lr: 0.0000103054  loss: 1.18938947\n"
     ]
    },
    {
     "name": "stderr",
     "output_type": "stream",
     "text": [
      " 70%|███████   | 3500/5000 [7:02:43<3:06:13,  7.45s/it][2022-05-28 22:58:49,887][model_v2.py][line:426][INFO] global_steps 3500 - lr: 0.0000099895  loss: 0.96110809\n",
      "[2022-05-28 22:58:49,888][model_v2.py][line:426][INFO] ********** Running evaluating **********\n",
      "[2022-05-28 22:58:49,888][model_v2.py][line:426][INFO] ********** Step 3500 **********\n"
     ]
    },
    {
     "name": "stdout",
     "output_type": "stream",
     "text": [
      "global_steps 3500 - lr: 0.0000099895  loss: 0.96110809\n",
      "********** Running evaluating **********\n",
      "********** Step 3500 **********\n"
     ]
    },
    {
     "name": "stderr",
     "output_type": "stream",
     "text": [
      "\n",
      "  0%|          | 0/50 [00:00<?, ?it/s]\u001b[A\n",
      "  2%|▏         | 1/50 [00:01<01:22,  1.68s/it]\u001b[A\n",
      "  4%|▍         | 2/50 [00:03<01:18,  1.63s/it]\u001b[A\n",
      "  6%|▌         | 3/50 [00:05<01:25,  1.83s/it]\u001b[A\n",
      "  8%|▊         | 4/50 [00:06<01:20,  1.74s/it]\u001b[A\n",
      " 10%|█         | 5/50 [00:08<01:20,  1.80s/it]\u001b[A\n",
      " 12%|█▏        | 6/50 [00:10<01:21,  1.84s/it]\u001b[A\n",
      " 14%|█▍        | 7/50 [00:12<01:14,  1.74s/it]\u001b[A\n",
      " 16%|█▌        | 8/50 [00:13<01:10,  1.67s/it]\u001b[A\n",
      " 18%|█▊        | 9/50 [00:15<01:06,  1.62s/it]\u001b[A\n",
      " 20%|██        | 10/50 [00:16<01:03,  1.60s/it]\u001b[A\n",
      " 22%|██▏       | 11/50 [00:18<01:01,  1.58s/it]\u001b[A\n",
      " 24%|██▍       | 12/50 [00:20<01:00,  1.59s/it]\u001b[A\n",
      " 26%|██▌       | 13/50 [00:22<01:04,  1.74s/it]\u001b[A\n",
      " 28%|██▊       | 14/50 [00:23<01:02,  1.74s/it]\u001b[A\n",
      " 30%|███       | 15/50 [00:25<01:00,  1.72s/it]\u001b[A\n",
      " 32%|███▏      | 16/50 [00:27<00:57,  1.69s/it]\u001b[A\n",
      " 34%|███▍      | 17/50 [00:28<00:53,  1.63s/it]\u001b[A\n",
      " 36%|███▌      | 18/50 [00:30<00:51,  1.62s/it]\u001b[A\n",
      " 38%|███▊      | 19/50 [00:31<00:50,  1.64s/it]\u001b[A\n",
      " 40%|████      | 20/50 [00:33<00:48,  1.63s/it]\u001b[A\n",
      " 42%|████▏     | 21/50 [00:35<00:47,  1.63s/it]\u001b[A\n",
      " 44%|████▍     | 22/50 [00:36<00:45,  1.62s/it]\u001b[A\n",
      " 46%|████▌     | 23/50 [00:38<00:43,  1.62s/it]\u001b[A\n",
      " 48%|████▊     | 24/50 [00:39<00:41,  1.60s/it]\u001b[A\n",
      " 50%|█████     | 25/50 [00:41<00:40,  1.60s/it]\u001b[A\n",
      " 52%|█████▏    | 26/50 [00:43<00:40,  1.69s/it]\u001b[A\n",
      " 54%|█████▍    | 27/50 [00:45<00:38,  1.66s/it]\u001b[A\n",
      " 56%|█████▌    | 28/50 [00:46<00:35,  1.63s/it]\u001b[A\n",
      " 58%|█████▊    | 29/50 [00:48<00:33,  1.60s/it]\u001b[A\n",
      " 60%|██████    | 30/50 [00:49<00:33,  1.67s/it]\u001b[A\n",
      " 62%|██████▏   | 31/50 [00:51<00:30,  1.61s/it]\u001b[A\n",
      " 64%|██████▍   | 32/50 [00:52<00:28,  1.60s/it]\u001b[A\n",
      " 66%|██████▌   | 33/50 [00:55<00:29,  1.76s/it]\u001b[A\n",
      " 68%|██████▊   | 34/50 [00:56<00:27,  1.72s/it]\u001b[A\n",
      " 70%|███████   | 35/50 [00:58<00:25,  1.73s/it]\u001b[A\n",
      " 72%|███████▏  | 36/50 [01:00<00:23,  1.68s/it]\u001b[A\n",
      " 74%|███████▍  | 37/50 [01:01<00:21,  1.68s/it]\u001b[A\n",
      " 76%|███████▌  | 38/50 [01:03<00:19,  1.63s/it]\u001b[A\n",
      " 78%|███████▊  | 39/50 [01:04<00:18,  1.66s/it]\u001b[A\n",
      " 80%|████████  | 40/50 [01:06<00:15,  1.60s/it]\u001b[A\n",
      " 82%|████████▏ | 41/50 [01:07<00:14,  1.58s/it]\u001b[A\n",
      " 84%|████████▍ | 42/50 [01:09<00:11,  1.48s/it]\u001b[A"
     ]
    },
    {
     "name": "stdout",
     "output_type": "stream",
     "text": [
      "['一种基于中心网络的战术应用场景与业务,并将网络编码技术应用于此类场景的实时数据多播业务中。在分析基于中心网络与Many-to-all业务模式特', '普适计算二维空间定位过程中,通过对三角形定位单元区域的误差分析,提出了定位单元布局(LUD)定理。在此基础上,对多个定位单元布局进行了研究,定义', '基于时序逻辑语言XYZ/E的软件体系结构描述方法']\n",
      "['网络编码在实时战术数据多播中的应用', '普适计算中定位单元布局研究', '基于时序逻辑的面向方面体系结构描述语言']\n"
     ]
    },
    {
     "name": "stderr",
     "output_type": "stream",
     "text": [
      " 84%|████████▍ | 42/50 [01:09<00:13,  1.66s/it]\n",
      "[2022-05-28 23:00:06,596][model_v2.py][line:426][INFO] ********** Saving best result in step 3500 **********\n",
      "[2022-05-28 23:00:06,611][model_v2.py][line:426][INFO] ********** Evaluating Done **********\n"
     ]
    },
    {
     "name": "stdout",
     "output_type": "stream",
     "text": [
      "{'rouge-1': 0.4691753033306041, 'rouge-2': 0.3462186997802015, 'rouge-l': 0.42749301579460297, 'bleu': 17.084901129757043}\n",
      "********** Saving best result in step 3500 **********\n",
      "********** Evaluating Done **********\n"
     ]
    },
    {
     "name": "stderr",
     "output_type": "stream",
     "text": [
      " 70%|███████   | 3525/5000 [7:06:48<2:49:33,  6.90s/it][2022-05-28 23:02:54,959][model_v2.py][line:426][INFO] global_steps 3525 - lr: 0.0000096773  loss: 1.15903497\n"
     ]
    },
    {
     "name": "stdout",
     "output_type": "stream",
     "text": [
      "global_steps 3525 - lr: 0.0000096773  loss: 1.15903497\n"
     ]
    },
    {
     "name": "stderr",
     "output_type": "stream",
     "text": [
      " 71%|███████   | 3550/5000 [7:09:50<2:46:57,  6.91s/it][2022-05-28 23:05:56,824][model_v2.py][line:426][INFO] global_steps 3550 - lr: 0.0000093689  loss: 0.91612220\n"
     ]
    },
    {
     "name": "stdout",
     "output_type": "stream",
     "text": [
      "global_steps 3550 - lr: 0.0000093689  loss: 0.91612220\n"
     ]
    },
    {
     "name": "stderr",
     "output_type": "stream",
     "text": [
      " 72%|███████▏  | 3575/5000 [7:12:47<2:38:30,  6.67s/it][2022-05-28 23:08:54,093][model_v2.py][line:426][INFO] global_steps 3575 - lr: 0.0000090644  loss: 0.94939315\n"
     ]
    },
    {
     "name": "stdout",
     "output_type": "stream",
     "text": [
      "global_steps 3575 - lr: 0.0000090644  loss: 0.94939315\n"
     ]
    },
    {
     "name": "stderr",
     "output_type": "stream",
     "text": [
      " 72%|███████▏  | 3600/5000 [7:15:32<2:35:41,  6.67s/it][2022-05-28 23:11:39,119][model_v2.py][line:426][INFO] global_steps 3600 - lr: 0.0000087638  loss: 0.99351001\n",
      "[2022-05-28 23:11:39,121][model_v2.py][line:426][INFO] ********** Running evaluating **********\n",
      "[2022-05-28 23:11:39,124][model_v2.py][line:426][INFO] ********** Step 3600 **********\n"
     ]
    },
    {
     "name": "stdout",
     "output_type": "stream",
     "text": [
      "global_steps 3600 - lr: 0.0000087638  loss: 0.99351001\n",
      "********** Running evaluating **********\n",
      "********** Step 3600 **********\n"
     ]
    },
    {
     "name": "stderr",
     "output_type": "stream",
     "text": [
      "\n",
      "  0%|          | 0/50 [00:00<?, ?it/s]\u001b[A\n",
      "  2%|▏         | 1/50 [00:01<01:21,  1.66s/it]\u001b[A\n",
      "  4%|▍         | 2/50 [00:03<01:18,  1.63s/it]\u001b[A\n",
      "  6%|▌         | 3/50 [00:05<01:27,  1.86s/it]\u001b[A\n",
      "  8%|▊         | 4/50 [00:07<01:21,  1.78s/it]\u001b[A\n",
      " 10%|█         | 5/50 [00:08<01:21,  1.80s/it]\u001b[A\n",
      " 12%|█▏        | 6/50 [00:11<01:26,  1.97s/it]\u001b[A\n",
      " 14%|█▍        | 7/50 [00:12<01:21,  1.89s/it]\u001b[A\n",
      " 16%|█▌        | 8/50 [00:14<01:17,  1.84s/it]\u001b[A\n",
      " 18%|█▊        | 9/50 [00:16<01:11,  1.74s/it]\u001b[A\n",
      " 20%|██        | 10/50 [00:17<01:07,  1.69s/it]\u001b[A\n",
      " 22%|██▏       | 11/50 [00:19<01:04,  1.65s/it]\u001b[A\n",
      " 24%|██▍       | 12/50 [00:20<01:02,  1.64s/it]\u001b[A\n",
      " 26%|██▌       | 13/50 [00:22<01:03,  1.71s/it]\u001b[A\n",
      " 28%|██▊       | 14/50 [00:24<01:02,  1.73s/it]\u001b[A\n",
      " 30%|███       | 15/50 [00:26<01:00,  1.72s/it]\u001b[A\n",
      " 32%|███▏      | 16/50 [00:27<00:55,  1.64s/it]\u001b[A\n",
      " 34%|███▍      | 17/50 [00:29<00:52,  1.59s/it]\u001b[A\n",
      " 36%|███▌      | 18/50 [00:30<00:50,  1.57s/it]\u001b[A\n",
      " 38%|███▊      | 19/50 [00:32<00:48,  1.55s/it]\u001b[A\n",
      " 40%|████      | 20/50 [00:33<00:48,  1.61s/it]\u001b[A\n",
      " 42%|████▏     | 21/50 [00:35<00:47,  1.62s/it]\u001b[A\n",
      " 44%|████▍     | 22/50 [00:37<00:45,  1.62s/it]\u001b[A\n",
      " 46%|████▌     | 23/50 [00:38<00:43,  1.62s/it]\u001b[A\n",
      " 48%|████▊     | 24/50 [00:40<00:41,  1.59s/it]\u001b[A\n",
      " 50%|█████     | 25/50 [00:42<00:40,  1.60s/it]\u001b[A\n",
      " 52%|█████▏    | 26/50 [00:44<00:43,  1.83s/it]\u001b[A\n",
      " 54%|█████▍    | 27/50 [00:46<00:41,  1.80s/it]\u001b[A\n",
      " 56%|█████▌    | 28/50 [00:47<00:38,  1.73s/it]\u001b[A\n",
      " 58%|█████▊    | 29/50 [00:49<00:35,  1.68s/it]\u001b[A\n",
      " 60%|██████    | 30/50 [00:51<00:34,  1.72s/it]\u001b[A\n",
      " 62%|██████▏   | 31/50 [00:52<00:31,  1.65s/it]\u001b[A\n",
      " 64%|██████▍   | 32/50 [00:54<00:29,  1.61s/it]\u001b[A\n",
      " 66%|██████▌   | 33/50 [00:55<00:27,  1.64s/it]\u001b[A\n",
      " 68%|██████▊   | 34/50 [00:57<00:26,  1.63s/it]\u001b[A\n",
      " 70%|███████   | 35/50 [00:58<00:23,  1.60s/it]\u001b[A\n",
      " 72%|███████▏  | 36/50 [01:00<00:22,  1.57s/it]\u001b[A\n",
      " 74%|███████▍  | 37/50 [01:02<00:20,  1.60s/it]\u001b[A\n",
      " 76%|███████▌  | 38/50 [01:03<00:19,  1.58s/it]\u001b[A\n",
      " 78%|███████▊  | 39/50 [01:05<00:17,  1.58s/it]\u001b[A\n",
      " 80%|████████  | 40/50 [01:06<00:16,  1.61s/it]\u001b[A\n",
      " 82%|████████▏ | 41/50 [01:08<00:14,  1.60s/it]\u001b[A\n",
      " 84%|████████▍ | 42/50 [01:09<00:11,  1.47s/it]\u001b[A"
     ]
    },
    {
     "name": "stdout",
     "output_type": "stream",
     "text": [
      "['一种基于中心网络的战术应用场景与业务,并将网络编码技术应用于此类场景的实时数据多播业务中。在分析基于中心网络与Many-to-all业务模式特', '普适计算二维空间定位过程中,通过对三角形定位单元区域的误差分析,提出了定位单元布局(LUD)定理。在此基础上,对多个定位单元布局进行了研究,定义', '基于时序逻辑结构描述的软件体系结构']\n",
      "['网络编码在实时战术数据多播中的应用', '普适计算中定位单元布局研究', '基于时序逻辑的面向方面体系结构描述语言']\n"
     ]
    },
    {
     "name": "stderr",
     "output_type": "stream",
     "text": [
      " 84%|████████▍ | 42/50 [01:10<00:13,  1.67s/it]\n",
      "[2022-05-28 23:12:55,764][model_v2.py][line:426][INFO] ********** Saving best result in step 3600 **********\n",
      "[2022-05-28 23:12:55,765][model_v2.py][line:426][INFO] ********** Evaluating Done **********\n"
     ]
    },
    {
     "name": "stdout",
     "output_type": "stream",
     "text": [
      "{'rouge-1': 0.4607513764614897, 'rouge-2': 0.3377185362868881, 'rouge-l': 0.4191557724542474, 'bleu': 16.632578593931775}\n",
      "********** Saving best result in step 3600 **********\n",
      "********** Evaluating Done **********\n"
     ]
    },
    {
     "name": "stderr",
     "output_type": "stream",
     "text": [
      " 72%|███████▎  | 3625/5000 [7:19:47<2:35:14,  6.77s/it][2022-05-28 23:15:54,406][model_v2.py][line:426][INFO] global_steps 3625 - lr: 0.0000084672  loss: 1.11197686\n"
     ]
    },
    {
     "name": "stdout",
     "output_type": "stream",
     "text": [
      "global_steps 3625 - lr: 0.0000084672  loss: 1.11197686\n"
     ]
    },
    {
     "name": "stderr",
     "output_type": "stream",
     "text": [
      " 73%|███████▎  | 3650/5000 [7:22:41<2:28:54,  6.62s/it][2022-05-28 23:18:48,267][model_v2.py][line:426][INFO] global_steps 3650 - lr: 0.0000081747  loss: 0.93086594\n"
     ]
    },
    {
     "name": "stdout",
     "output_type": "stream",
     "text": [
      "global_steps 3650 - lr: 0.0000081747  loss: 0.93086594\n"
     ]
    },
    {
     "name": "stderr",
     "output_type": "stream",
     "text": [
      " 74%|███████▎  | 3675/5000 [7:25:26<2:26:41,  6.64s/it][2022-05-28 23:21:33,193][model_v2.py][line:426][INFO] global_steps 3675 - lr: 0.0000078863  loss: 0.99430186\n"
     ]
    },
    {
     "name": "stdout",
     "output_type": "stream",
     "text": [
      "global_steps 3675 - lr: 0.0000078863  loss: 0.99430186\n"
     ]
    },
    {
     "name": "stderr",
     "output_type": "stream",
     "text": [
      " 74%|███████▍  | 3700/5000 [7:28:18<2:35:55,  7.20s/it][2022-05-28 23:24:25,421][model_v2.py][line:426][INFO] global_steps 3700 - lr: 0.0000076022  loss: 0.77461267\n",
      "[2022-05-28 23:24:25,422][model_v2.py][line:426][INFO] ********** Running evaluating **********\n",
      "[2022-05-28 23:24:25,424][model_v2.py][line:426][INFO] ********** Step 3700 **********\n"
     ]
    },
    {
     "name": "stdout",
     "output_type": "stream",
     "text": [
      "global_steps 3700 - lr: 0.0000076022  loss: 0.77461267\n",
      "********** Running evaluating **********\n",
      "********** Step 3700 **********\n"
     ]
    },
    {
     "name": "stderr",
     "output_type": "stream",
     "text": [
      "\n",
      "  0%|          | 0/50 [00:00<?, ?it/s]\u001b[A\n",
      "  2%|▏         | 1/50 [00:01<01:20,  1.65s/it]\u001b[A\n",
      "  4%|▍         | 2/50 [00:03<01:17,  1.62s/it]\u001b[A\n",
      "  6%|▌         | 3/50 [00:05<01:33,  1.98s/it]\u001b[A\n",
      "  8%|▊         | 4/50 [00:07<01:32,  2.01s/it]\u001b[A\n",
      " 10%|█         | 5/50 [00:09<01:28,  1.97s/it]\u001b[A\n",
      " 12%|█▏        | 6/50 [00:11<01:24,  1.93s/it]\u001b[A\n",
      " 14%|█▍        | 7/50 [00:13<01:18,  1.82s/it]\u001b[A\n",
      " 16%|█▌        | 8/50 [00:14<01:15,  1.79s/it]\u001b[A\n",
      " 18%|█▊        | 9/50 [00:16<01:09,  1.70s/it]\u001b[A\n",
      " 20%|██        | 10/50 [00:18<01:09,  1.73s/it]\u001b[A\n",
      " 22%|██▏       | 11/50 [00:19<01:06,  1.69s/it]\u001b[A\n",
      " 24%|██▍       | 12/50 [00:21<01:03,  1.67s/it]\u001b[A\n",
      " 26%|██▌       | 13/50 [00:22<01:01,  1.65s/it]\u001b[A\n",
      " 28%|██▊       | 14/50 [00:24<00:59,  1.66s/it]\u001b[A\n",
      " 30%|███       | 15/50 [00:26<01:00,  1.72s/it]\u001b[A\n",
      " 32%|███▏      | 16/50 [00:27<00:55,  1.64s/it]\u001b[A\n",
      " 34%|███▍      | 17/50 [00:29<00:52,  1.60s/it]\u001b[A\n",
      " 36%|███▌      | 18/50 [00:30<00:50,  1.58s/it]\u001b[A\n",
      " 38%|███▊      | 19/50 [00:32<00:48,  1.56s/it]\u001b[A\n",
      " 40%|████      | 20/50 [00:34<00:47,  1.57s/it]\u001b[A\n",
      " 42%|████▏     | 21/50 [00:35<00:46,  1.59s/it]\u001b[A\n",
      " 44%|████▍     | 22/50 [00:37<00:48,  1.72s/it]\u001b[A\n",
      " 46%|████▌     | 23/50 [00:39<00:46,  1.72s/it]\u001b[A\n",
      " 48%|████▊     | 24/50 [00:40<00:43,  1.66s/it]\u001b[A\n",
      " 50%|█████     | 25/50 [00:42<00:41,  1.64s/it]\u001b[A\n",
      " 52%|█████▏    | 26/50 [00:44<00:40,  1.68s/it]\u001b[A\n",
      " 54%|█████▍    | 27/50 [00:45<00:37,  1.65s/it]\u001b[A\n",
      " 56%|█████▌    | 28/50 [00:47<00:37,  1.69s/it]\u001b[A\n",
      " 58%|█████▊    | 29/50 [00:49<00:35,  1.70s/it]\u001b[A\n",
      " 60%|██████    | 30/50 [00:51<00:34,  1.74s/it]\u001b[A\n",
      " 62%|██████▏   | 31/50 [00:52<00:31,  1.67s/it]\u001b[A\n",
      " 64%|██████▍   | 32/50 [00:54<00:29,  1.63s/it]\u001b[A\n",
      " 66%|██████▌   | 33/50 [00:55<00:27,  1.61s/it]\u001b[A\n",
      " 68%|██████▊   | 34/50 [00:57<00:25,  1.61s/it]\u001b[A\n",
      " 70%|███████   | 35/50 [00:59<00:24,  1.66s/it]\u001b[A\n",
      " 72%|███████▏  | 36/50 [01:00<00:23,  1.64s/it]\u001b[A\n",
      " 74%|███████▍  | 37/50 [01:02<00:21,  1.64s/it]\u001b[A\n",
      " 76%|███████▌  | 38/50 [01:04<00:19,  1.61s/it]\u001b[A\n",
      " 78%|███████▊  | 39/50 [01:05<00:17,  1.61s/it]\u001b[A\n",
      " 80%|████████  | 40/50 [01:07<00:15,  1.56s/it]\u001b[A\n",
      " 82%|████████▏ | 41/50 [01:08<00:14,  1.56s/it]\u001b[A\n",
      " 84%|████████▍ | 42/50 [01:10<00:12,  1.50s/it]\u001b[A"
     ]
    },
    {
     "name": "stdout",
     "output_type": "stream",
     "text": [
      "['一种基于中心网络的战术应用场景与业务,并将网络编码技术应用于此类场景的实时数据多播业务中。在分析基于中心网络与Many-to-all业务模式特', '普适计算二维空间定位过程中,通过对三角形定位单元区域的误差分析,提出了定位单元布局(LUD)定理。在此基础上,对多个定位单元布局进行了研究,定义', '基于时序逻辑结构描述的软件体系结构']\n",
      "['网络编码在实时战术数据多播中的应用', '普适计算中定位单元布局研究', '基于时序逻辑的面向方面体系结构描述语言']\n"
     ]
    },
    {
     "name": "stderr",
     "output_type": "stream",
     "text": [
      " 84%|████████▍ | 42/50 [01:10<00:13,  1.68s/it]\n",
      "[2022-05-28 23:25:42,690][model_v2.py][line:426][INFO] ********** Saving best result in step 3700 **********\n",
      "[2022-05-28 23:25:42,692][model_v2.py][line:426][INFO] ********** Evaluating Done **********\n"
     ]
    },
    {
     "name": "stdout",
     "output_type": "stream",
     "text": [
      "{'rouge-1': 0.4701635641863957, 'rouge-2': 0.3479211457805539, 'rouge-l': 0.427915810878763, 'bleu': 17.25158931062273}\n",
      "********** Saving best result in step 3700 **********\n",
      "********** Evaluating Done **********\n"
     ]
    },
    {
     "name": "stderr",
     "output_type": "stream",
     "text": [
      " 74%|███████▍  | 3725/5000 [7:32:28<2:20:24,  6.61s/it][2022-05-28 23:28:34,870][model_v2.py][line:426][INFO] global_steps 3725 - lr: 0.0000073223  loss: 1.23555446\n"
     ]
    },
    {
     "name": "stdout",
     "output_type": "stream",
     "text": [
      "global_steps 3725 - lr: 0.0000073223  loss: 1.23555446\n"
     ]
    },
    {
     "name": "stderr",
     "output_type": "stream",
     "text": [
      " 75%|███████▌  | 3750/5000 [7:35:22<2:11:55,  6.33s/it][2022-05-28 23:31:29,328][model_v2.py][line:426][INFO] global_steps 3750 - lr: 0.0000070468  loss: 0.96580768\n"
     ]
    },
    {
     "name": "stdout",
     "output_type": "stream",
     "text": [
      "global_steps 3750 - lr: 0.0000070468  loss: 0.96580768\n"
     ]
    },
    {
     "name": "stderr",
     "output_type": "stream",
     "text": [
      " 76%|███████▌  | 3775/5000 [7:38:16<2:20:49,  6.90s/it][2022-05-28 23:34:23,639][model_v2.py][line:426][INFO] global_steps 3775 - lr: 0.0000067758  loss: 0.92638415\n"
     ]
    },
    {
     "name": "stdout",
     "output_type": "stream",
     "text": [
      "global_steps 3775 - lr: 0.0000067758  loss: 0.92638415\n"
     ]
    },
    {
     "name": "stderr",
     "output_type": "stream",
     "text": [
      " 76%|███████▌  | 3800/5000 [7:41:07<2:08:41,  6.43s/it][2022-05-28 23:37:13,933][model_v2.py][line:426][INFO] global_steps 3800 - lr: 0.0000065092  loss: 1.18990457\n",
      "[2022-05-28 23:37:13,935][model_v2.py][line:426][INFO] ********** Running evaluating **********\n",
      "[2022-05-28 23:37:13,937][model_v2.py][line:426][INFO] ********** Step 3800 **********\n"
     ]
    },
    {
     "name": "stdout",
     "output_type": "stream",
     "text": [
      "global_steps 3800 - lr: 0.0000065092  loss: 1.18990457\n",
      "********** Running evaluating **********\n",
      "********** Step 3800 **********\n"
     ]
    },
    {
     "name": "stderr",
     "output_type": "stream",
     "text": [
      "\n",
      "  0%|          | 0/50 [00:00<?, ?it/s]\u001b[A\n",
      "  2%|▏         | 1/50 [00:01<01:20,  1.65s/it]\u001b[A\n",
      "  4%|▍         | 2/50 [00:03<01:17,  1.62s/it]\u001b[A\n",
      "  6%|▌         | 3/50 [00:05<01:30,  1.92s/it]\u001b[A\n",
      "  8%|▊         | 4/50 [00:07<01:22,  1.79s/it]\u001b[A\n",
      " 10%|█         | 5/50 [00:08<01:21,  1.81s/it]\u001b[A\n",
      " 12%|█▏        | 6/50 [00:10<01:17,  1.76s/it]\u001b[A\n",
      " 14%|█▍        | 7/50 [00:12<01:15,  1.75s/it]\u001b[A\n",
      " 16%|█▌        | 8/50 [00:13<01:10,  1.68s/it]\u001b[A\n",
      " 18%|█▊        | 9/50 [00:15<01:09,  1.69s/it]\u001b[A\n",
      " 20%|██        | 10/50 [00:17<01:08,  1.71s/it]\u001b[A\n",
      " 22%|██▏       | 11/50 [00:19<01:06,  1.69s/it]\u001b[A\n",
      " 24%|██▍       | 12/50 [00:20<01:03,  1.66s/it]\u001b[A\n",
      " 26%|██▌       | 13/50 [00:22<01:05,  1.76s/it]\u001b[A\n",
      " 28%|██▊       | 14/50 [00:24<01:02,  1.74s/it]\u001b[A\n",
      " 30%|███       | 15/50 [00:25<01:00,  1.73s/it]\u001b[A\n",
      " 32%|███▏      | 16/50 [00:28<01:01,  1.82s/it]\u001b[A\n",
      " 34%|███▍      | 17/50 [00:29<00:56,  1.71s/it]\u001b[A\n",
      " 36%|███▌      | 18/50 [00:31<00:53,  1.66s/it]\u001b[A\n",
      " 38%|███▊      | 19/50 [00:32<00:49,  1.61s/it]\u001b[A\n",
      " 40%|████      | 20/50 [00:34<00:48,  1.61s/it]\u001b[A\n",
      " 42%|████▏     | 21/50 [00:35<00:46,  1.60s/it]\u001b[A\n",
      " 44%|████▍     | 22/50 [00:37<00:45,  1.63s/it]\u001b[A\n",
      " 46%|████▌     | 23/50 [00:39<00:43,  1.63s/it]\u001b[A\n",
      " 48%|████▊     | 24/50 [00:40<00:41,  1.59s/it]\u001b[A\n",
      " 50%|█████     | 25/50 [00:42<00:39,  1.60s/it]\u001b[A\n",
      " 52%|█████▏    | 26/50 [00:43<00:39,  1.64s/it]\u001b[A\n",
      " 54%|█████▍    | 27/50 [00:45<00:37,  1.62s/it]\u001b[A\n",
      " 56%|█████▌    | 28/50 [00:47<00:35,  1.61s/it]\u001b[A\n",
      " 58%|█████▊    | 29/50 [00:48<00:35,  1.67s/it]\u001b[A\n",
      " 60%|██████    | 30/50 [00:50<00:34,  1.72s/it]\u001b[A\n",
      " 62%|██████▏   | 31/50 [00:52<00:31,  1.65s/it]\u001b[A\n",
      " 64%|██████▍   | 32/50 [00:53<00:29,  1.63s/it]\u001b[A\n",
      " 66%|██████▌   | 33/50 [00:55<00:29,  1.74s/it]\u001b[A\n",
      " 68%|██████▊   | 34/50 [00:57<00:28,  1.76s/it]\u001b[A\n",
      " 70%|███████   | 35/50 [00:59<00:26,  1.80s/it]\u001b[A\n",
      " 72%|███████▏  | 36/50 [01:00<00:24,  1.73s/it]\u001b[A\n",
      " 74%|███████▍  | 37/50 [01:02<00:22,  1.70s/it]\u001b[A\n",
      " 76%|███████▌  | 38/50 [01:04<00:19,  1.66s/it]\u001b[A\n",
      " 78%|███████▊  | 39/50 [01:05<00:17,  1.63s/it]\u001b[A\n",
      " 80%|████████  | 40/50 [01:07<00:15,  1.58s/it]\u001b[A\n",
      " 82%|████████▏ | 41/50 [01:08<00:14,  1.58s/it]\u001b[A\n",
      " 84%|████████▍ | 42/50 [01:10<00:11,  1.47s/it]\u001b[A"
     ]
    },
    {
     "name": "stdout",
     "output_type": "stream",
     "text": [
      "['一种基于中心网络的战术应用场景与业务,并将网络编码技术应用于此类场景的实时数据多播业务中。在分析基于中心网络与Many-to-all业务模式特', '普适计算二维空间定位过程中,通过对三角形定位单元区域的误差分析,提出了定位单元布局(LUD)定理。在此基础上,对多个定位单元布局进行了研究,定义', '基于时序逻辑结构描述语言描述的软件体系结构']\n",
      "['网络编码在实时战术数据多播中的应用', '普适计算中定位单元布局研究', '基于时序逻辑的面向方面体系结构描述语言']\n"
     ]
    },
    {
     "name": "stderr",
     "output_type": "stream",
     "text": [
      " 84%|████████▍ | 42/50 [01:10<00:13,  1.69s/it]\n",
      "[2022-05-28 23:38:31,560][model_v2.py][line:426][INFO] ********** Saving best result in step 3800 **********\n",
      "[2022-05-28 23:38:31,561][model_v2.py][line:426][INFO] ********** Evaluating Done **********\n"
     ]
    },
    {
     "name": "stdout",
     "output_type": "stream",
     "text": [
      "{'rouge-1': 0.4608902339811333, 'rouge-2': 0.337935882346008, 'rouge-l': 0.4185366532318769, 'bleu': 16.892366762963427}\n",
      "********** Saving best result in step 3800 **********\n",
      "********** Evaluating Done **********\n"
     ]
    },
    {
     "name": "stderr",
     "output_type": "stream",
     "text": [
      " 76%|███████▋  | 3825/5000 [7:45:12<2:15:34,  6.92s/it][2022-05-28 23:41:19,083][model_v2.py][line:426][INFO] global_steps 3825 - lr: 0.0000062472  loss: 1.05934513\n"
     ]
    },
    {
     "name": "stdout",
     "output_type": "stream",
     "text": [
      "global_steps 3825 - lr: 0.0000062472  loss: 1.05934513\n"
     ]
    },
    {
     "name": "stderr",
     "output_type": "stream",
     "text": [
      " 77%|███████▋  | 3850/5000 [7:47:59<2:03:00,  6.42s/it][2022-05-28 23:44:06,758][model_v2.py][line:426][INFO] global_steps 3850 - lr: 0.0000059899  loss: 0.97267282\n"
     ]
    },
    {
     "name": "stdout",
     "output_type": "stream",
     "text": [
      "global_steps 3850 - lr: 0.0000059899  loss: 0.97267282\n"
     ]
    },
    {
     "name": "stderr",
     "output_type": "stream",
     "text": [
      " 78%|███████▊  | 3875/5000 [7:50:54<2:06:56,  6.77s/it][2022-05-28 23:47:01,654][model_v2.py][line:426][INFO] global_steps 3875 - lr: 0.0000057372  loss: 0.98872793\n"
     ]
    },
    {
     "name": "stdout",
     "output_type": "stream",
     "text": [
      "global_steps 3875 - lr: 0.0000057372  loss: 0.98872793\n"
     ]
    },
    {
     "name": "stderr",
     "output_type": "stream",
     "text": [
      " 78%|███████▊  | 3900/5000 [7:53:56<2:21:03,  7.69s/it][2022-05-28 23:50:02,824][model_v2.py][line:426][INFO] global_steps 3900 - lr: 0.0000054892  loss: 1.08166683\n",
      "[2022-05-28 23:50:02,825][model_v2.py][line:426][INFO] ********** Running evaluating **********\n",
      "[2022-05-28 23:50:02,828][model_v2.py][line:426][INFO] ********** Step 3900 **********\n"
     ]
    },
    {
     "name": "stdout",
     "output_type": "stream",
     "text": [
      "global_steps 3900 - lr: 0.0000054892  loss: 1.08166683\n",
      "********** Running evaluating **********\n",
      "********** Step 3900 **********\n"
     ]
    },
    {
     "name": "stderr",
     "output_type": "stream",
     "text": [
      "\n",
      "  0%|          | 0/50 [00:00<?, ?it/s]\u001b[A\n",
      "  2%|▏         | 1/50 [00:01<01:20,  1.65s/it]\u001b[A\n",
      "  4%|▍         | 2/50 [00:03<01:16,  1.60s/it]\u001b[A\n",
      "  6%|▌         | 3/50 [00:05<01:19,  1.69s/it]\u001b[A\n",
      "  8%|▊         | 4/50 [00:06<01:23,  1.81s/it]\u001b[A\n",
      " 10%|█         | 5/50 [00:09<01:24,  1.89s/it]\u001b[A\n",
      " 12%|█▏        | 6/50 [00:10<01:19,  1.81s/it]\u001b[A\n",
      " 14%|█▍        | 7/50 [00:12<01:15,  1.77s/it]\u001b[A\n",
      " 16%|█▌        | 8/50 [00:14<01:13,  1.75s/it]\u001b[A\n",
      " 18%|█▊        | 9/50 [00:15<01:08,  1.67s/it]\u001b[A\n",
      " 20%|██        | 10/50 [00:17<01:07,  1.70s/it]\u001b[A\n",
      " 22%|██▏       | 11/50 [00:18<01:04,  1.67s/it]\u001b[A\n",
      " 24%|██▍       | 12/50 [00:20<01:02,  1.64s/it]\u001b[A\n",
      " 26%|██▌       | 13/50 [00:22<00:59,  1.62s/it]\u001b[A\n",
      " 28%|██▊       | 14/50 [00:23<00:59,  1.64s/it]\u001b[A\n",
      " 30%|███       | 15/50 [00:25<00:57,  1.65s/it]\u001b[A\n",
      " 32%|███▏      | 16/50 [00:26<00:54,  1.61s/it]\u001b[A\n",
      " 34%|███▍      | 17/50 [00:28<00:53,  1.63s/it]\u001b[A\n",
      " 36%|███▌      | 18/50 [00:30<00:51,  1.60s/it]\u001b[A\n",
      " 38%|███▊      | 19/50 [00:31<00:48,  1.58s/it]\u001b[A\n",
      " 40%|████      | 20/50 [00:33<00:47,  1.58s/it]\u001b[A\n",
      " 42%|████▏     | 21/50 [00:34<00:46,  1.59s/it]\u001b[A\n",
      " 44%|████▍     | 22/50 [00:36<00:44,  1.59s/it]\u001b[A\n",
      " 46%|████▌     | 23/50 [00:38<00:43,  1.60s/it]\u001b[A\n",
      " 48%|████▊     | 24/50 [00:39<00:43,  1.67s/it]\u001b[A\n",
      " 50%|█████     | 25/50 [00:41<00:42,  1.70s/it]\u001b[A\n",
      " 52%|█████▏    | 26/50 [00:43<00:41,  1.71s/it]\u001b[A\n",
      " 54%|█████▍    | 27/50 [00:45<00:39,  1.72s/it]\u001b[A\n",
      " 56%|█████▌    | 28/50 [00:46<00:36,  1.66s/it]\u001b[A\n",
      " 58%|█████▊    | 29/50 [00:48<00:34,  1.63s/it]\u001b[A\n",
      " 60%|██████    | 30/50 [00:50<00:35,  1.76s/it]\u001b[A\n",
      " 62%|██████▏   | 31/50 [00:51<00:31,  1.68s/it]\u001b[A\n",
      " 64%|██████▍   | 32/50 [00:53<00:29,  1.64s/it]\u001b[A\n",
      " 66%|██████▌   | 33/50 [00:54<00:27,  1.61s/it]\u001b[A\n",
      " 68%|██████▊   | 34/50 [00:56<00:25,  1.61s/it]\u001b[A\n",
      " 70%|███████   | 35/50 [00:58<00:23,  1.60s/it]\u001b[A\n",
      " 72%|███████▏  | 36/50 [00:59<00:22,  1.58s/it]\u001b[A\n",
      " 74%|███████▍  | 37/50 [01:01<00:21,  1.65s/it]\u001b[A\n",
      " 76%|███████▌  | 38/50 [01:02<00:19,  1.61s/it]\u001b[A\n",
      " 78%|███████▊  | 39/50 [01:04<00:17,  1.60s/it]\u001b[A\n",
      " 80%|████████  | 40/50 [01:05<00:15,  1.55s/it]\u001b[A\n",
      " 82%|████████▏ | 41/50 [01:07<00:14,  1.56s/it]\u001b[A\n",
      " 84%|████████▍ | 42/50 [01:08<00:11,  1.45s/it]\u001b[A"
     ]
    },
    {
     "name": "stdout",
     "output_type": "stream",
     "text": [
      "['一种基于中心网络的战术应用场景与业务,并将网络编码技术应用于此类场景的实时数据多播业务中。在分析基于中心网络与Many-to-all业务模式特', '普适计算二维空间定位过程中,通过对三角形定位单元区域的误差分析,提出了定位单元布局(LUD)定理。在此基础上,对多个定位单元布局进行了研究,定义', '基于时序逻辑结构描述的软件体系结构']\n",
      "['网络编码在实时战术数据多播中的应用', '普适计算中定位单元布局研究', '基于时序逻辑的面向方面体系结构描述语言']\n"
     ]
    },
    {
     "name": "stderr",
     "output_type": "stream",
     "text": [
      " 84%|████████▍ | 42/50 [01:09<00:13,  1.65s/it]\n",
      "[2022-05-28 23:51:18,688][model_v2.py][line:426][INFO] ********** Saving best result in step 3900 **********\n",
      "[2022-05-28 23:51:18,691][model_v2.py][line:426][INFO] ********** Evaluating Done **********\n"
     ]
    },
    {
     "name": "stdout",
     "output_type": "stream",
     "text": [
      "{'rouge-1': 0.46887627006567784, 'rouge-2': 0.3474743767881536, 'rouge-l': 0.42910517836844964, 'bleu': 17.722296596880263}\n",
      "********** Saving best result in step 3900 **********\n",
      "********** Evaluating Done **********\n"
     ]
    },
    {
     "name": "stderr",
     "output_type": "stream",
     "text": [
      " 78%|███████▊  | 3925/5000 [7:58:15<2:10:26,  7.28s/it][2022-05-28 23:54:22,240][model_v2.py][line:426][INFO] global_steps 3925 - lr: 0.0000052461  loss: 1.14649868\n"
     ]
    },
    {
     "name": "stdout",
     "output_type": "stream",
     "text": [
      "global_steps 3925 - lr: 0.0000052461  loss: 1.14649868\n"
     ]
    },
    {
     "name": "stderr",
     "output_type": "stream",
     "text": [
      " 79%|███████▉  | 3950/5000 [8:01:07<2:13:51,  7.65s/it][2022-05-28 23:57:14,491][model_v2.py][line:426][INFO] global_steps 3950 - lr: 0.0000050079  loss: 0.87665176\n"
     ]
    },
    {
     "name": "stdout",
     "output_type": "stream",
     "text": [
      "global_steps 3950 - lr: 0.0000050079  loss: 0.87665176\n"
     ]
    },
    {
     "name": "stderr",
     "output_type": "stream",
     "text": [
      " 80%|███████▉  | 3975/5000 [8:03:51<1:50:50,  6.49s/it][2022-05-28 23:59:58,123][model_v2.py][line:426][INFO] global_steps 3975 - lr: 0.0000047746  loss: 0.99606067\n"
     ]
    },
    {
     "name": "stdout",
     "output_type": "stream",
     "text": [
      "global_steps 3975 - lr: 0.0000047746  loss: 0.99606067\n"
     ]
    },
    {
     "name": "stderr",
     "output_type": "stream",
     "text": [
      " 80%|████████  | 4000/5000 [8:06:32<1:45:16,  6.32s/it][2022-05-29 00:02:39,758][model_v2.py][line:426][INFO] global_steps 4000 - lr: 0.0000045463  loss: 0.99338400\n",
      "[2022-05-29 00:02:39,759][model_v2.py][line:426][INFO] ********** Running evaluating **********\n",
      "[2022-05-29 00:02:39,762][model_v2.py][line:426][INFO] ********** Step 4000 **********\n"
     ]
    },
    {
     "name": "stdout",
     "output_type": "stream",
     "text": [
      "global_steps 4000 - lr: 0.0000045463  loss: 0.99338400\n",
      "********** Running evaluating **********\n",
      "********** Step 4000 **********\n"
     ]
    },
    {
     "name": "stderr",
     "output_type": "stream",
     "text": [
      "\n",
      "  0%|          | 0/50 [00:00<?, ?it/s]\u001b[A\n",
      "  2%|▏         | 1/50 [00:01<01:22,  1.68s/it]\u001b[A\n",
      "  4%|▍         | 2/50 [00:03<01:17,  1.62s/it]\u001b[A\n",
      "  6%|▌         | 3/50 [00:05<01:37,  2.07s/it]\u001b[A\n",
      "  8%|▊         | 4/50 [00:07<01:26,  1.88s/it]\u001b[A\n",
      " 10%|█         | 5/50 [00:09<01:25,  1.90s/it]\u001b[A\n",
      " 12%|█▏        | 6/50 [00:11<01:20,  1.83s/it]\u001b[A\n",
      " 14%|█▍        | 7/50 [00:12<01:15,  1.77s/it]\u001b[A\n",
      " 16%|█▌        | 8/50 [00:14<01:14,  1.77s/it]\u001b[A\n",
      " 18%|█▊        | 9/50 [00:16<01:09,  1.69s/it]\u001b[A\n",
      " 20%|██        | 10/50 [00:17<01:05,  1.64s/it]\u001b[A\n",
      " 22%|██▏       | 11/50 [00:19<01:05,  1.69s/it]\u001b[A\n",
      " 24%|██▍       | 12/50 [00:20<01:03,  1.67s/it]\u001b[A\n",
      " 26%|██▌       | 13/50 [00:22<01:00,  1.65s/it]\u001b[A\n",
      " 28%|██▊       | 14/50 [00:24<00:59,  1.66s/it]\u001b[A\n",
      " 30%|███       | 15/50 [00:25<00:58,  1.66s/it]\u001b[A\n",
      " 32%|███▏      | 16/50 [00:27<00:54,  1.61s/it]\u001b[A\n",
      " 34%|███▍      | 17/50 [00:28<00:51,  1.57s/it]\u001b[A\n",
      " 36%|███▌      | 18/50 [00:30<00:51,  1.62s/it]\u001b[A\n",
      " 38%|███▊      | 19/50 [00:32<00:49,  1.58s/it]\u001b[A\n",
      " 40%|████      | 20/50 [00:33<00:47,  1.59s/it]\u001b[A\n",
      " 42%|████▏     | 21/50 [00:35<00:46,  1.59s/it]\u001b[A\n",
      " 44%|████▍     | 22/50 [00:36<00:44,  1.58s/it]\u001b[A\n",
      " 46%|████▌     | 23/50 [00:38<00:44,  1.66s/it]\u001b[A\n",
      " 48%|████▊     | 24/50 [00:40<00:42,  1.62s/it]\u001b[A\n",
      " 50%|█████     | 25/50 [00:42<00:41,  1.67s/it]\u001b[A\n",
      " 52%|█████▏    | 26/50 [00:43<00:40,  1.70s/it]\u001b[A\n",
      " 54%|█████▍    | 27/50 [00:45<00:40,  1.75s/it]\u001b[A\n",
      " 56%|█████▌    | 28/50 [00:47<00:37,  1.69s/it]\u001b[A\n",
      " 58%|█████▊    | 29/50 [00:48<00:34,  1.66s/it]\u001b[A\n",
      " 60%|██████    | 30/50 [00:50<00:34,  1.72s/it]\u001b[A\n",
      " 62%|██████▏   | 31/50 [00:52<00:32,  1.71s/it]\u001b[A\n",
      " 64%|██████▍   | 32/50 [00:53<00:29,  1.66s/it]\u001b[A\n",
      " 66%|██████▌   | 33/50 [00:55<00:27,  1.63s/it]\u001b[A\n",
      " 68%|██████▊   | 34/50 [00:57<00:26,  1.63s/it]\u001b[A\n",
      " 70%|███████   | 35/50 [00:58<00:23,  1.60s/it]\u001b[A\n",
      " 72%|███████▏  | 36/50 [01:00<00:22,  1.58s/it]\u001b[A\n",
      " 74%|███████▍  | 37/50 [01:01<00:20,  1.61s/it]\u001b[A\n",
      " 76%|███████▌  | 38/50 [01:03<00:19,  1.63s/it]\u001b[A\n",
      " 78%|███████▊  | 39/50 [01:05<00:17,  1.62s/it]\u001b[A\n",
      " 80%|████████  | 40/50 [01:06<00:15,  1.58s/it]\u001b[A\n",
      " 82%|████████▏ | 41/50 [01:08<00:14,  1.58s/it]\u001b[A\n",
      " 84%|████████▍ | 42/50 [01:09<00:12,  1.52s/it]\u001b[A"
     ]
    },
    {
     "name": "stdout",
     "output_type": "stream",
     "text": [
      "['一种基于中心网络的战术应用场景与业务,并将网络编码技术应用于此类场景的实时数据多播业务中。在分析基于中心网络与Many-to-all业务模式特', '普适计算二维空间定位过程中,通过对三角形定位单元区域的误差分析,提出了定位单元布局(LUD)定理。在此基础上,对多个定位单元布局进行了研究,定义', '基于时序逻辑结构描述语言描述的软件体系结构']\n",
      "['网络编码在实时战术数据多播中的应用', '普适计算中定位单元布局研究', '基于时序逻辑的面向方面体系结构描述语言']\n"
     ]
    },
    {
     "name": "stderr",
     "output_type": "stream",
     "text": [
      " 84%|████████▍ | 42/50 [01:10<00:13,  1.68s/it]\n",
      "[2022-05-29 00:03:56,797][model_v2.py][line:426][INFO] ********** Saving best result in step 4000 **********\n",
      "[2022-05-29 00:03:56,810][model_v2.py][line:426][INFO] ********** Evaluating Done **********\n"
     ]
    },
    {
     "name": "stdout",
     "output_type": "stream",
     "text": [
      "{'rouge-1': 0.46688915575855067, 'rouge-2': 0.3437407359926664, 'rouge-l': 0.42445457637468126, 'bleu': 17.088834035561216}\n",
      "********** Saving best result in step 4000 **********\n",
      "********** Evaluating Done **********\n"
     ]
    },
    {
     "name": "stderr",
     "output_type": "stream",
     "text": [
      " 80%|████████  | 4025/5000 [8:10:47<2:01:21,  7.47s/it][2022-05-29 00:06:53,898][model_v2.py][line:426][INFO] global_steps 4025 - lr: 0.0000043230  loss: 0.97164661\n"
     ]
    },
    {
     "name": "stdout",
     "output_type": "stream",
     "text": [
      "global_steps 4025 - lr: 0.0000043230  loss: 0.97164661\n"
     ]
    },
    {
     "name": "stderr",
     "output_type": "stream",
     "text": [
      " 81%|████████  | 4050/5000 [8:13:43<1:49:31,  6.92s/it][2022-05-29 00:09:49,999][model_v2.py][line:426][INFO] global_steps 4050 - lr: 0.0000041048  loss: 1.05550897\n"
     ]
    },
    {
     "name": "stdout",
     "output_type": "stream",
     "text": [
      "global_steps 4050 - lr: 0.0000041048  loss: 1.05550897\n"
     ]
    },
    {
     "name": "stderr",
     "output_type": "stream",
     "text": [
      " 82%|████████▏ | 4075/5000 [8:16:32<1:38:33,  6.39s/it][2022-05-29 00:12:39,167][model_v2.py][line:426][INFO] global_steps 4075 - lr: 0.0000038918  loss: 0.79708213\n"
     ]
    },
    {
     "name": "stdout",
     "output_type": "stream",
     "text": [
      "global_steps 4075 - lr: 0.0000038918  loss: 0.79708213\n"
     ]
    },
    {
     "name": "stderr",
     "output_type": "stream",
     "text": [
      " 82%|████████▏ | 4100/5000 [8:19:14<1:38:41,  6.58s/it][2022-05-29 00:15:21,275][model_v2.py][line:426][INFO] global_steps 4100 - lr: 0.0000036840  loss: 1.10868990\n",
      "[2022-05-29 00:15:21,276][model_v2.py][line:426][INFO] ********** Running evaluating **********\n",
      "[2022-05-29 00:15:21,276][model_v2.py][line:426][INFO] ********** Step 4100 **********\n"
     ]
    },
    {
     "name": "stdout",
     "output_type": "stream",
     "text": [
      "global_steps 4100 - lr: 0.0000036840  loss: 1.10868990\n",
      "********** Running evaluating **********\n",
      "********** Step 4100 **********\n"
     ]
    },
    {
     "name": "stderr",
     "output_type": "stream",
     "text": [
      "\n",
      "  0%|          | 0/50 [00:00<?, ?it/s]\u001b[A\n",
      "  2%|▏         | 1/50 [00:01<01:26,  1.77s/it]\u001b[A\n",
      "  4%|▍         | 2/50 [00:03<01:24,  1.77s/it]\u001b[A\n",
      "  6%|▌         | 3/50 [00:05<01:28,  1.88s/it]\u001b[A\n",
      "  8%|▊         | 4/50 [00:07<01:20,  1.75s/it]\u001b[A\n",
      " 10%|█         | 5/50 [00:08<01:20,  1.79s/it]\u001b[A\n",
      " 12%|█▏        | 6/50 [00:10<01:19,  1.82s/it]\u001b[A\n",
      " 14%|█▍        | 7/50 [00:12<01:17,  1.80s/it]\u001b[A\n",
      " 16%|█▌        | 8/50 [00:14<01:11,  1.71s/it]\u001b[A\n",
      " 18%|█▊        | 9/50 [00:15<01:07,  1.64s/it]\u001b[A\n",
      " 20%|██        | 10/50 [00:17<01:06,  1.65s/it]\u001b[A\n",
      " 22%|██▏       | 11/50 [00:18<01:03,  1.62s/it]\u001b[A\n",
      " 24%|██▍       | 12/50 [00:20<01:01,  1.61s/it]\u001b[A\n",
      " 26%|██▌       | 13/50 [00:21<00:58,  1.58s/it]\u001b[A\n",
      " 28%|██▊       | 14/50 [00:23<00:57,  1.60s/it]\u001b[A\n",
      " 30%|███       | 15/50 [00:25<00:56,  1.63s/it]\u001b[A\n",
      " 32%|███▏      | 16/50 [00:26<00:55,  1.63s/it]\u001b[A\n",
      " 34%|███▍      | 17/50 [00:28<00:52,  1.59s/it]\u001b[A\n",
      " 36%|███▌      | 18/50 [00:30<00:53,  1.66s/it]\u001b[A\n",
      " 38%|███▊      | 19/50 [00:31<00:50,  1.63s/it]\u001b[A\n",
      " 40%|████      | 20/50 [00:33<00:48,  1.60s/it]\u001b[A\n",
      " 42%|████▏     | 21/50 [00:34<00:46,  1.60s/it]\u001b[A\n",
      " 44%|████▍     | 22/50 [00:36<00:44,  1.60s/it]\u001b[A\n",
      " 46%|████▌     | 23/50 [00:38<00:44,  1.66s/it]\u001b[A\n",
      " 48%|████▊     | 24/50 [00:39<00:43,  1.67s/it]\u001b[A\n",
      " 50%|█████     | 25/50 [00:41<00:41,  1.66s/it]\u001b[A\n",
      " 52%|█████▏    | 26/50 [00:43<00:40,  1.67s/it]\u001b[A\n",
      " 54%|█████▍    | 27/50 [00:45<00:39,  1.71s/it]\u001b[A\n",
      " 56%|█████▌    | 28/50 [00:46<00:36,  1.65s/it]\u001b[A\n",
      " 58%|█████▊    | 29/50 [00:48<00:34,  1.63s/it]\u001b[A\n",
      " 60%|██████    | 30/50 [00:50<00:34,  1.73s/it]\u001b[A\n",
      " 62%|██████▏   | 31/50 [00:51<00:31,  1.66s/it]\u001b[A\n",
      " 64%|██████▍   | 32/50 [00:53<00:29,  1.62s/it]\u001b[A\n",
      " 66%|██████▌   | 33/50 [00:54<00:27,  1.59s/it]\u001b[A\n",
      " 68%|██████▊   | 34/50 [00:56<00:25,  1.59s/it]\u001b[A\n",
      " 70%|███████   | 35/50 [00:57<00:23,  1.57s/it]\u001b[A\n",
      " 72%|███████▏  | 36/50 [00:59<00:21,  1.56s/it]\u001b[A\n",
      " 74%|███████▍  | 37/50 [01:01<00:21,  1.63s/it]\u001b[A\n",
      " 76%|███████▌  | 38/50 [01:03<00:20,  1.71s/it]\u001b[A\n",
      " 78%|███████▊  | 39/50 [01:04<00:18,  1.67s/it]\u001b[A\n",
      " 80%|████████  | 40/50 [01:06<00:15,  1.59s/it]\u001b[A\n",
      " 82%|████████▏ | 41/50 [01:07<00:14,  1.56s/it]\u001b[A\n",
      " 84%|████████▍ | 42/50 [01:08<00:11,  1.46s/it]\u001b[A"
     ]
    },
    {
     "name": "stdout",
     "output_type": "stream",
     "text": [
      "['一种基于中心网络的战术应用场景与业务,并将网络编码技术应用于此类场景的实时数据多播业务中。在分析基于中心网络与Many-to-all业务模式特', '普适计算二维空间定位过程中,通过对三角形定位单元区域的误差分析,提出了定位单元布局(LUD)定理。在此基础上,对多个定位单元布局进行了研究,定义', '基于时序逻辑结构描述的软件体系结构']\n",
      "['网络编码在实时战术数据多播中的应用', '普适计算中定位单元布局研究', '基于时序逻辑的面向方面体系结构描述语言']\n"
     ]
    },
    {
     "name": "stderr",
     "output_type": "stream",
     "text": [
      " 84%|████████▍ | 42/50 [01:09<00:13,  1.65s/it]\n",
      "[2022-05-29 00:16:37,644][model_v2.py][line:426][INFO] ********** Saving best result in step 4100 **********\n",
      "[2022-05-29 00:16:37,645][model_v2.py][line:426][INFO] ********** Evaluating Done **********\n"
     ]
    },
    {
     "name": "stdout",
     "output_type": "stream",
     "text": [
      "{'rouge-1': 0.47496337111328524, 'rouge-2': 0.3520698273926855, 'rouge-l': 0.4349036657366611, 'bleu': 18.094736530551668}\n",
      "********** Saving best result in step 4100 **********\n",
      "********** Evaluating Done **********\n"
     ]
    },
    {
     "name": "stderr",
     "output_type": "stream",
     "text": [
      " 82%|████████▎ | 4125/5000 [8:23:15<1:43:27,  7.09s/it][2022-05-29 00:19:22,080][model_v2.py][line:426][INFO] global_steps 4125 - lr: 0.0000034814  loss: 1.11904240\n"
     ]
    },
    {
     "name": "stdout",
     "output_type": "stream",
     "text": [
      "global_steps 4125 - lr: 0.0000034814  loss: 1.11904240\n"
     ]
    },
    {
     "name": "stderr",
     "output_type": "stream",
     "text": [
      " 83%|████████▎ | 4150/5000 [8:26:07<1:45:06,  7.42s/it][2022-05-29 00:22:13,918][model_v2.py][line:426][INFO] global_steps 4150 - lr: 0.0000032842  loss: 0.99880159\n"
     ]
    },
    {
     "name": "stdout",
     "output_type": "stream",
     "text": [
      "global_steps 4150 - lr: 0.0000032842  loss: 0.99880159\n"
     ]
    },
    {
     "name": "stderr",
     "output_type": "stream",
     "text": [
      " 84%|████████▎ | 4175/5000 [8:28:55<1:28:50,  6.46s/it][2022-05-29 00:25:02,030][model_v2.py][line:426][INFO] global_steps 4175 - lr: 0.0000030923  loss: 1.06366730\n"
     ]
    },
    {
     "name": "stdout",
     "output_type": "stream",
     "text": [
      "global_steps 4175 - lr: 0.0000030923  loss: 1.06366730\n"
     ]
    },
    {
     "name": "stderr",
     "output_type": "stream",
     "text": [
      " 84%|████████▍ | 4200/5000 [8:31:35<1:27:17,  6.55s/it][2022-05-29 00:27:42,524][model_v2.py][line:426][INFO] global_steps 4200 - lr: 0.0000029059  loss: 1.01189578\n",
      "[2022-05-29 00:27:42,525][model_v2.py][line:426][INFO] ********** Running evaluating **********\n",
      "[2022-05-29 00:27:42,526][model_v2.py][line:426][INFO] ********** Step 4200 **********\n"
     ]
    },
    {
     "name": "stdout",
     "output_type": "stream",
     "text": [
      "global_steps 4200 - lr: 0.0000029059  loss: 1.01189578\n",
      "********** Running evaluating **********\n",
      "********** Step 4200 **********\n"
     ]
    },
    {
     "name": "stderr",
     "output_type": "stream",
     "text": [
      "\n",
      "  0%|          | 0/50 [00:00<?, ?it/s]\u001b[A\n",
      "  2%|▏         | 1/50 [00:01<01:19,  1.62s/it]\u001b[A\n",
      "  4%|▍         | 2/50 [00:03<01:15,  1.57s/it]\u001b[A\n",
      "  6%|▌         | 3/50 [00:05<01:24,  1.80s/it]\u001b[A\n",
      "  8%|▊         | 4/50 [00:06<01:19,  1.72s/it]\u001b[A\n",
      " 10%|█         | 5/50 [00:08<01:19,  1.77s/it]\u001b[A\n",
      " 12%|█▏        | 6/50 [00:10<01:14,  1.70s/it]\u001b[A\n",
      " 14%|█▍        | 7/50 [00:12<01:13,  1.72s/it]\u001b[A\n",
      " 16%|█▌        | 8/50 [00:13<01:11,  1.70s/it]\u001b[A\n",
      " 18%|█▊        | 9/50 [00:15<01:08,  1.67s/it]\u001b[A\n",
      " 20%|██        | 10/50 [00:16<01:06,  1.66s/it]\u001b[A\n",
      " 22%|██▏       | 11/50 [00:18<01:04,  1.66s/it]\u001b[A\n",
      " 24%|██▍       | 12/50 [00:20<01:04,  1.71s/it]\u001b[A\n",
      " 26%|██▌       | 13/50 [00:21<01:01,  1.65s/it]\u001b[A\n",
      " 28%|██▊       | 14/50 [00:23<01:01,  1.72s/it]\u001b[A\n",
      " 30%|███       | 15/50 [00:25<01:00,  1.72s/it]\u001b[A\n",
      " 32%|███▏      | 16/50 [00:26<00:55,  1.64s/it]\u001b[A\n",
      " 34%|███▍      | 17/50 [00:28<00:51,  1.57s/it]\u001b[A\n",
      " 36%|███▌      | 18/50 [00:29<00:50,  1.57s/it]\u001b[A\n",
      " 38%|███▊      | 19/50 [00:31<00:48,  1.55s/it]\u001b[A\n",
      " 40%|████      | 20/50 [00:33<00:46,  1.56s/it]\u001b[A\n",
      " 42%|████▏     | 21/50 [00:34<00:47,  1.62s/it]\u001b[A\n",
      " 44%|████▍     | 22/50 [00:36<00:45,  1.61s/it]\u001b[A\n",
      " 46%|████▌     | 23/50 [00:37<00:42,  1.59s/it]\u001b[A\n",
      " 48%|████▊     | 24/50 [00:39<00:40,  1.56s/it]\u001b[A\n",
      " 50%|█████     | 25/50 [00:40<00:39,  1.57s/it]\u001b[A\n",
      " 52%|█████▏    | 26/50 [00:42<00:38,  1.61s/it]\u001b[A\n",
      " 54%|█████▍    | 27/50 [00:44<00:36,  1.59s/it]\u001b[A\n",
      " 56%|█████▌    | 28/50 [00:45<00:35,  1.61s/it]\u001b[A\n",
      " 58%|█████▊    | 29/50 [00:47<00:33,  1.59s/it]\u001b[A\n",
      " 60%|██████    | 30/50 [00:49<00:35,  1.77s/it]\u001b[A\n",
      " 62%|██████▏   | 31/50 [00:51<00:33,  1.76s/it]\u001b[A\n",
      " 64%|██████▍   | 32/50 [00:52<00:30,  1.69s/it]\u001b[A\n",
      " 66%|██████▌   | 33/50 [00:54<00:27,  1.64s/it]\u001b[A\n",
      " 68%|██████▊   | 34/50 [00:56<00:26,  1.65s/it]\u001b[A\n",
      " 70%|███████   | 35/50 [00:57<00:24,  1.65s/it]\u001b[A\n",
      " 72%|███████▏  | 36/50 [00:59<00:23,  1.64s/it]\u001b[A\n",
      " 74%|███████▍  | 37/50 [01:00<00:21,  1.63s/it]\u001b[A\n",
      " 76%|███████▌  | 38/50 [01:02<00:19,  1.59s/it]\u001b[A\n",
      " 78%|███████▊  | 39/50 [01:04<00:17,  1.58s/it]\u001b[A\n",
      " 80%|████████  | 40/50 [01:05<00:15,  1.53s/it]\u001b[A\n",
      " 82%|████████▏ | 41/50 [01:06<00:13,  1.52s/it]\u001b[A\n",
      " 84%|████████▍ | 42/50 [01:08<00:11,  1.46s/it]\u001b[A"
     ]
    },
    {
     "name": "stdout",
     "output_type": "stream",
     "text": [
      "['一种基于中心网络的实时数据多播业务模式特性的基础上,提出了仅在中心节点进行编码操作的传输策略以及相应的贪心算法。分析基于中心网络与Many-', '普适计算二维空间定位过程中,通过对三角形定位单元区域的误差分析,提出了定位单元布局(LUD)定理。在此基础上,对多个定位单元布局进行了研究,定义', '基于时序逻辑结构描述的软件体系结构']\n",
      "['网络编码在实时战术数据多播中的应用', '普适计算中定位单元布局研究', '基于时序逻辑的面向方面体系结构描述语言']\n"
     ]
    },
    {
     "name": "stderr",
     "output_type": "stream",
     "text": [
      " 84%|████████▍ | 42/50 [01:08<00:13,  1.64s/it]\n",
      "[2022-05-29 00:28:57,757][model_v2.py][line:426][INFO] ********** Saving best result in step 4200 **********\n",
      "[2022-05-29 00:28:57,758][model_v2.py][line:426][INFO] ********** Evaluating Done **********\n"
     ]
    },
    {
     "name": "stdout",
     "output_type": "stream",
     "text": [
      "{'rouge-1': 0.4787518394730407, 'rouge-2': 0.35703106556134273, 'rouge-l': 0.43796778373370276, 'bleu': 18.422239784803356}\n",
      "********** Saving best result in step 4200 **********\n",
      "********** Evaluating Done **********\n"
     ]
    },
    {
     "name": "stderr",
     "output_type": "stream",
     "text": [
      " 84%|████████▍ | 4225/5000 [8:35:35<1:18:17,  6.06s/it][2022-05-29 00:31:42,268][model_v2.py][line:426][INFO] global_steps 4225 - lr: 0.0000027248  loss: 0.95781296\n"
     ]
    },
    {
     "name": "stdout",
     "output_type": "stream",
     "text": [
      "global_steps 4225 - lr: 0.0000027248  loss: 0.95781296\n"
     ]
    },
    {
     "name": "stderr",
     "output_type": "stream",
     "text": [
      " 85%|████████▌ | 4250/5000 [8:38:27<1:38:33,  7.88s/it][2022-05-29 00:34:34,724][model_v2.py][line:426][INFO] global_steps 4250 - lr: 0.0000025493  loss: 0.96568352\n"
     ]
    },
    {
     "name": "stdout",
     "output_type": "stream",
     "text": [
      "global_steps 4250 - lr: 0.0000025493  loss: 0.96568352\n"
     ]
    },
    {
     "name": "stderr",
     "output_type": "stream",
     "text": [
      " 86%|████████▌ | 4275/5000 [8:41:24<1:21:51,  6.77s/it][2022-05-29 00:37:31,259][model_v2.py][line:426][INFO] global_steps 4275 - lr: 0.0000023793  loss: 0.73285598\n"
     ]
    },
    {
     "name": "stdout",
     "output_type": "stream",
     "text": [
      "global_steps 4275 - lr: 0.0000023793  loss: 0.73285598\n"
     ]
    },
    {
     "name": "stderr",
     "output_type": "stream",
     "text": [
      " 86%|████████▌ | 4300/5000 [8:44:07<1:11:42,  6.15s/it][2022-05-29 00:40:14,234][model_v2.py][line:426][INFO] global_steps 4300 - lr: 0.0000022149  loss: 1.03647482\n",
      "[2022-05-29 00:40:14,235][model_v2.py][line:426][INFO] ********** Running evaluating **********\n",
      "[2022-05-29 00:40:14,237][model_v2.py][line:426][INFO] ********** Step 4300 **********\n"
     ]
    },
    {
     "name": "stdout",
     "output_type": "stream",
     "text": [
      "global_steps 4300 - lr: 0.0000022149  loss: 1.03647482\n",
      "********** Running evaluating **********\n",
      "********** Step 4300 **********\n"
     ]
    },
    {
     "name": "stderr",
     "output_type": "stream",
     "text": [
      "\n",
      "  0%|          | 0/50 [00:00<?, ?it/s]\u001b[A\n",
      "  2%|▏         | 1/50 [00:01<01:21,  1.66s/it]\u001b[A\n",
      "  4%|▍         | 2/50 [00:03<01:16,  1.59s/it]\u001b[A\n",
      "  6%|▌         | 3/50 [00:05<01:24,  1.79s/it]\u001b[A\n",
      "  8%|▊         | 4/50 [00:06<01:17,  1.69s/it]\u001b[A\n",
      " 10%|█         | 5/50 [00:08<01:21,  1.81s/it]\u001b[A\n",
      " 12%|█▏        | 6/50 [00:10<01:16,  1.74s/it]\u001b[A\n",
      " 14%|█▍        | 7/50 [00:12<01:13,  1.71s/it]\u001b[A\n",
      " 16%|█▌        | 8/50 [00:13<01:09,  1.66s/it]\u001b[A\n",
      " 18%|█▊        | 9/50 [00:15<01:09,  1.68s/it]\u001b[A\n",
      " 20%|██        | 10/50 [00:16<01:05,  1.64s/it]\u001b[A\n",
      " 22%|██▏       | 11/50 [00:18<01:03,  1.62s/it]\u001b[A\n",
      " 24%|██▍       | 12/50 [00:20<01:03,  1.66s/it]\u001b[A\n",
      " 26%|██▌       | 13/50 [00:22<01:04,  1.73s/it]\u001b[A\n",
      " 28%|██▊       | 14/50 [00:23<01:01,  1.72s/it]\u001b[A\n",
      " 30%|███       | 15/50 [00:25<00:59,  1.70s/it]\u001b[A\n",
      " 32%|███▏      | 16/50 [00:26<00:55,  1.63s/it]\u001b[A\n",
      " 34%|███▍      | 17/50 [00:28<00:51,  1.57s/it]\u001b[A\n",
      " 36%|███▌      | 18/50 [00:29<00:49,  1.56s/it]\u001b[A\n",
      " 38%|███▊      | 19/50 [00:31<00:48,  1.58s/it]\u001b[A\n",
      " 40%|████      | 20/50 [00:33<00:47,  1.57s/it]\u001b[A\n",
      " 42%|████▏     | 21/50 [00:34<00:45,  1.57s/it]\u001b[A\n",
      " 44%|████▍     | 22/50 [00:36<00:44,  1.59s/it]\u001b[A\n",
      " 46%|████▌     | 23/50 [00:37<00:42,  1.58s/it]\u001b[A\n",
      " 48%|████▊     | 24/50 [00:39<00:40,  1.55s/it]\u001b[A\n",
      " 50%|█████     | 25/50 [00:40<00:38,  1.56s/it]\u001b[A\n",
      " 52%|█████▏    | 26/50 [00:42<00:39,  1.63s/it]\u001b[A\n",
      " 54%|█████▍    | 27/50 [00:44<00:36,  1.61s/it]\u001b[A\n",
      " 56%|█████▌    | 28/50 [00:45<00:34,  1.57s/it]\u001b[A\n",
      " 58%|█████▊    | 29/50 [00:47<00:34,  1.65s/it]\u001b[A\n",
      " 60%|██████    | 30/50 [00:49<00:33,  1.69s/it]\u001b[A\n",
      " 62%|██████▏   | 31/50 [00:50<00:30,  1.62s/it]\u001b[A\n",
      " 64%|██████▍   | 32/50 [00:52<00:30,  1.67s/it]\u001b[A\n",
      " 66%|██████▌   | 33/50 [00:54<00:28,  1.70s/it]\u001b[A\n",
      " 68%|██████▊   | 34/50 [00:56<00:27,  1.70s/it]\u001b[A\n",
      " 70%|███████   | 35/50 [00:57<00:24,  1.63s/it]\u001b[A\n",
      " 72%|███████▏  | 36/50 [00:59<00:22,  1.60s/it]\u001b[A\n",
      " 74%|███████▍  | 37/50 [01:00<00:20,  1.60s/it]\u001b[A\n",
      " 76%|███████▌  | 38/50 [01:02<00:18,  1.58s/it]\u001b[A\n",
      " 78%|███████▊  | 39/50 [01:03<00:17,  1.62s/it]\u001b[A\n",
      " 80%|████████  | 40/50 [01:05<00:15,  1.56s/it]\u001b[A\n",
      " 82%|████████▏ | 41/50 [01:06<00:13,  1.55s/it]\u001b[A\n",
      " 84%|████████▍ | 42/50 [01:08<00:11,  1.45s/it]\u001b[A"
     ]
    },
    {
     "name": "stdout",
     "output_type": "stream",
     "text": [
      "['一种基于中心网络的战术应用场景与业务,并将网络编码技术应用于此类场景的实时数据多播业务中。在分析基于中心网络与Many-to-all业务模式特', '普适计算二维空间定位过程中,通过对三角形定位单元区域的误差分析,提出了定位单元布局(LUD)定理。在此基础上,对多个定位单元布局进行了研究,定义', '基于时序逻辑结构描述的软件体系结构']\n",
      "['网络编码在实时战术数据多播中的应用', '普适计算中定位单元布局研究', '基于时序逻辑的面向方面体系结构描述语言']\n"
     ]
    },
    {
     "name": "stderr",
     "output_type": "stream",
     "text": [
      " 84%|████████▍ | 42/50 [01:08<00:13,  1.63s/it]\n",
      "[2022-05-29 00:41:29,573][model_v2.py][line:426][INFO] ********** Saving best result in step 4300 **********\n",
      "[2022-05-29 00:41:29,576][model_v2.py][line:426][INFO] ********** Evaluating Done **********\n"
     ]
    },
    {
     "name": "stdout",
     "output_type": "stream",
     "text": [
      "{'rouge-1': 0.4720989447091044, 'rouge-2': 0.350540121898894, 'rouge-l': 0.43091049508474333, 'bleu': 17.818836553961905}\n",
      "********** Saving best result in step 4300 **********\n",
      "********** Evaluating Done **********\n"
     ]
    },
    {
     "name": "stderr",
     "output_type": "stream",
     "text": [
      " 86%|████████▋ | 4325/5000 [8:48:07<1:18:28,  6.98s/it][2022-05-29 00:44:14,766][model_v2.py][line:426][INFO] global_steps 4325 - lr: 0.0000020561  loss: 0.95830387\n"
     ]
    },
    {
     "name": "stdout",
     "output_type": "stream",
     "text": [
      "global_steps 4325 - lr: 0.0000020561  loss: 0.95830387\n"
     ]
    },
    {
     "name": "stderr",
     "output_type": "stream",
     "text": [
      " 87%|████████▋ | 4350/5000 [8:50:49<1:10:14,  6.48s/it][2022-05-29 00:46:56,629][model_v2.py][line:426][INFO] global_steps 4350 - lr: 0.0000019030  loss: 0.86331117\n"
     ]
    },
    {
     "name": "stdout",
     "output_type": "stream",
     "text": [
      "global_steps 4350 - lr: 0.0000019030  loss: 0.86331117\n"
     ]
    },
    {
     "name": "stderr",
     "output_type": "stream",
     "text": [
      " 88%|████████▊ | 4375/5000 [8:53:44<1:13:34,  7.06s/it][2022-05-29 00:49:51,751][model_v2.py][line:426][INFO] global_steps 4375 - lr: 0.0000017556  loss: 0.93140179\n"
     ]
    },
    {
     "name": "stdout",
     "output_type": "stream",
     "text": [
      "global_steps 4375 - lr: 0.0000017556  loss: 0.93140179\n"
     ]
    },
    {
     "name": "stderr",
     "output_type": "stream",
     "text": [
      " 88%|████████▊ | 4400/5000 [8:56:35<1:17:02,  7.70s/it][2022-05-29 00:52:42,647][model_v2.py][line:426][INFO] global_steps 4400 - lr: 0.0000016139  loss: 0.98291957\n",
      "[2022-05-29 00:52:42,648][model_v2.py][line:426][INFO] ********** Running evaluating **********\n",
      "[2022-05-29 00:52:42,649][model_v2.py][line:426][INFO] ********** Step 4400 **********\n"
     ]
    },
    {
     "name": "stdout",
     "output_type": "stream",
     "text": [
      "global_steps 4400 - lr: 0.0000016139  loss: 0.98291957\n",
      "********** Running evaluating **********\n",
      "********** Step 4400 **********\n"
     ]
    },
    {
     "name": "stderr",
     "output_type": "stream",
     "text": [
      "\n",
      "  0%|          | 0/50 [00:00<?, ?it/s]\u001b[A\n",
      "  2%|▏         | 1/50 [00:01<01:31,  1.88s/it]\u001b[A\n",
      "  4%|▍         | 2/50 [00:03<01:20,  1.68s/it]\u001b[A\n",
      "  6%|▌         | 3/50 [00:05<01:20,  1.71s/it]\u001b[A\n",
      "  8%|▊         | 4/50 [00:06<01:17,  1.69s/it]\u001b[A\n",
      " 10%|█         | 5/50 [00:08<01:19,  1.76s/it]\u001b[A\n",
      " 12%|█▏        | 6/50 [00:10<01:14,  1.69s/it]\u001b[A\n",
      " 14%|█▍        | 7/50 [00:12<01:14,  1.73s/it]\u001b[A\n",
      " 16%|█▌        | 8/50 [00:13<01:10,  1.67s/it]\u001b[A\n",
      " 18%|█▊        | 9/50 [00:15<01:09,  1.69s/it]\u001b[A\n",
      " 20%|██        | 10/50 [00:16<01:05,  1.65s/it]\u001b[A\n",
      " 22%|██▏       | 11/50 [00:18<01:03,  1.62s/it]\u001b[A\n",
      " 24%|██▍       | 12/50 [00:20<01:01,  1.61s/it]\u001b[A\n",
      " 26%|██▌       | 13/50 [00:21<00:59,  1.60s/it]\u001b[A\n",
      " 28%|██▊       | 14/50 [00:23<00:59,  1.64s/it]\u001b[A\n",
      " 30%|███       | 15/50 [00:25<00:57,  1.66s/it]\u001b[A\n",
      " 32%|███▏      | 16/50 [00:27<01:00,  1.79s/it]\u001b[A\n",
      " 34%|███▍      | 17/50 [00:28<00:57,  1.73s/it]\u001b[A\n",
      " 36%|███▌      | 18/50 [00:30<00:53,  1.67s/it]\u001b[A\n",
      " 38%|███▊      | 19/50 [00:31<00:50,  1.62s/it]\u001b[A\n",
      " 40%|████      | 20/50 [00:33<00:48,  1.62s/it]\u001b[A\n",
      " 42%|████▏     | 21/50 [00:34<00:46,  1.61s/it]\u001b[A\n",
      " 44%|████▍     | 22/50 [00:36<00:47,  1.68s/it]\u001b[A\n",
      " 46%|████▌     | 23/50 [00:38<00:44,  1.64s/it]\u001b[A\n",
      " 48%|████▊     | 24/50 [00:39<00:41,  1.60s/it]\u001b[A\n",
      " 50%|█████     | 25/50 [00:41<00:40,  1.61s/it]\u001b[A\n",
      " 52%|█████▏    | 26/50 [00:43<00:40,  1.71s/it]\u001b[A\n",
      " 54%|█████▍    | 27/50 [00:45<00:38,  1.66s/it]\u001b[A\n",
      " 56%|█████▌    | 28/50 [00:46<00:35,  1.62s/it]\u001b[A\n",
      " 58%|█████▊    | 29/50 [00:48<00:34,  1.64s/it]\u001b[A\n",
      " 60%|██████    | 30/50 [00:50<00:33,  1.69s/it]\u001b[A\n",
      " 62%|██████▏   | 31/50 [00:51<00:30,  1.62s/it]\u001b[A\n",
      " 64%|██████▍   | 32/50 [00:53<00:28,  1.59s/it]\u001b[A\n",
      " 66%|██████▌   | 33/50 [00:54<00:26,  1.56s/it]\u001b[A\n",
      " 68%|██████▊   | 34/50 [00:56<00:25,  1.58s/it]\u001b[A\n",
      " 70%|███████   | 35/50 [00:57<00:23,  1.55s/it]\u001b[A\n",
      " 72%|███████▏  | 36/50 [00:59<00:23,  1.67s/it]\u001b[A\n",
      " 74%|███████▍  | 37/50 [01:01<00:21,  1.69s/it]\u001b[A\n",
      " 76%|███████▌  | 38/50 [01:02<00:19,  1.64s/it]\u001b[A\n",
      " 78%|███████▊  | 39/50 [01:04<00:17,  1.64s/it]\u001b[A\n",
      " 80%|████████  | 40/50 [01:05<00:15,  1.57s/it]\u001b[A\n",
      " 82%|████████▏ | 41/50 [01:07<00:14,  1.56s/it]\u001b[A\n",
      " 84%|████████▍ | 42/50 [01:08<00:11,  1.44s/it]\u001b[A"
     ]
    },
    {
     "name": "stdout",
     "output_type": "stream",
     "text": [
      "['一种基于中心网络的战术应用场景与业务,并将网络编码技术应用于此类场景的实时数据多播业务中。在分析基于中心网络与Many-to-all业务模式特', '普适计算二维空间定位过程中,通过对三角形定位单元区域的误差分析,提出了定位单元布局(LUD)定理。在此基础上,对多个定位单元布局进行了研究,定义', '基于时序逻辑结构描述语言描述的软件体系结构']\n",
      "['网络编码在实时战术数据多播中的应用', '普适计算中定位单元布局研究', '基于时序逻辑的面向方面体系结构描述语言']\n"
     ]
    },
    {
     "name": "stderr",
     "output_type": "stream",
     "text": [
      " 84%|████████▍ | 42/50 [01:09<00:13,  1.64s/it]\n",
      "[2022-05-29 00:54:02,770][model_v2.py][line:426][INFO] ********** Saving best result in step 4400 **********\n",
      "[2022-05-29 00:54:02,772][model_v2.py][line:426][INFO] ********** Evaluating Done **********\n"
     ]
    },
    {
     "name": "stdout",
     "output_type": "stream",
     "text": [
      "{'rouge-1': 0.4659605544823109, 'rouge-2': 0.3439486968802747, 'rouge-l': 0.425614402484752, 'bleu': 17.457711778286402}\n",
      "********** Saving best result in step 4400 **********\n",
      "********** Evaluating Done **********\n"
     ]
    },
    {
     "name": "stderr",
     "output_type": "stream",
     "text": [
      " 88%|████████▊ | 4425/5000 [9:00:45<1:07:00,  6.99s/it][2022-05-29 00:56:52,425][model_v2.py][line:426][INFO] global_steps 4425 - lr: 0.0000014780  loss: 1.14464676\n"
     ]
    },
    {
     "name": "stdout",
     "output_type": "stream",
     "text": [
      "global_steps 4425 - lr: 0.0000014780  loss: 1.14464676\n"
     ]
    },
    {
     "name": "stderr",
     "output_type": "stream",
     "text": [
      " 89%|████████▉ | 4450/5000 [9:03:38<1:00:20,  6.58s/it][2022-05-29 00:59:45,717][model_v2.py][line:426][INFO] global_steps 4450 - lr: 0.0000013479  loss: 0.95546663\n"
     ]
    },
    {
     "name": "stdout",
     "output_type": "stream",
     "text": [
      "global_steps 4450 - lr: 0.0000013479  loss: 0.95546663\n"
     ]
    },
    {
     "name": "stderr",
     "output_type": "stream",
     "text": [
      " 90%|████████▉ | 4475/5000 [9:06:26<54:05,  6.18s/it][2022-05-29 01:02:33,499][model_v2.py][line:426][INFO] global_steps 4475 - lr: 0.0000012236  loss: 1.21529484\n"
     ]
    },
    {
     "name": "stdout",
     "output_type": "stream",
     "text": [
      "global_steps 4475 - lr: 0.0000012236  loss: 1.21529484\n"
     ]
    },
    {
     "name": "stderr",
     "output_type": "stream",
     "text": [
      " 90%|█████████ | 4500/5000 [9:09:06<52:36,  6.31s/it][2022-05-29 01:05:13,718][model_v2.py][line:426][INFO] global_steps 4500 - lr: 0.0000011052  loss: 0.96101594\n",
      "[2022-05-29 01:05:13,719][model_v2.py][line:426][INFO] ********** Running evaluating **********\n",
      "[2022-05-29 01:05:13,721][model_v2.py][line:426][INFO] ********** Step 4500 **********\n"
     ]
    },
    {
     "name": "stdout",
     "output_type": "stream",
     "text": [
      "global_steps 4500 - lr: 0.0000011052  loss: 0.96101594\n",
      "********** Running evaluating **********\n",
      "********** Step 4500 **********\n"
     ]
    },
    {
     "name": "stderr",
     "output_type": "stream",
     "text": [
      "\n",
      "  0%|          | 0/50 [00:00<?, ?it/s]\u001b[A\n",
      "  2%|▏         | 1/50 [00:01<01:18,  1.61s/it]\u001b[A\n",
      "  4%|▍         | 2/50 [00:03<01:15,  1.56s/it]\u001b[A\n",
      "  6%|▌         | 3/50 [00:05<01:36,  2.04s/it]\u001b[A\n",
      "  8%|▊         | 4/50 [00:07<01:27,  1.90s/it]\u001b[A\n",
      " 10%|█         | 5/50 [00:09<01:24,  1.88s/it]\u001b[A\n",
      " 12%|█▏        | 6/50 [00:10<01:19,  1.81s/it]\u001b[A\n",
      " 14%|█▍        | 7/50 [00:12<01:15,  1.76s/it]\u001b[A\n",
      " 16%|█▌        | 8/50 [00:14<01:13,  1.75s/it]\u001b[A\n",
      " 18%|█▊        | 9/50 [00:16<01:11,  1.75s/it]\u001b[A\n",
      " 20%|██        | 10/50 [00:17<01:07,  1.70s/it]\u001b[A\n",
      " 22%|██▏       | 11/50 [00:19<01:04,  1.66s/it]\u001b[A\n",
      " 24%|██▍       | 12/50 [00:20<01:02,  1.65s/it]\u001b[A\n",
      " 26%|██▌       | 13/50 [00:22<01:00,  1.64s/it]\u001b[A\n",
      " 28%|██▊       | 14/50 [00:24<00:59,  1.64s/it]\u001b[A\n",
      " 30%|███       | 15/50 [00:25<00:58,  1.66s/it]\u001b[A\n",
      " 32%|███▏      | 16/50 [00:27<00:56,  1.66s/it]\u001b[A\n",
      " 34%|███▍      | 17/50 [00:28<00:52,  1.60s/it]\u001b[A\n",
      " 36%|███▌      | 18/50 [00:30<00:50,  1.58s/it]\u001b[A\n",
      " 38%|███▊      | 19/50 [00:31<00:48,  1.55s/it]\u001b[A\n",
      " 40%|████      | 20/50 [00:33<00:46,  1.56s/it]\u001b[A\n",
      " 42%|████▏     | 21/50 [00:35<00:45,  1.57s/it]\u001b[A\n",
      " 44%|████▍     | 22/50 [00:36<00:44,  1.58s/it]\u001b[A\n",
      " 46%|████▌     | 23/50 [00:39<00:49,  1.83s/it]\u001b[A\n",
      " 48%|████▊     | 24/50 [00:40<00:45,  1.74s/it]\u001b[A\n",
      " 50%|█████     | 25/50 [00:42<00:42,  1.72s/it]\u001b[A\n",
      " 52%|█████▏    | 26/50 [00:44<00:41,  1.72s/it]\u001b[A\n",
      " 54%|█████▍    | 27/50 [00:45<00:40,  1.75s/it]\u001b[A\n",
      " 56%|█████▌    | 28/50 [00:47<00:37,  1.69s/it]\u001b[A\n",
      " 58%|█████▊    | 29/50 [00:49<00:36,  1.72s/it]\u001b[A\n",
      " 60%|██████    | 30/50 [00:51<00:34,  1.75s/it]\u001b[A\n",
      " 62%|██████▏   | 31/50 [00:52<00:31,  1.66s/it]\u001b[A\n",
      " 64%|██████▍   | 32/50 [00:54<00:29,  1.62s/it]\u001b[A\n",
      " 66%|██████▌   | 33/50 [00:55<00:27,  1.59s/it]\u001b[A\n",
      " 68%|██████▊   | 34/50 [00:57<00:25,  1.61s/it]\u001b[A\n",
      " 70%|███████   | 35/50 [00:58<00:23,  1.58s/it]\u001b[A\n",
      " 72%|███████▏  | 36/50 [01:00<00:22,  1.62s/it]\u001b[A\n",
      " 74%|███████▍  | 37/50 [01:02<00:21,  1.62s/it]\u001b[A\n",
      " 76%|███████▌  | 38/50 [01:03<00:19,  1.60s/it]\u001b[A\n",
      " 78%|███████▊  | 39/50 [01:05<00:17,  1.59s/it]\u001b[A\n",
      " 80%|████████  | 40/50 [01:06<00:15,  1.55s/it]\u001b[A\n",
      " 82%|████████▏ | 41/50 [01:08<00:13,  1.56s/it]\u001b[A\n",
      " 84%|████████▍ | 42/50 [01:09<00:11,  1.45s/it]\u001b[A"
     ]
    },
    {
     "name": "stdout",
     "output_type": "stream",
     "text": [
      "['一种基于中心网络的战术应用场景与业务,并将网络编码技术应用于此类场景的实时数据多播业务中。在分析基于中心网络与Many-to-all业务模式特', '普适计算二维空间定位过程中,通过对三角形定位单元区域的误差分析,提出了定位单元布局(LUD)定理。在此基础上,对多个定位单元布局进行了研究,定义', '基于时序逻辑结构描述语言描述的软件体系结构']\n",
      "['网络编码在实时战术数据多播中的应用', '普适计算中定位单元布局研究', '基于时序逻辑的面向方面体系结构描述语言']\n"
     ]
    },
    {
     "name": "stderr",
     "output_type": "stream",
     "text": [
      " 84%|████████▍ | 42/50 [01:10<00:13,  1.67s/it]\n",
      "[2022-05-29 01:06:30,449][model_v2.py][line:426][INFO] ********** Saving best result in step 4500 **********\n",
      "[2022-05-29 01:06:30,451][model_v2.py][line:426][INFO] ********** Evaluating Done **********\n"
     ]
    },
    {
     "name": "stdout",
     "output_type": "stream",
     "text": [
      "{'rouge-1': 0.4659300846417815, 'rouge-2': 0.3440006158528769, 'rouge-l': 0.4252485419866238, 'bleu': 17.323572531235662}\n",
      "********** Saving best result in step 4500 **********\n",
      "********** Evaluating Done **********\n"
     ]
    },
    {
     "name": "stderr",
     "output_type": "stream",
     "text": [
      " 90%|█████████ | 4525/5000 [9:13:36<1:04:04,  8.09s/it][2022-05-29 01:09:43,792][model_v2.py][line:426][INFO] global_steps 4525 - lr: 0.0000009927  loss: 0.79218960\n"
     ]
    },
    {
     "name": "stdout",
     "output_type": "stream",
     "text": [
      "global_steps 4525 - lr: 0.0000009927  loss: 0.79218960\n"
     ]
    },
    {
     "name": "stderr",
     "output_type": "stream",
     "text": [
      " 91%|█████████ | 4550/5000 [9:16:18<52:04,  6.94s/it][2022-05-29 01:12:25,572][model_v2.py][line:426][INFO] global_steps 4550 - lr: 0.0000008861  loss: 1.13819337\n"
     ]
    },
    {
     "name": "stdout",
     "output_type": "stream",
     "text": [
      "global_steps 4550 - lr: 0.0000008861  loss: 1.13819337\n"
     ]
    },
    {
     "name": "stderr",
     "output_type": "stream",
     "text": [
      " 92%|█████████▏| 4575/5000 [9:19:02<46:44,  6.60s/it][2022-05-29 01:15:09,570][model_v2.py][line:426][INFO] global_steps 4575 - lr: 0.0000007854  loss: 0.97620356\n"
     ]
    },
    {
     "name": "stdout",
     "output_type": "stream",
     "text": [
      "global_steps 4575 - lr: 0.0000007854  loss: 0.97620356\n"
     ]
    },
    {
     "name": "stderr",
     "output_type": "stream",
     "text": [
      " 92%|█████████▏| 4600/5000 [9:21:38<40:05,  6.01s/it][2022-05-29 01:17:45,723][model_v2.py][line:426][INFO] global_steps 4600 - lr: 0.0000006908  loss: 1.28183925\n",
      "[2022-05-29 01:17:45,724][model_v2.py][line:426][INFO] ********** Running evaluating **********\n",
      "[2022-05-29 01:17:45,725][model_v2.py][line:426][INFO] ********** Step 4600 **********\n"
     ]
    },
    {
     "name": "stdout",
     "output_type": "stream",
     "text": [
      "global_steps 4600 - lr: 0.0000006908  loss: 1.28183925\n",
      "********** Running evaluating **********\n",
      "********** Step 4600 **********\n"
     ]
    },
    {
     "name": "stderr",
     "output_type": "stream",
     "text": [
      "\n",
      "  0%|          | 0/50 [00:00<?, ?it/s]\u001b[A\n",
      "  2%|▏         | 1/50 [00:01<01:20,  1.64s/it]\u001b[A\n",
      "  4%|▍         | 2/50 [00:03<01:18,  1.64s/it]\u001b[A\n",
      "  6%|▌         | 3/50 [00:05<01:27,  1.86s/it]\u001b[A\n",
      "  8%|▊         | 4/50 [00:07<01:21,  1.76s/it]\u001b[A\n",
      " 10%|█         | 5/50 [00:08<01:21,  1.81s/it]\u001b[A\n",
      " 12%|█▏        | 6/50 [00:10<01:15,  1.72s/it]\u001b[A\n",
      " 14%|█▍        | 7/50 [00:12<01:21,  1.90s/it]\u001b[A\n",
      " 16%|█▌        | 8/50 [00:14<01:18,  1.87s/it]\u001b[A\n",
      " 18%|█▊        | 9/50 [00:16<01:12,  1.77s/it]\u001b[A\n",
      " 20%|██        | 10/50 [00:17<01:08,  1.71s/it]\u001b[A\n",
      " 22%|██▏       | 11/50 [00:19<01:05,  1.68s/it]\u001b[A\n",
      " 24%|██▍       | 12/50 [00:20<01:03,  1.67s/it]\u001b[A\n",
      " 26%|██▌       | 13/50 [00:22<01:00,  1.63s/it]\u001b[A\n",
      " 28%|██▊       | 14/50 [00:24<01:01,  1.71s/it]\u001b[A\n",
      " 30%|███       | 15/50 [00:26<00:59,  1.70s/it]\u001b[A\n",
      " 32%|███▏      | 16/50 [00:27<00:55,  1.64s/it]\u001b[A\n",
      " 34%|███▍      | 17/50 [00:28<00:52,  1.59s/it]\u001b[A\n",
      " 36%|███▌      | 18/50 [00:30<00:50,  1.59s/it]\u001b[A\n",
      " 38%|███▊      | 19/50 [00:32<00:48,  1.56s/it]\u001b[A\n",
      " 40%|████      | 20/50 [00:33<00:47,  1.59s/it]\u001b[A\n",
      " 42%|████▏     | 21/50 [00:35<00:47,  1.62s/it]\u001b[A\n",
      " 44%|████▍     | 22/50 [00:37<00:45,  1.62s/it]\u001b[A\n",
      " 46%|████▌     | 23/50 [00:38<00:43,  1.61s/it]\u001b[A\n",
      " 48%|████▊     | 24/50 [00:40<00:41,  1.59s/it]\u001b[A\n",
      " 50%|█████     | 25/50 [00:41<00:39,  1.59s/it]\u001b[A\n",
      " 52%|█████▏    | 26/50 [00:43<00:39,  1.63s/it]\u001b[A\n",
      " 54%|█████▍    | 27/50 [00:45<00:41,  1.78s/it]\u001b[A\n",
      " 56%|█████▌    | 28/50 [00:47<00:39,  1.78s/it]\u001b[A\n",
      " 58%|█████▊    | 29/50 [00:48<00:35,  1.71s/it]\u001b[A\n",
      " 60%|██████    | 30/50 [00:50<00:34,  1.74s/it]\u001b[A\n",
      " 62%|██████▏   | 31/50 [00:52<00:31,  1.67s/it]\u001b[A\n",
      " 64%|██████▍   | 32/50 [00:53<00:29,  1.64s/it]\u001b[A\n",
      " 66%|██████▌   | 33/50 [00:55<00:27,  1.60s/it]\u001b[A\n",
      " 68%|██████▊   | 34/50 [00:57<00:26,  1.65s/it]\u001b[A\n",
      " 70%|███████   | 35/50 [00:58<00:24,  1.62s/it]\u001b[A\n",
      " 72%|███████▏  | 36/50 [01:00<00:22,  1.59s/it]\u001b[A\n",
      " 74%|███████▍  | 37/50 [01:01<00:20,  1.61s/it]\u001b[A\n",
      " 76%|███████▌  | 38/50 [01:03<00:19,  1.59s/it]\u001b[A\n",
      " 78%|███████▊  | 39/50 [01:05<00:17,  1.61s/it]\u001b[A\n",
      " 80%|████████  | 40/50 [01:06<00:15,  1.57s/it]\u001b[A\n",
      " 82%|████████▏ | 41/50 [01:08<00:14,  1.62s/it]\u001b[A\n",
      " 84%|████████▍ | 42/50 [01:09<00:11,  1.49s/it]\u001b[A"
     ]
    },
    {
     "name": "stdout",
     "output_type": "stream",
     "text": [
      "['一种基于中心网络的战术应用场景与业务,并将网络编码技术应用于此类场景的实时数据多播业务中。在分析基于中心网络与Many-to-all业务模式特', '普适计算二维空间定位过程中,通过对三角形定位单元区域的误差分析,提出了定位单元布局(LUD)定理。在此基础上,对多个定位单元布局进行了研究,定义', '基于时序逻辑结构描述语言描述的软件体系结构']\n",
      "['网络编码在实时战术数据多播中的应用', '普适计算中定位单元布局研究', '基于时序逻辑的面向方面体系结构描述语言']\n"
     ]
    },
    {
     "name": "stderr",
     "output_type": "stream",
     "text": [
      " 84%|████████▍ | 42/50 [01:09<00:13,  1.67s/it]\n",
      "[2022-05-29 01:19:02,159][model_v2.py][line:426][INFO] ********** Saving best result in step 4600 **********\n",
      "[2022-05-29 01:19:02,161][model_v2.py][line:426][INFO] ********** Evaluating Done **********\n"
     ]
    },
    {
     "name": "stdout",
     "output_type": "stream",
     "text": [
      "{'rouge-1': 0.45324118473711034, 'rouge-2': 0.32976451201501944, 'rouge-l': 0.40995324428083996, 'bleu': 16.338646995520712}\n",
      "********** Saving best result in step 4600 **********\n",
      "********** Evaluating Done **********\n"
     ]
    },
    {
     "name": "stderr",
     "output_type": "stream",
     "text": [
      " 92%|█████████▎| 4625/5000 [9:25:33<41:20,  6.61s/it][2022-05-29 01:21:40,659][model_v2.py][line:426][INFO] global_steps 4625 - lr: 0.0000006021  loss: 1.42871618\n"
     ]
    },
    {
     "name": "stdout",
     "output_type": "stream",
     "text": [
      "global_steps 4625 - lr: 0.0000006021  loss: 1.42871618\n"
     ]
    },
    {
     "name": "stderr",
     "output_type": "stream",
     "text": [
      " 93%|█████████▎| 4650/5000 [9:28:10<35:14,  6.04s/it][2022-05-29 01:24:17,523][model_v2.py][line:426][INFO] global_steps 4650 - lr: 0.0000005194  loss: 0.90251815\n"
     ]
    },
    {
     "name": "stdout",
     "output_type": "stream",
     "text": [
      "global_steps 4650 - lr: 0.0000005194  loss: 0.90251815\n"
     ]
    },
    {
     "name": "stderr",
     "output_type": "stream",
     "text": [
      " 94%|█████████▎| 4675/5000 [9:30:38<33:27,  6.18s/it][2022-05-29 01:26:45,062][model_v2.py][line:426][INFO] global_steps 4675 - lr: 0.0000004428  loss: 1.07386029\n"
     ]
    },
    {
     "name": "stdout",
     "output_type": "stream",
     "text": [
      "global_steps 4675 - lr: 0.0000004428  loss: 1.07386029\n"
     ]
    },
    {
     "name": "stderr",
     "output_type": "stream",
     "text": [
      " 94%|█████████▍| 4700/5000 [9:33:27<35:50,  7.17s/it][2022-05-29 01:29:34,377][model_v2.py][line:426][INFO] global_steps 4700 - lr: 0.0000003723  loss: 0.97695452\n",
      "[2022-05-29 01:29:34,378][model_v2.py][line:426][INFO] ********** Running evaluating **********\n",
      "[2022-05-29 01:29:34,382][model_v2.py][line:426][INFO] ********** Step 4700 **********\n"
     ]
    },
    {
     "name": "stdout",
     "output_type": "stream",
     "text": [
      "global_steps 4700 - lr: 0.0000003723  loss: 0.97695452\n",
      "********** Running evaluating **********\n",
      "********** Step 4700 **********\n"
     ]
    },
    {
     "name": "stderr",
     "output_type": "stream",
     "text": [
      "\n",
      "  0%|          | 0/50 [00:00<?, ?it/s]\u001b[A\n",
      "  2%|▏         | 1/50 [00:01<01:20,  1.65s/it]\u001b[A\n",
      "  4%|▍         | 2/50 [00:03<01:18,  1.63s/it]\u001b[A\n",
      "  6%|▌         | 3/50 [00:05<01:25,  1.82s/it]\u001b[A\n",
      "  8%|▊         | 4/50 [00:06<01:21,  1.76s/it]\u001b[A\n",
      " 10%|█         | 5/50 [00:08<01:21,  1.81s/it]\u001b[A\n",
      " 12%|█▏        | 6/50 [00:10<01:16,  1.73s/it]\u001b[A\n",
      " 14%|█▍        | 7/50 [00:12<01:13,  1.72s/it]\u001b[A\n",
      " 16%|█▌        | 8/50 [00:13<01:10,  1.67s/it]\u001b[A\n",
      " 18%|█▊        | 9/50 [00:15<01:06,  1.61s/it]\u001b[A\n",
      " 20%|██        | 10/50 [00:16<01:03,  1.60s/it]\u001b[A\n",
      " 22%|██▏       | 11/50 [00:18<01:04,  1.66s/it]\u001b[A\n",
      " 24%|██▍       | 12/50 [00:20<01:05,  1.71s/it]\u001b[A\n",
      " 26%|██▌       | 13/50 [00:21<01:01,  1.67s/it]\u001b[A\n",
      " 28%|██▊       | 14/50 [00:23<01:00,  1.69s/it]\u001b[A\n",
      " 30%|███       | 15/50 [00:25<01:02,  1.79s/it]\u001b[A\n",
      " 32%|███▏      | 16/50 [00:27<00:58,  1.73s/it]\u001b[A\n",
      " 34%|███▍      | 17/50 [00:28<00:54,  1.66s/it]\u001b[A\n",
      " 36%|███▌      | 18/50 [00:30<00:53,  1.67s/it]\u001b[A\n",
      " 38%|███▊      | 19/50 [00:32<00:50,  1.62s/it]\u001b[A\n",
      " 40%|████      | 20/50 [00:33<00:48,  1.62s/it]\u001b[A\n",
      " 42%|████▏     | 21/50 [00:35<00:46,  1.62s/it]\u001b[A\n",
      " 44%|████▍     | 22/50 [00:36<00:45,  1.62s/it]\u001b[A\n",
      " 46%|████▌     | 23/50 [00:38<00:43,  1.62s/it]\u001b[A\n",
      " 48%|████▊     | 24/50 [00:40<00:42,  1.63s/it]\u001b[A\n",
      " 50%|█████     | 25/50 [00:41<00:40,  1.63s/it]\u001b[A\n",
      " 52%|█████▏    | 26/50 [00:43<00:39,  1.66s/it]\u001b[A\n",
      " 54%|█████▍    | 27/50 [00:45<00:37,  1.63s/it]\u001b[A\n",
      " 56%|█████▌    | 28/50 [00:46<00:35,  1.61s/it]\u001b[A\n",
      " 58%|█████▊    | 29/50 [00:48<00:33,  1.59s/it]\u001b[A\n",
      " 60%|██████    | 30/50 [00:50<00:33,  1.67s/it]\u001b[A\n",
      " 62%|██████▏   | 31/50 [00:52<00:33,  1.76s/it]\u001b[A\n",
      " 64%|██████▍   | 32/50 [00:53<00:30,  1.71s/it]\u001b[A\n",
      " 66%|██████▌   | 33/50 [00:55<00:28,  1.65s/it]\u001b[A\n",
      " 68%|██████▊   | 34/50 [00:56<00:26,  1.66s/it]\u001b[A\n",
      " 70%|███████   | 35/50 [00:58<00:26,  1.73s/it]\u001b[A\n",
      " 72%|███████▏  | 36/50 [01:00<00:23,  1.70s/it]\u001b[A\n",
      " 74%|███████▍  | 37/50 [01:02<00:22,  1.72s/it]\u001b[A\n",
      " 76%|███████▌  | 38/50 [01:03<00:20,  1.75s/it]\u001b[A\n",
      " 78%|███████▊  | 39/50 [01:05<00:18,  1.70s/it]\u001b[A\n",
      " 80%|████████  | 40/50 [01:07<00:16,  1.64s/it]\u001b[A\n",
      " 82%|████████▏ | 41/50 [01:08<00:14,  1.62s/it]\u001b[A\n",
      " 84%|████████▍ | 42/50 [01:09<00:12,  1.50s/it]\u001b[A"
     ]
    },
    {
     "name": "stdout",
     "output_type": "stream",
     "text": [
      "['一种基于中心网络的战术应用场景与业务,并将网络编码技术应用于此类场景的实时数据多播业务中。在分析基于中心网络与Many-to-all业务模式特', '普适计算二维空间定位过程中,通过对三角形定位单元区域的误差分析,提出了定位单元布局(LUD)定理。在此基础上,对多个定位单元布局进行了研究,定义', '基于时序逻辑结构描述语言描述的软件体系结构']\n",
      "['网络编码在实时战术数据多播中的应用', '普适计算中定位单元布局研究', '基于时序逻辑的面向方面体系结构描述语言']\n"
     ]
    },
    {
     "name": "stderr",
     "output_type": "stream",
     "text": [
      " 84%|████████▍ | 42/50 [01:10<00:13,  1.68s/it]\n",
      "[2022-05-29 01:30:51,449][model_v2.py][line:426][INFO] ********** Saving best result in step 4700 **********\n",
      "[2022-05-29 01:30:51,450][model_v2.py][line:426][INFO] ********** Evaluating Done **********\n"
     ]
    },
    {
     "name": "stdout",
     "output_type": "stream",
     "text": [
      "{'rouge-1': 0.45143542499550493, 'rouge-2': 0.3291127711607566, 'rouge-l': 0.4090539483227361, 'bleu': 16.32038075675302}\n",
      "********** Saving best result in step 4700 **********\n",
      "********** Evaluating Done **********\n"
     ]
    },
    {
     "name": "stderr",
     "output_type": "stream",
     "text": [
      " 94%|█████████▍| 4725/5000 [9:37:48<35:14,  7.69s/it][2022-05-29 01:33:55,754][model_v2.py][line:426][INFO] global_steps 4725 - lr: 0.0000003078  loss: 1.02386749\n"
     ]
    },
    {
     "name": "stdout",
     "output_type": "stream",
     "text": [
      "global_steps 4725 - lr: 0.0000003078  loss: 1.02386749\n"
     ]
    },
    {
     "name": "stderr",
     "output_type": "stream",
     "text": [
      " 95%|█████████▌| 4750/5000 [9:40:44<29:52,  7.17s/it][2022-05-29 01:36:51,681][model_v2.py][line:426][INFO] global_steps 4750 - lr: 0.0000002494  loss: 1.30402672\n"
     ]
    },
    {
     "name": "stdout",
     "output_type": "stream",
     "text": [
      "global_steps 4750 - lr: 0.0000002494  loss: 1.30402672\n"
     ]
    },
    {
     "name": "stderr",
     "output_type": "stream",
     "text": [
      " 96%|█████████▌| 4775/5000 [9:43:51<28:22,  7.57s/it][2022-05-29 01:39:58,449][model_v2.py][line:426][INFO] global_steps 4775 - lr: 0.0000001971  loss: 0.99263579\n"
     ]
    },
    {
     "name": "stdout",
     "output_type": "stream",
     "text": [
      "global_steps 4775 - lr: 0.0000001971  loss: 0.99263579\n"
     ]
    },
    {
     "name": "stderr",
     "output_type": "stream",
     "text": [
      " 96%|█████████▌| 4800/5000 [9:46:47<23:10,  6.95s/it][2022-05-29 01:42:54,227][model_v2.py][line:426][INFO] global_steps 4800 - lr: 0.0000001510  loss: 0.89962149\n",
      "[2022-05-29 01:42:54,228][model_v2.py][line:426][INFO] ********** Running evaluating **********\n",
      "[2022-05-29 01:42:54,229][model_v2.py][line:426][INFO] ********** Step 4800 **********\n"
     ]
    },
    {
     "name": "stdout",
     "output_type": "stream",
     "text": [
      "global_steps 4800 - lr: 0.0000001510  loss: 0.89962149\n",
      "********** Running evaluating **********\n",
      "********** Step 4800 **********\n"
     ]
    },
    {
     "name": "stderr",
     "output_type": "stream",
     "text": [
      "\n",
      "  0%|          | 0/50 [00:00<?, ?it/s]\u001b[A\n",
      "  2%|▏         | 1/50 [00:01<01:19,  1.62s/it]\u001b[A\n",
      "  4%|▍         | 2/50 [00:03<01:17,  1.62s/it]\u001b[A\n",
      "  6%|▌         | 3/50 [00:05<01:25,  1.81s/it]\u001b[A\n",
      "  8%|▊         | 4/50 [00:06<01:19,  1.74s/it]\u001b[A\n",
      " 10%|█         | 5/50 [00:08<01:19,  1.77s/it]\u001b[A\n",
      " 12%|█▏        | 6/50 [00:10<01:18,  1.79s/it]\u001b[A\n",
      " 14%|█▍        | 7/50 [00:12<01:15,  1.76s/it]\u001b[A\n",
      " 16%|█▌        | 8/50 [00:13<01:11,  1.71s/it]\u001b[A\n",
      " 18%|█▊        | 9/50 [00:15<01:09,  1.71s/it]\u001b[A\n",
      " 20%|██        | 10/50 [00:17<01:09,  1.74s/it]\u001b[A\n",
      " 22%|██▏       | 11/50 [00:18<01:06,  1.69s/it]\u001b[A\n",
      " 24%|██▍       | 12/50 [00:20<01:03,  1.68s/it]\u001b[A\n",
      " 26%|██▌       | 13/50 [00:22<01:02,  1.69s/it]\u001b[A\n",
      " 28%|██▊       | 14/50 [00:24<01:01,  1.70s/it]\u001b[A\n",
      " 30%|███       | 15/50 [00:25<00:59,  1.70s/it]\u001b[A\n",
      " 32%|███▏      | 16/50 [00:27<00:59,  1.74s/it]\u001b[A\n",
      " 34%|███▍      | 17/50 [00:29<00:54,  1.66s/it]\u001b[A\n",
      " 36%|███▌      | 18/50 [00:30<00:52,  1.63s/it]\u001b[A\n",
      " 38%|███▊      | 19/50 [00:32<00:52,  1.70s/it]\u001b[A\n",
      " 40%|████      | 20/50 [00:34<00:51,  1.72s/it]\u001b[A\n",
      " 42%|████▏     | 21/50 [00:35<00:49,  1.71s/it]\u001b[A\n",
      " 44%|████▍     | 22/50 [00:37<00:47,  1.69s/it]\u001b[A\n",
      " 46%|████▌     | 23/50 [00:39<00:44,  1.67s/it]\u001b[A\n",
      " 48%|████▊     | 24/50 [00:40<00:42,  1.62s/it]\u001b[A\n",
      " 50%|█████     | 25/50 [00:42<00:40,  1.62s/it]\u001b[A\n",
      " 52%|█████▏    | 26/50 [00:44<00:40,  1.70s/it]\u001b[A\n",
      " 54%|█████▍    | 27/50 [00:45<00:38,  1.68s/it]\u001b[A\n",
      " 56%|█████▌    | 28/50 [00:47<00:36,  1.65s/it]\u001b[A\n",
      " 58%|█████▊    | 29/50 [00:49<00:36,  1.72s/it]\u001b[A\n",
      " 60%|██████    | 30/50 [00:51<00:35,  1.76s/it]\u001b[A\n",
      " 62%|██████▏   | 31/50 [00:52<00:31,  1.67s/it]\u001b[A\n",
      " 64%|██████▍   | 32/50 [00:54<00:31,  1.73s/it]\u001b[A\n",
      " 66%|██████▌   | 33/50 [00:56<00:28,  1.67s/it]\u001b[A\n",
      " 68%|██████▊   | 34/50 [00:57<00:26,  1.67s/it]\u001b[A\n",
      " 70%|███████   | 35/50 [00:59<00:25,  1.70s/it]\u001b[A\n",
      " 72%|███████▏  | 36/50 [01:01<00:23,  1.65s/it]\u001b[A\n",
      " 74%|███████▍  | 37/50 [01:02<00:21,  1.65s/it]\u001b[A\n",
      " 76%|███████▌  | 38/50 [01:04<00:19,  1.63s/it]\u001b[A\n",
      " 78%|███████▊  | 39/50 [01:06<00:18,  1.67s/it]\u001b[A\n",
      " 80%|████████  | 40/50 [01:07<00:16,  1.61s/it]\u001b[A\n",
      " 82%|████████▏ | 41/50 [01:09<00:14,  1.60s/it]\u001b[A\n",
      " 84%|████████▍ | 42/50 [01:10<00:11,  1.48s/it]\u001b[A"
     ]
    },
    {
     "name": "stdout",
     "output_type": "stream",
     "text": [
      "['一种基于中心网络的战术应用场景与业务,并将网络编码技术应用于此类场景的实时数据多播业务中。在分析基于中心网络与Many-to-all业务模式特', '普适计算二维空间定位过程中,通过对三角形定位单元区域的误差分析,提出了定位单元布局(LUD)定理。在此基础上,对多个定位单元布局进行了研究,定义', '基于时序逻辑结构描述语言描述的软件体系结构']\n",
      "['网络编码在实时战术数据多播中的应用', '普适计算中定位单元布局研究', '基于时序逻辑的面向方面体系结构描述语言']\n"
     ]
    },
    {
     "name": "stderr",
     "output_type": "stream",
     "text": [
      " 84%|████████▍ | 42/50 [01:10<00:13,  1.69s/it]\n",
      "[2022-05-29 01:44:12,035][model_v2.py][line:426][INFO] ********** Saving best result in step 4800 **********\n",
      "[2022-05-29 01:44:12,037][model_v2.py][line:426][INFO] ********** Evaluating Done **********\n"
     ]
    },
    {
     "name": "stdout",
     "output_type": "stream",
     "text": [
      "{'rouge-1': 0.4513147488517803, 'rouge-2': 0.3292474154625025, 'rouge-l': 0.4085126107793895, 'bleu': 16.324893471728505}\n",
      "********** Saving best result in step 4800 **********\n",
      "********** Evaluating Done **********\n"
     ]
    },
    {
     "name": "stderr",
     "output_type": "stream",
     "text": [
      " 96%|█████████▋| 4825/5000 [9:50:59<21:20,  7.32s/it][2022-05-29 01:47:05,899][model_v2.py][line:426][INFO] global_steps 4825 - lr: 0.0000001110  loss: 0.86272919\n"
     ]
    },
    {
     "name": "stdout",
     "output_type": "stream",
     "text": [
      "global_steps 4825 - lr: 0.0000001110  loss: 0.86272919\n"
     ]
    },
    {
     "name": "stderr",
     "output_type": "stream",
     "text": [
      " 97%|█████████▋| 4850/5000 [9:53:52<17:46,  7.11s/it][2022-05-29 01:49:59,454][model_v2.py][line:426][INFO] global_steps 4850 - lr: 0.0000000771  loss: 1.07828069\n"
     ]
    },
    {
     "name": "stdout",
     "output_type": "stream",
     "text": [
      "global_steps 4850 - lr: 0.0000000771  loss: 1.07828069\n"
     ]
    },
    {
     "name": "stderr",
     "output_type": "stream",
     "text": [
      " 98%|█████████▊| 4875/5000 [9:56:35<15:40,  7.53s/it][2022-05-29 01:52:41,988][model_v2.py][line:426][INFO] global_steps 4875 - lr: 0.0000000493  loss: 0.95957792\n"
     ]
    },
    {
     "name": "stdout",
     "output_type": "stream",
     "text": [
      "global_steps 4875 - lr: 0.0000000493  loss: 0.95957792\n"
     ]
    },
    {
     "name": "stderr",
     "output_type": "stream",
     "text": [
      " 98%|█████████▊| 4900/5000 [9:59:25<11:23,  6.84s/it][2022-05-29 01:55:32,381][model_v2.py][line:426][INFO] global_steps 4900 - lr: 0.0000000278  loss: 0.91242719\n",
      "[2022-05-29 01:55:32,382][model_v2.py][line:426][INFO] ********** Running evaluating **********\n",
      "[2022-05-29 01:55:32,385][model_v2.py][line:426][INFO] ********** Step 4900 **********\n"
     ]
    },
    {
     "name": "stdout",
     "output_type": "stream",
     "text": [
      "global_steps 4900 - lr: 0.0000000278  loss: 0.91242719\n",
      "********** Running evaluating **********\n",
      "********** Step 4900 **********\n"
     ]
    },
    {
     "name": "stderr",
     "output_type": "stream",
     "text": [
      "\n",
      "  0%|          | 0/50 [00:00<?, ?it/s]\u001b[A\n",
      "  2%|▏         | 1/50 [00:02<01:40,  2.06s/it]\u001b[A\n",
      "  4%|▍         | 2/50 [00:03<01:24,  1.76s/it]\u001b[A\n",
      "  6%|▌         | 3/50 [00:05<01:20,  1.71s/it]\u001b[A\n",
      "  8%|▊         | 4/50 [00:07<01:23,  1.82s/it]\u001b[A\n",
      " 10%|█         | 5/50 [00:09<01:23,  1.86s/it]\u001b[A\n",
      " 12%|█▏        | 6/50 [00:10<01:21,  1.85s/it]\u001b[A\n",
      " 14%|█▍        | 7/50 [00:12<01:15,  1.75s/it]\u001b[A\n",
      " 16%|█▌        | 8/50 [00:14<01:11,  1.70s/it]\u001b[A\n",
      " 18%|█▊        | 9/50 [00:15<01:07,  1.64s/it]\u001b[A\n",
      " 20%|██        | 10/50 [00:17<01:04,  1.61s/it]\u001b[A\n",
      " 22%|██▏       | 11/50 [00:18<01:04,  1.67s/it]\u001b[A\n",
      " 24%|██▍       | 12/50 [00:20<01:02,  1.65s/it]\u001b[A\n",
      " 26%|██▌       | 13/50 [00:22<00:59,  1.62s/it]\u001b[A\n",
      " 28%|██▊       | 14/50 [00:23<00:59,  1.64s/it]\u001b[A\n",
      " 30%|███       | 15/50 [00:25<00:58,  1.66s/it]\u001b[A\n",
      " 32%|███▏      | 16/50 [00:27<00:54,  1.61s/it]\u001b[A\n",
      " 34%|███▍      | 17/50 [00:28<00:51,  1.56s/it]\u001b[A\n",
      " 36%|███▌      | 18/50 [00:30<00:51,  1.62s/it]\u001b[A\n",
      " 38%|███▊      | 19/50 [00:31<00:50,  1.62s/it]\u001b[A\n",
      " 40%|████      | 20/50 [00:33<00:51,  1.70s/it]\u001b[A\n",
      " 42%|████▏     | 21/50 [00:35<00:48,  1.68s/it]\u001b[A\n",
      " 44%|████▍     | 22/50 [00:37<00:46,  1.66s/it]\u001b[A\n",
      " 46%|████▌     | 23/50 [00:38<00:44,  1.65s/it]\u001b[A\n",
      " 48%|████▊     | 24/50 [00:40<00:41,  1.61s/it]\u001b[A\n",
      " 50%|█████     | 25/50 [00:41<00:41,  1.66s/it]\u001b[A\n",
      " 52%|█████▏    | 26/50 [00:43<00:42,  1.76s/it]\u001b[A\n",
      " 54%|█████▍    | 27/50 [00:45<00:39,  1.73s/it]\u001b[A\n",
      " 56%|█████▌    | 28/50 [00:47<00:36,  1.68s/it]\u001b[A\n",
      " 58%|█████▊    | 29/50 [00:48<00:34,  1.65s/it]\u001b[A\n",
      " 60%|██████    | 30/50 [00:50<00:34,  1.70s/it]\u001b[A\n",
      " 62%|██████▏   | 31/50 [00:52<00:32,  1.70s/it]\u001b[A\n",
      " 64%|██████▍   | 32/50 [00:53<00:29,  1.66s/it]\u001b[A\n",
      " 66%|██████▌   | 33/50 [00:55<00:27,  1.63s/it]\u001b[A\n",
      " 68%|██████▊   | 34/50 [00:57<00:26,  1.64s/it]\u001b[A\n",
      " 70%|███████   | 35/50 [00:58<00:24,  1.62s/it]\u001b[A\n",
      " 72%|███████▏  | 36/50 [01:00<00:22,  1.59s/it]\u001b[A\n",
      " 74%|███████▍  | 37/50 [01:01<00:21,  1.62s/it]\u001b[A\n",
      " 76%|███████▌  | 38/50 [01:03<00:19,  1.65s/it]\u001b[A\n",
      " 78%|███████▊  | 39/50 [01:05<00:18,  1.70s/it]\u001b[A\n",
      " 80%|████████  | 40/50 [01:06<00:16,  1.63s/it]\u001b[A\n",
      " 82%|████████▏ | 41/50 [01:08<00:14,  1.62s/it]\u001b[A\n",
      " 84%|████████▍ | 42/50 [01:09<00:12,  1.50s/it]\u001b[A"
     ]
    },
    {
     "name": "stdout",
     "output_type": "stream",
     "text": [
      "['一种基于中心网络的战术应用场景与业务,并将网络编码技术应用于此类场景的实时数据多播业务中。在分析基于中心网络与Many-to-all业务模式特', '普适计算二维空间定位过程中,通过对三角形定位单元区域的误差分析,提出了定位单元布局(LUD)定理。在此基础上,对多个定位单元布局进行了研究,定义', '基于时序逻辑结构描述语言描述的软件体系结构']\n",
      "['网络编码在实时战术数据多播中的应用', '普适计算中定位单元布局研究', '基于时序逻辑的面向方面体系结构描述语言']\n"
     ]
    },
    {
     "name": "stderr",
     "output_type": "stream",
     "text": [
      " 84%|████████▍ | 42/50 [01:10<00:13,  1.67s/it]\n",
      "[2022-05-29 01:56:52,862][model_v2.py][line:426][INFO] ********** Saving best result in step 4900 **********\n",
      "[2022-05-29 01:56:52,863][model_v2.py][line:426][INFO] ********** Evaluating Done **********\n"
     ]
    },
    {
     "name": "stdout",
     "output_type": "stream",
     "text": [
      "{'rouge-1': 0.4516643544176362, 'rouge-2': 0.32954916535989054, 'rouge-l': 0.40849861773713314, 'bleu': 16.318658330694277}\n",
      "********** Saving best result in step 4900 **********\n",
      "********** Evaluating Done **********\n"
     ]
    },
    {
     "name": "stderr",
     "output_type": "stream",
     "text": [
      " 98%|█████████▊| 4925/5000 [10:03:40<08:30,  6.81s/it][2022-05-29 01:59:47,275][model_v2.py][line:426][INFO] global_steps 4925 - lr: 0.0000000123  loss: 0.90055692\n"
     ]
    },
    {
     "name": "stdout",
     "output_type": "stream",
     "text": [
      "global_steps 4925 - lr: 0.0000000123  loss: 0.90055692\n"
     ]
    },
    {
     "name": "stderr",
     "output_type": "stream",
     "text": [
      " 99%|█████████▉| 4950/5000 [10:06:28<05:36,  6.73s/it][2022-05-29 02:02:35,518][model_v2.py][line:426][INFO] global_steps 4950 - lr: 0.0000000031  loss: 1.06688488\n"
     ]
    },
    {
     "name": "stdout",
     "output_type": "stream",
     "text": [
      "global_steps 4950 - lr: 0.0000000031  loss: 1.06688488\n"
     ]
    },
    {
     "name": "stderr",
     "output_type": "stream",
     "text": [
      "100%|█████████▉| 4975/5000 [10:09:21<02:54,  6.98s/it][2022-05-29 02:05:28,127][model_v2.py][line:426][INFO] global_steps 4975 - lr: 0.0000000000  loss: 1.10234618\n"
     ]
    },
    {
     "name": "stdout",
     "output_type": "stream",
     "text": [
      "global_steps 4975 - lr: 0.0000000000  loss: 1.10234618\n"
     ]
    },
    {
     "name": "stderr",
     "output_type": "stream",
     "text": [
      "100%|██████████| 5000/5000 [10:12:11<00:00,  7.09s/it][2022-05-29 02:08:18,718][model_v2.py][line:426][INFO] global_steps 5000 - lr: 0.0000000031  loss: 0.90410656\n",
      "[2022-05-29 02:08:18,719][model_v2.py][line:426][INFO] ********** Running evaluating **********\n",
      "[2022-05-29 02:08:18,719][model_v2.py][line:426][INFO] ********** Step 5000 **********\n"
     ]
    },
    {
     "name": "stdout",
     "output_type": "stream",
     "text": [
      "global_steps 5000 - lr: 0.0000000031  loss: 0.90410656\n",
      "********** Running evaluating **********\n",
      "********** Step 5000 **********\n"
     ]
    },
    {
     "name": "stderr",
     "output_type": "stream",
     "text": [
      "\n",
      "  0%|          | 0/50 [00:00<?, ?it/s]\u001b[A\n",
      "  2%|▏         | 1/50 [00:02<02:20,  2.88s/it]\u001b[A\n",
      "  4%|▍         | 2/50 [00:04<01:42,  2.13s/it]\u001b[A\n",
      "  6%|▌         | 3/50 [00:06<01:32,  1.97s/it]\u001b[A\n",
      "  8%|▊         | 4/50 [00:07<01:24,  1.83s/it]\u001b[A\n",
      " 10%|█         | 5/50 [00:09<01:22,  1.84s/it]\u001b[A\n",
      " 12%|█▏        | 6/50 [00:11<01:19,  1.80s/it]\u001b[A\n",
      " 14%|█▍        | 7/50 [00:13<01:14,  1.72s/it]\u001b[A\n",
      " 16%|█▌        | 8/50 [00:14<01:10,  1.67s/it]\u001b[A\n",
      " 18%|█▊        | 9/50 [00:16<01:06,  1.63s/it]\u001b[A\n",
      " 20%|██        | 10/50 [00:17<01:04,  1.60s/it]\u001b[A\n",
      " 22%|██▏       | 11/50 [00:19<01:02,  1.60s/it]\u001b[A\n",
      " 24%|██▍       | 12/50 [00:20<01:00,  1.60s/it]\u001b[A\n",
      " 26%|██▌       | 13/50 [00:22<01:00,  1.65s/it]\u001b[A\n",
      " 28%|██▊       | 14/50 [00:24<01:00,  1.67s/it]\u001b[A\n",
      " 30%|███       | 15/50 [00:25<00:58,  1.67s/it]\u001b[A\n",
      " 32%|███▏      | 16/50 [00:27<00:54,  1.62s/it]\u001b[A\n",
      " 34%|███▍      | 17/50 [00:28<00:51,  1.57s/it]\u001b[A\n",
      " 36%|███▌      | 18/50 [00:30<00:50,  1.57s/it]\u001b[A\n",
      " 38%|███▊      | 19/50 [00:32<00:47,  1.55s/it]\u001b[A\n",
      " 40%|████      | 20/50 [00:34<00:52,  1.75s/it]\u001b[A\n",
      " 42%|████▏     | 21/50 [00:36<00:51,  1.78s/it]\u001b[A\n",
      " 44%|████▍     | 22/50 [00:37<00:49,  1.75s/it]\u001b[A\n",
      " 46%|████▌     | 23/50 [00:39<00:46,  1.71s/it]\u001b[A\n",
      " 48%|████▊     | 24/50 [00:40<00:42,  1.65s/it]\u001b[A\n",
      " 50%|█████     | 25/50 [00:42<00:40,  1.64s/it]\u001b[A\n",
      " 52%|█████▏    | 26/50 [00:44<00:42,  1.75s/it]\u001b[A\n",
      " 54%|█████▍    | 27/50 [00:46<00:39,  1.72s/it]\u001b[A\n",
      " 56%|█████▌    | 28/50 [00:47<00:36,  1.68s/it]\u001b[A\n",
      " 58%|█████▊    | 29/50 [00:49<00:34,  1.66s/it]\u001b[A\n",
      " 60%|██████    | 30/50 [00:51<00:34,  1.71s/it]\u001b[A\n",
      " 62%|██████▏   | 31/50 [00:52<00:31,  1.64s/it]\u001b[A\n",
      " 64%|██████▍   | 32/50 [00:54<00:29,  1.66s/it]\u001b[A\n",
      " 66%|██████▌   | 33/50 [00:55<00:27,  1.63s/it]\u001b[A\n",
      " 68%|██████▊   | 34/50 [00:57<00:26,  1.64s/it]\u001b[A\n",
      " 70%|███████   | 35/50 [00:59<00:24,  1.61s/it]\u001b[A\n",
      " 72%|███████▏  | 36/50 [01:00<00:22,  1.58s/it]\u001b[A\n",
      " 74%|███████▍  | 37/50 [01:02<00:20,  1.61s/it]\u001b[A\n",
      " 76%|███████▌  | 38/50 [01:03<00:19,  1.59s/it]\u001b[A\n",
      " 78%|███████▊  | 39/50 [01:06<00:19,  1.81s/it]\u001b[A\n",
      " 80%|████████  | 40/50 [01:08<00:18,  1.81s/it]\u001b[A\n",
      " 82%|████████▏ | 41/50 [01:09<00:15,  1.75s/it]\u001b[A\n",
      " 84%|████████▍ | 42/50 [01:10<00:12,  1.58s/it]\u001b[A"
     ]
    },
    {
     "name": "stdout",
     "output_type": "stream",
     "text": [
      "['一种基于中心网络的战术应用场景与业务,并将网络编码技术应用于此类场景的实时数据多播业务中。在分析基于中心网络与Many-to-all业务模式特', '普适计算二维空间定位过程中,通过对三角形定位单元区域的误差分析,提出了定位单元布局(LUD)定理。在此基础上,对多个定位单元布局进行了研究,定义', '基于时序逻辑结构描述语言描述的软件体系结构']\n",
      "['网络编码在实时战术数据多播中的应用', '普适计算中定位单元布局研究', '基于时序逻辑的面向方面体系结构描述语言']\n"
     ]
    },
    {
     "name": "stderr",
     "output_type": "stream",
     "text": [
      " 84%|████████▍ | 42/50 [01:11<00:13,  1.70s/it]\n",
      "[2022-05-29 02:09:41,168][model_v2.py][line:426][INFO] ********** Saving best result in step 5000 **********\n",
      "[2022-05-29 02:09:41,186][model_v2.py][line:426][INFO] ********** Evaluating Done **********\n",
      "[2022-05-29 02:09:41,187][model_v2.py][line:426][INFO] ********** Running evaluating **********\n",
      "[2022-05-29 02:09:41,189][model_v2.py][line:426][INFO] ********** Step 5000 **********\n"
     ]
    },
    {
     "name": "stdout",
     "output_type": "stream",
     "text": [
      "{'rouge-1': 0.4516643544176362, 'rouge-2': 0.32954916535989054, 'rouge-l': 0.40849861773713314, 'bleu': 16.318658330694277}\n",
      "********** Saving best result in step 5000 **********\n",
      "********** Evaluating Done **********\n",
      "********** Running evaluating **********\n",
      "********** Step 5000 **********\n"
     ]
    },
    {
     "name": "stderr",
     "output_type": "stream",
     "text": [
      "\n",
      "  0%|          | 0/42 [00:00<?, ?it/s]\u001b[A\n",
      "  2%|▏         | 1/42 [00:01<01:07,  1.66s/it]\u001b[A\n",
      "  5%|▍         | 2/42 [00:03<01:04,  1.61s/it]\u001b[A\n",
      "  7%|▋         | 3/42 [00:04<01:05,  1.67s/it]\u001b[A\n",
      " 10%|▉         | 4/42 [00:06<01:04,  1.70s/it]\u001b[A\n",
      " 12%|█▏        | 5/42 [00:08<01:04,  1.75s/it]\u001b[A\n",
      " 14%|█▍        | 6/42 [00:10<01:02,  1.73s/it]\u001b[A\n",
      " 17%|█▋        | 7/42 [00:11<00:58,  1.67s/it]\u001b[A\n",
      " 19%|█▉        | 8/42 [00:13<00:55,  1.64s/it]\u001b[A\n",
      " 21%|██▏       | 9/42 [00:14<00:52,  1.60s/it]\u001b[A\n",
      " 24%|██▍       | 10/42 [00:16<00:50,  1.58s/it]\u001b[A\n",
      " 26%|██▌       | 11/42 [00:18<00:49,  1.58s/it]\u001b[A\n",
      " 29%|██▊       | 12/42 [00:19<00:49,  1.65s/it]\u001b[A\n",
      " 31%|███       | 13/42 [00:22<00:56,  1.95s/it]\u001b[A\n",
      " 33%|███▎      | 14/42 [00:24<00:52,  1.87s/it]\u001b[A\n",
      " 36%|███▌      | 15/42 [00:25<00:48,  1.81s/it]\u001b[A\n",
      " 38%|███▊      | 16/42 [00:27<00:44,  1.71s/it]\u001b[A\n",
      " 40%|████      | 17/42 [00:28<00:41,  1.64s/it]\u001b[A\n",
      " 43%|████▎     | 18/42 [00:30<00:38,  1.62s/it]\u001b[A\n",
      " 45%|████▌     | 19/42 [00:31<00:37,  1.63s/it]\u001b[A\n",
      " 48%|████▊     | 20/42 [00:33<00:35,  1.62s/it]\u001b[A\n",
      " 50%|█████     | 21/42 [00:35<00:34,  1.62s/it]\u001b[A\n",
      " 52%|█████▏    | 22/42 [00:36<00:32,  1.63s/it]\u001b[A\n",
      " 55%|█████▍    | 23/42 [00:38<00:30,  1.62s/it]\u001b[A\n",
      " 57%|█████▋    | 24/42 [00:39<00:28,  1.59s/it]\u001b[A\n",
      " 60%|█████▉    | 25/42 [00:41<00:27,  1.59s/it]\u001b[A\n",
      " 62%|██████▏   | 26/42 [00:43<00:26,  1.66s/it]\u001b[A\n",
      " 64%|██████▍   | 27/42 [00:44<00:24,  1.64s/it]\u001b[A\n",
      " 67%|██████▋   | 28/42 [00:46<00:22,  1.61s/it]\u001b[A\n",
      " 69%|██████▉   | 29/42 [00:48<00:20,  1.60s/it]\u001b[A\n",
      " 71%|███████▏  | 30/42 [00:49<00:19,  1.67s/it]\u001b[A\n",
      " 74%|███████▍  | 31/42 [00:51<00:17,  1.62s/it]\u001b[A\n",
      " 76%|███████▌  | 32/42 [00:53<00:18,  1.87s/it]\u001b[A\n",
      " 79%|███████▊  | 33/42 [00:55<00:16,  1.85s/it]\u001b[A\n",
      " 81%|████████  | 34/42 [00:57<00:14,  1.80s/it]\u001b[A\n",
      " 83%|████████▎ | 35/42 [00:58<00:12,  1.73s/it]\u001b[A\n",
      " 86%|████████▌ | 36/42 [01:00<00:10,  1.68s/it]\u001b[A\n",
      " 88%|████████▊ | 37/42 [01:02<00:08,  1.68s/it]\u001b[A\n",
      " 90%|█████████ | 38/42 [01:03<00:06,  1.65s/it]\u001b[A\n",
      " 93%|█████████▎| 39/42 [01:05<00:04,  1.66s/it]\u001b[A\n",
      " 95%|█████████▌| 40/42 [01:06<00:03,  1.62s/it]\u001b[A\n",
      " 98%|█████████▊| 41/42 [01:08<00:01,  1.61s/it]\u001b[A\n",
      "100%|██████████| 42/42 [01:09<00:00,  1.49s/it]\u001b[A"
     ]
    },
    {
     "name": "stdout",
     "output_type": "stream",
     "text": [
      "['一种基于中心网络的战术应用场景与业务,并将网络编码技术应用于此类场景的实时数据多播业务中。在分析基于中心网络与Many-to-all业务模式特', '普适计算二维空间定位过程中,通过对三角形定位单元区域的误差分析,提出了定位单元布局(LUD)定理。在此基础上,对多个定位单元布局进行了研究,定义', '基于时序逻辑结构描述语言描述的软件体系结构']\n",
      "['网络编码在实时战术数据多播中的应用', '普适计算中定位单元布局研究', '基于时序逻辑的面向方面体系结构描述语言']\n"
     ]
    },
    {
     "name": "stderr",
     "output_type": "stream",
     "text": [
      "100%|██████████| 42/42 [01:10<00:00,  1.68s/it]\n",
      "[2022-05-29 02:10:58,545][model_v2.py][line:426][INFO] ********** Evaluating Done **********\n",
      "[2022-05-29 02:10:58,546][model_v2.py][line:426][INFO] ********** Training Done **********\n",
      "100%|██████████| 5000/5000 [10:14:51<00:00,  7.38s/it]"
     ]
    },
    {
     "name": "stdout",
     "output_type": "stream",
     "text": [
      "{'rouge-1': 0.4516643544176362, 'rouge-2': 0.32954916535989054, 'rouge-l': 0.40849861773713314, 'bleu': 16.318658330694277}\n",
      "********** Evaluating Done **********\n",
      "********** Training Done **********\n"
     ]
    },
    {
     "name": "stderr",
     "output_type": "stream",
     "text": [
      "\n"
     ]
    }
   ],
   "source": [
    "model.finetune(train_dataset, dev_dataset, True)"
   ]
  }
 ],
 "metadata": {
  "kernelspec": {
   "display_name": "Python 3",
   "language": "python",
   "name": "python3"
  },
  "language_info": {
   "codemirror_mode": {
    "name": "ipython",
    "version": 3
   },
   "file_extension": ".py",
   "mimetype": "text/x-python",
   "name": "python",
   "nbconvert_exporter": "python",
   "pygments_lexer": "ipython3",
   "version": "3.7.12"
  },
  "papermill": {
   "default_parameters": {},
   "duration": 37013.664165,
   "end_time": "2022-05-29T02:11:02.317081",
   "environment_variables": {},
   "exception": null,
   "input_path": "__notebook__.ipynb",
   "output_path": "__notebook__.ipynb",
   "parameters": {},
   "start_time": "2022-05-28T15:54:08.652916",
   "version": "2.3.4"
  },
  "widgets": {
   "application/vnd.jupyter.widget-state+json": {
    "state": {
     "05856185777f4f7eba4b118e07141c9f": {
      "model_module": "@jupyter-widgets/controls",
      "model_module_version": "1.5.0",
      "model_name": "ProgressStyleModel",
      "state": {
       "_model_module": "@jupyter-widgets/controls",
       "_model_module_version": "1.5.0",
       "_model_name": "ProgressStyleModel",
       "_view_count": null,
       "_view_module": "@jupyter-widgets/base",
       "_view_module_version": "1.2.0",
       "_view_name": "StyleView",
       "bar_color": null,
       "description_width": ""
      }
     },
     "06d85e304ce64e92a944ba5bada43f28": {
      "model_module": "@jupyter-widgets/controls",
      "model_module_version": "1.5.0",
      "model_name": "HBoxModel",
      "state": {
       "_dom_classes": [],
       "_model_module": "@jupyter-widgets/controls",
       "_model_module_version": "1.5.0",
       "_model_name": "HBoxModel",
       "_view_count": null,
       "_view_module": "@jupyter-widgets/controls",
       "_view_module_version": "1.5.0",
       "_view_name": "HBoxView",
       "box_style": "",
       "children": [
        "IPY_MODEL_3e2c680c891f4fe8baf36dc3887fce53",
        "IPY_MODEL_f39e7075f18a4a27a128633596387fe5",
        "IPY_MODEL_8c288ff62bee43fb93c5984c776db464"
       ],
       "layout": "IPY_MODEL_fa7f44880a484c908bf9bb4652d38735"
      }
     },
     "195173c7da3f40a2a933bb2a33a8946c": {
      "model_module": "@jupyter-widgets/base",
      "model_module_version": "1.2.0",
      "model_name": "LayoutModel",
      "state": {
       "_model_module": "@jupyter-widgets/base",
       "_model_module_version": "1.2.0",
       "_model_name": "LayoutModel",
       "_view_count": null,
       "_view_module": "@jupyter-widgets/base",
       "_view_module_version": "1.2.0",
       "_view_name": "LayoutView",
       "align_content": null,
       "align_items": null,
       "align_self": null,
       "border": null,
       "bottom": null,
       "display": null,
       "flex": null,
       "flex_flow": null,
       "grid_area": null,
       "grid_auto_columns": null,
       "grid_auto_flow": null,
       "grid_auto_rows": null,
       "grid_column": null,
       "grid_gap": null,
       "grid_row": null,
       "grid_template_areas": null,
       "grid_template_columns": null,
       "grid_template_rows": null,
       "height": null,
       "justify_content": null,
       "justify_items": null,
       "left": null,
       "margin": null,
       "max_height": null,
       "max_width": null,
       "min_height": null,
       "min_width": null,
       "object_fit": null,
       "object_position": null,
       "order": null,
       "overflow": null,
       "overflow_x": null,
       "overflow_y": null,
       "padding": null,
       "right": null,
       "top": null,
       "visibility": null,
       "width": null
      }
     },
     "199ebcdc428644d4bbdf7713264c85cc": {
      "model_module": "@jupyter-widgets/controls",
      "model_module_version": "1.5.0",
      "model_name": "HTMLModel",
      "state": {
       "_dom_classes": [],
       "_model_module": "@jupyter-widgets/controls",
       "_model_module_version": "1.5.0",
       "_model_name": "HTMLModel",
       "_view_count": null,
       "_view_module": "@jupyter-widgets/controls",
       "_view_module_version": "1.5.0",
       "_view_name": "HTMLView",
       "description": "",
       "description_tooltip": null,
       "layout": "IPY_MODEL_be96694d4e2f445cb4c9717d86578c0f",
       "placeholder": "​",
       "style": "IPY_MODEL_980e592152bc494b80a4bc3537868e92",
       "value": " 708k/708k [00:00&lt;00:00, 14.6MB/s]"
      }
     },
     "216b2d6330ee496a932dd78b56bcd4aa": {
      "model_module": "@jupyter-widgets/controls",
      "model_module_version": "1.5.0",
      "model_name": "DescriptionStyleModel",
      "state": {
       "_model_module": "@jupyter-widgets/controls",
       "_model_module_version": "1.5.0",
       "_model_name": "DescriptionStyleModel",
       "_view_count": null,
       "_view_module": "@jupyter-widgets/base",
       "_view_module_version": "1.2.0",
       "_view_name": "StyleView",
       "description_width": ""
      }
     },
     "2b238b12437f43578f270fa8e011ceeb": {
      "model_module": "@jupyter-widgets/controls",
      "model_module_version": "1.5.0",
      "model_name": "DescriptionStyleModel",
      "state": {
       "_model_module": "@jupyter-widgets/controls",
       "_model_module_version": "1.5.0",
       "_model_name": "DescriptionStyleModel",
       "_view_count": null,
       "_view_module": "@jupyter-widgets/base",
       "_view_module_version": "1.2.0",
       "_view_name": "StyleView",
       "description_width": ""
      }
     },
     "34d6f4f7058840ab8beb0d33c3506395": {
      "model_module": "@jupyter-widgets/controls",
      "model_module_version": "1.5.0",
      "model_name": "HTMLModel",
      "state": {
       "_dom_classes": [],
       "_model_module": "@jupyter-widgets/controls",
       "_model_module_version": "1.5.0",
       "_model_name": "HTMLModel",
       "_view_count": null,
       "_view_module": "@jupyter-widgets/controls",
       "_view_module_version": "1.5.0",
       "_view_name": "HTMLView",
       "description": "",
       "description_tooltip": null,
       "layout": "IPY_MODEL_47a4f2d073fa4ae6b87b954a843be905",
       "placeholder": "​",
       "style": "IPY_MODEL_216b2d6330ee496a932dd78b56bcd4aa",
       "value": "Downloading: 100%"
      }
     },
     "3e2c680c891f4fe8baf36dc3887fce53": {
      "model_module": "@jupyter-widgets/controls",
      "model_module_version": "1.5.0",
      "model_name": "HTMLModel",
      "state": {
       "_dom_classes": [],
       "_model_module": "@jupyter-widgets/controls",
       "_model_module_version": "1.5.0",
       "_model_name": "HTMLModel",
       "_view_count": null,
       "_view_module": "@jupyter-widgets/controls",
       "_view_module_version": "1.5.0",
       "_view_name": "HTMLView",
       "description": "",
       "description_tooltip": null,
       "layout": "IPY_MODEL_195173c7da3f40a2a933bb2a33a8946c",
       "placeholder": "​",
       "style": "IPY_MODEL_512f0d53e1cf4a7183aea2361c3e26a0",
       "value": "Downloading: 100%"
      }
     },
     "42809714948141d987489df14587d27e": {
      "model_module": "@jupyter-widgets/controls",
      "model_module_version": "1.5.0",
      "model_name": "HBoxModel",
      "state": {
       "_dom_classes": [],
       "_model_module": "@jupyter-widgets/controls",
       "_model_module_version": "1.5.0",
       "_model_name": "HBoxModel",
       "_view_count": null,
       "_view_module": "@jupyter-widgets/controls",
       "_view_module_version": "1.5.0",
       "_view_name": "HBoxView",
       "box_style": "",
       "children": [
        "IPY_MODEL_34d6f4f7058840ab8beb0d33c3506395",
        "IPY_MODEL_f73ab868bff6413da85cb58550472e39",
        "IPY_MODEL_199ebcdc428644d4bbdf7713264c85cc"
       ],
       "layout": "IPY_MODEL_87cbe911fc4246b6b8312761db0603bb"
      }
     },
     "4559abc2bf3b4c56a580c21a97cc20b2": {
      "model_module": "@jupyter-widgets/base",
      "model_module_version": "1.2.0",
      "model_name": "LayoutModel",
      "state": {
       "_model_module": "@jupyter-widgets/base",
       "_model_module_version": "1.2.0",
       "_model_name": "LayoutModel",
       "_view_count": null,
       "_view_module": "@jupyter-widgets/base",
       "_view_module_version": "1.2.0",
       "_view_name": "LayoutView",
       "align_content": null,
       "align_items": null,
       "align_self": null,
       "border": null,
       "bottom": null,
       "display": null,
       "flex": null,
       "flex_flow": null,
       "grid_area": null,
       "grid_auto_columns": null,
       "grid_auto_flow": null,
       "grid_auto_rows": null,
       "grid_column": null,
       "grid_gap": null,
       "grid_row": null,
       "grid_template_areas": null,
       "grid_template_columns": null,
       "grid_template_rows": null,
       "height": null,
       "justify_content": null,
       "justify_items": null,
       "left": null,
       "margin": null,
       "max_height": null,
       "max_width": null,
       "min_height": null,
       "min_width": null,
       "object_fit": null,
       "object_position": null,
       "order": null,
       "overflow": null,
       "overflow_x": null,
       "overflow_y": null,
       "padding": null,
       "right": null,
       "top": null,
       "visibility": null,
       "width": null
      }
     },
     "47a4f2d073fa4ae6b87b954a843be905": {
      "model_module": "@jupyter-widgets/base",
      "model_module_version": "1.2.0",
      "model_name": "LayoutModel",
      "state": {
       "_model_module": "@jupyter-widgets/base",
       "_model_module_version": "1.2.0",
       "_model_name": "LayoutModel",
       "_view_count": null,
       "_view_module": "@jupyter-widgets/base",
       "_view_module_version": "1.2.0",
       "_view_name": "LayoutView",
       "align_content": null,
       "align_items": null,
       "align_self": null,
       "border": null,
       "bottom": null,
       "display": null,
       "flex": null,
       "flex_flow": null,
       "grid_area": null,
       "grid_auto_columns": null,
       "grid_auto_flow": null,
       "grid_auto_rows": null,
       "grid_column": null,
       "grid_gap": null,
       "grid_row": null,
       "grid_template_areas": null,
       "grid_template_columns": null,
       "grid_template_rows": null,
       "height": null,
       "justify_content": null,
       "justify_items": null,
       "left": null,
       "margin": null,
       "max_height": null,
       "max_width": null,
       "min_height": null,
       "min_width": null,
       "object_fit": null,
       "object_position": null,
       "order": null,
       "overflow": null,
       "overflow_x": null,
       "overflow_y": null,
       "padding": null,
       "right": null,
       "top": null,
       "visibility": null,
       "width": null
      }
     },
     "4a1b513b090e4845b7abfdcfd82d8151": {
      "model_module": "@jupyter-widgets/controls",
      "model_module_version": "1.5.0",
      "model_name": "HBoxModel",
      "state": {
       "_dom_classes": [],
       "_model_module": "@jupyter-widgets/controls",
       "_model_module_version": "1.5.0",
       "_model_name": "HBoxModel",
       "_view_count": null,
       "_view_module": "@jupyter-widgets/controls",
       "_view_module_version": "1.5.0",
       "_view_name": "HBoxView",
       "box_style": "",
       "children": [
        "IPY_MODEL_a7cf61bfdd09459d9920865c888dbf64",
        "IPY_MODEL_694346085ba34ec996e689413f7411c0",
        "IPY_MODEL_d4f74b3441734960bdd9687909bbb7dd"
       ],
       "layout": "IPY_MODEL_fc5cc290383943c49099c4b92db46ef6"
      }
     },
     "512f0d53e1cf4a7183aea2361c3e26a0": {
      "model_module": "@jupyter-widgets/controls",
      "model_module_version": "1.5.0",
      "model_name": "DescriptionStyleModel",
      "state": {
       "_model_module": "@jupyter-widgets/controls",
       "_model_module_version": "1.5.0",
       "_model_name": "DescriptionStyleModel",
       "_view_count": null,
       "_view_module": "@jupyter-widgets/base",
       "_view_module_version": "1.2.0",
       "_view_name": "StyleView",
       "description_width": ""
      }
     },
     "514e79c1159e4da4911e61d47f36e993": {
      "model_module": "@jupyter-widgets/base",
      "model_module_version": "1.2.0",
      "model_name": "LayoutModel",
      "state": {
       "_model_module": "@jupyter-widgets/base",
       "_model_module_version": "1.2.0",
       "_model_name": "LayoutModel",
       "_view_count": null,
       "_view_module": "@jupyter-widgets/base",
       "_view_module_version": "1.2.0",
       "_view_name": "LayoutView",
       "align_content": null,
       "align_items": null,
       "align_self": null,
       "border": null,
       "bottom": null,
       "display": null,
       "flex": null,
       "flex_flow": null,
       "grid_area": null,
       "grid_auto_columns": null,
       "grid_auto_flow": null,
       "grid_auto_rows": null,
       "grid_column": null,
       "grid_gap": null,
       "grid_row": null,
       "grid_template_areas": null,
       "grid_template_columns": null,
       "grid_template_rows": null,
       "height": null,
       "justify_content": null,
       "justify_items": null,
       "left": null,
       "margin": null,
       "max_height": null,
       "max_width": null,
       "min_height": null,
       "min_width": null,
       "object_fit": null,
       "object_position": null,
       "order": null,
       "overflow": null,
       "overflow_x": null,
       "overflow_y": null,
       "padding": null,
       "right": null,
       "top": null,
       "visibility": null,
       "width": null
      }
     },
     "694346085ba34ec996e689413f7411c0": {
      "model_module": "@jupyter-widgets/controls",
      "model_module_version": "1.5.0",
      "model_name": "FloatProgressModel",
      "state": {
       "_dom_classes": [],
       "_model_module": "@jupyter-widgets/controls",
       "_model_module_version": "1.5.0",
       "_model_name": "FloatProgressModel",
       "_view_count": null,
       "_view_module": "@jupyter-widgets/controls",
       "_view_module_version": "1.5.0",
       "_view_name": "ProgressView",
       "bar_style": "success",
       "description": "",
       "description_tooltip": null,
       "layout": "IPY_MODEL_987a292a45484f2885f44b0adf0cdd81",
       "max": 990389880.0,
       "min": 0.0,
       "orientation": "horizontal",
       "style": "IPY_MODEL_89f0127334be4a1c8600b6ca6f29694d",
       "value": 990389880.0
      }
     },
     "879102195c7947a78a295ed787714c6c": {
      "model_module": "@jupyter-widgets/controls",
      "model_module_version": "1.5.0",
      "model_name": "DescriptionStyleModel",
      "state": {
       "_model_module": "@jupyter-widgets/controls",
       "_model_module_version": "1.5.0",
       "_model_name": "DescriptionStyleModel",
       "_view_count": null,
       "_view_module": "@jupyter-widgets/base",
       "_view_module_version": "1.2.0",
       "_view_name": "StyleView",
       "description_width": ""
      }
     },
     "87cbe911fc4246b6b8312761db0603bb": {
      "model_module": "@jupyter-widgets/base",
      "model_module_version": "1.2.0",
      "model_name": "LayoutModel",
      "state": {
       "_model_module": "@jupyter-widgets/base",
       "_model_module_version": "1.2.0",
       "_model_name": "LayoutModel",
       "_view_count": null,
       "_view_module": "@jupyter-widgets/base",
       "_view_module_version": "1.2.0",
       "_view_name": "LayoutView",
       "align_content": null,
       "align_items": null,
       "align_self": null,
       "border": null,
       "bottom": null,
       "display": null,
       "flex": null,
       "flex_flow": null,
       "grid_area": null,
       "grid_auto_columns": null,
       "grid_auto_flow": null,
       "grid_auto_rows": null,
       "grid_column": null,
       "grid_gap": null,
       "grid_row": null,
       "grid_template_areas": null,
       "grid_template_columns": null,
       "grid_template_rows": null,
       "height": null,
       "justify_content": null,
       "justify_items": null,
       "left": null,
       "margin": null,
       "max_height": null,
       "max_width": null,
       "min_height": null,
       "min_width": null,
       "object_fit": null,
       "object_position": null,
       "order": null,
       "overflow": null,
       "overflow_x": null,
       "overflow_y": null,
       "padding": null,
       "right": null,
       "top": null,
       "visibility": null,
       "width": null
      }
     },
     "891694aef7b445679475e1faa39c5e99": {
      "model_module": "@jupyter-widgets/base",
      "model_module_version": "1.2.0",
      "model_name": "LayoutModel",
      "state": {
       "_model_module": "@jupyter-widgets/base",
       "_model_module_version": "1.2.0",
       "_model_name": "LayoutModel",
       "_view_count": null,
       "_view_module": "@jupyter-widgets/base",
       "_view_module_version": "1.2.0",
       "_view_name": "LayoutView",
       "align_content": null,
       "align_items": null,
       "align_self": null,
       "border": null,
       "bottom": null,
       "display": null,
       "flex": null,
       "flex_flow": null,
       "grid_area": null,
       "grid_auto_columns": null,
       "grid_auto_flow": null,
       "grid_auto_rows": null,
       "grid_column": null,
       "grid_gap": null,
       "grid_row": null,
       "grid_template_areas": null,
       "grid_template_columns": null,
       "grid_template_rows": null,
       "height": null,
       "justify_content": null,
       "justify_items": null,
       "left": null,
       "margin": null,
       "max_height": null,
       "max_width": null,
       "min_height": null,
       "min_width": null,
       "object_fit": null,
       "object_position": null,
       "order": null,
       "overflow": null,
       "overflow_x": null,
       "overflow_y": null,
       "padding": null,
       "right": null,
       "top": null,
       "visibility": null,
       "width": null
      }
     },
     "89f0127334be4a1c8600b6ca6f29694d": {
      "model_module": "@jupyter-widgets/controls",
      "model_module_version": "1.5.0",
      "model_name": "ProgressStyleModel",
      "state": {
       "_model_module": "@jupyter-widgets/controls",
       "_model_module_version": "1.5.0",
       "_model_name": "ProgressStyleModel",
       "_view_count": null,
       "_view_module": "@jupyter-widgets/base",
       "_view_module_version": "1.2.0",
       "_view_name": "StyleView",
       "bar_color": null,
       "description_width": ""
      }
     },
     "8c288ff62bee43fb93c5984c776db464": {
      "model_module": "@jupyter-widgets/controls",
      "model_module_version": "1.5.0",
      "model_name": "HTMLModel",
      "state": {
       "_dom_classes": [],
       "_model_module": "@jupyter-widgets/controls",
       "_model_module_version": "1.5.0",
       "_model_name": "HTMLModel",
       "_view_count": null,
       "_view_module": "@jupyter-widgets/controls",
       "_view_module_version": "1.5.0",
       "_view_name": "HTMLView",
       "description": "",
       "description_tooltip": null,
       "layout": "IPY_MODEL_514e79c1159e4da4911e61d47f36e993",
       "placeholder": "​",
       "style": "IPY_MODEL_b08c033c0ef4432abb97cd185cbc31fb",
       "value": " 659/659 [00:00&lt;00:00, 26.6kB/s]"
      }
     },
     "93ffa271136b402a9b75e1c27bd8d1ad": {
      "model_module": "@jupyter-widgets/controls",
      "model_module_version": "1.5.0",
      "model_name": "ProgressStyleModel",
      "state": {
       "_model_module": "@jupyter-widgets/controls",
       "_model_module_version": "1.5.0",
       "_model_name": "ProgressStyleModel",
       "_view_count": null,
       "_view_module": "@jupyter-widgets/base",
       "_view_module_version": "1.2.0",
       "_view_name": "StyleView",
       "bar_color": null,
       "description_width": ""
      }
     },
     "980e592152bc494b80a4bc3537868e92": {
      "model_module": "@jupyter-widgets/controls",
      "model_module_version": "1.5.0",
      "model_name": "DescriptionStyleModel",
      "state": {
       "_model_module": "@jupyter-widgets/controls",
       "_model_module_version": "1.5.0",
       "_model_name": "DescriptionStyleModel",
       "_view_count": null,
       "_view_module": "@jupyter-widgets/base",
       "_view_module_version": "1.2.0",
       "_view_name": "StyleView",
       "description_width": ""
      }
     },
     "987a292a45484f2885f44b0adf0cdd81": {
      "model_module": "@jupyter-widgets/base",
      "model_module_version": "1.2.0",
      "model_name": "LayoutModel",
      "state": {
       "_model_module": "@jupyter-widgets/base",
       "_model_module_version": "1.2.0",
       "_model_name": "LayoutModel",
       "_view_count": null,
       "_view_module": "@jupyter-widgets/base",
       "_view_module_version": "1.2.0",
       "_view_name": "LayoutView",
       "align_content": null,
       "align_items": null,
       "align_self": null,
       "border": null,
       "bottom": null,
       "display": null,
       "flex": null,
       "flex_flow": null,
       "grid_area": null,
       "grid_auto_columns": null,
       "grid_auto_flow": null,
       "grid_auto_rows": null,
       "grid_column": null,
       "grid_gap": null,
       "grid_row": null,
       "grid_template_areas": null,
       "grid_template_columns": null,
       "grid_template_rows": null,
       "height": null,
       "justify_content": null,
       "justify_items": null,
       "left": null,
       "margin": null,
       "max_height": null,
       "max_width": null,
       "min_height": null,
       "min_width": null,
       "object_fit": null,
       "object_position": null,
       "order": null,
       "overflow": null,
       "overflow_x": null,
       "overflow_y": null,
       "padding": null,
       "right": null,
       "top": null,
       "visibility": null,
       "width": null
      }
     },
     "99692c5d9e3745c599a97aecfd1d9da8": {
      "model_module": "@jupyter-widgets/base",
      "model_module_version": "1.2.0",
      "model_name": "LayoutModel",
      "state": {
       "_model_module": "@jupyter-widgets/base",
       "_model_module_version": "1.2.0",
       "_model_name": "LayoutModel",
       "_view_count": null,
       "_view_module": "@jupyter-widgets/base",
       "_view_module_version": "1.2.0",
       "_view_name": "LayoutView",
       "align_content": null,
       "align_items": null,
       "align_self": null,
       "border": null,
       "bottom": null,
       "display": null,
       "flex": null,
       "flex_flow": null,
       "grid_area": null,
       "grid_auto_columns": null,
       "grid_auto_flow": null,
       "grid_auto_rows": null,
       "grid_column": null,
       "grid_gap": null,
       "grid_row": null,
       "grid_template_areas": null,
       "grid_template_columns": null,
       "grid_template_rows": null,
       "height": null,
       "justify_content": null,
       "justify_items": null,
       "left": null,
       "margin": null,
       "max_height": null,
       "max_width": null,
       "min_height": null,
       "min_width": null,
       "object_fit": null,
       "object_position": null,
       "order": null,
       "overflow": null,
       "overflow_x": null,
       "overflow_y": null,
       "padding": null,
       "right": null,
       "top": null,
       "visibility": null,
       "width": null
      }
     },
     "a7cf61bfdd09459d9920865c888dbf64": {
      "model_module": "@jupyter-widgets/controls",
      "model_module_version": "1.5.0",
      "model_name": "HTMLModel",
      "state": {
       "_dom_classes": [],
       "_model_module": "@jupyter-widgets/controls",
       "_model_module_version": "1.5.0",
       "_model_name": "HTMLModel",
       "_view_count": null,
       "_view_module": "@jupyter-widgets/controls",
       "_view_module_version": "1.5.0",
       "_view_name": "HTMLView",
       "description": "",
       "description_tooltip": null,
       "layout": "IPY_MODEL_891694aef7b445679475e1faa39c5e99",
       "placeholder": "​",
       "style": "IPY_MODEL_2b238b12437f43578f270fa8e011ceeb",
       "value": "Downloading: 100%"
      }
     },
     "b08c033c0ef4432abb97cd185cbc31fb": {
      "model_module": "@jupyter-widgets/controls",
      "model_module_version": "1.5.0",
      "model_name": "DescriptionStyleModel",
      "state": {
       "_model_module": "@jupyter-widgets/controls",
       "_model_module_version": "1.5.0",
       "_model_name": "DescriptionStyleModel",
       "_view_count": null,
       "_view_module": "@jupyter-widgets/base",
       "_view_module_version": "1.2.0",
       "_view_name": "StyleView",
       "description_width": ""
      }
     },
     "be96694d4e2f445cb4c9717d86578c0f": {
      "model_module": "@jupyter-widgets/base",
      "model_module_version": "1.2.0",
      "model_name": "LayoutModel",
      "state": {
       "_model_module": "@jupyter-widgets/base",
       "_model_module_version": "1.2.0",
       "_model_name": "LayoutModel",
       "_view_count": null,
       "_view_module": "@jupyter-widgets/base",
       "_view_module_version": "1.2.0",
       "_view_name": "LayoutView",
       "align_content": null,
       "align_items": null,
       "align_self": null,
       "border": null,
       "bottom": null,
       "display": null,
       "flex": null,
       "flex_flow": null,
       "grid_area": null,
       "grid_auto_columns": null,
       "grid_auto_flow": null,
       "grid_auto_rows": null,
       "grid_column": null,
       "grid_gap": null,
       "grid_row": null,
       "grid_template_areas": null,
       "grid_template_columns": null,
       "grid_template_rows": null,
       "height": null,
       "justify_content": null,
       "justify_items": null,
       "left": null,
       "margin": null,
       "max_height": null,
       "max_width": null,
       "min_height": null,
       "min_width": null,
       "object_fit": null,
       "object_position": null,
       "order": null,
       "overflow": null,
       "overflow_x": null,
       "overflow_y": null,
       "padding": null,
       "right": null,
       "top": null,
       "visibility": null,
       "width": null
      }
     },
     "d0b6d02f553f42498812595c62906e1d": {
      "model_module": "@jupyter-widgets/base",
      "model_module_version": "1.2.0",
      "model_name": "LayoutModel",
      "state": {
       "_model_module": "@jupyter-widgets/base",
       "_model_module_version": "1.2.0",
       "_model_name": "LayoutModel",
       "_view_count": null,
       "_view_module": "@jupyter-widgets/base",
       "_view_module_version": "1.2.0",
       "_view_name": "LayoutView",
       "align_content": null,
       "align_items": null,
       "align_self": null,
       "border": null,
       "bottom": null,
       "display": null,
       "flex": null,
       "flex_flow": null,
       "grid_area": null,
       "grid_auto_columns": null,
       "grid_auto_flow": null,
       "grid_auto_rows": null,
       "grid_column": null,
       "grid_gap": null,
       "grid_row": null,
       "grid_template_areas": null,
       "grid_template_columns": null,
       "grid_template_rows": null,
       "height": null,
       "justify_content": null,
       "justify_items": null,
       "left": null,
       "margin": null,
       "max_height": null,
       "max_width": null,
       "min_height": null,
       "min_width": null,
       "object_fit": null,
       "object_position": null,
       "order": null,
       "overflow": null,
       "overflow_x": null,
       "overflow_y": null,
       "padding": null,
       "right": null,
       "top": null,
       "visibility": null,
       "width": null
      }
     },
     "d4f74b3441734960bdd9687909bbb7dd": {
      "model_module": "@jupyter-widgets/controls",
      "model_module_version": "1.5.0",
      "model_name": "HTMLModel",
      "state": {
       "_dom_classes": [],
       "_model_module": "@jupyter-widgets/controls",
       "_model_module_version": "1.5.0",
       "_model_name": "HTMLModel",
       "_view_count": null,
       "_view_module": "@jupyter-widgets/controls",
       "_view_module_version": "1.5.0",
       "_view_name": "HTMLView",
       "description": "",
       "description_tooltip": null,
       "layout": "IPY_MODEL_d0b6d02f553f42498812595c62906e1d",
       "placeholder": "​",
       "style": "IPY_MODEL_879102195c7947a78a295ed787714c6c",
       "value": " 945M/945M [00:21&lt;00:00, 51.2MB/s]"
      }
     },
     "f39e7075f18a4a27a128633596387fe5": {
      "model_module": "@jupyter-widgets/controls",
      "model_module_version": "1.5.0",
      "model_name": "FloatProgressModel",
      "state": {
       "_dom_classes": [],
       "_model_module": "@jupyter-widgets/controls",
       "_model_module_version": "1.5.0",
       "_model_name": "FloatProgressModel",
       "_view_count": null,
       "_view_module": "@jupyter-widgets/controls",
       "_view_module_version": "1.5.0",
       "_view_name": "ProgressView",
       "bar_style": "success",
       "description": "",
       "description_tooltip": null,
       "layout": "IPY_MODEL_4559abc2bf3b4c56a580c21a97cc20b2",
       "max": 659.0,
       "min": 0.0,
       "orientation": "horizontal",
       "style": "IPY_MODEL_05856185777f4f7eba4b118e07141c9f",
       "value": 659.0
      }
     },
     "f73ab868bff6413da85cb58550472e39": {
      "model_module": "@jupyter-widgets/controls",
      "model_module_version": "1.5.0",
      "model_name": "FloatProgressModel",
      "state": {
       "_dom_classes": [],
       "_model_module": "@jupyter-widgets/controls",
       "_model_module_version": "1.5.0",
       "_model_name": "FloatProgressModel",
       "_view_count": null,
       "_view_module": "@jupyter-widgets/controls",
       "_view_module_version": "1.5.0",
       "_view_name": "ProgressView",
       "bar_style": "success",
       "description": "",
       "description_tooltip": null,
       "layout": "IPY_MODEL_99692c5d9e3745c599a97aecfd1d9da8",
       "max": 725135.0,
       "min": 0.0,
       "orientation": "horizontal",
       "style": "IPY_MODEL_93ffa271136b402a9b75e1c27bd8d1ad",
       "value": 725135.0
      }
     },
     "fa7f44880a484c908bf9bb4652d38735": {
      "model_module": "@jupyter-widgets/base",
      "model_module_version": "1.2.0",
      "model_name": "LayoutModel",
      "state": {
       "_model_module": "@jupyter-widgets/base",
       "_model_module_version": "1.2.0",
       "_model_name": "LayoutModel",
       "_view_count": null,
       "_view_module": "@jupyter-widgets/base",
       "_view_module_version": "1.2.0",
       "_view_name": "LayoutView",
       "align_content": null,
       "align_items": null,
       "align_self": null,
       "border": null,
       "bottom": null,
       "display": null,
       "flex": null,
       "flex_flow": null,
       "grid_area": null,
       "grid_auto_columns": null,
       "grid_auto_flow": null,
       "grid_auto_rows": null,
       "grid_column": null,
       "grid_gap": null,
       "grid_row": null,
       "grid_template_areas": null,
       "grid_template_columns": null,
       "grid_template_rows": null,
       "height": null,
       "justify_content": null,
       "justify_items": null,
       "left": null,
       "margin": null,
       "max_height": null,
       "max_width": null,
       "min_height": null,
       "min_width": null,
       "object_fit": null,
       "object_position": null,
       "order": null,
       "overflow": null,
       "overflow_x": null,
       "overflow_y": null,
       "padding": null,
       "right": null,
       "top": null,
       "visibility": null,
       "width": null
      }
     },
     "fc5cc290383943c49099c4b92db46ef6": {
      "model_module": "@jupyter-widgets/base",
      "model_module_version": "1.2.0",
      "model_name": "LayoutModel",
      "state": {
       "_model_module": "@jupyter-widgets/base",
       "_model_module_version": "1.2.0",
       "_model_name": "LayoutModel",
       "_view_count": null,
       "_view_module": "@jupyter-widgets/base",
       "_view_module_version": "1.2.0",
       "_view_name": "LayoutView",
       "align_content": null,
       "align_items": null,
       "align_self": null,
       "border": null,
       "bottom": null,
       "display": null,
       "flex": null,
       "flex_flow": null,
       "grid_area": null,
       "grid_auto_columns": null,
       "grid_auto_flow": null,
       "grid_auto_rows": null,
       "grid_column": null,
       "grid_gap": null,
       "grid_row": null,
       "grid_template_areas": null,
       "grid_template_columns": null,
       "grid_template_rows": null,
       "height": null,
       "justify_content": null,
       "justify_items": null,
       "left": null,
       "margin": null,
       "max_height": null,
       "max_width": null,
       "min_height": null,
       "min_width": null,
       "object_fit": null,
       "object_position": null,
       "order": null,
       "overflow": null,
       "overflow_x": null,
       "overflow_y": null,
       "padding": null,
       "right": null,
       "top": null,
       "visibility": null,
       "width": null
      }
     }
    },
    "version_major": 2,
    "version_minor": 0
   }
  }
 },
 "nbformat": 4,
 "nbformat_minor": 5
}
